{
 "cells": [
  {
   "cell_type": "code",
   "execution_count": 1,
   "metadata": {},
   "outputs": [],
   "source": [
    "import numpy as np\n",
    "import pandas as pd\n",
    "\n",
    "from datasets import load_from_disk"
   ]
  },
  {
   "cell_type": "code",
   "execution_count": null,
   "metadata": {},
   "outputs": [],
   "source": []
  },
  {
   "cell_type": "code",
   "execution_count": 2,
   "metadata": {},
   "outputs": [],
   "source": [
    "qa_dataset = load_from_disk('/home/ddz5/Desktop/cell2gsea/gene_program_finetuning_nbs/hf_dataset_2024-12-06')"
   ]
  },
  {
   "cell_type": "code",
   "execution_count": 74,
   "metadata": {},
   "outputs": [
    {
     "data": {
      "text/plain": [
       "DatasetDict({\n",
       "    train: Dataset({\n",
       "        features: ['Context', 'cell_sentences_data', 'Question', 'Answer', 'Keyword', 'full_QA_pair', 'Publication_Title', 'Dataset_URL', 'Dataset_Index', 'Used_Rows', 'openai_batch_response_id'],\n",
       "        num_rows: 566\n",
       "    })\n",
       "    validation: Dataset({\n",
       "        features: ['Context', 'cell_sentences_data', 'Question', 'Answer', 'Keyword', 'full_QA_pair', 'Publication_Title', 'Dataset_URL', 'Dataset_Index', 'Used_Rows', 'openai_batch_response_id'],\n",
       "        num_rows: 105\n",
       "    })\n",
       "    test: Dataset({\n",
       "        features: ['Context', 'cell_sentences_data', 'Question', 'Answer', 'Keyword', 'full_QA_pair', 'Publication_Title', 'Dataset_URL', 'Dataset_Index', 'Used_Rows', 'openai_batch_response_id'],\n",
       "        num_rows: 99\n",
       "    })\n",
       "})"
      ]
     },
     "execution_count": 74,
     "metadata": {},
     "output_type": "execute_result"
    }
   ],
   "source": [
    "qa_dataset"
   ]
  },
  {
   "cell_type": "code",
   "execution_count": 77,
   "metadata": {},
   "outputs": [
    {
     "data": {
      "text/plain": [
       "26"
      ]
     },
     "execution_count": 77,
     "metadata": {},
     "output_type": "execute_result"
    }
   ],
   "source": [
    "len(set(qa_dataset['train']['Publication_Title'])) + len(set(qa_dataset['validation']['Publication_Title'])) + len(set(qa_dataset['test']['Publication_Title']))"
   ]
  },
  {
   "cell_type": "code",
   "execution_count": 54,
   "metadata": {},
   "outputs": [],
   "source": [
    "dataset_local_indices = set(qa_dataset['train']['Dataset_Index']) | set(qa_dataset['test']['Dataset_Index']) | set(qa_dataset['validation']['Dataset_Index'])"
   ]
  },
  {
   "cell_type": "code",
   "execution_count": 56,
   "metadata": {},
   "outputs": [
    {
     "data": {
      "text/plain": [
       "26"
      ]
     },
     "execution_count": 56,
     "metadata": {},
     "output_type": "execute_result"
    }
   ],
   "source": [
    "len(dataset_local_indices)"
   ]
  },
  {
   "cell_type": "code",
   "execution_count": 78,
   "metadata": {},
   "outputs": [],
   "source": [
    "import os"
   ]
  },
  {
   "cell_type": "code",
   "execution_count": null,
   "metadata": {},
   "outputs": [],
   "source": []
  },
  {
   "cell_type": "code",
   "execution_count": 42,
   "metadata": {},
   "outputs": [],
   "source": [
    "match_datasets = pd.read_csv('/gpfs/radev/home/sz568/scratch/C2S_RL/depose/matching_datasets.csv')"
   ]
  },
  {
   "cell_type": "code",
   "execution_count": 43,
   "metadata": {},
   "outputs": [
    {
     "data": {
      "text/html": [
       "<div>\n",
       "<style scoped>\n",
       "    .dataframe tbody tr th:only-of-type {\n",
       "        vertical-align: middle;\n",
       "    }\n",
       "\n",
       "    .dataframe tbody tr th {\n",
       "        vertical-align: top;\n",
       "    }\n",
       "\n",
       "    .dataframe thead th {\n",
       "        text-align: right;\n",
       "    }\n",
       "</style>\n",
       "<table border=\"1\" class=\"dataframe\">\n",
       "  <thead>\n",
       "    <tr style=\"text-align: right;\">\n",
       "      <th></th>\n",
       "      <th>dataset</th>\n",
       "      <th>filename</th>\n",
       "    </tr>\n",
       "  </thead>\n",
       "  <tbody>\n",
       "    <tr>\n",
       "      <th>0</th>\n",
       "      <td>Activated PBMCs - Expanded cohort CITE-seq</td>\n",
       "      <td>local(304).h5ad</td>\n",
       "    </tr>\n",
       "    <tr>\n",
       "      <th>1</th>\n",
       "      <td>blood and bone marrow from a healthy young donor</td>\n",
       "      <td>local(477).h5ad</td>\n",
       "    </tr>\n",
       "    <tr>\n",
       "      <th>2</th>\n",
       "      <td>scRNA-seq analysis of healthy human fallopian ...</td>\n",
       "      <td>local(770).h5ad</td>\n",
       "    </tr>\n",
       "    <tr>\n",
       "      <th>3</th>\n",
       "      <td>HypoMap – a unified single cell gene expressio...</td>\n",
       "      <td>local(52).h5ad</td>\n",
       "    </tr>\n",
       "    <tr>\n",
       "      <th>4</th>\n",
       "      <td>L4 IT - MTG: Seattle Alzheimer's Disease Atlas...</td>\n",
       "      <td>local(274).h5ad</td>\n",
       "    </tr>\n",
       "    <tr>\n",
       "      <th>...</th>\n",
       "      <td>...</td>\n",
       "      <td>...</td>\n",
       "    </tr>\n",
       "    <tr>\n",
       "      <th>86</th>\n",
       "      <td>Molecular characterization of selectively vuln...</td>\n",
       "      <td>local(604).h5ad</td>\n",
       "    </tr>\n",
       "    <tr>\n",
       "      <th>87</th>\n",
       "      <td>Single-cell longitudinal analysis of SARS-CoV-...</td>\n",
       "      <td>local(778).h5ad</td>\n",
       "    </tr>\n",
       "    <tr>\n",
       "      <th>88</th>\n",
       "      <td>Atlas of the developing mouse thalamus</td>\n",
       "      <td>local(466).h5ad</td>\n",
       "    </tr>\n",
       "    <tr>\n",
       "      <th>89</th>\n",
       "      <td>Colon</td>\n",
       "      <td>local(777).h5ad</td>\n",
       "    </tr>\n",
       "    <tr>\n",
       "      <th>90</th>\n",
       "      <td>Microglia - 24 months old wild-type and Rag1-KO</td>\n",
       "      <td>local(50).h5ad</td>\n",
       "    </tr>\n",
       "  </tbody>\n",
       "</table>\n",
       "<p>91 rows × 2 columns</p>\n",
       "</div>"
      ],
      "text/plain": [
       "                                              dataset         filename\n",
       "0          Activated PBMCs - Expanded cohort CITE-seq  local(304).h5ad\n",
       "1    blood and bone marrow from a healthy young donor  local(477).h5ad\n",
       "2   scRNA-seq analysis of healthy human fallopian ...  local(770).h5ad\n",
       "3   HypoMap – a unified single cell gene expressio...   local(52).h5ad\n",
       "4   L4 IT - MTG: Seattle Alzheimer's Disease Atlas...  local(274).h5ad\n",
       "..                                                ...              ...\n",
       "86  Molecular characterization of selectively vuln...  local(604).h5ad\n",
       "87  Single-cell longitudinal analysis of SARS-CoV-...  local(778).h5ad\n",
       "88             Atlas of the developing mouse thalamus  local(466).h5ad\n",
       "89                                              Colon  local(777).h5ad\n",
       "90    Microglia - 24 months old wild-type and Rag1-KO   local(50).h5ad\n",
       "\n",
       "[91 rows x 2 columns]"
      ]
     },
     "execution_count": 43,
     "metadata": {},
     "output_type": "execute_result"
    }
   ],
   "source": [
    "match_datasets"
   ]
  },
  {
   "cell_type": "code",
   "execution_count": 64,
   "metadata": {},
   "outputs": [
    {
     "data": {
      "text/plain": [
       "'304'"
      ]
     },
     "execution_count": 64,
     "metadata": {},
     "output_type": "execute_result"
    }
   ],
   "source": [
    "match_datasets['filename'][0].split('local(')[1].split(').h5ad')[0]"
   ]
  },
  {
   "cell_type": "code",
   "execution_count": 71,
   "metadata": {},
   "outputs": [],
   "source": [
    "all_local_indices = []\n",
    "for filename in match_datasets['filename']:\n",
    "    all_local_indices.append(filename.split('local(')[1].split(').h5ad')[0])"
   ]
  },
  {
   "cell_type": "code",
   "execution_count": 72,
   "metadata": {},
   "outputs": [
    {
     "data": {
      "text/plain": [
       "91"
      ]
     },
     "execution_count": 72,
     "metadata": {},
     "output_type": "execute_result"
    }
   ],
   "source": [
    "len(all_local_indices)"
   ]
  },
  {
   "cell_type": "code",
   "execution_count": 73,
   "metadata": {},
   "outputs": [
    {
     "name": "stdout",
     "output_type": "stream",
     "text": [
      "678\n",
      "503\n",
      "593\n"
     ]
    }
   ],
   "source": [
    "num_datasets = 0\n",
    "for local_indices in list(dataset_local_indices):\n",
    "    if local_indices not in all_local_indices:\n",
    "        num_datasets += 1\n",
    "        print(local_indices)"
   ]
  },
  {
   "cell_type": "code",
   "execution_count": 68,
   "metadata": {},
   "outputs": [
    {
     "data": {
      "text/plain": [
       "26"
      ]
     },
     "execution_count": 68,
     "metadata": {},
     "output_type": "execute_result"
    }
   ],
   "source": [
    "num_datasets"
   ]
  },
  {
   "cell_type": "code",
   "execution_count": 46,
   "metadata": {},
   "outputs": [
    {
     "data": {
      "text/plain": [
       "91"
      ]
     },
     "execution_count": 46,
     "metadata": {},
     "output_type": "execute_result"
    }
   ],
   "source": [
    "match_datasets['dataset'].nunique()"
   ]
  },
  {
   "cell_type": "code",
   "execution_count": 7,
   "metadata": {},
   "outputs": [],
   "source": [
    "used_datasets = np.load('/home/sz568/scratch/C2S_RL/depose/overlapping_datasets.npy')"
   ]
  },
  {
   "cell_type": "code",
   "execution_count": 41,
   "metadata": {},
   "outputs": [
    {
     "data": {
      "text/plain": [
       "array(['Activated PBMCs - Expanded cohort CITE-seq',\n",
       "       'blood and bone marrow from a healthy young donor',\n",
       "       'scRNA-seq analysis of healthy human fallopian tubes',\n",
       "       'HypoMap – a unified single cell gene expression atlas of the murine hypothalamus',\n",
       "       \"L4 IT - MTG: Seattle Alzheimer's Disease Atlas (SEA-AD)\",\n",
       "       'Lung Parenchyma',\n",
       "       'Molecular characterization of selectively vulnerable neurons in Alzheimer’s Disease: SFG astrocytes',\n",
       "       'Human kidney cortex snATAC-seq data from donors with and without diabetic kidney disease',\n",
       "       'fetal', 'healthy young bone marrow donor',\n",
       "       'A Single-Cell Transcriptional Roadmap of the Mouse and Human Lymph Node Lymphatic Vasculature - mouse',\n",
       "       'e14.5 glutamatergic lineage',\n",
       "       \"VLMC - MTG: Seattle Alzheimer's Disease Atlas (SEA-AD)\",\n",
       "       'e16.5 glutamatergic lineage',\n",
       "       \"Sst Chodl - MTG: Seattle Alzheimer's Disease Atlas (SEA-AD)\",\n",
       "       'Bipolar cells of the human fovea and peripheral retina',\n",
       "       'Single cell RNA sequencing of CD19 CAR T-cell infusion products',\n",
       "       'Non-pregnant Uterus (Endometrium - Epithelial)',\n",
       "       \"Sst - MTG: Seattle Alzheimer's Disease Atlas (SEA-AD)\",\n",
       "       \"L6 IT Car3 - MTG: Seattle Alzheimer's Disease Atlas (SEA-AD)\",\n",
       "       \"Vip - MTG: Seattle Alzheimer's Disease Atlas (SEA-AD)\",\n",
       "       'Single-cell transcriptomics of human T cells reveals tissue and activation signatures in health and disease',\n",
       "       'Molecular characterization of selectively vulnerable neurons in Alzheimer’s Disease: Entorhinal Cortex',\n",
       "       'Molecular characterization of selectively vulnerable neurons in Alzheimer’s Disease: EC inhibitory neurons',\n",
       "       \"Chandelier - MTG: Seattle Alzheimer's Disease Atlas (SEA-AD)\",\n",
       "       \"L5 ET - MTG: Seattle Alzheimer's Disease Atlas (SEA-AD)\",\n",
       "       'scRNA-seq analysis of human fallopian tubes in healthy Vs. hydrosalphinx states',\n",
       "       'e18.5 glutamatergic lineage',\n",
       "       'Non-pregnant Uterus (Endometrium - Organoid)',\n",
       "       'Steady-state B cells - scRNA-seq', 'e12.5 thalamic progenitors',\n",
       "       'Molecular characterization of selectively vulnerable neurons in Alzheimer’s Disease: EC microglia',\n",
       "       \"OPC - MTG: Seattle Alzheimer's Disease Atlas (SEA-AD)\",\n",
       "       'Molecular characterization of selectively vulnerable neurons in Alzheimer’s Disease: SFG excitatory neurons',\n",
       "       'Single-cell reconstruction of follicular remodeling in the human adult ovary',\n",
       "       \"L6b - MTG: Seattle Alzheimer's Disease Atlas (SEA-AD)\",\n",
       "       'Modeling Hepatoblastoma: Identification of Distinct Tumor Cell Populations and Key Genetic Mechanisms through Single Cell Sequencing',\n",
       "       'Molecular characterization of selectively vulnerable neurons in Alzheimer’s Disease: SFG microglia',\n",
       "       'Single-cell transcriptomes of the human skin reveal age-related loss of fibroblast priming',\n",
       "       'Core GBmap',\n",
       "       'Molecular characterization of selectively vulnerable neurons in Alzheimer’s Disease: EC excitatory neurons',\n",
       "       'Multiomics single-cell analysis of human pancreatic islets reveals novel cellular states in health and type 1 diabetes',\n",
       "       'Single cell transcriptional and chromatin accessibility profiling redefine cellular heterogeneity in the adult human kidney - RNAseq',\n",
       "       'scRNA-seq analysis of non-ciliated epithelial cells of healthy human fallopian tubes',\n",
       "       'Spleen',\n",
       "       'Photoreceptor cells of the human fovea and peripheral retina',\n",
       "       'Esophagus Epithelium',\n",
       "       'Horizontal cells of the human fovea and peripheral retina',\n",
       "       'Human cortical expansion involves diversification and specialization of supragranular intratelencephalic-projecting neurons',\n",
       "       'Molecular characterization of selectively vulnerable neurons in Alzheimer’s Disease: SFG inhibitory neurons',\n",
       "       'scRNA-seq data analysis of HUVECs treated with high glucose and TNFα',\n",
       "       'All cells', '15 leukemic bone marrow donors',\n",
       "       'e18.5 thalamic nuclei',\n",
       "       'Amacrine cells of the human fovea and peripheral retina',\n",
       "       \"L5 IT - MTG: Seattle Alzheimer's Disease Atlas (SEA-AD)\",\n",
       "       'Non-pregnant Uterus (Endometrium - All)',\n",
       "       'scRNA-seq data analysis of endothelium-enriched mesenteric arterial tissues from human donors',\n",
       "       'Non-neuronal cells of the human fovea and peripheral retina',\n",
       "       'Human kidney cortex snRNA-seq data from donors with and without diabetic kidney disease',\n",
       "       'Activated PBMCs - Twins scRNA-seq',\n",
       "       'Molecular characterization of selectively vulnerable neurons in Alzheimer’s Disease: SFG oligodendrocyte',\n",
       "       \"L6 IT - MTG: Seattle Alzheimer's Disease Atlas (SEA-AD)\",\n",
       "       'Molecular characterization of selectively vulnerable neurons in Alzheimer’s Disease: Superior frontal gyrus',\n",
       "       'Extended GBmap',\n",
       "       'Adult mouse cortical cell taxonomy revealed by single cell transcriptomics',\n",
       "       '3 healthy young and 3 healthy old bone marrow donors (Reference sample)',\n",
       "       'Molecular characterization of selectively vulnerable neurons in Alzheimer’s Disease: EC astrocytes',\n",
       "       'Single cell transcriptional and chromatin accessibility profiling redefine cellular heterogeneity in the adult human kidney - ATACseq',\n",
       "       'wilms', 'Liver',\n",
       "       \"L6 CT - MTG: Seattle Alzheimer's Disease Atlas (SEA-AD)\",\n",
       "       \"Sncg - MTG: Seattle Alzheimer's Disease Atlas (SEA-AD)\",\n",
       "       'A Single-Cell Transcriptional Roadmap of the Mouse and Human Lymph Node Lymphatic Vasculature - human',\n",
       "       'Olah et al (2020) Single-cell Human Microglia',\n",
       "       'scRNA-seq analysis of ciliated cells of healthy human fallopian tubes',\n",
       "       'Retinal ganglion cells of the human fovea and peripheral retina',\n",
       "       'scRNA-seq analysis of stromal cells of healthy human fallopian tubes',\n",
       "       \"Lamp5 - MTG: Seattle Alzheimer's Disease Atlas (SEA-AD)\",\n",
       "       \"Pax6 - MTG: Seattle Alzheimer's Disease Atlas (SEA-AD)\",\n",
       "       \"L2/3 IT - MTG: Seattle Alzheimer's Disease Atlas (SEA-AD)\",\n",
       "       'Single-cell multi-omics analysis of the immune response in COVID-19',\n",
       "       'Single-cell of aged oligodendrocytes',\n",
       "       'e12.5 glutamatergic lineage',\n",
       "       \"L5/6 NP - MTG: Seattle Alzheimer's Disease Atlas (SEA-AD)\",\n",
       "       'Integrated adult and foetal hearts',\n",
       "       'Molecular characterization of selectively vulnerable neurons in Alzheimer’s Disease: EC oligodendrocyte',\n",
       "       'Single-cell longitudinal analysis of SARS-CoV-2 infection in human bronchial epithelial cells',\n",
       "       'Atlas of the developing mouse thalamus', 'Colon',\n",
       "       'Microglia - 24 months old wild-type and Rag1-KO'], dtype='<U133')"
      ]
     },
     "execution_count": 41,
     "metadata": {},
     "output_type": "execute_result"
    }
   ],
   "source": [
    "used_datasets"
   ]
  },
  {
   "cell_type": "code",
   "execution_count": 26,
   "metadata": {},
   "outputs": [],
   "source": [
    "for dataset_name in used_datasets:\n",
    "    if dataset_name not in match_datasets['dataset'].values:\n",
    "        print(dataset_name)"
   ]
  },
  {
   "cell_type": "code",
   "execution_count": null,
   "metadata": {},
   "outputs": [],
   "source": []
  }
 ],
 "metadata": {
  "kernelspec": {
   "display_name": "Python 3",
   "language": "python",
   "name": "python3"
  },
  "language_info": {
   "codemirror_mode": {
    "name": "ipython",
    "version": 3
   },
   "file_extension": ".py",
   "mimetype": "text/x-python",
   "name": "python",
   "nbconvert_exporter": "python",
   "pygments_lexer": "ipython3",
   "version": "3.11.8"
  },
  "orig_nbformat": 4
 },
 "nbformat": 4,
 "nbformat_minor": 2
}
