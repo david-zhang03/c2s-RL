{
 "cells": [
  {
   "cell_type": "code",
   "execution_count": 9,
   "metadata": {},
   "outputs": [],
   "source": [
    "import os\n",
    "\n",
    "from tqdm import tqdm\n",
    "import numpy as np\n",
    "import pandas as pd\n",
    "import anndata as ad\n",
    "\n",
    "from datasets import load_from_disk"
   ]
  },
  {
   "cell_type": "code",
   "execution_count": 2,
   "metadata": {},
   "outputs": [],
   "source": [
    "qa_dataset = load_from_disk('/home/ddz5/Desktop/c2s-RL/2024-12-09_hf_dataset')"
   ]
  },
  {
   "cell_type": "code",
   "execution_count": 3,
   "metadata": {},
   "outputs": [
    {
     "data": {
      "text/plain": [
       "DatasetDict({\n",
       "    test: Dataset({\n",
       "        features: ['Context', 'Summary_Dataset', 'Question', 'Answer', 'Keyword', 'full_QA_pair', 'Dataset_Name', 'Publication_URL', 'Dataset_Index', 'Used_Rows'],\n",
       "        num_rows: 302\n",
       "    })\n",
       "    train_sft: Dataset({\n",
       "        features: ['Context', 'Summary_Dataset', 'Question', 'Answer', 'Keyword', 'full_QA_pair', 'Dataset_Name', 'Publication_URL', 'Dataset_Index', 'Used_Rows'],\n",
       "        num_rows: 897\n",
       "    })\n",
       "    train_dpo: Dataset({\n",
       "        features: ['Context', 'Summary_Dataset', 'Question', 'Answer', 'Keyword', 'full_QA_pair', 'Dataset_Name', 'Publication_URL', 'Dataset_Index', 'Used_Rows'],\n",
       "        num_rows: 372\n",
       "    })\n",
       "    val_sft: Dataset({\n",
       "        features: ['Context', 'Summary_Dataset', 'Question', 'Answer', 'Keyword', 'full_QA_pair', 'Dataset_Name', 'Publication_URL', 'Dataset_Index', 'Used_Rows'],\n",
       "        num_rows: 74\n",
       "    })\n",
       "    val_dpo: Dataset({\n",
       "        features: ['Context', 'Summary_Dataset', 'Question', 'Answer', 'Keyword', 'full_QA_pair', 'Dataset_Name', 'Publication_URL', 'Dataset_Index', 'Used_Rows'],\n",
       "        num_rows: 36\n",
       "    })\n",
       "})"
      ]
     },
     "execution_count": 3,
     "metadata": {},
     "output_type": "execute_result"
    }
   ],
   "source": [
    "qa_dataset"
   ]
  },
  {
   "cell_type": "code",
   "execution_count": 8,
   "metadata": {},
   "outputs": [
    {
     "data": {
      "text/plain": [
       "91"
      ]
     },
     "execution_count": 8,
     "metadata": {},
     "output_type": "execute_result"
    }
   ],
   "source": [
    "# Unique publications\n",
    "len(set(qa_dataset['train_sft']['Dataset_Index']) | set(qa_dataset['train_dpo']['Dataset_Index']) | set(qa_dataset['val_sft']['Dataset_Index']) | set(qa_dataset['val_dpo']['Dataset_Index']) | set(qa_dataset['test']['Dataset_Index']))"
   ]
  },
  {
   "cell_type": "code",
   "execution_count": 4,
   "metadata": {},
   "outputs": [
    {
     "data": {
      "text/plain": [
       "91"
      ]
     },
     "execution_count": 4,
     "metadata": {},
     "output_type": "execute_result"
    }
   ],
   "source": [
    "# unique datasets\n",
    "dataset_local_indices = set(qa_dataset['train_sft']['Dataset_Index']) | set(qa_dataset['train_dpo']['Dataset_Index']) | set(qa_dataset['val_sft']['Dataset_Index']) | set(qa_dataset['val_dpo']['Dataset_Index']) | set(qa_dataset['test']['Dataset_Index'])\n",
    "len(dataset_local_indices)"
   ]
  },
  {
   "cell_type": "code",
   "execution_count": 16,
   "metadata": {},
   "outputs": [],
   "source": [
    "match_datasets = pd.read_csv('/gpfs/radev/home/ddz5/Desktop/c2s-RL/RL_data/matching_datasets.csv')"
   ]
  },
  {
   "cell_type": "code",
   "execution_count": 17,
   "metadata": {},
   "outputs": [
    {
     "data": {
      "text/html": [
       "<div>\n",
       "<style scoped>\n",
       "    .dataframe tbody tr th:only-of-type {\n",
       "        vertical-align: middle;\n",
       "    }\n",
       "\n",
       "    .dataframe tbody tr th {\n",
       "        vertical-align: top;\n",
       "    }\n",
       "\n",
       "    .dataframe thead th {\n",
       "        text-align: right;\n",
       "    }\n",
       "</style>\n",
       "<table border=\"1\" class=\"dataframe\">\n",
       "  <thead>\n",
       "    <tr style=\"text-align: right;\">\n",
       "      <th></th>\n",
       "      <th>dataset</th>\n",
       "      <th>filename</th>\n",
       "    </tr>\n",
       "  </thead>\n",
       "  <tbody>\n",
       "    <tr>\n",
       "      <th>0</th>\n",
       "      <td>Activated PBMCs - Expanded cohort CITE-seq</td>\n",
       "      <td>local(304).h5ad</td>\n",
       "    </tr>\n",
       "    <tr>\n",
       "      <th>1</th>\n",
       "      <td>blood and bone marrow from a healthy young donor</td>\n",
       "      <td>local(477).h5ad</td>\n",
       "    </tr>\n",
       "    <tr>\n",
       "      <th>2</th>\n",
       "      <td>scRNA-seq analysis of healthy human fallopian ...</td>\n",
       "      <td>local(770).h5ad</td>\n",
       "    </tr>\n",
       "    <tr>\n",
       "      <th>3</th>\n",
       "      <td>HypoMap – a unified single cell gene expressio...</td>\n",
       "      <td>local(52).h5ad</td>\n",
       "    </tr>\n",
       "    <tr>\n",
       "      <th>4</th>\n",
       "      <td>L4 IT - MTG: Seattle Alzheimer's Disease Atlas...</td>\n",
       "      <td>local(274).h5ad</td>\n",
       "    </tr>\n",
       "    <tr>\n",
       "      <th>...</th>\n",
       "      <td>...</td>\n",
       "      <td>...</td>\n",
       "    </tr>\n",
       "    <tr>\n",
       "      <th>86</th>\n",
       "      <td>Molecular characterization of selectively vuln...</td>\n",
       "      <td>local(604).h5ad</td>\n",
       "    </tr>\n",
       "    <tr>\n",
       "      <th>87</th>\n",
       "      <td>Single-cell longitudinal analysis of SARS-CoV-...</td>\n",
       "      <td>local(778).h5ad</td>\n",
       "    </tr>\n",
       "    <tr>\n",
       "      <th>88</th>\n",
       "      <td>Atlas of the developing mouse thalamus</td>\n",
       "      <td>local(466).h5ad</td>\n",
       "    </tr>\n",
       "    <tr>\n",
       "      <th>89</th>\n",
       "      <td>Colon</td>\n",
       "      <td>local(777).h5ad</td>\n",
       "    </tr>\n",
       "    <tr>\n",
       "      <th>90</th>\n",
       "      <td>Microglia - 24 months old wild-type and Rag1-KO</td>\n",
       "      <td>local(50).h5ad</td>\n",
       "    </tr>\n",
       "  </tbody>\n",
       "</table>\n",
       "<p>91 rows × 2 columns</p>\n",
       "</div>"
      ],
      "text/plain": [
       "                                              dataset         filename\n",
       "0          Activated PBMCs - Expanded cohort CITE-seq  local(304).h5ad\n",
       "1    blood and bone marrow from a healthy young donor  local(477).h5ad\n",
       "2   scRNA-seq analysis of healthy human fallopian ...  local(770).h5ad\n",
       "3   HypoMap – a unified single cell gene expressio...   local(52).h5ad\n",
       "4   L4 IT - MTG: Seattle Alzheimer's Disease Atlas...  local(274).h5ad\n",
       "..                                                ...              ...\n",
       "86  Molecular characterization of selectively vuln...  local(604).h5ad\n",
       "87  Single-cell longitudinal analysis of SARS-CoV-...  local(778).h5ad\n",
       "88             Atlas of the developing mouse thalamus  local(466).h5ad\n",
       "89                                              Colon  local(777).h5ad\n",
       "90    Microglia - 24 months old wild-type and Rag1-KO   local(50).h5ad\n",
       "\n",
       "[91 rows x 2 columns]"
      ]
     },
     "execution_count": 17,
     "metadata": {},
     "output_type": "execute_result"
    }
   ],
   "source": [
    "match_datasets"
   ]
  },
  {
   "cell_type": "code",
   "execution_count": 12,
   "metadata": {},
   "outputs": [
    {
     "data": {
      "text/plain": [
       "91"
      ]
     },
     "execution_count": 12,
     "metadata": {},
     "output_type": "execute_result"
    }
   ],
   "source": [
    "match_datasets['dataset'].nunique()"
   ]
  },
  {
   "cell_type": "code",
   "execution_count": 18,
   "metadata": {},
   "outputs": [],
   "source": [
    "all_local_indices = []\n",
    "for filename in match_datasets['filename']:\n",
    "    all_local_indices.append(filename.split('local(')[1].split(').h5ad')[0])"
   ]
  },
  {
   "cell_type": "code",
   "execution_count": 4,
   "metadata": {},
   "outputs": [
    {
     "ename": "NameError",
     "evalue": "name 'all_local_indices' is not defined",
     "output_type": "error",
     "traceback": [
      "\u001b[0;31m---------------------------------------------------------------------------\u001b[0m",
      "\u001b[0;31mNameError\u001b[0m                                 Traceback (most recent call last)",
      "Cell \u001b[0;32mIn[4], line 1\u001b[0m\n\u001b[0;32m----> 1\u001b[0m \u001b[39mlen\u001b[39m(all_local_indices)\n",
      "\u001b[0;31mNameError\u001b[0m: name 'all_local_indices' is not defined"
     ]
    }
   ],
   "source": [
    "len(all_local_indices)"
   ]
  },
  {
   "cell_type": "code",
   "execution_count": 20,
   "metadata": {},
   "outputs": [],
   "source": [
    "num_datasets = 0\n",
    "for local_indices in list(dataset_local_indices):\n",
    "    if local_indices not in all_local_indices:\n",
    "        num_datasets += 1\n",
    "        print(local_indices)"
   ]
  },
  {
   "cell_type": "code",
   "execution_count": null,
   "metadata": {},
   "outputs": [],
   "source": []
  },
  {
   "cell_type": "code",
   "execution_count": 5,
   "metadata": {},
   "outputs": [],
   "source": [
    "# intersection = dataset_local_indices & set(['593', '503', '678'])\n",
    "# union = dataset_local_indices | set(['593', '503', '678'])\n",
    "\n",
    "used_dataset_indices = dataset_local_indices"
   ]
  },
  {
   "cell_type": "code",
   "execution_count": 6,
   "metadata": {},
   "outputs": [
    {
     "data": {
      "text/plain": [
       "91"
      ]
     },
     "execution_count": 6,
     "metadata": {},
     "output_type": "execute_result"
    }
   ],
   "source": [
    "len(used_dataset_indices)"
   ]
  },
  {
   "cell_type": "code",
   "execution_count": 28,
   "metadata": {},
   "outputs": [
    {
     "name": "stdout",
     "output_type": "stream",
     "text": [
      "/gpfs/radev/home/ddz5/Desktop/c2s-RL/notebooks\n"
     ]
    }
   ],
   "source": [
    "!pwd"
   ]
  },
  {
   "cell_type": "code",
   "execution_count": 30,
   "metadata": {},
   "outputs": [],
   "source": [
    "with open('/gpfs/radev/home/ddz5/Desktop/c2s-RL/notebooks/used_datasets.txt', 'w+') as f:\n",
    "    for index in used_dataset_indices:\n",
    "        f.write(f'\\\"local({index})\\\",\\n')"
   ]
  },
  {
   "cell_type": "code",
   "execution_count": 10,
   "metadata": {},
   "outputs": [
    {
     "name": "stderr",
     "output_type": "stream",
     "text": [
      "  1%|          | 1/91 [00:00<01:12,  1.24it/s]"
     ]
    },
    {
     "name": "stdout",
     "output_type": "stream",
     "text": [
      "Processed 276\n"
     ]
    },
    {
     "name": "stderr",
     "output_type": "stream",
     "text": [
      "  2%|▏         | 2/91 [00:01<00:52,  1.70it/s]"
     ]
    },
    {
     "name": "stdout",
     "output_type": "stream",
     "text": [
      "Processed 462\n"
     ]
    },
    {
     "name": "stderr",
     "output_type": "stream",
     "text": [
      "  3%|▎         | 3/91 [00:01<00:51,  1.71it/s]"
     ]
    },
    {
     "name": "stdout",
     "output_type": "stream",
     "text": [
      "Processed 285\n",
      "Processed 477\n"
     ]
    },
    {
     "name": "stderr",
     "output_type": "stream",
     "text": [
      "  5%|▌         | 5/91 [00:05<01:53,  1.32s/it]"
     ]
    },
    {
     "name": "stdout",
     "output_type": "stream",
     "text": [
      "Processed 546\n"
     ]
    },
    {
     "name": "stderr",
     "output_type": "stream",
     "text": [
      "  7%|▋         | 6/91 [00:06<01:31,  1.08s/it]"
     ]
    },
    {
     "name": "stdout",
     "output_type": "stream",
     "text": [
      "Processed 636\n"
     ]
    },
    {
     "name": "stderr",
     "output_type": "stream",
     "text": [
      "  8%|▊         | 7/91 [00:07<01:34,  1.12s/it]"
     ]
    },
    {
     "name": "stdout",
     "output_type": "stream",
     "text": [
      "Processed 479\n"
     ]
    },
    {
     "name": "stderr",
     "output_type": "stream",
     "text": [
      "  9%|▉         | 8/91 [00:07<01:14,  1.12it/s]"
     ]
    },
    {
     "name": "stdout",
     "output_type": "stream",
     "text": [
      "Processed 777\n"
     ]
    },
    {
     "name": "stderr",
     "output_type": "stream",
     "text": [
      " 10%|▉         | 9/91 [00:11<02:19,  1.70s/it]"
     ]
    },
    {
     "name": "stdout",
     "output_type": "stream",
     "text": [
      "Processed 466\n"
     ]
    },
    {
     "name": "stderr",
     "output_type": "stream",
     "text": [
      " 11%|█         | 10/91 [00:13<02:22,  1.76s/it]"
     ]
    },
    {
     "name": "stdout",
     "output_type": "stream",
     "text": [
      "Processed 277\n"
     ]
    },
    {
     "name": "stderr",
     "output_type": "stream",
     "text": [
      " 12%|█▏        | 11/91 [00:13<01:55,  1.45s/it]"
     ]
    },
    {
     "name": "stdout",
     "output_type": "stream",
     "text": [
      "Processed 487\n"
     ]
    },
    {
     "name": "stderr",
     "output_type": "stream",
     "text": [
      " 13%|█▎        | 12/91 [00:14<01:36,  1.22s/it]"
     ]
    },
    {
     "name": "stdout",
     "output_type": "stream",
     "text": [
      "Processed 269\n"
     ]
    },
    {
     "name": "stderr",
     "output_type": "stream",
     "text": [
      " 15%|█▌        | 14/91 [00:16<01:18,  1.02s/it]"
     ]
    },
    {
     "name": "stdout",
     "output_type": "stream",
     "text": [
      "Processed 192\n",
      "Processed 464\n",
      "Processed 478\n"
     ]
    },
    {
     "name": "stderr",
     "output_type": "stream",
     "text": [
      " 19%|█▊        | 17/91 [00:17<00:38,  1.94it/s]"
     ]
    },
    {
     "name": "stdout",
     "output_type": "stream",
     "text": [
      "Processed 305\n",
      "Processed 282\n"
     ]
    },
    {
     "name": "stderr",
     "output_type": "stream",
     "text": [
      " 20%|█▉        | 18/91 [00:17<00:41,  1.76it/s]"
     ]
    },
    {
     "name": "stdout",
     "output_type": "stream",
     "text": [
      "Processed 304\n"
     ]
    },
    {
     "name": "stderr",
     "output_type": "stream",
     "text": [
      " 22%|██▏       | 20/91 [00:18<00:30,  2.34it/s]"
     ]
    },
    {
     "name": "stdout",
     "output_type": "stream",
     "text": [
      "Processed 608\n",
      "Processed 610\n"
     ]
    },
    {
     "name": "stderr",
     "output_type": "stream",
     "text": [
      " 24%|██▍       | 22/91 [00:21<01:02,  1.10it/s]"
     ]
    },
    {
     "name": "stdout",
     "output_type": "stream",
     "text": [
      "Processed 273\n",
      "Processed 728\n"
     ]
    },
    {
     "name": "stderr",
     "output_type": "stream",
     "text": [
      " 25%|██▌       | 23/91 [00:22<01:02,  1.09it/s]"
     ]
    },
    {
     "name": "stdout",
     "output_type": "stream",
     "text": [
      "Processed 268\n"
     ]
    },
    {
     "name": "stderr",
     "output_type": "stream",
     "text": [
      " 26%|██▋       | 24/91 [00:22<00:49,  1.36it/s]"
     ]
    },
    {
     "name": "stdout",
     "output_type": "stream",
     "text": [
      "Processed 486\n"
     ]
    },
    {
     "name": "stderr",
     "output_type": "stream",
     "text": [
      " 29%|██▊       | 26/91 [00:23<00:34,  1.88it/s]"
     ]
    },
    {
     "name": "stdout",
     "output_type": "stream",
     "text": [
      "Processed 637\n",
      "Processed 699\n"
     ]
    },
    {
     "name": "stderr",
     "output_type": "stream",
     "text": [
      " 30%|██▉       | 27/91 [00:24<00:41,  1.55it/s]"
     ]
    },
    {
     "name": "stdout",
     "output_type": "stream",
     "text": [
      "Processed 771\n"
     ]
    },
    {
     "name": "stderr",
     "output_type": "stream",
     "text": [
      " 31%|███       | 28/91 [00:25<00:39,  1.61it/s]"
     ]
    },
    {
     "name": "stdout",
     "output_type": "stream",
     "text": [
      "Processed 768\n"
     ]
    },
    {
     "name": "stderr",
     "output_type": "stream",
     "text": [
      " 32%|███▏      | 29/91 [00:25<00:34,  1.79it/s]"
     ]
    },
    {
     "name": "stdout",
     "output_type": "stream",
     "text": [
      "Processed 603\n"
     ]
    },
    {
     "name": "stderr",
     "output_type": "stream",
     "text": [
      " 33%|███▎      | 30/91 [00:25<00:29,  2.09it/s]"
     ]
    },
    {
     "name": "stdout",
     "output_type": "stream",
     "text": [
      "Processed 763\n"
     ]
    },
    {
     "name": "stderr",
     "output_type": "stream",
     "text": [
      " 34%|███▍      | 31/91 [00:29<01:17,  1.29s/it]"
     ]
    },
    {
     "name": "stdout",
     "output_type": "stream",
     "text": [
      "Processed 290\n"
     ]
    },
    {
     "name": "stderr",
     "output_type": "stream",
     "text": [
      " 36%|███▋      | 33/91 [00:29<00:43,  1.32it/s]"
     ]
    },
    {
     "name": "stdout",
     "output_type": "stream",
     "text": [
      "Processed 703\n",
      "Processed 772\n"
     ]
    },
    {
     "name": "stderr",
     "output_type": "stream",
     "text": [
      " 37%|███▋      | 34/91 [00:29<00:32,  1.77it/s]"
     ]
    },
    {
     "name": "stdout",
     "output_type": "stream",
     "text": [
      "Processed 513\n"
     ]
    },
    {
     "name": "stderr",
     "output_type": "stream",
     "text": [
      " 38%|███▊      | 35/91 [00:29<00:27,  2.03it/s]"
     ]
    },
    {
     "name": "stdout",
     "output_type": "stream",
     "text": [
      "Processed 480\n"
     ]
    },
    {
     "name": "stderr",
     "output_type": "stream",
     "text": [
      " 40%|███▉      | 36/91 [00:30<00:26,  2.11it/s]"
     ]
    },
    {
     "name": "stdout",
     "output_type": "stream",
     "text": [
      "Processed 473\n"
     ]
    },
    {
     "name": "stderr",
     "output_type": "stream",
     "text": [
      " 41%|████      | 37/91 [00:31<00:33,  1.59it/s]"
     ]
    },
    {
     "name": "stdout",
     "output_type": "stream",
     "text": [
      "Processed 638\n"
     ]
    },
    {
     "name": "stderr",
     "output_type": "stream",
     "text": [
      " 43%|████▎     | 39/91 [00:43<02:25,  2.81s/it]"
     ]
    },
    {
     "name": "stdout",
     "output_type": "stream",
     "text": [
      "Processed 275\n",
      "Processed 51\n"
     ]
    },
    {
     "name": "stderr",
     "output_type": "stream",
     "text": [
      " 44%|████▍     | 40/91 [00:43<01:42,  2.01s/it]"
     ]
    },
    {
     "name": "stdout",
     "output_type": "stream",
     "text": [
      "Processed 698\n"
     ]
    },
    {
     "name": "stderr",
     "output_type": "stream",
     "text": [
      " 45%|████▌     | 41/91 [00:44<01:20,  1.61s/it]"
     ]
    },
    {
     "name": "stdout",
     "output_type": "stream",
     "text": [
      "Processed 267\n"
     ]
    },
    {
     "name": "stderr",
     "output_type": "stream",
     "text": [
      " 46%|████▌     | 42/91 [00:44<01:03,  1.31s/it]"
     ]
    },
    {
     "name": "stdout",
     "output_type": "stream",
     "text": [
      "Processed 284\n"
     ]
    },
    {
     "name": "stderr",
     "output_type": "stream",
     "text": [
      " 47%|████▋     | 43/91 [00:45<00:49,  1.04s/it]"
     ]
    },
    {
     "name": "stdout",
     "output_type": "stream",
     "text": [
      "Processed 481\n"
     ]
    },
    {
     "name": "stderr",
     "output_type": "stream",
     "text": [
      " 48%|████▊     | 44/91 [00:45<00:38,  1.23it/s]"
     ]
    },
    {
     "name": "stdout",
     "output_type": "stream",
     "text": [
      "Processed 272\n"
     ]
    },
    {
     "name": "stderr",
     "output_type": "stream",
     "text": [
      " 49%|████▉     | 45/91 [00:45<00:33,  1.38it/s]"
     ]
    },
    {
     "name": "stdout",
     "output_type": "stream",
     "text": [
      "Processed 286\n"
     ]
    },
    {
     "name": "stderr",
     "output_type": "stream",
     "text": [
      " 51%|█████     | 46/91 [00:46<00:27,  1.65it/s]"
     ]
    },
    {
     "name": "stdout",
     "output_type": "stream",
     "text": [
      "Processed 632\n"
     ]
    },
    {
     "name": "stderr",
     "output_type": "stream",
     "text": [
      " 52%|█████▏    | 47/91 [00:47<00:37,  1.17it/s]"
     ]
    },
    {
     "name": "stdout",
     "output_type": "stream",
     "text": [
      "Processed 281\n"
     ]
    },
    {
     "name": "stderr",
     "output_type": "stream",
     "text": [
      " 54%|█████▍    | 49/91 [00:50<00:47,  1.14s/it]"
     ]
    },
    {
     "name": "stdout",
     "output_type": "stream",
     "text": [
      "Processed 199\n",
      "Processed 280\n"
     ]
    },
    {
     "name": "stderr",
     "output_type": "stream",
     "text": [
      " 55%|█████▍    | 50/91 [00:51<00:36,  1.12it/s]"
     ]
    },
    {
     "name": "stdout",
     "output_type": "stream",
     "text": [
      "Processed 634\n"
     ]
    },
    {
     "name": "stderr",
     "output_type": "stream",
     "text": [
      " 56%|█████▌    | 51/91 [00:51<00:28,  1.42it/s]"
     ]
    },
    {
     "name": "stdout",
     "output_type": "stream",
     "text": [
      "Processed 702\n"
     ]
    },
    {
     "name": "stderr",
     "output_type": "stream",
     "text": [
      " 58%|█████▊    | 53/91 [00:52<00:17,  2.20it/s]"
     ]
    },
    {
     "name": "stdout",
     "output_type": "stream",
     "text": [
      "Processed 769\n",
      "Processed 604\n"
     ]
    },
    {
     "name": "stderr",
     "output_type": "stream",
     "text": [
      " 59%|█████▉    | 54/91 [00:52<00:12,  2.86it/s]"
     ]
    },
    {
     "name": "stdout",
     "output_type": "stream",
     "text": [
      "Processed 707\n"
     ]
    },
    {
     "name": "stderr",
     "output_type": "stream",
     "text": [
      " 60%|██████    | 55/91 [00:52<00:11,  3.25it/s]"
     ]
    },
    {
     "name": "stdout",
     "output_type": "stream",
     "text": [
      "Processed 739\n"
     ]
    },
    {
     "name": "stderr",
     "output_type": "stream",
     "text": [
      " 62%|██████▏   | 56/91 [00:56<00:48,  1.40s/it]"
     ]
    },
    {
     "name": "stdout",
     "output_type": "stream",
     "text": [
      "Processed 274\n"
     ]
    },
    {
     "name": "stderr",
     "output_type": "stream",
     "text": [
      " 63%|██████▎   | 57/91 [01:01<01:22,  2.44s/it]"
     ]
    },
    {
     "name": "stdout",
     "output_type": "stream",
     "text": [
      "Processed 52\n"
     ]
    },
    {
     "name": "stderr",
     "output_type": "stream",
     "text": [
      " 64%|██████▎   | 58/91 [01:01<01:04,  1.96s/it]"
     ]
    },
    {
     "name": "stdout",
     "output_type": "stream",
     "text": [
      "Processed 471\n"
     ]
    },
    {
     "name": "stderr",
     "output_type": "stream",
     "text": [
      " 65%|██████▍   | 59/91 [01:02<00:47,  1.47s/it]"
     ]
    },
    {
     "name": "stdout",
     "output_type": "stream",
     "text": [
      "Processed 611\n"
     ]
    },
    {
     "name": "stderr",
     "output_type": "stream",
     "text": [
      " 66%|██████▌   | 60/91 [01:02<00:37,  1.20s/it]"
     ]
    },
    {
     "name": "stdout",
     "output_type": "stream",
     "text": [
      "Processed 612\n"
     ]
    },
    {
     "name": "stderr",
     "output_type": "stream",
     "text": [
      " 68%|██████▊   | 62/91 [01:03<00:21,  1.35it/s]"
     ]
    },
    {
     "name": "stdout",
     "output_type": "stream",
     "text": [
      "Processed 633\n",
      "Processed 476\n"
     ]
    },
    {
     "name": "stderr",
     "output_type": "stream",
     "text": [
      " 69%|██████▉   | 63/91 [01:04<00:20,  1.40it/s]"
     ]
    },
    {
     "name": "stdout",
     "output_type": "stream",
     "text": [
      "Processed 726\n"
     ]
    },
    {
     "name": "stderr",
     "output_type": "stream",
     "text": [
      " 70%|███████   | 64/91 [01:04<00:19,  1.39it/s]"
     ]
    },
    {
     "name": "stdout",
     "output_type": "stream",
     "text": [
      "Processed 770\n"
     ]
    },
    {
     "name": "stderr",
     "output_type": "stream",
     "text": [
      " 71%|███████▏  | 65/91 [01:05<00:15,  1.66it/s]"
     ]
    },
    {
     "name": "stdout",
     "output_type": "stream",
     "text": [
      "Processed 762\n"
     ]
    },
    {
     "name": "stderr",
     "output_type": "stream",
     "text": [
      " 73%|███████▎  | 66/91 [01:18<01:48,  4.35s/it]"
     ]
    },
    {
     "name": "stdout",
     "output_type": "stream",
     "text": [
      "Processed 198\n"
     ]
    },
    {
     "name": "stderr",
     "output_type": "stream",
     "text": [
      " 75%|███████▍  | 68/91 [01:19<00:52,  2.29s/it]"
     ]
    },
    {
     "name": "stdout",
     "output_type": "stream",
     "text": [
      "Processed 738\n",
      "Processed 463\n"
     ]
    },
    {
     "name": "stderr",
     "output_type": "stream",
     "text": [
      " 77%|███████▋  | 70/91 [01:19<00:26,  1.27s/it]"
     ]
    },
    {
     "name": "stdout",
     "output_type": "stream",
     "text": [
      "Processed 191\n",
      "Processed 606\n"
     ]
    },
    {
     "name": "stderr",
     "output_type": "stream",
     "text": [
      " 78%|███████▊  | 71/91 [01:19<00:18,  1.08it/s]"
     ]
    },
    {
     "name": "stdout",
     "output_type": "stream",
     "text": [
      "Processed 607\n"
     ]
    },
    {
     "name": "stderr",
     "output_type": "stream",
     "text": [
      " 79%|███████▉  | 72/91 [01:20<00:18,  1.00it/s]"
     ]
    },
    {
     "name": "stdout",
     "output_type": "stream",
     "text": [
      "Processed 474\n"
     ]
    },
    {
     "name": "stderr",
     "output_type": "stream",
     "text": [
      " 81%|████████▏ | 74/91 [01:22<00:14,  1.17it/s]"
     ]
    },
    {
     "name": "stdout",
     "output_type": "stream",
     "text": [
      "Processed 635\n",
      "Processed 609\n"
     ]
    },
    {
     "name": "stderr",
     "output_type": "stream",
     "text": [
      " 84%|████████▎ | 76/91 [01:23<00:07,  1.94it/s]"
     ]
    },
    {
     "name": "stdout",
     "output_type": "stream",
     "text": [
      "Processed 287\n",
      "Processed 465\n"
     ]
    },
    {
     "name": "stderr",
     "output_type": "stream",
     "text": [
      " 85%|████████▍ | 77/91 [01:23<00:06,  2.29it/s]"
     ]
    },
    {
     "name": "stdout",
     "output_type": "stream",
     "text": [
      "Processed 700\n"
     ]
    },
    {
     "name": "stderr",
     "output_type": "stream",
     "text": [
      " 87%|████████▋ | 79/91 [01:24<00:04,  2.62it/s]"
     ]
    },
    {
     "name": "stdout",
     "output_type": "stream",
     "text": [
      "Processed 23\n",
      "Processed 614\n",
      "Processed 303\n"
     ]
    },
    {
     "name": "stderr",
     "output_type": "stream",
     "text": [
      " 89%|████████▉ | 81/91 [01:24<00:02,  3.48it/s]"
     ]
    },
    {
     "name": "stdout",
     "output_type": "stream",
     "text": [
      "Processed 701\n"
     ]
    },
    {
     "name": "stderr",
     "output_type": "stream",
     "text": [
      " 91%|█████████ | 83/91 [01:24<00:01,  4.34it/s]"
     ]
    },
    {
     "name": "stdout",
     "output_type": "stream",
     "text": [
      "Processed 468\n",
      "Processed 706\n"
     ]
    },
    {
     "name": "stderr",
     "output_type": "stream",
     "text": [
      " 93%|█████████▎| 85/91 [01:25<00:01,  3.97it/s]"
     ]
    },
    {
     "name": "stdout",
     "output_type": "stream",
     "text": [
      "Processed 50\n",
      "Processed 605\n"
     ]
    },
    {
     "name": "stderr",
     "output_type": "stream",
     "text": [
      " 95%|█████████▍| 86/91 [01:25<00:01,  4.48it/s]"
     ]
    },
    {
     "name": "stdout",
     "output_type": "stream",
     "text": [
      "Processed 613\n"
     ]
    },
    {
     "name": "stderr",
     "output_type": "stream",
     "text": [
      " 97%|█████████▋| 88/91 [01:26<00:01,  2.57it/s]"
     ]
    },
    {
     "name": "stdout",
     "output_type": "stream",
     "text": [
      "Processed 289\n",
      "Processed 475\n"
     ]
    },
    {
     "name": "stderr",
     "output_type": "stream",
     "text": [
      " 98%|█████████▊| 89/91 [01:26<00:00,  2.96it/s]"
     ]
    },
    {
     "name": "stdout",
     "output_type": "stream",
     "text": [
      "Processed 467\n"
     ]
    },
    {
     "name": "stderr",
     "output_type": "stream",
     "text": [
      " 99%|█████████▉| 90/91 [01:28<00:00,  1.68it/s]"
     ]
    },
    {
     "name": "stdout",
     "output_type": "stream",
     "text": [
      "Processed 778\n"
     ]
    },
    {
     "name": "stderr",
     "output_type": "stream",
     "text": [
      "100%|██████████| 91/91 [01:29<00:00,  1.01it/s]"
     ]
    },
    {
     "name": "stdout",
     "output_type": "stream",
     "text": [
      "Processed 482\n"
     ]
    },
    {
     "name": "stderr",
     "output_type": "stream",
     "text": [
      "\n"
     ]
    }
   ],
   "source": [
    "# for each dataset --> load, calculate # cells --> print to .txt file\n",
    "for index in tqdm(used_dataset_indices):\n",
    "    dataset_path = os.path.join('/home/sz568/scratch/C2S_RL/all_datasets/hca_cellxgene_cleaned_h5ad/', f\"local({index})_cleaned.h5ad\")\n",
    "    dataset = ad.read_h5ad(dataset_path)\n",
    "    \n",
    "    num_cells = dataset.n_obs\n",
    "\n",
    "    processed_dataset_path = \"/home/ddz5/scratch/Cell2GSEA_QA_dataset_models\"\n",
    "    dataset_metadata_path = os.path.join(processed_dataset_path, f\"local({index})\", \"metadata.txt\")\n",
    "    if not os.path.exists(dataset_metadata_path):\n",
    "        with open(dataset_metadata_path, 'w') as f:\n",
    "            f.write(f\"num_cells: {num_cells}\")\n",
    "    print(f\"Processed {index}\")"
   ]
  },
  {
   "cell_type": "code",
   "execution_count": 2,
   "metadata": {},
   "outputs": [],
   "source": [
    "dataset = ad.read_h5ad('/home/sz568/scratch/C2S_RL/all_datasets/hca_cellxgene_cleaned_h5ad/local(267)_cleaned.h5ad')"
   ]
  },
  {
   "cell_type": "code",
   "execution_count": 3,
   "metadata": {},
   "outputs": [
    {
     "data": {
      "text/plain": [
       "AnnData object with n_obs × n_vars = 32493 × 36517\n",
       "    obs: 'cell_id', 'cell_type', 'tissue', 'donor_id', 'sample_id', 'batch_condition', 'organism', 'assay', 'disease', 'sex', 'self_reported_ethnicity', 'development_stage', 'orig_filename', 'rahul_tissue_categ'\n",
       "    var: 'gene_name', 'ensembl_id', 'gene_name_w_version_num', 'ensembl_id_w_version_num'"
      ]
     },
     "execution_count": 3,
     "metadata": {},
     "output_type": "execute_result"
    }
   ],
   "source": [
    "dataset"
   ]
  },
  {
   "cell_type": "code",
   "execution_count": 49,
   "metadata": {},
   "outputs": [
    {
     "data": {
      "text/plain": [
       "AP001055                  AP001055\n",
       "DNMT3L                      DNMT3L\n",
       "TRPM2-AS                  TRPM2-AS\n",
       "KRTAP10-4                KRTAP10-4\n",
       "BX322557                  BX322557\n",
       "ENSG00000273554    ENSG00000273554\n",
       "ENSG00000277400    ENSG00000277400\n",
       "ENSG00000273496    ENSG00000273496\n",
       "ENSG00000278198    ENSG00000278198\n",
       "ENSG00000277630    ENSG00000277630\n",
       "Name: gene_name, dtype: category\n",
       "Categories (26161, object): ['A1BG', 'A1BG-AS1', 'A1CF', 'A2M', ..., 'ZYG11B', 'ZYX', 'ZZEF1', 'ZZZ3']"
      ]
     },
     "execution_count": 49,
     "metadata": {},
     "output_type": "execute_result"
    }
   ],
   "source": [
    "dataset.var[\"gene_name\"][-10:]"
   ]
  },
  {
   "cell_type": "code",
   "execution_count": 66,
   "metadata": {},
   "outputs": [
    {
     "data": {
      "text/plain": [
       "Index(['TSPAN6', 'TNMD', 'DPM1', 'SCYL3', 'C1ORF112', 'FGR', 'CFH', 'FUCA2',\n",
       "       'GCLC', 'NFYA',\n",
       "       ...\n",
       "       'ELOA3D', 'ELOA3', 'CDR1', 'ACTL10', 'PANO1', 'PRRC2B', 'UGT1A3',\n",
       "       'UGT1A5', 'F8A2', 'F8A1'],\n",
       "      dtype='object', length=36517)"
      ]
     },
     "execution_count": 66,
     "metadata": {},
     "output_type": "execute_result"
    }
   ],
   "source": [
    "dataset.var.index"
   ]
  },
  {
   "cell_type": "code",
   "execution_count": 33,
   "metadata": {},
   "outputs": [],
   "source": [
    "geneset_df = pd.read_csv('/home/ddz5/Desktop/c2s-RL/gene_programs_dev/data/msigdb.tsv',sep='\\t')"
   ]
  },
  {
   "cell_type": "code",
   "execution_count": 65,
   "metadata": {},
   "outputs": [
    {
     "data": {
      "text/html": [
       "<div>\n",
       "<style scoped>\n",
       "    .dataframe tbody tr th:only-of-type {\n",
       "        vertical-align: middle;\n",
       "    }\n",
       "\n",
       "    .dataframe tbody tr th {\n",
       "        vertical-align: top;\n",
       "    }\n",
       "\n",
       "    .dataframe thead th {\n",
       "        text-align: right;\n",
       "    }\n",
       "</style>\n",
       "<table border=\"1\" class=\"dataframe\">\n",
       "  <thead>\n",
       "    <tr style=\"text-align: right;\">\n",
       "      <th></th>\n",
       "      <th>gene_set</th>\n",
       "      <th>cluster_500</th>\n",
       "      <th>cluster_475</th>\n",
       "      <th>cluster_450</th>\n",
       "      <th>cluster_425</th>\n",
       "      <th>cluster_400</th>\n",
       "      <th>cluster_375</th>\n",
       "      <th>cluster_350</th>\n",
       "      <th>cluster_325</th>\n",
       "      <th>cluster_300</th>\n",
       "      <th>...</th>\n",
       "      <th>cluster_175</th>\n",
       "      <th>cluster_150</th>\n",
       "      <th>cluster_125</th>\n",
       "      <th>cluster_100</th>\n",
       "      <th>cluster_75</th>\n",
       "      <th>cluster_50</th>\n",
       "      <th>cluster_25</th>\n",
       "      <th>cluster_10</th>\n",
       "      <th>cluster_1</th>\n",
       "      <th>genes</th>\n",
       "    </tr>\n",
       "  </thead>\n",
       "  <tbody>\n",
       "    <tr>\n",
       "      <th>0</th>\n",
       "      <td>MT</td>\n",
       "      <td>945</td>\n",
       "      <td>987</td>\n",
       "      <td>1035</td>\n",
       "      <td>11696</td>\n",
       "      <td>111</td>\n",
       "      <td>129</td>\n",
       "      <td>165</td>\n",
       "      <td>133</td>\n",
       "      <td>195</td>\n",
       "      <td>...</td>\n",
       "      <td>283</td>\n",
       "      <td>283</td>\n",
       "      <td>284</td>\n",
       "      <td>287</td>\n",
       "      <td>291</td>\n",
       "      <td>309</td>\n",
       "      <td>214</td>\n",
       "      <td>119</td>\n",
       "      <td>16</td>\n",
       "      <td>MT-ATP6,MT-ATP8,MT-CO1,MT-CO2,MT-CO3,MT-CYB,MT...</td>\n",
       "    </tr>\n",
       "    <tr>\n",
       "      <th>1</th>\n",
       "      <td>chr10p11</td>\n",
       "      <td>946</td>\n",
       "      <td>988</td>\n",
       "      <td>1036</td>\n",
       "      <td>1075</td>\n",
       "      <td>1124</td>\n",
       "      <td>1167</td>\n",
       "      <td>1164</td>\n",
       "      <td>1145</td>\n",
       "      <td>1118</td>\n",
       "      <td>...</td>\n",
       "      <td>23</td>\n",
       "      <td>23</td>\n",
       "      <td>26</td>\n",
       "      <td>28</td>\n",
       "      <td>35</td>\n",
       "      <td>61</td>\n",
       "      <td>131</td>\n",
       "      <td>169</td>\n",
       "      <td>22</td>\n",
       "      <td>ABCD1P2,ACTR3BP5,AK3P5,ANKRD30A,ARHGAP12,ARL6I...</td>\n",
       "    </tr>\n",
       "    <tr>\n",
       "      <th>2</th>\n",
       "      <td>chr10p12</td>\n",
       "      <td>947</td>\n",
       "      <td>989</td>\n",
       "      <td>1037</td>\n",
       "      <td>10614</td>\n",
       "      <td>5205</td>\n",
       "      <td>4418</td>\n",
       "      <td>577</td>\n",
       "      <td>478</td>\n",
       "      <td>403</td>\n",
       "      <td>...</td>\n",
       "      <td>144</td>\n",
       "      <td>144</td>\n",
       "      <td>145</td>\n",
       "      <td>147</td>\n",
       "      <td>154</td>\n",
       "      <td>175</td>\n",
       "      <td>226</td>\n",
       "      <td>247</td>\n",
       "      <td>2</td>\n",
       "      <td>ABI1,ACBD5,ADIPOR1P1,AIFM1P1,AMD1P1,ANKRD26,AP...</td>\n",
       "    </tr>\n",
       "    <tr>\n",
       "      <th>3</th>\n",
       "      <td>chr10p13</td>\n",
       "      <td>948</td>\n",
       "      <td>990</td>\n",
       "      <td>606</td>\n",
       "      <td>671</td>\n",
       "      <td>697</td>\n",
       "      <td>712</td>\n",
       "      <td>714</td>\n",
       "      <td>715</td>\n",
       "      <td>717</td>\n",
       "      <td>...</td>\n",
       "      <td>717</td>\n",
       "      <td>716</td>\n",
       "      <td>720</td>\n",
       "      <td>712</td>\n",
       "      <td>705</td>\n",
       "      <td>676</td>\n",
       "      <td>572</td>\n",
       "      <td>68</td>\n",
       "      <td>0</td>\n",
       "      <td>ACBD7,BEND7,BEND7-DT,BTBD7P1,C1QL3,CAMK1D,CCDC...</td>\n",
       "    </tr>\n",
       "    <tr>\n",
       "      <th>4</th>\n",
       "      <td>chr10p14</td>\n",
       "      <td>949</td>\n",
       "      <td>991</td>\n",
       "      <td>1038</td>\n",
       "      <td>1076</td>\n",
       "      <td>1125</td>\n",
       "      <td>1168</td>\n",
       "      <td>1922</td>\n",
       "      <td>3823</td>\n",
       "      <td>439</td>\n",
       "      <td>...</td>\n",
       "      <td>449</td>\n",
       "      <td>449</td>\n",
       "      <td>450</td>\n",
       "      <td>455</td>\n",
       "      <td>457</td>\n",
       "      <td>468</td>\n",
       "      <td>402</td>\n",
       "      <td>209</td>\n",
       "      <td>0</td>\n",
       "      <td>ATP5F1C,CDC123,CELF2,CELF2-AS1,CELF2-AS2,CELF2...</td>\n",
       "    </tr>\n",
       "    <tr>\n",
       "      <th>...</th>\n",
       "      <td>...</td>\n",
       "      <td>...</td>\n",
       "      <td>...</td>\n",
       "      <td>...</td>\n",
       "      <td>...</td>\n",
       "      <td>...</td>\n",
       "      <td>...</td>\n",
       "      <td>...</td>\n",
       "      <td>...</td>\n",
       "      <td>...</td>\n",
       "      <td>...</td>\n",
       "      <td>...</td>\n",
       "      <td>...</td>\n",
       "      <td>...</td>\n",
       "      <td>...</td>\n",
       "      <td>...</td>\n",
       "      <td>...</td>\n",
       "      <td>...</td>\n",
       "      <td>...</td>\n",
       "      <td>...</td>\n",
       "      <td>...</td>\n",
       "    </tr>\n",
       "    <tr>\n",
       "      <th>34545</th>\n",
       "      <td>HALLMARK_UNFOLDED_PROTEIN_RESPONSE</td>\n",
       "      <td>32</td>\n",
       "      <td>43</td>\n",
       "      <td>50</td>\n",
       "      <td>138</td>\n",
       "      <td>203</td>\n",
       "      <td>234</td>\n",
       "      <td>292</td>\n",
       "      <td>312</td>\n",
       "      <td>350</td>\n",
       "      <td>...</td>\n",
       "      <td>373</td>\n",
       "      <td>374</td>\n",
       "      <td>377</td>\n",
       "      <td>380</td>\n",
       "      <td>386</td>\n",
       "      <td>402</td>\n",
       "      <td>408</td>\n",
       "      <td>79</td>\n",
       "      <td>9</td>\n",
       "      <td>ALDH18A1,ARFGAP1,ASNS,ATF3,ATF4,ATF6,ATP6V0D1,...</td>\n",
       "    </tr>\n",
       "    <tr>\n",
       "      <th>34546</th>\n",
       "      <td>HALLMARK_UV_RESPONSE_DN</td>\n",
       "      <td>705</td>\n",
       "      <td>613</td>\n",
       "      <td>443</td>\n",
       "      <td>194</td>\n",
       "      <td>178</td>\n",
       "      <td>212</td>\n",
       "      <td>187</td>\n",
       "      <td>258</td>\n",
       "      <td>204</td>\n",
       "      <td>...</td>\n",
       "      <td>227</td>\n",
       "      <td>217</td>\n",
       "      <td>220</td>\n",
       "      <td>223</td>\n",
       "      <td>100</td>\n",
       "      <td>258</td>\n",
       "      <td>8</td>\n",
       "      <td>53</td>\n",
       "      <td>4</td>\n",
       "      <td>ABCC1,ACVR2A,ADD3,ADGRL2,ADORA2B,AGGF1,AKT3,AM...</td>\n",
       "    </tr>\n",
       "    <tr>\n",
       "      <th>34547</th>\n",
       "      <td>HALLMARK_UV_RESPONSE_UP</td>\n",
       "      <td>0</td>\n",
       "      <td>2</td>\n",
       "      <td>1</td>\n",
       "      <td>10</td>\n",
       "      <td>45</td>\n",
       "      <td>113</td>\n",
       "      <td>179</td>\n",
       "      <td>256</td>\n",
       "      <td>295</td>\n",
       "      <td>...</td>\n",
       "      <td>339</td>\n",
       "      <td>339</td>\n",
       "      <td>340</td>\n",
       "      <td>344</td>\n",
       "      <td>348</td>\n",
       "      <td>359</td>\n",
       "      <td>372</td>\n",
       "      <td>112</td>\n",
       "      <td>9</td>\n",
       "      <td>ABCB1,ACAA1,AGO2,ALAS1,ALDOA,AMD1,AP2S1,APOM,A...</td>\n",
       "    </tr>\n",
       "    <tr>\n",
       "      <th>34548</th>\n",
       "      <td>HALLMARK_WNT_BETA_CATENIN_SIGNALING</td>\n",
       "      <td>645</td>\n",
       "      <td>627</td>\n",
       "      <td>544</td>\n",
       "      <td>489</td>\n",
       "      <td>406</td>\n",
       "      <td>307</td>\n",
       "      <td>202</td>\n",
       "      <td>200</td>\n",
       "      <td>193</td>\n",
       "      <td>...</td>\n",
       "      <td>245</td>\n",
       "      <td>245</td>\n",
       "      <td>246</td>\n",
       "      <td>251</td>\n",
       "      <td>257</td>\n",
       "      <td>272</td>\n",
       "      <td>302</td>\n",
       "      <td>275</td>\n",
       "      <td>1</td>\n",
       "      <td>ADAM17,AXIN1,AXIN2,CCND2,CSNK1E,CTNNB1,CUL1,DK...</td>\n",
       "    </tr>\n",
       "    <tr>\n",
       "      <th>34549</th>\n",
       "      <td>HALLMARK_XENOBIOTIC_METABOLISM</td>\n",
       "      <td>354</td>\n",
       "      <td>266</td>\n",
       "      <td>281</td>\n",
       "      <td>393</td>\n",
       "      <td>440</td>\n",
       "      <td>383</td>\n",
       "      <td>355</td>\n",
       "      <td>353</td>\n",
       "      <td>336</td>\n",
       "      <td>...</td>\n",
       "      <td>229</td>\n",
       "      <td>229</td>\n",
       "      <td>230</td>\n",
       "      <td>231</td>\n",
       "      <td>240</td>\n",
       "      <td>257</td>\n",
       "      <td>298</td>\n",
       "      <td>278</td>\n",
       "      <td>12</td>\n",
       "      <td>ABCC2,ABCC3,ABCD2,ABHD6,ACO2,ACOX1,ACOX2,ACOX3...</td>\n",
       "    </tr>\n",
       "  </tbody>\n",
       "</table>\n",
       "<p>34550 rows × 24 columns</p>\n",
       "</div>"
      ],
      "text/plain": [
       "                                  gene_set  cluster_500  cluster_475  \\\n",
       "0                                       MT          945          987   \n",
       "1                                 chr10p11          946          988   \n",
       "2                                 chr10p12          947          989   \n",
       "3                                 chr10p13          948          990   \n",
       "4                                 chr10p14          949          991   \n",
       "...                                    ...          ...          ...   \n",
       "34545   HALLMARK_UNFOLDED_PROTEIN_RESPONSE           32           43   \n",
       "34546              HALLMARK_UV_RESPONSE_DN          705          613   \n",
       "34547              HALLMARK_UV_RESPONSE_UP            0            2   \n",
       "34548  HALLMARK_WNT_BETA_CATENIN_SIGNALING          645          627   \n",
       "34549       HALLMARK_XENOBIOTIC_METABOLISM          354          266   \n",
       "\n",
       "       cluster_450  cluster_425  cluster_400  cluster_375  cluster_350  \\\n",
       "0             1035        11696          111          129          165   \n",
       "1             1036         1075         1124         1167         1164   \n",
       "2             1037        10614         5205         4418          577   \n",
       "3              606          671          697          712          714   \n",
       "4             1038         1076         1125         1168         1922   \n",
       "...            ...          ...          ...          ...          ...   \n",
       "34545           50          138          203          234          292   \n",
       "34546          443          194          178          212          187   \n",
       "34547            1           10           45          113          179   \n",
       "34548          544          489          406          307          202   \n",
       "34549          281          393          440          383          355   \n",
       "\n",
       "       cluster_325  cluster_300  ...  cluster_175  cluster_150  cluster_125  \\\n",
       "0              133          195  ...          283          283          284   \n",
       "1             1145         1118  ...           23           23           26   \n",
       "2              478          403  ...          144          144          145   \n",
       "3              715          717  ...          717          716          720   \n",
       "4             3823          439  ...          449          449          450   \n",
       "...            ...          ...  ...          ...          ...          ...   \n",
       "34545          312          350  ...          373          374          377   \n",
       "34546          258          204  ...          227          217          220   \n",
       "34547          256          295  ...          339          339          340   \n",
       "34548          200          193  ...          245          245          246   \n",
       "34549          353          336  ...          229          229          230   \n",
       "\n",
       "       cluster_100  cluster_75  cluster_50  cluster_25  cluster_10  cluster_1  \\\n",
       "0              287         291         309         214         119         16   \n",
       "1               28          35          61         131         169         22   \n",
       "2              147         154         175         226         247          2   \n",
       "3              712         705         676         572          68          0   \n",
       "4              455         457         468         402         209          0   \n",
       "...            ...         ...         ...         ...         ...        ...   \n",
       "34545          380         386         402         408          79          9   \n",
       "34546          223         100         258           8          53          4   \n",
       "34547          344         348         359         372         112          9   \n",
       "34548          251         257         272         302         275          1   \n",
       "34549          231         240         257         298         278         12   \n",
       "\n",
       "                                                   genes  \n",
       "0      MT-ATP6,MT-ATP8,MT-CO1,MT-CO2,MT-CO3,MT-CYB,MT...  \n",
       "1      ABCD1P2,ACTR3BP5,AK3P5,ANKRD30A,ARHGAP12,ARL6I...  \n",
       "2      ABI1,ACBD5,ADIPOR1P1,AIFM1P1,AMD1P1,ANKRD26,AP...  \n",
       "3      ACBD7,BEND7,BEND7-DT,BTBD7P1,C1QL3,CAMK1D,CCDC...  \n",
       "4      ATP5F1C,CDC123,CELF2,CELF2-AS1,CELF2-AS2,CELF2...  \n",
       "...                                                  ...  \n",
       "34545  ALDH18A1,ARFGAP1,ASNS,ATF3,ATF4,ATF6,ATP6V0D1,...  \n",
       "34546  ABCC1,ACVR2A,ADD3,ADGRL2,ADORA2B,AGGF1,AKT3,AM...  \n",
       "34547  ABCB1,ACAA1,AGO2,ALAS1,ALDOA,AMD1,AP2S1,APOM,A...  \n",
       "34548  ADAM17,AXIN1,AXIN2,CCND2,CSNK1E,CTNNB1,CUL1,DK...  \n",
       "34549  ABCC2,ABCC3,ABCD2,ABHD6,ACO2,ACOX1,ACOX2,ACOX3...  \n",
       "\n",
       "[34550 rows x 24 columns]"
      ]
     },
     "execution_count": 65,
     "metadata": {},
     "output_type": "execute_result"
    }
   ],
   "source": [
    "geneset_df"
   ]
  },
  {
   "cell_type": "code",
   "execution_count": 39,
   "metadata": {},
   "outputs": [],
   "source": [
    "genes = set()\n",
    "for geneset in geneset_df['genes'].values:\n",
    "    for gene in geneset.split(','):\n",
    "        genes.add(gene)"
   ]
  },
  {
   "cell_type": "code",
   "execution_count": 50,
   "metadata": {},
   "outputs": [
    {
     "data": {
      "text/plain": [
       "42416"
      ]
     },
     "execution_count": 50,
     "metadata": {},
     "output_type": "execute_result"
    }
   ],
   "source": [
    "len(genes)"
   ]
  },
  {
   "cell_type": "code",
   "execution_count": 23,
   "metadata": {},
   "outputs": [],
   "source": [
    "msigdb_path = '/home/ddz5/Desktop/c2s-RL/gene_programs_dev/data/msigdb.tsv'\n",
    "\n",
    "msigdb = pd.read_csv(msigdb_path, sep='\\t')"
   ]
  },
  {
   "cell_type": "code",
   "execution_count": 24,
   "metadata": {},
   "outputs": [
    {
     "data": {
      "text/html": [
       "<div>\n",
       "<style scoped>\n",
       "    .dataframe tbody tr th:only-of-type {\n",
       "        vertical-align: middle;\n",
       "    }\n",
       "\n",
       "    .dataframe tbody tr th {\n",
       "        vertical-align: top;\n",
       "    }\n",
       "\n",
       "    .dataframe thead th {\n",
       "        text-align: right;\n",
       "    }\n",
       "</style>\n",
       "<table border=\"1\" class=\"dataframe\">\n",
       "  <thead>\n",
       "    <tr style=\"text-align: right;\">\n",
       "      <th></th>\n",
       "      <th>gene_set</th>\n",
       "      <th>cluster_500</th>\n",
       "      <th>cluster_475</th>\n",
       "      <th>cluster_450</th>\n",
       "      <th>cluster_425</th>\n",
       "      <th>cluster_400</th>\n",
       "      <th>cluster_375</th>\n",
       "      <th>cluster_350</th>\n",
       "      <th>cluster_325</th>\n",
       "      <th>cluster_300</th>\n",
       "      <th>...</th>\n",
       "      <th>cluster_175</th>\n",
       "      <th>cluster_150</th>\n",
       "      <th>cluster_125</th>\n",
       "      <th>cluster_100</th>\n",
       "      <th>cluster_75</th>\n",
       "      <th>cluster_50</th>\n",
       "      <th>cluster_25</th>\n",
       "      <th>cluster_10</th>\n",
       "      <th>cluster_1</th>\n",
       "      <th>genes</th>\n",
       "    </tr>\n",
       "  </thead>\n",
       "  <tbody>\n",
       "    <tr>\n",
       "      <th>0</th>\n",
       "      <td>MT</td>\n",
       "      <td>945</td>\n",
       "      <td>987</td>\n",
       "      <td>1035</td>\n",
       "      <td>11696</td>\n",
       "      <td>111</td>\n",
       "      <td>129</td>\n",
       "      <td>165</td>\n",
       "      <td>133</td>\n",
       "      <td>195</td>\n",
       "      <td>...</td>\n",
       "      <td>283</td>\n",
       "      <td>283</td>\n",
       "      <td>284</td>\n",
       "      <td>287</td>\n",
       "      <td>291</td>\n",
       "      <td>309</td>\n",
       "      <td>214</td>\n",
       "      <td>119</td>\n",
       "      <td>16</td>\n",
       "      <td>MT-ATP6,MT-ATP8,MT-CO1,MT-CO2,MT-CO3,MT-CYB,MT...</td>\n",
       "    </tr>\n",
       "    <tr>\n",
       "      <th>1</th>\n",
       "      <td>chr10p11</td>\n",
       "      <td>946</td>\n",
       "      <td>988</td>\n",
       "      <td>1036</td>\n",
       "      <td>1075</td>\n",
       "      <td>1124</td>\n",
       "      <td>1167</td>\n",
       "      <td>1164</td>\n",
       "      <td>1145</td>\n",
       "      <td>1118</td>\n",
       "      <td>...</td>\n",
       "      <td>23</td>\n",
       "      <td>23</td>\n",
       "      <td>26</td>\n",
       "      <td>28</td>\n",
       "      <td>35</td>\n",
       "      <td>61</td>\n",
       "      <td>131</td>\n",
       "      <td>169</td>\n",
       "      <td>22</td>\n",
       "      <td>ABCD1P2,ACTR3BP5,AK3P5,ANKRD30A,ARHGAP12,ARL6I...</td>\n",
       "    </tr>\n",
       "    <tr>\n",
       "      <th>2</th>\n",
       "      <td>chr10p12</td>\n",
       "      <td>947</td>\n",
       "      <td>989</td>\n",
       "      <td>1037</td>\n",
       "      <td>10614</td>\n",
       "      <td>5205</td>\n",
       "      <td>4418</td>\n",
       "      <td>577</td>\n",
       "      <td>478</td>\n",
       "      <td>403</td>\n",
       "      <td>...</td>\n",
       "      <td>144</td>\n",
       "      <td>144</td>\n",
       "      <td>145</td>\n",
       "      <td>147</td>\n",
       "      <td>154</td>\n",
       "      <td>175</td>\n",
       "      <td>226</td>\n",
       "      <td>247</td>\n",
       "      <td>2</td>\n",
       "      <td>ABI1,ACBD5,ADIPOR1P1,AIFM1P1,AMD1P1,ANKRD26,AP...</td>\n",
       "    </tr>\n",
       "    <tr>\n",
       "      <th>3</th>\n",
       "      <td>chr10p13</td>\n",
       "      <td>948</td>\n",
       "      <td>990</td>\n",
       "      <td>606</td>\n",
       "      <td>671</td>\n",
       "      <td>697</td>\n",
       "      <td>712</td>\n",
       "      <td>714</td>\n",
       "      <td>715</td>\n",
       "      <td>717</td>\n",
       "      <td>...</td>\n",
       "      <td>717</td>\n",
       "      <td>716</td>\n",
       "      <td>720</td>\n",
       "      <td>712</td>\n",
       "      <td>705</td>\n",
       "      <td>676</td>\n",
       "      <td>572</td>\n",
       "      <td>68</td>\n",
       "      <td>0</td>\n",
       "      <td>ACBD7,BEND7,BEND7-DT,BTBD7P1,C1QL3,CAMK1D,CCDC...</td>\n",
       "    </tr>\n",
       "    <tr>\n",
       "      <th>4</th>\n",
       "      <td>chr10p14</td>\n",
       "      <td>949</td>\n",
       "      <td>991</td>\n",
       "      <td>1038</td>\n",
       "      <td>1076</td>\n",
       "      <td>1125</td>\n",
       "      <td>1168</td>\n",
       "      <td>1922</td>\n",
       "      <td>3823</td>\n",
       "      <td>439</td>\n",
       "      <td>...</td>\n",
       "      <td>449</td>\n",
       "      <td>449</td>\n",
       "      <td>450</td>\n",
       "      <td>455</td>\n",
       "      <td>457</td>\n",
       "      <td>468</td>\n",
       "      <td>402</td>\n",
       "      <td>209</td>\n",
       "      <td>0</td>\n",
       "      <td>ATP5F1C,CDC123,CELF2,CELF2-AS1,CELF2-AS2,CELF2...</td>\n",
       "    </tr>\n",
       "    <tr>\n",
       "      <th>...</th>\n",
       "      <td>...</td>\n",
       "      <td>...</td>\n",
       "      <td>...</td>\n",
       "      <td>...</td>\n",
       "      <td>...</td>\n",
       "      <td>...</td>\n",
       "      <td>...</td>\n",
       "      <td>...</td>\n",
       "      <td>...</td>\n",
       "      <td>...</td>\n",
       "      <td>...</td>\n",
       "      <td>...</td>\n",
       "      <td>...</td>\n",
       "      <td>...</td>\n",
       "      <td>...</td>\n",
       "      <td>...</td>\n",
       "      <td>...</td>\n",
       "      <td>...</td>\n",
       "      <td>...</td>\n",
       "      <td>...</td>\n",
       "      <td>...</td>\n",
       "    </tr>\n",
       "    <tr>\n",
       "      <th>34545</th>\n",
       "      <td>HALLMARK_UNFOLDED_PROTEIN_RESPONSE</td>\n",
       "      <td>32</td>\n",
       "      <td>43</td>\n",
       "      <td>50</td>\n",
       "      <td>138</td>\n",
       "      <td>203</td>\n",
       "      <td>234</td>\n",
       "      <td>292</td>\n",
       "      <td>312</td>\n",
       "      <td>350</td>\n",
       "      <td>...</td>\n",
       "      <td>373</td>\n",
       "      <td>374</td>\n",
       "      <td>377</td>\n",
       "      <td>380</td>\n",
       "      <td>386</td>\n",
       "      <td>402</td>\n",
       "      <td>408</td>\n",
       "      <td>79</td>\n",
       "      <td>9</td>\n",
       "      <td>ALDH18A1,ARFGAP1,ASNS,ATF3,ATF4,ATF6,ATP6V0D1,...</td>\n",
       "    </tr>\n",
       "    <tr>\n",
       "      <th>34546</th>\n",
       "      <td>HALLMARK_UV_RESPONSE_DN</td>\n",
       "      <td>705</td>\n",
       "      <td>613</td>\n",
       "      <td>443</td>\n",
       "      <td>194</td>\n",
       "      <td>178</td>\n",
       "      <td>212</td>\n",
       "      <td>187</td>\n",
       "      <td>258</td>\n",
       "      <td>204</td>\n",
       "      <td>...</td>\n",
       "      <td>227</td>\n",
       "      <td>217</td>\n",
       "      <td>220</td>\n",
       "      <td>223</td>\n",
       "      <td>100</td>\n",
       "      <td>258</td>\n",
       "      <td>8</td>\n",
       "      <td>53</td>\n",
       "      <td>4</td>\n",
       "      <td>ABCC1,ACVR2A,ADD3,ADGRL2,ADORA2B,AGGF1,AKT3,AM...</td>\n",
       "    </tr>\n",
       "    <tr>\n",
       "      <th>34547</th>\n",
       "      <td>HALLMARK_UV_RESPONSE_UP</td>\n",
       "      <td>0</td>\n",
       "      <td>2</td>\n",
       "      <td>1</td>\n",
       "      <td>10</td>\n",
       "      <td>45</td>\n",
       "      <td>113</td>\n",
       "      <td>179</td>\n",
       "      <td>256</td>\n",
       "      <td>295</td>\n",
       "      <td>...</td>\n",
       "      <td>339</td>\n",
       "      <td>339</td>\n",
       "      <td>340</td>\n",
       "      <td>344</td>\n",
       "      <td>348</td>\n",
       "      <td>359</td>\n",
       "      <td>372</td>\n",
       "      <td>112</td>\n",
       "      <td>9</td>\n",
       "      <td>ABCB1,ACAA1,AGO2,ALAS1,ALDOA,AMD1,AP2S1,APOM,A...</td>\n",
       "    </tr>\n",
       "    <tr>\n",
       "      <th>34548</th>\n",
       "      <td>HALLMARK_WNT_BETA_CATENIN_SIGNALING</td>\n",
       "      <td>645</td>\n",
       "      <td>627</td>\n",
       "      <td>544</td>\n",
       "      <td>489</td>\n",
       "      <td>406</td>\n",
       "      <td>307</td>\n",
       "      <td>202</td>\n",
       "      <td>200</td>\n",
       "      <td>193</td>\n",
       "      <td>...</td>\n",
       "      <td>245</td>\n",
       "      <td>245</td>\n",
       "      <td>246</td>\n",
       "      <td>251</td>\n",
       "      <td>257</td>\n",
       "      <td>272</td>\n",
       "      <td>302</td>\n",
       "      <td>275</td>\n",
       "      <td>1</td>\n",
       "      <td>ADAM17,AXIN1,AXIN2,CCND2,CSNK1E,CTNNB1,CUL1,DK...</td>\n",
       "    </tr>\n",
       "    <tr>\n",
       "      <th>34549</th>\n",
       "      <td>HALLMARK_XENOBIOTIC_METABOLISM</td>\n",
       "      <td>354</td>\n",
       "      <td>266</td>\n",
       "      <td>281</td>\n",
       "      <td>393</td>\n",
       "      <td>440</td>\n",
       "      <td>383</td>\n",
       "      <td>355</td>\n",
       "      <td>353</td>\n",
       "      <td>336</td>\n",
       "      <td>...</td>\n",
       "      <td>229</td>\n",
       "      <td>229</td>\n",
       "      <td>230</td>\n",
       "      <td>231</td>\n",
       "      <td>240</td>\n",
       "      <td>257</td>\n",
       "      <td>298</td>\n",
       "      <td>278</td>\n",
       "      <td>12</td>\n",
       "      <td>ABCC2,ABCC3,ABCD2,ABHD6,ACO2,ACOX1,ACOX2,ACOX3...</td>\n",
       "    </tr>\n",
       "  </tbody>\n",
       "</table>\n",
       "<p>34550 rows × 24 columns</p>\n",
       "</div>"
      ],
      "text/plain": [
       "                                  gene_set  cluster_500  cluster_475  \\\n",
       "0                                       MT          945          987   \n",
       "1                                 chr10p11          946          988   \n",
       "2                                 chr10p12          947          989   \n",
       "3                                 chr10p13          948          990   \n",
       "4                                 chr10p14          949          991   \n",
       "...                                    ...          ...          ...   \n",
       "34545   HALLMARK_UNFOLDED_PROTEIN_RESPONSE           32           43   \n",
       "34546              HALLMARK_UV_RESPONSE_DN          705          613   \n",
       "34547              HALLMARK_UV_RESPONSE_UP            0            2   \n",
       "34548  HALLMARK_WNT_BETA_CATENIN_SIGNALING          645          627   \n",
       "34549       HALLMARK_XENOBIOTIC_METABOLISM          354          266   \n",
       "\n",
       "       cluster_450  cluster_425  cluster_400  cluster_375  cluster_350  \\\n",
       "0             1035        11696          111          129          165   \n",
       "1             1036         1075         1124         1167         1164   \n",
       "2             1037        10614         5205         4418          577   \n",
       "3              606          671          697          712          714   \n",
       "4             1038         1076         1125         1168         1922   \n",
       "...            ...          ...          ...          ...          ...   \n",
       "34545           50          138          203          234          292   \n",
       "34546          443          194          178          212          187   \n",
       "34547            1           10           45          113          179   \n",
       "34548          544          489          406          307          202   \n",
       "34549          281          393          440          383          355   \n",
       "\n",
       "       cluster_325  cluster_300  ...  cluster_175  cluster_150  cluster_125  \\\n",
       "0              133          195  ...          283          283          284   \n",
       "1             1145         1118  ...           23           23           26   \n",
       "2              478          403  ...          144          144          145   \n",
       "3              715          717  ...          717          716          720   \n",
       "4             3823          439  ...          449          449          450   \n",
       "...            ...          ...  ...          ...          ...          ...   \n",
       "34545          312          350  ...          373          374          377   \n",
       "34546          258          204  ...          227          217          220   \n",
       "34547          256          295  ...          339          339          340   \n",
       "34548          200          193  ...          245          245          246   \n",
       "34549          353          336  ...          229          229          230   \n",
       "\n",
       "       cluster_100  cluster_75  cluster_50  cluster_25  cluster_10  cluster_1  \\\n",
       "0              287         291         309         214         119         16   \n",
       "1               28          35          61         131         169         22   \n",
       "2              147         154         175         226         247          2   \n",
       "3              712         705         676         572          68          0   \n",
       "4              455         457         468         402         209          0   \n",
       "...            ...         ...         ...         ...         ...        ...   \n",
       "34545          380         386         402         408          79          9   \n",
       "34546          223         100         258           8          53          4   \n",
       "34547          344         348         359         372         112          9   \n",
       "34548          251         257         272         302         275          1   \n",
       "34549          231         240         257         298         278         12   \n",
       "\n",
       "                                                   genes  \n",
       "0      MT-ATP6,MT-ATP8,MT-CO1,MT-CO2,MT-CO3,MT-CYB,MT...  \n",
       "1      ABCD1P2,ACTR3BP5,AK3P5,ANKRD30A,ARHGAP12,ARL6I...  \n",
       "2      ABI1,ACBD5,ADIPOR1P1,AIFM1P1,AMD1P1,ANKRD26,AP...  \n",
       "3      ACBD7,BEND7,BEND7-DT,BTBD7P1,C1QL3,CAMK1D,CCDC...  \n",
       "4      ATP5F1C,CDC123,CELF2,CELF2-AS1,CELF2-AS2,CELF2...  \n",
       "...                                                  ...  \n",
       "34545  ALDH18A1,ARFGAP1,ASNS,ATF3,ATF4,ATF6,ATP6V0D1,...  \n",
       "34546  ABCC1,ACVR2A,ADD3,ADGRL2,ADORA2B,AGGF1,AKT3,AM...  \n",
       "34547  ABCB1,ACAA1,AGO2,ALAS1,ALDOA,AMD1,AP2S1,APOM,A...  \n",
       "34548  ADAM17,AXIN1,AXIN2,CCND2,CSNK1E,CTNNB1,CUL1,DK...  \n",
       "34549  ABCC2,ABCC3,ABCD2,ABHD6,ACO2,ACOX1,ACOX2,ACOX3...  \n",
       "\n",
       "[34550 rows x 24 columns]"
      ]
     },
     "execution_count": 24,
     "metadata": {},
     "output_type": "execute_result"
    }
   ],
   "source": [
    "# Recall this contains the ~34.5k gene sets with cluster label at varying resolution levels\n",
    "msigdb"
   ]
  },
  {
   "cell_type": "code",
   "execution_count": 67,
   "metadata": {},
   "outputs": [],
   "source": [
    "# Load in preprocessed training inputs for c2gsea\n",
    "import pickle\n",
    "\n",
    "with open('/home/ddz5/scratch/Cell2GSEA_QA_dataset_models/local_23/training_inputs.pickle', 'rb') as f:\n",
    "    training_inputs = pickle.load(f)"
   ]
  },
  {
   "cell_type": "code",
   "execution_count": 71,
   "metadata": {},
   "outputs": [
    {
     "data": {
      "text/plain": [
       "dict_keys(['input_gene_set_csv_path', 'input_h5ad_file_path', 'gene_set_names', 'gene_set_sizes', 'gene_names', 'cell_ids', 'extra', 'train_x_sparse', 'train_edges', 'progs_sparse', 'prog_clusters'])"
      ]
     },
     "execution_count": 71,
     "metadata": {},
     "output_type": "execute_result"
    }
   ],
   "source": [
    "training_inputs.keys()"
   ]
  },
  {
   "cell_type": "markdown",
   "metadata": {},
   "source": []
  },
  {
   "cell_type": "code",
   "execution_count": null,
   "metadata": {},
   "outputs": [],
   "source": []
  }
 ],
 "metadata": {
  "kernelspec": {
   "display_name": "Python 3",
   "language": "python",
   "name": "python3"
  },
  "language_info": {
   "codemirror_mode": {
    "name": "ipython",
    "version": 3
   },
   "file_extension": ".py",
   "mimetype": "text/x-python",
   "name": "python",
   "nbconvert_exporter": "python",
   "pygments_lexer": "ipython3",
   "version": "3.8.20"
  },
  "orig_nbformat": 4
 },
 "nbformat": 4,
 "nbformat_minor": 2
}
