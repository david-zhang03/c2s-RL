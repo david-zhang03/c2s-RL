{
 "cells": [
  {
   "cell_type": "code",
   "execution_count": 1,
   "metadata": {},
   "outputs": [
    {
     "name": "stderr",
     "output_type": "stream",
     "text": [
      "/users/zlyu12/.conda/envs/cell2sentence-tc/lib/python3.10/site-packages/tqdm/auto.py:21: TqdmWarning: IProgress not found. Please update jupyter and ipywidgets. See https://ipywidgets.readthedocs.io/en/stable/user_install.html\n",
      "  from .autonotebook import tqdm as notebook_tqdm\n"
     ]
    }
   ],
   "source": [
    "import torch\n",
    "import numpy as np\n",
    "import pandas as pd\n",
    "\n",
    "from datasets import Dataset, load_from_disk, concatenate_datasets, DatasetDict"
   ]
  },
  {
   "cell_type": "code",
   "execution_count": 60,
   "metadata": {},
   "outputs": [],
   "source": [
    "# Load the datasets from disk\n",
    "sft_dataset = load_from_disk(\"/users/zlyu12/Desktop/c2s-RL/new_sft_dataset_0114\")\n",
    "test_dataset = load_from_disk(\"/users/zlyu12/Desktop/c2s-RL/new_test_hf_dataset_new\")"
   ]
  },
  {
   "cell_type": "code",
   "execution_count": 29,
   "metadata": {},
   "outputs": [
    {
     "data": {
      "text/plain": [
       "['Does the [GABAergic neuron] cell gene expression contain a key gene known to be involved in GABA production, suggesting it is an inhibitory neuron?',\n",
       " 'Which tubulin genes appear highly ranked in the [GABAergic neuron] cell gene expression, possibly indicating active cytoskeletal dynamics?',\n",
       " 'Can the [glutamatergic neuron] cell gene expression provide evidence for excitatory neurotransmission based on a key genetic marker?',\n",
       " 'Which calmodulin-related genes in the [glutamatergic neuron] cell gene expression might be important for calcium-mediated signaling?',\n",
       " 'Do both the [GABAergic neuron] and [glutamatergic neuron] cell gene expressions share similar mitochondrial transcripts that suggest strong energy requirements?',\n",
       " 'Which transcription factor from the [GABAergic neuron] cell gene expression might be linked to neuronal differentiation or subtype specification in this inhibitory cell?',\n",
       " 'Is there evidence of MAPT or MAP1B expression in the [GABAergic neuron] cell gene expression, suggesting advanced neurite formation?',\n",
       " 'Do the [glutamatergic neuron] cell gene expression profiles show synaptic vesicle proteins pointing to active excitatory synapse formation?',\n",
       " 'Which immediate early gene from the [GABAergic neuron] cell gene expression might highlight recent neuronal activation?',\n",
       " 'Do the [GABAergic neuron] and [glutamatergic neuron] cell gene expressions share notable ribosomal protein genes indicating high translational activity?',\n",
       " 'Which gene in the [glutamatergic neuron] cell gene expression indicates involvement in axon pathfinding or synaptic targeting?',\n",
       " 'Does the [GABAergic neuron] cell gene expression exhibit actin-related genes supporting dendritic spine structures?',\n",
       " 'Which neuropeptide precursor in the [GABAergic neuron] cell gene expression might modulate synaptic or circuit-level activity?',\n",
       " 'Does the [glutamatergic neuron] cell gene expression present any lineage-related markers like FOXp2, known to be involved in certain thalamic excitatory nuclei formation?',\n",
       " 'Which gene in the [GABAergic neuron] cell gene expression might be relevant to downstream motor coordination, hinting at potential movement disorders when altered?',\n",
       " 'In the [glutamatergic neuron] cell gene expression, which plasticity-related gene might underlie adaptive synaptic changes in the thalamus?',\n",
       " 'Do the [GABAergic neuron] cell gene expression profiles contain any antioxidant gene linked to protection against oxidative stress?',\n",
       " 'Which gene in the [glutamatergic neuron] cell gene expression suggests a role in neuronal growth or survival pathways?',\n",
       " 'Based on the [GABAergic neuron] cell gene expression alone, can we infer the neuron’s capacity to influence excitatory thalamic output?',\n",
       " 'Does the [glutamatergic neuron] cell gene expression show any high-ranking genes that could be linked to developmental movement disorders?',\n",
       " 'Which synaptic scaffold-related gene in the [GABAergic neuron] cell gene expression might stabilize inhibitory synapses?',\n",
       " 'Does the [glutamatergic neuron] cell gene expression contain any kinesin or dynein components indicating active intracellular transport?',\n",
       " 'Are there abundant ribosomal protein genes in the [GABAergic neuron] cell gene expression, suggesting significant translational activity in this inhibitory neuron?',\n",
       " 'Which cytoskeletal gene in the [neural progenitor cell] gene expression might be crucial for mitotic spindle assembly during proliferation?',\n",
       " 'Does the [GABAergic neuron] cell gene expression suggest evidence of high mitochondrial activity to meet energy needs for GABA release?',\n",
       " 'Which transcription factor in the [neural progenitor cell] gene expression may control lineage decisions toward specialized thalamic neurons?',\n",
       " 'Do you see any GABA-associated transcripts that point to inhibitory function in the [GABAergic neuron] gene expression?',\n",
       " 'Does the [neural progenitor cell] gene expression reveal active proliferation markers that align with ongoing cell division in the thalamus?',\n",
       " 'Which microtubule-related gene in the [GABAergic neuron] gene expression might regulate synaptic vesicle transport?',\n",
       " 'Based on the [neural progenitor cell] gene expression, can we infer that these cells still maintain a relatively undifferentiated, stem-like profile?',\n",
       " 'Which stathmin gene in the [GABAergic neuron] cell gene expression might influence neurite remodeling during inhibitory neuron maturation?',\n",
       " 'Which glycolysis-related transcript in the [neural progenitor cell] gene expression might highlight increased energy production for division?',\n",
       " 'Does the [GABAergic neuron] cell gene expression contain calmodulin-related genes potentially modulating Ca²⁺-dependent inhibitory neurotransmission?',\n",
       " 'Which secreted factor in the [neural progenitor cell] gene expression might be implicated in shaping local neuronal development?',\n",
       " 'Which actin-related gene from the [GABAergic neuron] cell gene expression underlies cytoskeletal organization in this inhibitory neuron?',\n",
       " 'Does the [neural progenitor cell] gene expression display any adhesion or guidance-related genes that might help shape emerging thalamic circuits?',\n",
       " 'Which molecular chaperone is present in the [GABAergic neuron] cell gene expression, potentially assisting in protein folding during neuronal growth?',\n",
       " 'Which intermediate filament gene in the [neural progenitor cell] gene expression may signify a radial glial-like phenotype?',\n",
       " 'Which RNA-binding protein from the [GABAergic neuron] cell gene expression might regulate splicing or stability of inhibitory gene transcripts?',\n",
       " 'In the [neural progenitor cell] gene expression, do we see any antioxidant factors that might protect against oxidative damage during rapid proliferation?',\n",
       " 'Does the [GABAergic neuron] cell gene expression contain any histone-related genes that might shape epigenetic states for GABAergic specialization?',\n",
       " 'Which spliceosome component in the [neural progenitor cell] gene expression could be instrumental in generating diverse isoforms during neuronal differentiation?',\n",
       " 'Which cytoplasmic chaperone protein in the [GABAergic neuron] cell gene expression might help maintain proteostasis during synaptic development?',\n",
       " 'Which tubulin isoform in the [glutamatergic neuron] cell gene expression might support axon outgrowth and stability?',\n",
       " 'Does the [GABAergic neuron] cell gene expression contain actin-related genes essential for inhibitory presynaptic function?',\n",
       " 'Which transcription factor in the [neural progenitor cell] cell gene expression might drive subsequent neural differentiation?',\n",
       " 'Does the [glutamatergic neuron] cell gene expression demonstrate strong mitochondrial involvement, suggesting active ATP synthesis?',\n",
       " 'Which stathmin family gene in the [GABAergic neuron] cell gene expression could regulate microtubule dynamics during inhibitory synapse formation?',\n",
       " 'Are there abundant ribosomal protein transcripts in the [neural progenitor cell] cell gene expression, indicating active protein synthesis?',\n",
       " 'Which cytoskeleton-linked gene in the [glutamatergic neuron] cell gene expression might influence neuronal remodeling?',\n",
       " 'Does the [GABAergic neuron] cell gene expression indicate the presence of any heat shock proteins stabilizing nascent inhibitory proteins?',\n",
       " 'Which intermediate filament gene found in the [neural progenitor cell] cell gene expression may suggest a radial glial-like profile?',\n",
       " 'Does the [glutamatergic neuron] cell gene expression show calmodulin-related genes for calcium-dependent processes?',\n",
       " 'Is SOX4 or SOX11 present in the [GABAergic neuron] cell gene expression, pointing to roles in neuronal specification?',\n",
       " 'Which cell cycle-associated gene in the [neural progenitor cell] cell gene expression might sustain active division?',\n",
       " 'Which RNA-binding factor from the [glutamatergic neuron] cell gene expression could regulate splicing or translation of excitatory genes?',\n",
       " 'Does the [GABAergic neuron] cell gene expression present strong evidence of oxidative phosphorylation genes supporting inhibitory neurotransmission?',\n",
       " 'Which gene in the [neural progenitor cell] cell gene expression regulates microtubule assembly for dividing cells?',\n",
       " 'Which glycolysis-related gene in the [glutamatergic neuron] cell gene expression might generate energy for releasing glutamate?',\n",
       " 'Which gene in the [GABAergic neuron] cell gene expression might hint at synaptic vesicle fusion or docking?',\n",
       " 'Does the [neural progenitor cell] gene expression contain ACTB, signifying a structural component essential for cell shape?',\n",
       " 'Which immediate-early gene in the [glutamatergic neuron] cell gene expression might indicate recent neuronal activation?',\n",
       " 'Is there a presence of MARCKS in the [GABAergic neuron] cell gene expression that could regulate membrane-cytoskeleton interactions?',\n",
       " 'Which secreted or membrane-bound growth factor gene in the [neural progenitor cell] cell gene expression might influence microenvironmental signals?',\n",
       " 'Which splicing-related factor in the [glutamatergic neuron] cell gene expression might ensure accurate transcript maturation?',\n",
       " 'Does the [myeloid lineage restricted progenitor cell] gene expression profile show transcripts indicating a strong capacity for ribosomal activity?',\n",
       " 'Which gene in the [eosinophil] gene expression might encode a characteristic eosinophil effector protein responsible for host defense?',\n",
       " 'What cytoskeletal component in the [Schwann cell] gene expression suggests these cells actively remodel their shape in the marrow environment?',\n",
       " 'Which transcripts in the [common myeloid progenitor] gene expression might indicate readiness for rapid cell cycle progression and expansion?',\n",
       " 'Which matrix-related genes in the [precursor cell] gene expression might reveal potential for extracellular matrix production?',\n",
       " 'Does the [neutrophil] gene expression indicate strong representation of pro-inflammatory or microbicidal proteins consistent with rapid host defense?',\n",
       " 'Which gene in the [dendritic cell] gene expression might be pivotal for processing or presenting antigens?',\n",
       " 'Do the [basophil] gene expression profiles contain transcripts linked to histamine release or allergic inflammation?',\n",
       " 'Which adipocyte-related gene in the [fat cell] gene expression suggests involvement in lipid or fatty acid storage?',\n",
       " 'Which structural or matrix component in the [endosteal cell] gene expression reveals their role at the bone interface?',\n",
       " 'Do the [immature natural killer cell] gene expression profiles display cytolytic-related factors pointing toward developing NK cytotoxic function?',\n",
       " 'Which set of ribosomal genes in the [hematopoietic multipotent progenitor cell] gene expression suggests a highly active transcriptional and translational state for multilineage potential?',\n",
       " 'Which stress-related chaperone in the [myeloid lineage restricted progenitor cell] gene expression might help these progenitors cope with rapid proliferation or environmental fluctuations?',\n",
       " 'Which hallmark protein in the [eosinophil] gene expression might reflect their specialized granule-mediated cytotoxicity?',\n",
       " 'Does the [Schwann cell] gene expression show stress response chaperones that might safeguard neuronal support functions?',\n",
       " 'Which gene in the [common myeloid progenitor] gene expression might point to early RBC (erythroid) lineage potential?',\n",
       " 'Which collagens in the [precursor cell] gene expression imply a potential to differentiate into bone matrix-producing cells?',\n",
       " 'Is S100A8 or S100A9 represented in the [neutrophil] gene expression, consistent with known inflammatory functions?',\n",
       " 'Which gene in the [dendritic cell] gene expression suggests specialized antigen uptake or processing capacity in bone marrow?',\n",
       " 'Which gene in the [basophil] gene expression might suggest involvement in immune responses through histamine or related mediator production?',\n",
       " 'Which gene in the [fat cell] gene expression could produce signals that impact nearby hematopoietic cells?',\n",
       " 'Which transcripts in the [basophil mast progenitor cell] gene expression support extensive protein synthesis, suggesting a strong proliferative capacity?',\n",
       " 'Does the [macrophage] cell gene expression suggest high cytotoxic or antimicrobial potential based on known immune mediators?',\n",
       " 'Which lineage-specific gene from the [common myeloid progenitor] cell gene expression suggests possible granule formation typical of granulocytic cells?',\n",
       " 'Are the [myelocyte] cell gene expression profiles consistent with active antibacterial functions, referencing genes typical of neutrophil-like responses?',\n",
       " 'Which marker in the [CD14-positive monocyte] cell gene expression might reflect strong antigen presentation potential or immune coordination?',\n",
       " 'Which collagens in the [chondrocyte] cell gene expression indicate matrix-forming capabilities vital for cartilage integrity?',\n",
       " 'Which extracellular matrix gene in the [mesenchymal stem cell] gene expression might enhance their supportive role for developing blood cells?',\n",
       " 'Does the [megakaryocyte] cell gene expression reflect high cytoskeletal regulation needed for platelet shedding?',\n",
       " 'Which hemoglobin genes in the [erythrocyte] cell gene expression highlight their capacity for oxygen delivery?',\n",
       " 'Which characteristic alarmin proteins in the [neutrophil] cell gene expression indicate robust pro-inflammatory capabilities?',\n",
       " 'Which collagen genes in the [osteoblast] cell gene expression help create the bone matrix supporting marrow architecture?',\n",
       " 'Which immunomodulatory transcript in the [regulatory T cell] gene expression suggests potent anti-inflammatory potential in bone marrow?',\n",
       " 'Do the [CD16-negative, CD56-bright natural killer cell, human] gene expression profiles reveal well-known cytotoxic molecules integral to NK function?',\n",
       " 'Which gene in the [hematopoietic multipotent progenitor cell] expression might be linked to stress adaptation or chaperone function crucial for robust progenitor survival?',\n",
       " 'Which immunoglobulin genes in the [mature B cell] gene expression reflect an advanced stage of B-cell receptor formation?',\n",
       " 'Which vascular-related marker in the [endothelial cell] gene expression might be crucial for cell adhesion or angiogenic remodeling?',\n",
       " 'Which gene from the [immature B cell] gene expression signals a stage of early BCR formation or surrogate chain usage?',\n",
       " 'Which chemoattractant or inflammatory mediator in the [promonocyte] cell gene expression hints at their role in signaling tissue recruitment?',\n",
       " 'Does the [progenitor cell] gene expression contain strong granulocyte-associated transcripts indicating a push toward neutrophil-like outcomes?',\n",
       " 'Which surface molecule in the [dendritic cell] gene expression might be critical for peptide presentation or co-stimulation, ensuring T-cell activation?',\n",
       " 'Which cytoskeletal-related gene in the [smooth muscle cell of prostate] gene expression might reinforce contractility and structural maintenance of these stromal cells?',\n",
       " 'Does the [smooth muscle cell of prostate] gene expression show MYLK or MYH11, both associated with smooth muscle contraction and cell motility?',\n",
       " 'Which genes in the [smooth muscle cell of prostate] gene expression highlight thin filament regulation, ensuring adequate force generation in the prostate?',\n",
       " 'Which secreted factor in the [smooth muscle cell of prostate] gene expression might reshape extracellular matrix or microenvironment?',\n",
       " 'Which mitochondrial gene from the [smooth muscle cell of prostate] gene expression might point to strong ATP synthesis supporting contractility?',\n",
       " 'Which major structural gene in the [smooth muscle cell of prostate] gene expression might be crucial for bridging actin filaments to the cell membrane or ECM?',\n",
       " 'Does the [smooth muscle cell of prostate] gene expression suggest any reactivity or plasticity markers frequently seen in hyperplasia or fibrotic processes?',\n",
       " 'Which gene in the [smooth muscle cell of prostate] gene expression might anchor myosin filaments, stabilizing the contractile apparatus in the stroma?',\n",
       " 'Does the [smooth muscle cell of prostate] gene expression point to antimicrobial or iron-storage factors that could shape the local microenvironment?',\n",
       " 'Which gene in the [smooth muscle cell of prostate] gene expression might relate to androgen signaling or hormone responses in these cells?',\n",
       " 'Which actin or myosin light chain isoforms in the [smooth muscle cell of prostate] gene expression highlight a robust myofilament network for continuous mechanical activity?',\n",
       " 'Which structural remodeling gene in the [smooth muscle cell of prostate] gene expression might pivot stromal ECM composition, intensifying tissue stiffness?',\n",
       " 'Does the [smooth muscle cell of prostate] gene expression show robust ribosomal protein gene representation for supporting continuous protein turnover?',\n",
       " 'Which fibroblast-like transcript in the [smooth muscle cell of prostate] gene expression might signal a capacity for collagen processing or matrix assembly?',\n",
       " 'Which calmodulin-related gene in the [smooth muscle cell of prostate] gene expression might facilitate Ca²⁺ signaling driving muscle contraction?',\n",
       " 'Which gene from the [smooth muscle cell of prostate] gene expression orchestrates cytoskeletal crosslinking or filament bundling, refining contractile alignment?',\n",
       " 'Does the [smooth muscle cell of prostate] gene expression indicate any cytokine or chemokine that might modulate local immune infiltration?',\n",
       " 'Which muscle-specific cytoskeletal transcripts in the [smooth muscle cell of prostate] gene expression highlight the strong linkage between actin and the plasma membrane?',\n",
       " 'Which gene from the [smooth muscle cell of prostate] gene expression might regulate oxidative stress or protect these cells under androgen deprivation conditions?',\n",
       " 'Which gene in the [seminal vesicle glandular cell] gene expression suggests they belong to seminal vesicle-like or ejaculatory duct-like luminal epithelium rather than typical prostate luminal epithelium?',\n",
       " 'Are there any defense-related or antibacterial genes in the [seminal vesicle glandular cell] gene expression that could augment protection of ejaculate contents?',\n",
       " 'Which major secretory gene from the [seminal vesicle glandular cell] gene expression could directly participate in the seminal plasma composition?',\n",
       " 'Which ribosomal transcripts in the [seminal vesicle glandular cell] gene expression highlight high levels of translational machinery supporting secretion?',\n",
       " 'Which gene from the [seminal vesicle glandular cell] gene expression might facilitate correct protein folding or stress response amid high secretory output?',\n",
       " 'Does the [seminal vesicle glandular cell] gene expression contain any ion transporter like FXYD or related regulators potentially influencing semen pH or ionic balance?',\n",
       " 'Which specific inhibitory molecule from the [seminal vesicle glandular cell] gene expression might help safeguard seminal fluid components from proteolysis?',\n",
       " 'Which regulator or transcription factor from the [seminal vesicle glandular cell] gene expression might direct luminal cell identity or secretory programs?',\n",
       " 'Does the [seminal vesicle glandular cell] gene expression show typical prostate markers, such as NKX3.1 or ACPP, that might suggest confusion with prostatic epithelium?',\n",
       " 'Are the [seminal vesicle glandular cell] transcripts consistent with androgen-dependent secretory function, possibly resembling prostate luminal reliance on testosterone or DHT?',\n",
       " 'Which non-SVS gene in the [seminal vesicle glandular cell] gene expression might indicate additional innate immune or protective roles beyond the primary seminal vesicle secretions?',\n",
       " 'Which elongation factor in the [seminal vesicle glandular cell] gene expression suggests consistent protein synthesis demands for secretory activity?',\n",
       " 'Which regulatory factor in the [seminal vesicle glandular cell] gene expression might help remodel or stabilize surrounding tissues, ensuring functional duct architecture?',\n",
       " 'Which gene in the [seminal vesicle glandular cell] gene expression specifically places them in the ejaculatory region, distinguishing from typical urethral luminal markers like KRT4?',\n",
       " 'Which mitochondrial gene from the [seminal vesicle glandular cell] gene expression might help generate the ATP needed for substantial secretory output?',\n",
       " 'Are SPINK-type inhibitors found in the [seminal vesicle glandular cell] gene expression that help preserve seminal fluid components?',\n",
       " 'Which potential channel or pump regulator in the [seminal vesicle glandular cell] gene expression ensures proper ionic conditions for sperm viability?',\n",
       " 'Which gene in the [seminal vesicle glandular cell] gene expression might suggest local immune modulation or antigen processing potentials?',\n",
       " 'Does the [seminal vesicle glandular cell] gene expression show epithelium-associated transcripts like Epcam or Cdh1, reinforcing their luminal epithelial classification?',\n",
       " 'Which factor in the [seminal vesicle glandular cell] gene expression might be tied to extra-luminal signaling or fibroinflammatory interactions, bridging these cells to adjacent stroma?',\n",
       " 'Which characteristic signature from the [seminal vesicle glandular cell] gene expression best clarifies that they are not from prostate luminal lineages but belong to nearby seminal vesicle compartments?',\n",
       " 'Does the [seminal vesicle glandular cell] gene expression imply they might similarly respond to androgen withdrawal, analogous to prostatic secretory cell changes in castration?',\n",
       " 'Which transport gene in the [seminal vesicle glandular cell] gene expression might facilitate vesicle docking or exocytosis relevant to protein secretion?',\n",
       " 'Which fibroblast-derived cytokine in the [fibroblast] cell gene expression might help drive local inflammatory signaling in normal transition zone prostate tissue?',\n",
       " 'Which matrix-related gene in the [fibroblast] cell gene expression might promote structural stability or remodeling in the normal transition zone?',\n",
       " 'Is there any growth factor in the [fibroblast] cell gene expression from BPH that could enhance epithelial proliferation?',\n",
       " 'Which secreted metalloproteinase inhibitor in the [fibroblast] cell gene expression might constrain ECM degradation, balancing proteolytic activity in normal prostate stroma?',\n",
       " 'Do the [fibroblast] cell gene expressions from BPH tissue contain chemokines known for recruiting immune cells into hyperplastic areas?',\n",
       " 'Which elongation factor stands out in the [fibroblast] cell gene expression that indicates high protein synthesis demands during prostatic remodeling?',\n",
       " 'Which gene in the [fibroblast] cell gene expression might specifically modulate neutrophil attraction or activation, thus impacting prostatic inflammation?',\n",
       " 'Which hypoxia-responding gene in the [fibroblast] cell gene expression may show they adapt to low-oxygen conditions in the hyperplastic environment?',\n",
       " 'Which fibroblast-derived factor in the [fibroblast] cell gene expression might dampen immune responses or shield cells from damage in BPH?',\n",
       " 'Which transcript from the [fibroblast] cell gene expression might regulate collagen assembly or fibril thickness, integral to BPH tissue stiffness?',\n",
       " 'Which gene in the [fibroblast] cell gene expression is recognized for directly stimulating epithelial cell growth, possibly aggravating hyperplastic changes?',\n",
       " 'Does the [fibroblast] cell gene expression indicate any complement-related transcripts that might amplify local immune complex formation?',\n",
       " 'Which gene from the [fibroblast] cell gene expression might facilitate cell migration within the stroma, enabling tissue reorganization during BPH?',\n",
       " 'Which antioxidant-related gene in the [fibroblast] cell gene expression might protect the local tissue from oxidative stress during enlargement?',\n",
       " 'Are these [fibroblast] cell gene expressions consistent with an upregulated acute-phase protein that can spur local immune cell recruitment in BPH?',\n",
       " 'Which ribosomal protein from the [fibroblast] cell gene expression suggests a robust capacity for protein translation in normal peripheral zone fibroblasts?',\n",
       " 'Which stress-responsive small protein in the [fibroblast] cell gene expression might stabilize the cytoskeleton under BPH-induced stress?',\n",
       " 'Which smooth muscle–related marker from the [fibroblast] cell gene expression might suggest these cells partly adopt a contractile phenotype or modulate muscle behavior in BPH?',\n",
       " 'Which catabolic enzyme in the [fibroblast] cell gene expression specifically breaks down matrix components, aiding hyperplastic expansion?',\n",
       " 'Do the [fibroblast] cell gene expressions in BPH highlight any protease inhibitor that could restrain excessive tissue damage from matrix remodeling?',\n",
       " 'Which potential pro-angiogenic factor from the [fibroblast] cell gene expression might enrich the blood supply necessary for enlarged BPH tissue?',\n",
       " 'Do the [fibroblast] cell gene expressions from BPH show any classical heat shock chaperone that might guard proteins under cellular stress?']"
      ]
     },
     "execution_count": 29,
     "metadata": {},
     "output_type": "execute_result"
    }
   ],
   "source": [
    "test_dataset['Question']"
   ]
  },
  {
   "cell_type": "code",
   "execution_count": 61,
   "metadata": {},
   "outputs": [
    {
     "name": "stderr",
     "output_type": "stream",
     "text": [
      "Filter: 100%|██████████| 6299/6299 [00:00<00:00, 17703.11 examples/s]\n",
      "Filter: 100%|██████████| 38/38 [00:00<00:00, 2028.35 examples/s]"
     ]
    },
    {
     "name": "stdout",
     "output_type": "stream",
     "text": [
      "Original dataset size: 6299\n",
      "Filtered dataset size: 1036\n"
     ]
    },
    {
     "name": "stderr",
     "output_type": "stream",
     "text": [
      "\n"
     ]
    }
   ],
   "source": [
    "def filter_train_sft_data(example):\n",
    "    # Filter out examples with standalone \"yes\" or \"no\"\n",
    "    if \"yes \" in example[\"Answer\"].lower() or \" yes \" in example[\"Answer\"].lower() or \"yes,\" in example[\"Answer\"].lower() or \"yes.\" in example[\"Answer\"].lower() or \\\n",
    "       \"no \" in example[\"Answer\"].lower() or \" no \" in example[\"Answer\"].lower() or \"no,\" in example[\"Answer\"].lower() or \"no.\" in example[\"Answer\"].lower():\n",
    "        return False\n",
    "    for keyword in example[\"Keyword\"].split(\", \"):\n",
    "        if keyword in example[\"Context\"].lower() or keyword in example[\"Question\"].lower():\n",
    "            return False\n",
    "    if example[\"Question\"] in test_dataset['Question']:\n",
    "        return False\n",
    "    return True\n",
    "\n",
    "\n",
    "# Apply the filter and create new filtered dataset\n",
    "filtered_train_sft_dataset = sft_dataset[\"train_sft\"].filter(filter_train_sft_data)\n",
    "filtered_val_sft_dataset = sft_dataset[\"val_sft\"].filter(filter_train_sft_data)\n",
    "\n",
    "# Print statistics\n",
    "print(f\"Original dataset size: {len(sft_dataset['train_sft'])}\")\n",
    "print(f\"Filtered dataset size: {len(filtered_train_sft_dataset)}\")\n"
   ]
  },
  {
   "cell_type": "code",
   "execution_count": 62,
   "metadata": {},
   "outputs": [
    {
     "name": "stdout",
     "output_type": "stream",
     "text": [
      "Final train dataset size: 1036\n",
      "Final validation dataset size: 35\n"
     ]
    },
    {
     "name": "stderr",
     "output_type": "stream",
     "text": [
      "Saving the dataset (1/1 shards): 100%|██████████| 1036/1036 [00:00<00:00, 22545.69 examples/s]\n",
      "Saving the dataset (1/1 shards): 100%|██████████| 35/35 [00:00<00:00, 3069.99 examples/s]\n"
     ]
    }
   ],
   "source": [
    "# Create DatasetDict with train and val splits\n",
    "filtered_dataset = DatasetDict({\n",
    "    'train_sft': filtered_train_sft_dataset,\n",
    "    'val_sft': filtered_val_sft_dataset\n",
    "})\n",
    "\n",
    "print(f\"Final train dataset size: {len(filtered_dataset['train_sft'])}\")\n",
    "print(f\"Final validation dataset size: {len(filtered_dataset['val_sft'])}\")\n",
    "\n",
    "# Save the filtered dataset to disk\n",
    "filtered_dataset.save_to_disk(\"/users/zlyu12/Desktop/c2s-RL/filtered_train_dataset_3-5-25\")\n"
   ]
  },
  {
   "cell_type": "code",
   "execution_count": 63,
   "metadata": {},
   "outputs": [
    {
     "name": "stderr",
     "output_type": "stream",
     "text": [
      "Filter: 100%|██████████| 170/170 [00:00<00:00, 8328.25 examples/s]\n"
     ]
    },
    {
     "name": "stdout",
     "output_type": "stream",
     "text": [
      "Original test dataset size: 170\n",
      "Filtered test dataset size: 109\n"
     ]
    },
    {
     "name": "stderr",
     "output_type": "stream",
     "text": [
      "Saving the dataset (1/1 shards): 100%|██████████| 109/109 [00:00<00:00, 6381.35 examples/s]\n"
     ]
    }
   ],
   "source": [
    "def filter_test_sft_data(example):\n",
    "    if \"yes \" in example[\"Answer\"].lower() or \" yes \" in example[\"Answer\"].lower() or \"yes,\" in example[\"Answer\"].lower() or \"yes.\" in example[\"Answer\"].lower() or \\\n",
    "       \"no \" in example[\"Answer\"].lower() or \" no \" in example[\"Answer\"].lower() or \"no,\" in example[\"Answer\"].lower() or \"no.\" in example[\"Answer\"].lower():\n",
    "        return False\n",
    "    for keyword in example[\"Keyword\"].split(\", \"):\n",
    "        if keyword in example[\"Context\"].lower() or keyword in example[\"Question\"].lower():\n",
    "            return False\n",
    "    return True\n",
    "\n",
    "filtered_test_dataset = test_dataset.filter(filter_test_sft_data)\n",
    "\n",
    "print(f\"Original test dataset size: {len(test_dataset)}\")\n",
    "print(f\"Filtered test dataset size: {len(filtered_test_dataset)}\")\n",
    "\n",
    "filtered_test_dataset.save_to_disk(\"/users/zlyu12/Desktop/c2s-RL/filtered_test_dataset_3-5-25\")\n"
   ]
  },
  {
   "cell_type": "code",
   "execution_count": 44,
   "metadata": {},
   "outputs": [
    {
     "data": {
      "text/plain": [
       "{'Context': 'Neurodevelopmental processes often involve stress response or chaperone proteins',\n",
       " 'Summary_Dataset': 'Cell Type: GABAergic neuron, Tissue: diencephalon, Gene Expression: MALAT1 TMSB4X TUBA1A MT-ATP6 MT-CO3 EEF1A1 MT-CO2 RPL13 PTMA RPS8 RPSA RPS24 TPT1 RPS27A H3F3A HSP90AB1 FABP7 RPS10 RPS11 RPLP1 RPL11 RPL23 RPL27A RPL18A RPL8 RPL19 RPS9 ACTG1 RPS20 FAU RPL41 RPS14 FTL1 RPS3A1 RPL15 H3F3B STMN1 MT-CO1 RPS4X RPL28 VIM RPL30 RPL24 RPS23 RPL18 RPL9 RPL6 RPS16 RPS19 RPS13 RPL32 ACTB TUBB2B PPIA RPS3 RPS18 RPLP0 CKB RPS2 RPS15A RPS29 RPS26 RPS5 MT-CYTB MARCKS RPL37 RPL3 RPL37A RPL35A TUBB5 RPLP2 RPL17 RPS7 RPL34 PRDX2 NACA RPL7 RPL14 MT-ND2 RACK1 HSPA8 UBB RPL5 CHCHD2 RPS21 PPP1R14B RPL21 NPM1 HSP90AA1 RPS6 RPS12 TCF7L2 TMSB10 EIF1 SOX4 YBX1 RPL10A RPL38 RPS28 RPL36 H2AZ1 NNAT H2AZ2 HMGB1 GAPDH COX4I1 RPS15 RPL7A PEBP1 IGFBPL1 MT-ND4 RPS25 CFL1 HES6 RPL22 MT-ND1 RPS27 RPL4 RPS17 RAN XIST BASP1 EIF4A1 EIF4G2 HNRNPA2B1 RPL10 SUMO2 FABP5 SOX11 HNRNPA1 DDX5 SRSF3 RPL39 PTN SERBP1 RPL12 EEF2 HSPE1 HNRNPK RPL23A OAZ1 SERF2 RPL26 MIF RPL29 YWHAE EIF5A SON CALM1 RBM39 EEF1G HINT1 HMGN1 RPL36A ELOB NEDD4 SELENOW CDK4 BTF3 ATP5B MARCKSL1 DNAJA1 COX8A SNRPE PKM COX7C JPT1 HES5 SRRM2 NAP1L1 MAP1B GNAS ATP5G2 TOP1 NDUFA4 DYNLL1 EIF2S2 HBB-Y COX6C ATXN7L3B ATP5PB HNRNPA0 TUBB3 MDK UQCRH HNRNPAB ATPIF1 HMGB3 EEF1B2 PSMA7 MACROH2A1 RANBP1 JUND RTRAF HNRNPH1 PDAP1 PTOV1 FTH1 KIF21A RBX1 SET PFDN5 NME1 ATP5H CSNK1A1 CTNNB1 TCF4 TMA7 SLC25A4 ATP5E COX6B1 CCT3 SEM1 CALM2 SNRPF ATP5L COX5A PSMB6 SRRM4 MEG3 DDX39B FUBP1 RPL22L1 RPL31 TTC3 GNG5 NR2F1 HNRNPDL NDUFA13 PRMT1 MIAT NDUFA7 ATP5J EIF1B YWHAQ KCNQ1OT1 SEC61G SLC25A3 PSMB1 MYL6 RBM3 SETBP1 CCT8 ATP5D SFPQ PARK7 DBI HNRNPA3 CBX5 TUBA1B QK EIF3F SNRPB GLRX3 NDUFC1 PTMS EIF3A SNRPD2 COX7A2L HNRNPC RPL27 ARL4A PSIP1 RPL35 ZBTB20 ATP5A1 FEZ1 ATP5G1 6330403K07RIK CPSF6 MORF4L1 SFR1 SF3B1 RP23-48M16 CBX1 EIF3K SUB1 FUS DDAH2 DYNC1I2 UQCRQ SWI5 ATP5J2 TCEAL9 FKBP3 VCP PPDPF SRSF2 CCT5 COX7A2 TRA2B HMGB2 UBE2I NONO HNRNPU PSMA1 NEDD8 POU3F2 RBM8A TBCA UBL5 DSTN CNBP CCT7 CCT2 NDUFA2 BEX3 AKAP9 SRSF7 ATP5C1 BZW1 IGFBP2 PTPRZ1 SRSF5 MATR3 GADD45G PSMB5 HBA-A1 ATP6V1G1 CDC42 RAB14 STMN3 PRPF4B PAIP2 MFNG PSMB4 CBX3 EIF3H ROMO1 UBC COX5B NDUFB9 ARGLU1 GABARAP SRSF11 PAFAH1B1 NCL ATP5G3 TIMM13 GPX4 HNRNPM MTCH1 SMDT1 SELENOK PGAM1 GM1673 SCD2 HNRNPF PRDX1 MIR124-2HG PSMD7 PSMB3 CLTA CCND1 SLC25A5 CAPRIN1 TIA1 CST3 GNB1 TOMM20 PDCD5 SMARCE1 COX6A1 AKR1A1 CDKN1C PCBP1 RBM25 EIF5 TOP2B SUMO1 ACIN1 NDUFA12 RTN3 MRFAP1 SSB SMARCA5 UBE2D2A GSK3B BEX2 SRSF6 DPYSL3 EIF3I ENY2 PSMA3 DDX3X CSDE1 TFDP2 COX7B PTPRS TSPAN3 CACYBP PANTR1 GSTM5 SERINC1 U2AF1 BTG2 SELENOH BTG1 ATRX SCAND1 PFDN1 GNB2 MSI2 MTDH PFN1 MAP4K4 RDX NDUFC2 SNRNP70 ATP5K SELENOF DNAJB6 NSA2 RSRC2 TEAD2 PSMC4 HMGN2 YWHAZ KIF5B ATP5MPL SNRPD1 SNRPD3 TRIM28 ARID4B CALR 1110004F10RIK TXN1 GTPBP4 PCBP4 NEUROG2 NUCKS1 CD24A CFL2 PTBP2 HDGF LUC7L2 ATP5O_ENSMUSG00000022956 TAGLN3 DCTN2 TSN AFDN ATXN10 PAFAH1B3 BRI3 PPP1CC PSMB2 NISCH PDIA6 ESD UBXN1 UBE2D3 NDUFB5 RTN1 RPS27L LUC7L3 PPIB MRPL20 SMARCC1 GNAI2 SEC61B NDUFB8 TCP1 PCBP2 ITM2B RBM26 MAP1LC3B NASP RTN4 CPE ZRANB2 HNRNPD CNN3 SOX2 PHF14 BCLAF1 LSM4 JAM3 GTF2H5 CSRP2 TLE5 ABRACL PSMD8 FSCN1 DHX36 EIF3C AUTS2 PRDX6 SRSF1 UBE2S PPP1CA NDUFAB1 NDUFB7 CNPY2 CDK2AP1 VDAC2 TRA2A TPI1 SPAG9 PSMC6 BTBD17 THOC7 SRSF10 PRRC2C GM47283 UCHL1 UBE2M FKBP4 ZCRB1 ZC3H12C ARF4 PABPC1 PHB2 RNF7 MACF1 NCOR1 SENP6 HSP90B1 PSMA2 ST13 RCC2 CCND2 KHDRBS1 RND3 LDHA CHD3 ADH5 MBD3 FGFR3 PBRM1 D8ERTD738E ELAVL2 MT-ND3 BSG CUEDC2 RSRC1 FNBP1L POLR2M TARDBP DBN1 CCT4 PNISR PSMB7 HSPD1 SRSF9 TALDO1 HDAC2 CHD7 MIR9-3HG SNRPA NOTCH1 UQCR11 TSC22D1 ZFP207 TPR UQCC2 HSPA9 TUT4 ANP32A GDI2 ZFP36L1 POLR2J CSNK1E CHCHD1 PSMD13 PSMA5 STMN2 RCOR2 SF3B5 SARNP UBE2E3 MRPL34 PFDN2 EIF3M PGLS RSRP1 SLC1A2 PBX1 CHD4 EIF1AX NPC2 DAD1 PRPF40A PSMA4 AP2M1 LLPH ILF2 KDM1A DYNLRB1 UBE3A SH3BGRL MRPS33 METAP2 TOX3 CDC37 UQCR10 GPBP1 KIF1B SNRPA1 STRN3 CCNL2 HNRNPR PNN H1F0 EIF3G GNG2 SRRM1 ODC1 PUF60 ZMIZ1 TMEM258 NDUFB11 MDH1 ATP5MD FXR1 G3BP1 CCAR1 GPM6B EID1 PTP4A2 ANAPC5 PSMD4 NKD1 MEX3A NOL7 NDUFA6 SAFB EIF4H KRTCAP2 HSPA5 MRPS24 ARF5 MRPS14 JUN EIF5B ZFP428 BANF1 MYCBP2 COA3 TIMM8B UQCRB TOMM22 PSMA6 TMEM59 SF3B6 SRGAP3 MDH2 EIF3E TKT SF3B2 YEATS4 CAMTA1 MAGOH UBR5 EML5 ATP6V1F CLIC1 POLR2E NREP PHC2 SYNCRIP CETN3 ARPC3 SPCS2 PPA1 RRP1 EWSR1 UQCRFS1 SHOX2 CLK1 MARK3 SSR4 BNIP3L UBE2B AIMP1 BAZ2B PFN2 EEF1D KTN1 KDM5A CALM3 TBCB TNRC6C TNRC6B MAP2 TRIR EMC6 NDUFB10 POMP NDUFS2 BC031181 STOX2 DRAP1 DLL1 FIS1 ZMAT2 NDUFS4 TMEM234 CTCF SUPT4A SUPT16 RPL13A UBE2L3 PARP1 DHX9 FAM162A ZFP326 RBMX NDUFB2 YWHAB EZH2 AP2S1 SLC38A2 ZFP266 PTP4A1_ENSMUSG00000026064 MYL12B TRP53I11 CORO1C BZW2 NES PA2G4 LDHB DDB1 NDUFB4 SH3GLB1 G3BP2 KNOP1 DDX18 POLR2F ARID1A SRP14 NXF1 BRIX1 PSMC3 SSR2 HSBP1 TNRC6A RALA ARPC1A EIF4E2 PHIP ZC3H15 MIB1 PPP2CA GNL3 RNF165 NDUFS6 GABARAPL2 BPTF ELOC SF3B3 PTPRF SP3 FAM110A SMARCA4 GM3764 FAM104A SLTM LAPTM4A NKTR MORF4L2 EIF4A2 PSMC2 UBE2N MICOS10 USP3 APC ING4 DHX15 NT5DC2 EDF1 RTF1 CELF2 KDM5B IDH2 N4BP2L2 PELI1 HMGCS1 PSMC5 NOP10 ZNRD2 ZFP91 CWC15 MRPL18 COTL1 ENC1 EPHB2 BAX CAPZA2 ZFP462 NDUFS5 CELF1 TSPAN18 PEA15A RNF187 NDN U2SURP XRN2 C130071C03RIK BCAS2 ARF1 CEMIP2 GLRX5 RALY CFDP1 MACROH2A2 SDHB TSG101 ZBTB41 ACTR10 MCL1 CCDC88A PSMD12 POLR2K NDUFA8 DDX50 ELAVL4 ATF4 GTF2I MRPL11 UBXN4 DDX1 MRPL52 APEX1 DNAJA2 RBBP4 MAGED1 CLASP1 TMEM14C SLC4A7 CALD1 METTL9 C1QBP MRPL12 PUM2 USP34 TRIM35 ASF1A FOXN3 TEAD1 TRAPPC4 ARHGDIA PPP4R2 TET2 ELAVL3 GRB10 MT-ND5 IFT74 EVL ZFP644 MARCHF5 VDAC3 ANP32B TOMM7 TCF12 2700081O15RIK NABP2 UBE2E1 CIRBP PUM1 LARS2 KMT2E ZEB2 GATAD1 SNRPG EHMT1 TIMM17A BRD1 SNU13 AP1S1 TULP4 STIP1 ANAPC13 RBIS NUDT21 LSM8 UBTF AP2B1 LAMP1 NRXN1 FZD3 BLMH SRP9 DENR ARPP19 NAA15 TXNL1 RHEB MAPRE1 TRIP12 ARL3 HMGN3 UBA1 DDX24 ANP32E SELENOS MOB4 PPP1CB CANX EIF4B TECR ZIC1 INSM1 RCN2 CARHSP1 CISD1 UBAP2L MRTO4 NRCAM POLR2C SVBP NSG1 DST PAK2 YTHDC1 DDX39A KLHDC2 PAPOLA MKLN1 PTGES3 EMC7 VPS72 CCDC50 HNRNPH3 TAX1BP1 AHSA2 PHF5A SMS YWHAH IGSF8 EIF3B NBEA 2810004N23RIK CCDC59 VTA1 MACIR PODXL2 PSMD3 TBRG1 NIPBL SAMM50 POLR3K UQCRC1 CCDC124 NOVA1 NDUFA10 MFAP2 MBTD1 MRPL30 SEC11A GLS MARCHF7 MAGI1 RAB2A SSRP1 BRD7 FBL SSBP3 GSPT1 PCSK1N NDUFA11 EIF2S1 UBA3 PPP2R1A NELL2 HP1BP3 PALLD DYNC1H1 LAMTOR2 DEK WSB1 OGA FKBP1A PURB NRAS COPS9 POLR2I DDX17 HERC1 MRPL54 COPS5 HMG20B ZFP638 CDC26 WAC LHX9 SMARCB1 NOP56 H1F10 RAE1 EPRS EXOSC4 TMPO PGK1 SAR1B MRPL17 TAF15 EMG1 TMED9 MLF2\\nCell Type: neural progenitor cell, Tissue: diencephalon, Gene Expression: MALAT1 TMSB4X MT-ATP6 PTMA TUBA1A MT-CO3 EEF1A1 MT-CO2 RPL13 RPS8 RPSA RPS24 FABP7 TPT1 HSP90AB1 H2AZ1 RPS27A PPIA VIM RPL41 ACTG1 RPLP1 RPS10 RPL8 PTN H3F3A RPL23 STMN1 RPL11 TUBB5 RPS2 RPS20 FAU RPS4X RPS9 RPS11 RPL18A RPLP0 RPS3A1 ACTB RPL27A RPS19 RPL19 RPS14 RPL32 RPL15 RPS15A MT-CO1 RPL18 RPS16 RPL9 RPL6 HMGB1 RPS18 RPS29 RPS13 RPS23 RPL30 FTL1 RPS3 RPL28 H3F3B TUBB2B RPS5 RPL24 RPL3 RPS26 CKB MT-CYTB RPS7 NPM1 RPL14 HMGB2 RPL37A HSPA8 RPL17 RPL7 RPL35A HSP90AA1 RPL34 RAN RPS12 GAPDH RPL37 YBX1 RACK1 RPL10A RPLP2 UBB NACA EIF1 RPL5 RPS15 H2AZ2 PRDX2 HNRNPA2B1 RPL21 MARCKS BASP1 RPS6 RPL36 TUBA1B MT-ND1 SUMO2 CHCHD2 MT-ND4 MT-ND2 RPS21 RPL12 RPL26 RPL39 RPS17 SRSF3 SERBP1 OAZ1 RPL38 RPL7A TMSB10 HNRNPA1 COX4I1 CFL1 HMGN1 RPS27 DYNLL1 RPS25 HINT1 RPS28 HNRNPK EIF4A1 DDX5 CALM1 XIST RPL22 SET YWHAE NEDD4 PEBP1 EEF1B2 RPL10 RPL23A EIF5A RPL4 RBM39 GNAS NNAT MIF EIF4G2 TCF7L2 RPL29 BTF3 SON SNRPE SERF2 ATP5G2 HNRNPA0 COX7C ATP5B FABP5 PKM PPP1R14B EIF2S2 RANBP1 EEF1G ATP5H NAP1L1 SRRM2 JPT1 GNG5 HMGB3 TOP1 RPL36A MARCKSL1 HSPE1 ATPIF1 EEF2 ELOB DNAJA1 SOX11 FTH1 UBE2S RPL31 COX8A PRMT1 SOX4 HNRNPU MAP1B PSIP1 RBM3 NUCKS1 SELENOW COX6C ATXN7L3B MDK HES5 SFPQ HNRNPAB DEK FKBP3 PTMS MACROH2A1 HNRNPH1 PDAP1 IGFBPL1 HNRNPA3 DDAH2 CTNNB1 GNAI2 CDK4 SEM1 RPL22L1 H1F10 SLC25A4 PSMB6 SNRPD1 NCL ATP5E MORF4L1 SNRPB SUB1 CALM2 NEDD8 NASP HNRNPDL NDUFA4 YWHAQ SELENOH ATP5PB MYL6 ATP5J SLC25A3 SNRPF PSMA7 HNRNPD RPL35 RP23-48M16 ATP5A1 HMGN2 FUBP1 SNRPD2 TRA2B CBX5 PTOV1 RBX1 DDX39B ANP32B TTC3 HBB-Y NME1 BEX3 ATP5J2 COX5A QK SSB CNBP UQCRH CBX3 HNRNPM ATP5L COX6B1 ATP5O_ENSMUSG00000022956 HNRNPF SRSF2 PARK7 GNB2 NR2F1 DBI SOX2 EIF5 PRDX1 FUS CCT5 TUBB4B CBX1 U2AF1 EIF3F TMA7 SRSF7 CCT3 TLE5 JUND PSMA3 PSMB5 MRFAP1 TXN1 ATP5D NONO RTRAF PFN1 KIF21A COX7A2 POU3F2 HSP90B1 PFDN5 SRSF11 PTPRZ1 HSPA5 HNRNPC GM47283 CCT8 NDUFA13 CCT7 IGFBP2 HSPD1 CSNK1A1 EZH2 PGAM1 SEC61G ATP5G1 COX7B PDIA6 ARGLU1 NDUFC2 TCEAL9 SWI5 VCP PANTR1 COX6A1 SF3B1 PDCD5 EIF3K GM1673 NDUFA2 PSMB1 SFR1 CDC42 UQCRQ SCD2 SF3B2 RTN3 SRSF10 NDUFA12 CCDC34 NES PSMB4 PRPF4B ATP5G3 RDX COX5B NDUFB7 EEF1D CENPF UBE2I BZW1 BEX2 TCP1 UBE2D3 FEZ1 EIF3H TIMM13 CALR HNRNPR CACYBP TSN FKBP4 ARL6IP1 SUMO1 GPX4 PCSK1N UBL5 NDUFA7 SMDT1 EID1 GABARAP MATR3 ID3 PPP1CA DSTN ZIC1 CKS2 EIF1B NDUFB9 PPIB PABPC1 1110004F10RIK G3BP1 CCT2 UBE2C LMNB1 TOMM20 RPL27 ATRX PSMB3 EIF3A TMPO TPR MTCH1 RSRC2 ZBTB20 SMARCA5 NDUFAB1 RBM25 EIF3C SRSF6 PNISR PCBP1 ATP5C1 CAPRIN1 SRSF5 RBM8A LSM4 DYNC1I2 LUC7L3 PPP2CA CDCA8 BRI3 ESD SEC61B PSMD7 SELENOF SNRNP70 TUBB3 NUDC PAFAH1B1 CST3 ANP32E CNN3 6330403K07RIK UBC KCNQ1OT1 POMP SPCS2 ENY2 TPI1 CSDE1 PUF60 GDI2 TBCA HMGCS1 PCBP4 PHIP PSMB2 ATP5K GLRX3 SRSF9 CLTA PNN BANF1 COX7A2L LUC7L2 MDH1 RTN4 DDX3X CCND1 NUDT21 ZRANB2 TARDBP RPS27L SNRPG EIF4H SRSF1 TSPAN3 RAB14 PSMA4 TOP2A ATXN10 NDUFB8 PSMA2 MAGED1 NDUFC1 BIRC5 TRA2A PAFAH1B3 KHDRBS1 GSK3B SRRM1 PAIP2 ZC3H15 UBE2E3 GNB1 TRMT112 PHGDH HBA-A1 ANP32A SMC3 NOL7 CALM3 CCT4 PSMC6 PSMB7 BSG EIF3I PCBP2 EIF3E YWHAZ PRRC2C SNU13 NT5DC2 ZFP36L1 MDH2 PSMD4 UQCR10 MT-ND3 MTDH PGLS NDUFS5 NDUFB5 TRIM28 TALDO1 TCF4 PSMC5 EIF3M NCOR1 TOP2B GPM6B PTGES3 PPDPF PTBP2 THOC7 SLTM PSMC3 PFDN2 UQCR11 H2AX PSMA1 DDX17 SNRPD3 ADGRV1 LDHA TECR YEATS4 NISCH CDV3 ILF2 KIF1B PHB2 POLR2M SNRPC SMC4 TSC22D1 MEST TAF1D D8ERTD738E ACIN1 SCAND1 METAP2 TIA1 CKS1B ATP6V1G1 NDUFS6 FIS1 EWSR1 CCND2 MAGOH MBD3 SELENOK DHX36 RCC2 PSMA5 ST13 PPA1 KIF5B RNF7 RTN1 VDAC2 SIVA1 CENPA AKAP9 RNASEH2C RHOA SEPTIN7 VDAC3 KTN1 TMED9 CPE PSMC4 NSD2 PGK1 WLS PEA15A ARF1 PHF5A EDF1 TBCB EIF1AX SF3B6 SLC25A5 CHD4 OTX2 LSM6 CPSF6 BCLAF1 ERP29 RPL13A UBE2D2A MRPS33 ARHGAP5 DNAJC9 SMARCE1 TOMM7 U2SURP BCAS2 PSMA6 MRPL58 FNBP1L ENAH ODC1 CANX SYNCRIP SF3B5 POLR2F NSA2 PDHA1 PSMD8 SMC2 FKBP1A RTF1 SUPT16 ARF4 DRAP1 SMARCA4 EIF5B ATP5MPL HDAC2 HSBP1 CYC1 TRIR MORF4L2 HDGF TOMM22 PTP4A2 PTTG1 NDUFB4 NPC2 SMC1A PRPF40A SDHB ADH5 FBL BZW2 UBXN1 CLIC1 MIR124-2HG MRPL52 CHD3 DUT NDUFB11 ZCRB1 ZFP644 TIMM8B H1F0 SENP6 PHF14 PPP1CC RSRC1 NOP58 ANAPC5 ARF5 UBE2N BPTF SRP14 MEG3 ATP5MD TEAD2 RBBP4 MAPRE1 UBE2L3 CTCF AUTS2 APEX1 SARNP ARID4B TXNL1 RSPO3 CDC37 RNF187 KPNB1 ROMO1 TMEM234 UBE2M MANF ZFP91 CETN3 LDHB SNRPA1 FZD3 METTL9 PFDN1 TOX3 NDUFA11 AIMP1 SSBP1 UQCC2 PBRM1 SH3BGRL GTF2H5 LSM2 SSRP1 MICOS10 JUN TUT4 KRTCAP2 AKR1A1 UBE3A PSMC2 ALYREF DDB1 MKI67 ATF4 MCM7 NDUFS4 MRPL20 UQCRB SAE1 RBM26 DNAJC8 TKT PSMD6 XPO1 TMED10 NXF1 UBE2R2 DNAJA2 ARPC2 CSNK1E FAM133B MCRIP1 LARP7 RALA CDC20 PRDX4 YTHDC1 DHX9 PA2G4 RPL36AL ACTL6A SMARCC1 NDUFA6 CCAR1 MPHOSPH8 SPAG9 SEC62 NDUFV2 PAPOLA CFDP1 MAP4K4 SNRPA MACROH2A2 POLR2J CHCHD1 YWHAB IDH2 ARL4A GRB10 NDUFB10 ZFP207 NFIB RALY AFDN DCTPP1 SPARC CD24A SNW1 UCHL1 DPYSL2 CDK2AP1 ELOC DYNLRB1 BAX MRPS14 PCLAF DDX24 DHX15 JAM3 EMG1 SERF1 LAMTOR2 HES1 MAP1LC3B MFAP2 POLR1D HSPA4 ZEB2 MSI1 PCM1 DAD1 DENR PRDX6 DNAJB6 CKAP5 ARPP19 KDM1A CXXC4 ZIC4 G3BP2 STRAP DCTN2 STUB1 NDUFS2 SLC38A2 PPIG ZFP428 HES6 PSMD12 HNRNPH3 HUWE1 PUM1 TFDP2 GSTM5 MRPL12 EIF3G CHTOP YWHAH LSM3 DDX39A RSRP1 TMED2 H1F4 POLR2E ANKRD11 LSM5 ARHGDIA MRPL28 NKTR TAF10 RSL1D1 MLF2 STMN3 ZMIZ1 CFL2 RAD21 NHP2 KNOP1 EIF3D UQCRFS1 PFDN6 SYT11 GSPT1 CNPY2 PHC2 RBMXL1 LLPH CTBP1 MRPL51 EPRS TRAPPC4 MRPL42 PTBP1 PTPRS CUEDC2 ELOF1 LARS2 APRT OSTC RAD23B CDH2 SMC6 SRP9 CSNK2B SMAP1 AP2M1 NSMCE4A UQCRC2 SUMO3 VAPA PAX6 GLO1 MSI2 RWDD1 RNPS1 BRK1 DBN1 ID2 STIP1 PSMD11 GLRX5 NDUFA10 PSMD13 MACROD2 RND3 CCDC88A VDAC1 BEX1 PRELID1 PBX1 XRN2 CAPZA2 ZFP706 ABCF1 PARP1 CENPV NOP56 RAB5IF DDX46 RBM5 BTG1 RBIS DDX6 PDIA3 PPP4R2 1810058I24RIK FAM104A SEC11A FSCN1 SEPTIN11 C130071C03RIK GTF2A2 SMCHD1 ZWINT BLMH RACGAP1 SSBP3 THRAP3 CENPW PURB CCNB1 NIPBL ESF1 CDKN1C TNRC6A HMGN3 ZFP638 NDN RCN2 IMPDH2 TAX1BP1 CCDC124 RBMX C1QBP PRC1 EIF6 TRIM24 UBAP2L BRD8 ZFAND5 SOX9 ZFP422 SSR2 ZFP326 USP34 UBE2K CDC26 STRN3 VPS72 ZFP462 TTYH1 1810037I17RIK KMT2E UBR5 MAZ TCF25 EIF3L EVL NAP1L4 USP1 CWC15 PAFAH1B2 NDUFB3 GABARAPL2 ABRACL GTPBP4 SMARCB1 HSPA9 ACP1 BUB3 AP2S1 NDUFB6 CYCS TPM3 BOD1 PSMD2 FXR1 COMMD1 STMN2 TCF12 NUSAP1 NDUFS3 KLHDC2 SGTA NOP10 NR2F2 PAK2 NSD1 ASF1A RANGAP1 RHEB UBXN4 DDX50 MRPL33 DPYSL3 ARPC3 TRIM35 SVBP NAA15 POLR2I PPP1CB SCP2 SF3B3 TMEM167 GM16286 ITM2B PLAGL1 TPX2 IVNS1ABP MRPL34 CCNB2 PIN1 CRIP2 EMC10 SREK1\\n',\n",
       " 'Question': 'Which molecular chaperone is present in the [GABAergic neuron] cell gene expression, potentially assisting in protein folding during neuronal growth?',\n",
       " 'Chain of Thoughts': 'We look for HSP90, HSP70, or HSPA family. The [GABAergic neuron] expression includes HSP90AB1, a heat shock protein that stabilizes newly synthesized proteins.',\n",
       " 'Answer': 'HSP90AB1 is found in the [GABAergic neuron] gene expression. This chaperone aids proper protein folding and complex assembly, ensuring that newly made proteins function effectively in the developing inhibitory neuron.',\n",
       " 'Keyword': 'HSP90AB1',\n",
       " 'full_QA_pair': '<|Question|>Neurodevelopmental processes often involve stress response or chaperone proteins<|Question|>Which molecular chaperone is present in the [GABAergic neuron] cell gene expression, potentially assisting in protein folding during neuronal growth?<|Chain of Thoughts|>We look for HSP90, HSP70, or HSPA family. The [GABAergic neuron] expression includes HSP90AB1, a heat shock protein that stabilizes newly synthesized proteins.<|Answer|>HSP90AB1 is found in the [GABAergic neuron] gene expression. This chaperone aids proper protein folding and complex assembly, ensuring that newly made proteins function effectively in the developing inhibitory neuron.<|Keyword|>HSP90AB1',\n",
       " 'Dataset_Name': 'e12.5 thalamic progenitors',\n",
       " 'Publication_URL': 'https://cellxgene.cziscience.com/collections/d5cad3f0-56b6-4fbe-8f2b-be92a8c7820f',\n",
       " 'Dataset_Index': '463',\n",
       " 'Used_Rows': [0, 1]}"
      ]
     },
     "execution_count": 44,
     "metadata": {},
     "output_type": "execute_result"
    }
   ],
   "source": [
    "filtered_test_dataset[15]"
   ]
  },
  {
   "cell_type": "code",
   "execution_count": 46,
   "metadata": {},
   "outputs": [
    {
     "data": {
      "text/plain": [
       "{'Context': 'Gene expression patterns in immune cells can offer insights into cellular adaptations in response to tumor signals, potentially informing therapeutic targets or intervention strategies.',\n",
       " 'Summary_Dataset': 'Cell Type: endothelial cell, Tissue: basal ganglion, Gene Expression: MALAT1 MT-CO3 SPARC MT-CO2 MT-ATP6 MT-ND3 B2M TMSB10 EEF1A1 RPS28 MT-CYB IGFBP7 MT-CO1 A2M TMSB4X COL4A1 RPLP1 TPT1 CLDN5 VWF MT-ND4 PTMA RPL41 MT2A RPS8 NEAT1 RPL13 RPS23 COL4A2 IGFBP3 MT-ND1 APP RPS6 RPL28 IFI27 RPS19 RPL37A RPS27 RPS29 VIM RPS12 RPL10 RPL37 IFITM3 ITGB1 MT-ND2 RPS7 RPL13A RPL34 ACTB HLA-A RPS15A RPS2 ACTG1 RPLP2 RPL3 RPS14 SERF2 ITM2B RPL15 RPS24 RPL27A RPS4X ITM2A RPL26 SAT1 RPS27A RPL32 HLA-E RPL39 RPL19 RPS15 RPL12 PECAM1 HSPG2 RPL36 FLT1 MT-ND5 RPS16 CD59 RPL18A RPL21 RPS3A FTL HSP90AA1 HSP90B1 RPL11 RPS11 ATP5F1E TCF4 RPL30 RPL35A PPIA RPL23 ADAMTS1 CALM1 GNAS DDX5 RPL17 RPL24\\nCell Type: microglial cell, Tissue: occipital lobe, Gene Expression: MALAT1 PLXDC2 NEAT1 DOCK4 LRMDA FRMD4A LDLRAD4 SSH2 MEF2A QKI SFMBT2 ELMO1 MT-RNR2 DLEU1 KCNQ3 CHST11 DPYD SMYD3 SPP1 SLC8A1 SAT1 FKBP5 KCNMA1 LNCAROD APBB1IP ST6GAL1 DOCK8 TCF12 ARHGAP24 C3 EPB41L2 CELF2 SLC1A3 ABR MEF2C PTPRJ FYB1 MAML2 SLCO2B1 MERTK PICALM BMP2K TBXAS1 MAML3 ITPR2 ARHGAP26 FMNL2 RBM47 SLC11A1 FOS GNAQ CYRIB JAZF1 ZFP36L1 MYO1F MED13L EIF4G3 ZSWIM6 FCHSD2 FHIT CHD9 AOAH SORL1 PALD1 ZFHX3 ZFAND3 SPIDR ZEB2 FTX INPP5D MBNL1 TBC1D22A CYFIP1 DLEU2 GRID2 WSB1 TRIO ETV6 RNF149 MACF1 CAMK1D FRMD4B JMJD1C ATG7 RBM6 ARHGAP15 UBE2E2 FGD4 SLC9A9 CPM MYO9B CUX1 APOE AKAP13 PREX1 DENND3 GRB10 TBC1D5 LHFPL2 SH3RF3\\nCell Type: dendritic cell, Tissue: basal ganglion, Gene Expression: MALAT1 TMSB4X CD74 B2M MT-CO2 MT-CO1 MT-ATP6 RPLP1 HLA-DRA MT-ND3 EEF1A1 TMSB10 RPL28 TPT1 RPL41 HLA-DRB1 RPL13 ACTB MT-CO3 RPS8 RPL10 RPS29 PTMA HSP90AA1 FTL MT-ND4 RPS27 FTH1 RPS2 RPS28 RPS12 RPS14 RPS19 RPL39 RPL32 RPS23 RPL34 NEAT1 RPS24 CST3 RPL37 RPL11 MT-CYB RPS6 RPS15 RPL18A RPLP2 RPL12 RPL37A RPS11 RPL19 RPS4X RPL26 RPL30 RPS3A RPS15A RPS27A RPL21 RPL36 RPL27A FAU HSPA1A HLA-DQA1 RPL13A RPS13 VIM RPL35 UBA52 RPL14 RPL15 RPS3 RPL8 RPL9 RPL17 RPS9 RPL18 RPS21 RPL35A RPS16 ATP5F1E RPL29 RPL3 TXNIP RPL7A RPL6 MT-ND2 RPS7 HLA-A SAT1 HLA-DQB1 MT-ND1 RPL36A RPL23 ACTG1 RPL5 RPS25 UBC RPL38 RPL22 HSP90AB1\\nCell Type: macrophage, Tissue: brain, Gene Expression: MALAT1 FTL FTH1 TMSB4X CD74 B2M MT-CO1 MT-CO3 SPP1 APOE SAT1 MT-CO2 HLA-DRA MT-ATP6 ACTB MT-ND4 EEF1A1 TPT1 RPLP1 MT-CYB MT-ND1 RPL10 MT-ND3 MT-ND2 TMSB10 SRGN RPL13 C1QB RPL41 HLA-DRB1 NEAT1 RPS19 C1QA FOS RPL28 RPS12 RPS2 RPS27 RPS24 C1QC TYROBP RPL13A APOC1 RPL32 RPS23 RGS1 RPL39 RPLP2 HSP90AA1 RPL34 RPS27A RPL11 RPS14 RPS6 DUSP1 CST3 RPL19 PTMA UBC GAPDH RPL37 HLA-A RPS8 RPS28 PSAP RPL37A RPL12 RPL21 RPS15 RPS3A RPL18A RPL27A RPL30 RPL15 RPS15A EIF1 RPS13 NPC2 RPL26 HSPA1A CTSB RPL9 RPS16 RPL3 RPS3 S100A11 FCER1G CCL4 RPS4X RPS29 ITM2B FAU RPS9 ZFP36 RPL29 RPL23A MT-ND5 H3-3B CYBA JUNB\\nCell Type: natural killer cell, Tissue: right temporal lobe, Gene Expression: TMSB4X B2M RPLP1 MALAT1 RPS19 RPL13 RPS6 ACTB RPS3 RPS2 RPL10 RPS4X RPS14 RPS27A RPS15A MT-CO1 RPL28 RPS12 RPL15 RPL11 RPLP2 RPL26 NKG7 TPT1 RPL32 RPL19 RPS8 PTMA RPL34 RPL23A FTH1 PFN1 RPL31 RPL27A RPL30 TMSB10 FTL RPL35A RPL29 RPS23 RPL8 FAU RPS5 RPS9 GAPDH RPL18 CTSW RPS15 RPL14 RPS24 MT-CO3 CCL5 RPL10A RPS13 SRGN MT-CO2 HLA-A RPL35 RPSA RPS7 RPL12 RPL13A RPS11 RACK1 CFL1 GNLY RPL37A RPL24 RPL5 TYROBP RPL36 RPLP0 CD7 RPS16 RPL37 EIF1 UBA52 RPL7A RPS29 FCER1G ACTG1 RPL27 RPL6 COX4I1 H3-3B MT-ND4 RPS21 RPL4 RPS20 HLA-C CXCR4 NACA RPS25 RPL38 RPL23 ATP5F1E HCST RPS28 SERF2 GSTP1\\nCell Type: B cell, Tissue: right parietal lobe, Gene Expression: MALAT1 RPL13 RPL10 MT-CO1 RPS27 MT-CO2 EEF1A1 MT-CO3 MT-ATP6 RPL41 RPLP1 RPS23 RPS19 MT-CYB RPL11 RPL32 RPS8 RPS27A TPT1 RPS12 FTL RPL39 RPS14 RPL21 RPS3A RPL28 RPL13A RPS2 RPL19 RPL34 RPL30 B2M FTH1 RPS6 RPL18A RPLP2 RPL29 HLA-DRA RPL3 RPL23A RPS15A MT-ND1 MT-ND4 CD74 RPL18 RPL9 RPS11 RPS3 RPS28 RPS13 RPS29 RPS16 RPL37 PTMA FAU RPS15 RPS4X MT-ND3 BTG1 RPS25 EIF1 RPL27A JUND RPL10A RPL15 RPS7 RPL12 RPS20 RPL35A RPS24 RPL14 RPL35 RPL36 RPS5 RPL5 RPL8 RPL7A RPL26 RPL24 RPL6 RPS9 EEF1B2 TMSB10 RPL37A RPL22 TMSB4X UBC RACK1 CXCR4 RPL7 CD83 RPL38 UBA52 MT-ND2 IGHM RPL23 RPSA NACA JUNB SPP1\\nCell Type: natural killer cell, Tissue: forebrain, Gene Expression: MALAT1 TMSB4X B2M RPL41 RPLP1 RPS27 RPL10 RPL13 ACTB RPS19 RPL13A RPS15A EEF1A1 RPLP2 RPL21 RPL32 PTMA RPS29 RPS27A MT-CO1 RPS12 RPS14 RPS4X RPS15 RPL23A RPS24 RPS3 CCL5 RPL26 RPL27A RPS6 RPL39 RPS2 RPL34 RPL28 RPL18A RPL19 RPL11 RPL15 GNLY RPL3 RPS3A RPS28 RPL17 TMSB10 RPS23 RPL30 RPL37 RPL37A TPT1 RPL35A RPS8 MT-CO2 RPL31 RPL12 RPL35 RPL36 RPL6 RPS25 RPS7 RPL29 RPS17 RPL9 RPS16 RPL7 FAU HLA-A RPL18 RPL10A RPS9 MT-CO3 HLA-C KLRB1 RPS13 FTH1 RPL8 RPL14 GAPDH MT-ND4 RPL7A RPL27 RPSA FTL UBA52 RPL24 RPS21 RPS5 CTSW PFN1 RACK1 RPL36A RPL5 NKG7 EIF1 SRGN BTG1 RPL23 RPL38 RPS20 TYROBP\\nCell Type: plasma cell, Tissue: frontal lobe, Gene Expression: MALAT1 RPLP1 B2M RPL10 RPL41 MT-CO1 RPL13A RPS27 JCHAIN IGKC RPS15A RPL13 MT-CO2 RPS19 RPL21 RPS8 RPS29 RPLP2 EEF1A1 MT-CO3 RPS12 RPS2 RPS27A RPL28 RPL18A RPL39 RPL27A RPL11 RPL34 RPL3 RPL23A TMSB4X RPS14 RPL32 RPS6 RPS3 RPS28 RPS23 RPL19 MT-ND4 TPT1 MT-ATP6 RPL37A RPS15 RPS4X RPS3A RPL8 MT-ND1 RPS16 RPL12 MT-ND2 RPL26 RPL7A RPL15 RPL30 RPS24 MT-CYB RPS11 RPS5 RPL35A RPS25 PTMA RPL36 RPL29 FAU RPL5 RPS13 RPL35 TMSB10 RPSA RPL37 MT-ND3 RPL18 RPS7 FTL RPL10A RPL31 UBA52 RPL9 RPL14 RPL6 RPL38 RPLP0 RACK1 CD74 RPL7 RPL17 RPS17 RPS21 RPS9 RPS20 RPL27 RPL24 SSR4 RPL23 RPL4 HLA-C EIF1 CYBA MZB1\\nCell Type: natural killer cell, Tissue: basal ganglion, Gene Expression: MALAT1 RPL41 RPLP1 TMSB4X B2M RPL13 RPS29 RPL28 RPS27 TPT1 RPS12 RPS24 RPS15A PTMA RPL10 RPS8 RPL39 EEF1A1 RPS28 RPS19 RPS23 RPL11 RPS14 RPS27A RPL32 RPL34 RPS15 RPL18A RPL26 RPL19 RPS6 RPS2 TMSB10 RPL37A RPLP2 RPS4X RPL12 RPL30 MT-CO3 RPL14 RPS3A RPS21 RPS3 RPL17 RPL36 RPS9 RPL7A MT-ND3 RPS7 RPL15 RPL29 RPL35A RPL13A RPL18 RPS13 RPL6 FAU MT-ATP6 RPS25 MT-CO1 RPL37 RPL10A RPL35 RPL27A HLA-A RPL36A RPL9 MT-CO2 RPS16 H3-3A ACTB HSP90AA1 RPL27 MT-ND4 RPL21 NACA SERF2 RPL3 CCL5 RPSA RPL8 RPL24 RPL22 HMGB1 RPL5 RPS11 ATP5F1E MT-CYB PFN1 KLRB1 RPS20 RPL23A RPL31 RPL38 RPL23 RPS5 RPS10 COX7C FTH1 UBA52\\nCell Type: natural killer cell, Tissue: temporal lobe, Gene Expression: MALAT1 MT-RNR2 GNLY B2M MT-CO3 MT-CO2 MT-CO1 TMSB4X ACTB PTMA EEF1A1 MT-ND4 MT-CYB MT-ATP6 HLA-A MBNL1 MT-ND3 TPT1 NCAM1 MT-RNR1 TMSB10 MT-ND1 CELF2 RPL13 KCNQ5 PTPRC DOCK8 CD247 RPLP1 MACF1 MAML3 HSP90AA1 RPL41 MT-ND2 ZBTB20 HLA-C DOCK10 SKAP1 SFMBT2 NEAT1 RPS19 CD96 ATP8B4 CHST11 ARHGAP15 PPP3CA MCTP2 RBM39 RPL10 ARAP2 RABGAP1L ATP5F1E GAPDH SP100 TXK RPS8 SAMD3 FAU HNRNPA2B1 ACTG1 RPS27 PIP4K2A MAML2 PABPC1 EVL FOXN3 PRKCH ZFAND3 ANKRD44 TAOK3 RPS2 MYL6 RPL13A RPS28 DPF3 MEF2A JMJD1C PARP8 TBL1XR1 PFN1 DDX17 UTRN SRGAP3 MT2A RPS15 LCP2 RPS6 JAK1 ZFHX3 RACK1 RPS4X CYRIB RUNX3 MT-ND5 TBC1D5 CDK6 SEPTIN7 SPIDR RPL18A RPS14\\nCell Type: radial glial cell, Tissue: right parietal lobe, Gene Expression: MALAT1 MT-ATP6 RPL13 MT-CO2 RPS15 MT-CO1 RPLP1 RPL37A MT-CO3 RPL10 SEC61G EEF1A1 RPL28 RPS2 RPS19 H4C3 RPL19 MT-ND3 MT-CYB RPL41 RPL3 TMSB4X VIM ACTB RPS15A RPL32 MT-ND4 RPS14 RPL8 RPS23 RPS28 HMGB1 RPS27 RPS12 TUBA1A RPS8 TUBA1B RPL29 RPL36 RPS3A TPT1 GAPDH RPL18 RPL18A CKB ACTG1 RPL35A RPL13A PTMA HNRNPA2B1 FTH1 RPS5 RPL21 RPS11 TMSB10 RPS9 RPS27A RPS21 RPL7A RPS24 CALM1 RPL15 RPL30 RPS4X RPLP0 RPS7 RPL6 RPL11 H3-3A RPL9 RACK1 H3-3B RPL24 MT-ND2 RPL39 RPS16 YBX1 RPL34 GNAS RPS29 RPS3 RPL26 RPLP2 RPL10A RPL27A RPSA MARCKS RPL12 DYNLL1 RPS6 RPL5 CHCHD2 RPL37 UBA52 MT-ND1 NACA HMGN2 S100A6 MYL6 RPL22\\nCell Type: mature T cell, Tissue: left frontal lobe, Gene Expression: MALAT1 TMSB4X B2M RPS27 RPL10 RPL41 RPLP1 RPL13 RPS19 MT-CO1 RPS29 RPL34 RPS14 RPL28 RPS15A MT-CO2 RPS2 RPS12 RPS3 TMSB10 RPS27A RPL39 RPS15 RPL3 RPS28 RPL21 MT-ATP6 EEF1A1 PTMA RPL32 ACTB RPL18A RPL19 RPL11 RPS8 MT-ND3 RPL26 FTL RPL15 RPL27A RPL30 RPS3A TPT1 RPL23A RPS4X RPLP2 RPS23 RPS6 MT-CO3 MT-CYB BTG1 RPS24 RPL36 MT-ND4 RPL13A RPS25 FTH1 RPL12 FAU RPL35A RPS9 HLA-C RPS7 RPL18 HLA-A RPL35 EIF1 RPL7A RPL14 ATP5F1E RPL8 MT-ND2 RPL37 RPL6 RPS13 RPS26 RPL29 CCL5 RPL9 RPS16 CD52 HSP90AA1 SH3BGRL3 RPL37A RPL10A SPP1 RPL24 H3-3B RPL5 RPL7 SERF2 PFN1 UBC UBA52 RACK1 GAPDH RPL27 RPS5 EEF1D JUN\\nCell Type: radial glial cell, Tissue: right temporal lobe, Gene Expression: MALAT1 TMSB4X PFDN5 GAPDH HMGB2 RPLP1 MT-CO3 RPS19 MT-CO1 HNRNPA2B1 RPL37A TUBA1A RPL13A RPL13 RPLP2 PTMA STMN1 FTH1 PPIA HMGB1 RPS12 RPS27 RPS2 RPS8 RPL35A SEC61G HMGN2 RPS27A MT-ND2 MT-CO2 H4C3 B2M RPS29 MT-ND4 MT-RNR2 CALM2 PTN TUBA1B HSP90AA1 NUCKS1 ACTB H3-3B RPL31 H2AZ1 RPL10 RPL34 RPS11 RPL15 PTTG1 RPL11 DBI RPL41 RACK1 MT-CYB NDUFA4 RPL8 RPS28 TMSB10 RPL35 RPL32 RPL27 RPS14 UBB MYL6 PTPRZ1 COX7C JUN FOS RPS20 MT2A RPL3 GNAS RPLP0 RPS25 MT-ATP6 RPS23 SEPTIN7 RPL27A YBX1 RPL26 DYNLL1 TOP2A ACTG1 COX6A1 JPT1 EIF1 HNRNPDL RPS3 CFL1 BTF3 MIR9-1HG BEX3 COX8A VIM COX7A2 RPL7A MT-ND3 RPS15 RPL12 RPS16\\nCell Type: plasma cell, Tissue: right parietal lobe, Gene Expression: IGLC2 MALAT1 FTL MT-CO1 IGHG1 NEAT1 B2M SPP1 IGHG2 MT-CO2 FTH1 RPLP1 MZB1 JCHAIN SSR4 MT-ATP6 MT-CO3 NFKBIA TPT1 TMSB4X MT-CYB RPL13 APOE RPL41 IGHG3 RPS2 UBC SAT1 RPS19 MT-ND4 IGKC RPL28 RPL10 IGHG4 RPS4X MT-ND1 CCL4 RPS15 RPL13A EEF1A1 ZFP36 MT-ND3 IGHA1 RPL29 RPL18A ACTB CYBA RPL7A RPL37A RPS27A RPL21 RPL37 RPL11 CXCL8 RPS12 PPP1R15A RPL36 RPLP2 IGLC3 RPS8 RPS24 RPL32 RPS14 RPL18 PSAP RPL35 RPL3 HSP90AA1 FKBP11 EIF1 RPL24 JUN ZFP36L2 RPS28 XBP1 RPS23 RPS27 MT-ND2 RPS3A RPLP0 RPL19 RPS6 FAU HERPUD1 RPL34 CD74 PRDX4 RPL9 FOS RPS5 RPL5 RPS11 RPS16 TMSB10 RPL39 HLA-C SERF2 ANKRD28 RPS9 APOC1\\nCell Type: endothelial cell, Tissue: right occipital lobe, Gene Expression: MALAT1 B2M TMSB10 MT-CO1 TMSB4X MT-ATP6 CLDN5 MT-ND3 MT-CO3 EEF1A1 MT2A MT-CO2 MT-CYB RPS28 TPT1 IFI27 MT-ND4 PTMA FTL RPL41 RPLP1 VIM SPARCL1 RPL13 A2M RPS23 RPL10 FOS HLA-A HLA-E IGFBP7 RPS27 FTH1 UBC MT-ND1 HLA-C ITM2A ACTB RPS12 JUN TSC22D1 RPL3 MT-ND2 RPL34 NEAT1 RPL37A ITM2B RPS14 RPS8 RPS27A CAVIN2 RPS19 RPL37 RPL32 EIF1 RPL28 SRGN RPL11 MT1E CALM1 RPS29 RPL21 RPL39 RPL30 KLF2 RPL19 RPS6 IFITM3 RPL9 RPS15 RPS24 RPL13A RPS3A SAT1 DUSP1 H3-3B RPLP2 BSG RPL36 JUND RPS15A RPL35A GNAS RHOB RPS9 MT-ND5 RPS2 RPS4X RPS25 RPL29 MYL6 RPL8 ACTG1 RGCC SERF2 JUNB RPL15 HERPUD1 FAU RPS11\\n',\n",
       " 'Question': 'Do the natural killer cell gene expressions in the basal ganglion provide any genes that are associated with cytotoxicity, and how do they contribute to this role?',\n",
       " 'Answer': 'Yes, the natural killer cell gene expressions in the basal ganglion show genes like KLRB1 and CCL5 which are associated with cytotoxicity. KLRB1 encodes an activating receptor critical for natural killer (NK) cell cytotoxic activity. CCL5, or RANTES, recruits leukocytes to sites of inflammation and can enhance NK cell-mediated tumor cell lysis. These expressions are key in facilitating the intrinsic cytotoxic functions of NK cells targeting tumor and infected cells.',\n",
       " 'Keyword': 'Yes, KLRB1, CCL5',\n",
       " 'full_QA_pair': '<|Question|>Gene expression patterns in immune cells can offer insights into cellular adaptations in response to tumor signals, potentially informing therapeutic targets or intervention strategies.<|Question|>Do the natural killer cell gene expressions in the basal ganglion provide any genes that are associated with cytotoxicity, and how do they contribute to this role?<|Answer|>Yes, the natural killer cell gene expressions in the basal ganglion show genes like KLRB1 and CCL5 which are associated with cytotoxicity. KLRB1 encodes an activating receptor critical for natural killer (NK) cell cytotoxic activity. CCL5, or RANTES, recruits leukocytes to sites of inflammation and can enhance NK cell-mediated tumor cell lysis. These expressions are key in facilitating the intrinsic cytotoxic functions of NK cells targeting tumor and infected cells.<|Keyword|>Yes, KLRB1, CCL5',\n",
       " 'Dataset_Name': 'Extended GBmap',\n",
       " 'Publication_URL': 'https://doi.org/10.1101/2022.08.27.505439',\n",
       " 'Dataset_Index': '198',\n",
       " 'Used_Rows': '[33, 108, 20, 48, 154, 9, 146, 203, 144, 155, 221, 92, 222, 209, 42]'}"
      ]
     },
     "execution_count": 46,
     "metadata": {},
     "output_type": "execute_result"
    }
   ],
   "source": [
    "filtered_dataset[\"train_sft\"][15]"
   ]
  },
  {
   "cell_type": "code",
   "execution_count": null,
   "metadata": {},
   "outputs": [],
   "source": []
  }
 ],
 "metadata": {
  "kernelspec": {
   "display_name": "cell2sentence-tc",
   "language": "python",
   "name": "python3"
  },
  "language_info": {
   "codemirror_mode": {
    "name": "ipython",
    "version": 3
   },
   "file_extension": ".py",
   "mimetype": "text/x-python",
   "name": "python",
   "nbconvert_exporter": "python",
   "pygments_lexer": "ipython3",
   "version": "3.10.12"
  }
 },
 "nbformat": 4,
 "nbformat_minor": 2
}
