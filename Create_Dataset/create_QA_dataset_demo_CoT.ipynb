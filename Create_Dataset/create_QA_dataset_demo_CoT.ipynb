{
 "cells": [
  {
   "cell_type": "code",
   "execution_count": 1,
   "metadata": {},
   "outputs": [
    {
     "name": "stderr",
     "output_type": "stream",
     "text": [
      "/users/zlyu12/.conda/envs/cell2sentence-tc/lib/python3.10/site-packages/tqdm/auto.py:21: TqdmWarning: IProgress not found. Please update jupyter and ipywidgets. See https://ipywidgets.readthedocs.io/en/stable/user_install.html\n",
      "  from .autonotebook import tqdm as notebook_tqdm\n"
     ]
    }
   ],
   "source": [
    "import torch\n",
    "import numpy as np\n",
    "import json\n",
    "import os\n",
    "import re\n",
    "import pandas as pd\n",
    "import shutil\n",
    "\n",
    "from datasets import Dataset, load_from_disk, concatenate_datasets, DatasetDict\n",
    "\n",
    "seed = 42\n",
    "torch.manual_seed(seed)\n",
    "np.random.seed(seed)"
   ]
  },
  {
   "cell_type": "markdown",
   "metadata": {},
   "source": [
    "helper functions and constants"
   ]
  },
  {
   "cell_type": "code",
   "execution_count": 2,
   "metadata": {},
   "outputs": [],
   "source": [
    "def dataset_for_prompt(df):\n",
    "    # number of rows to sample\n",
    "    num_rows = min(len(df), np.random.randint(5, 25))\n",
    "    df = df.sample(num_rows)\n",
    "    #number of genes to sample\n",
    "    num_genes = 2000 // num_rows\n",
    "\n",
    "    use_d = True\n",
    "    if len(df['diseases'].unique()) == 1:\n",
    "        use_d = False\n",
    "\n",
    "    s = \"\"\n",
    "    sampled_indices = []\n",
    "    for index, row in df.iterrows():\n",
    "        cur_num_genes = min(num_genes+np.random.randint(-20, 20), 1000)\n",
    "        cell_sentence = ' '.join(row[f'gene_{i}'] for i in range(1, cur_num_genes))\n",
    "        if use_d:\n",
    "            s += f\"Cell Type: {row['cell_type']}, Tissue: {row['tissue']}, Disease: {row['diseases']}, Gene Expression: {cell_sentence}\\n\"\n",
    "        else:\n",
    "            s += f\"Cell Type: {row['cell_type']}, Tissue: {row['tissue']}, Gene Expression: {cell_sentence}\\n\"\n",
    "        sampled_indices.append(index)\n",
    "        \n",
    "    return s, sampled_indices\n",
    "\n",
    "prompt_prefix = \"\"\"This is a scientific manuscript and an example of the single-cell RNA sequencing dataset it is associated with. The example dataset contains one representative cell from each type and the corresponding cell sentence(ranked gene names by expression). You need to create question-answer pairs for Large Language Models to learn analyzing scRNA-seq datasets when given pieces of data converted into cell sentences. I would like questions and answers about the given cell sentence in terms of cells, tissues, disease, or other relevant biological information. \n",
    "The questions must be answerable by looking at the given cell sentences alone. The question-answer pairs should follow a line of reasoning mentioned in the manuscript or results arrived by the researchers. When creating questions, you should first read the given manuscript, consider what the analysis the researchers did in the manuscript and the biological context of this study. Then look at the example cell sentences(or a part of them), think about what question the researchers asked or would ask about the cell sentence, what they wanted to and can infer, study, or understand. Imitate the interpretation of data in the manuscript. Then answer the question, quote specific cell sentences and genes as evidence, and include detailed explanations and reasonings resemble a chain of thoughts. You can borrow reasoning and analysis, conclusions from the manuscript but don't directly use or quote the manuscript in question or answer. Avoid questions about experiment design or procedures, avoid vague questions. Vary the questions, answers and their wording as much as possible to cover a diverse range of topics. Include both open ended questions and yes or no questions.\n",
    "Provide Context for the question, this is only the essential background information required to answer the question, do not directly summarize or describe the dataset. Find context from the manuscript. Provide Answer no less than 30 words, including detailed reasonings. Refer to specific cell sentences as [type] cell gene expression. Also include a chain of thoughts as intermediate reasoning and analysis steps, think about the important gene names and functions, gene sets. Provide Keywords of the answer being the most essential parts of the correct answer. The keywords should be yes or no(must include if it is a yes or no question), or important gene names, or biological information in question. These keywords will be used during my training to validate my model's response. \n",
    "Give 20 question answer pairs as one list, don't give any other word. Strictly format like this: \n",
    "<|Context|>the context<|Question|>the content of the question<|Chain of Thoughts|>the intermediate reasonings<|Answer|>the content of the answer<|Keyword|>the answer keywords\n",
    "<|Context|>the context<|Question|>the content of the question<|Chain of Thoughts|>the intermediate reasonings<|Answer|>the content of the answer<|Keyword|>the answer keywords\n",
    "...\n",
    "\"\"\""
   ]
  },
  {
   "cell_type": "markdown",
   "metadata": {},
   "source": [
    "loads all datasets and meta data \\\n",
    "assumes summary datasets are in a directory as csv files, assuming the format processed by Harry \\\n",
    "all files I'm looking at can be found in my C2S-RL dev github repo branch"
   ]
  },
  {
   "cell_type": "code",
   "execution_count": 14,
   "metadata": {},
   "outputs": [
    {
     "name": "stdout",
     "output_type": "stream",
     "text": [
      "Dataset({\n",
      "    features: [],\n",
      "    num_rows: 0\n",
      "})\n"
     ]
    }
   ],
   "source": [
    "# TODO: change to your own file path\n",
    "datasets_directory = \"/users/zlyu12/Desktop/c2s-RL/Dec19_dataset\" # all summary datasets\n",
    "meta_data_path = \"/users/zlyu12/Desktop/c2s-RL/Create_Dataset/meta_data.json\" # dataset name, filename, url etc.\n",
    "hf_dataset_output_path = \"/users/zlyu12/Desktop/c2s-RL/Create_Dataset/temp_hf_dataset\" # temporary output directory\n",
    "\n",
    "datasets_files_paths = [os.path.join(datasets_directory, f) for f in os.listdir(datasets_directory) if f.endswith('.csv')]\n",
    "dataset_numbers = np.sort([int(re.search(r'\\((\\d+)\\)', f).group(1)) for f in datasets_files_paths])\n",
    "\n",
    "meta_data = json.load(open(meta_data_path))\n",
    "dataset_numbers_iterator = iter(dataset_numbers[190:])\n",
    "\n",
    "try:\n",
    "    hf_dataset = load_from_disk(hf_dataset_output_path)\n",
    "except:\n",
    "    hf_dataset = Dataset.from_dict({})\n",
    "\n",
    "print(hf_dataset)"
   ]
  },
  {
   "cell_type": "markdown",
   "metadata": {},
   "source": [
    "iterates through all datasets in your directory \\\n",
    "this prepares the prompt \\\n",
    "copy paste, add the publication text at the end and run our favorite LLM \\\n",
    "run only once for a row, we rely on some variables defined here in later cells"
   ]
  },
  {
   "cell_type": "code",
   "execution_count": 141,
   "metadata": {},
   "outputs": [
    {
     "name": "stdout",
     "output_type": "stream",
     "text": [
      "Dataset Index:  250\n",
      "\n",
      "Dataset Name:  Central Cornea\n",
      "\n",
      "Publication URL:  https://cellxgene.cziscience.com/collections/63d03351-06be-478e-a0db-f7a653b6b19b\n",
      "\n",
      "Prompt:\n",
      " This is a scientific manuscript and an example of the single-cell RNA sequencing dataset it is associated with. The example dataset contains one representative cell from each type and the corresponding cell sentence(ranked gene names by expression). You need to create question-answer pairs for Large Language Models to learn analyzing scRNA-seq datasets when given pieces of data converted into cell sentences. I would like questions and answers about the given cell sentence in terms of cells, tissues, disease, or other relevant biological information. \n",
      "The questions must be answerable by looking at the given cell sentences alone. The question-answer pairs should follow a line of reasoning mentioned in the manuscript or results arrived by the researchers. When creating questions, you should first read the given manuscript, consider what the analysis the researchers did in the manuscript and the biological context of this study. Then look at the example cell sentences(or a part of them), think about what question the researchers asked or would ask about the cell sentence, what they wanted to and can infer, study, or understand. Imitate the interpretation of data in the manuscript. Then answer the question, quote specific cell sentences and genes as evidence, and include detailed explanations and reasonings resemble a chain of thoughts. You can borrow reasoning and analysis, conclusions from the manuscript but don't directly use or quote the manuscript in question or answer. Avoid questions about experiment design or procedures, avoid vague questions. Vary the questions, answers and their wording as much as possible to cover a diverse range of topics. Include both open ended questions and yes or no questions.\n",
      "Provide Context for the question, this is only the essential background information required to answer the question, do not directly summarize or describe the dataset. Find context from the manuscript. Provide Answer no less than 30 words, including detailed reasonings. Refer to specific cell sentences as [type] cell gene expression. Provide Keywords of the answer being the most essential parts of the correct answer. The keywords should be yes or no(must include if it is a yes or no question), or important gene names, or biological information in question. These keywords will be used during my training to validate my model's response. \n",
      "Give 20 question answer pairs as one list, don't give any other word. Strictly format like this: \n",
      "<|Context|>the context<|Question|>the content of the question<|Answer|>the content of the answer<|Keyword|>the answer keywords\n",
      "<|Context|>the context<|Question|>the content of the question<|Answer|>the content of the answer<|Keyword|>the answer keywords\n",
      "...\n",
      "Dataset: \n",
      "Cell Type: fibroblast, Tissue: cornea, Gene Expression: MALAT1 NEAT1 PDE4D ITGBL1 RORA ALDH3A1 COL5A2 ZBTB20 FTX AKAP13 DCN COL12A1 CEMIP CH507-528H12 MSI2 ZFHX3 NEBL COL6A3 DOCK5 WWOX SNX29 IMMP2L PTPRM SASH1 ABCA6 DLG2 WSB1 COL4A3 TCF12 UTRN RERE PLXDC2 RIPOR2 LSAMP AUTS2 TMTC1 SVIL ITSN1 PTPRG BICC1 FKBP5 MACF1 SIPA1L1 C1ORF21 ELF2 SPOCK1 DDX17 AC003090 REV3L AOPEP COLEC12 COL1A2 ABI3BP USP34 TTC28 COL6A2 CACNA2D3 FNDC3B BIRC6 FRMD4A PITPNC1 ASPH NFIA MME MKLN1 PSD3 SH3D19 TNRC6A MYCBP2 TFAP2B ENO1 C20ORF194 ITGB4 TNRC6B COL6A1 MIR99AHG CFH CHD9 MYO1D MAP4K3 AKT3 EFNA5 CNTN3 ZBTB16 EIF4G3 ARID1B PTK2 CARMIL1 MAMDC2 PLPP3 COG5 TPCN1 CDON PNISR COL4A4 PDGFD SLC20A1 DLG1 FNDC3A AFF3 BCAS3 STAG1 TGFBI GLUL LUC7L3 PLCB4 STXBP5 GPHN PIAS1 AKAP9 SRSF11 PTPN13 SBF2 APBB2 MAGI2 INPP4B IGF1R PDLIM5 PRKN ZEB1 SSH2 MBNL1 ZFHX4 PEAK1 SIK3 JMJD1C PARD3 DYNC2H1 COL8A1 USP53 MACROD2 NAV1 NKTR AFF1 N4BP2L2 TSC22D3 KMT2C ADAMTS9-AS2 MTUS1 ENPP1 UBE2E2 TCF4 SYNE1 PPFIBP1 FBXL7 WDFY3 LPP MED13L CALD1 LRP4 KIF13A PRRX1 USP32 DOCK9 FBXL17 ZNF638 MLLT10 EXOC6B PAM CACHD1 RIC1 HERC4 KMT2E DOCK1 ANGPTL7 ZBTB7C HNRNPH1 RBFOX2 TBC1D5 ADARB1 GOLGA4 DENND4C FHIT KLHL29 PUM1 CTDSPL MARK3 LHFPL6 SPIDR WDFY2 AFDN ASH1L MBD5 ETV6 MEF2A PELI2 PLEKHA5 GLS ESYT2 NCOR1 FAM126A SLMAP ERG DPYD NF1 SUGCT PARD3B ERCC6 KRT12 ZFAND3 MIR100HG TCF7L2 DDX5 RP11-6N13 FNBP1 CUX1 FAF1 PID1 AHI1 CCDC102B RBM6 ARID4B SETBP1 MON2 BAZ2B NIPBL NAALADL2 RBM39 CPAMD8 SETD5 KDM2A UBR3 UBR2 CRIM1 JAK1 ZNF292 ADAM33 ARHGAP26 CYTH3 NPEPPS PAFAH1B1 ANKRD17 MIR205HG PLSCR4 UBE2K TCF25 NCOA1 TWIST2 PPP6R3 MAPK10 VPS13B ATXN2 ASAP1 ITGA6 GXYLT2 KANSL1 ADK RABGAP1L ANKRD11 ITFG1 DKK2 COLGALT2 XRN1 TEAD1 CD99 STK35 SRPK2 SEPTIN11 GRK5 ARHGEF3 SSBP2 HERC1 ABCA5 CDC42BPA MAGI1 VPS13D UBR5 KAZN NFE2L2 SLIT2 TBL1XR1 ZMYM2 MAP4 BCL2L13 ACSL3 LGALS3 PCSK5 EXOC4 EHBP1 ERC1 WAC NFIC ZCCHC7 COP1 ARGLU1 PAN3 LINC01473 SRRM2 NR3C2 ARHGAP12 TANC1 DENND6A FER L3MBTL4 DIP2B BABAM2 SEC31A RAB1A ERBIN PER3 TACC1 LRBA MYO9A ITCH DST NCOA3 GLG1 TTC17 UBE2H YAP1 FNBP4 PCNX1 TUT4 UTY SRSF5 BPTF TBC1D22A SENP6 NTRK3 SPAG9 DCDC1 SHOX PATJ HTRA1 BRWD1 USP47 TNKS PDZRN3 CDKAL1 BCL6 CEP126 TMEM165 KDR LMX1B CAST CNOT2 NFAT5 PACS1 ATRX LINC01278 SMCHD1 SMYD3 AFF4 PSME4 RHOBTB3 ADD3 SEMA5A\n",
      "Cell Type: corneal endothelial cell, Tissue: cornea, Gene Expression: MALAT1 RORA COL4A3 POU6F2 NEAT1 NRXN3 COL8A1 PTPRM MSI2 COL4A4 AKAP13 SLC4A4 TJP1 CA12 SLC4A11 ENO1 FTX ZBTB20 WWOX TCF4 PCDH7 GLIS3 CH507-528H12 KAZN TNRC6A HIF1A-AS3 DLG2 MICAL2 ZFHX3 NEBL MACF1 ESRRG RERE MAGI3 LAMB1 KIAA1217 GRIP1 PLXDC2 PRKG1 GLS WSB1 MAGI2 PTGDS ELF2 IMMP2L MARCHF3 MED12L ALCAM IGF1R COL4A5 ERG AUTS2 FAM155A DLG1 FGF10 APP AOPEP DDX17 APBB2 COL5A2 BIRC6 MAP4K3 NTN1 PIP5K1B ZDHHC14 LINC01435 SUCO RERG FHIT PRUNE2 GLIS1 KIF26B CDON SLC20A2 CCDC144CP TGFBR3 RIPOR2 USP34 FKBP5 DCC MIR99AHG SCAI SLC20A1 SNX25 INPP4B TNRC6B PLCE1 AKT3 DANT2 PFKP PATJ NAV1 CRIM1 NECAB1 SH3D19 MYCBP2 DIP2B TFAP2B EFNA5 RHOBTB3 SIK3 LRBA SBF2 TCF12 NKTR NCAM1 N4BP2L2 MICAL3 ZFHX4 RUNX1T1 PDE4D MKLN1 ARID1B WNT5B PSD3 VPS41 GMDS MIR100HG PPFIBP1 MACROD2 PACS1 TANC1 KHDRBS2 ADAM12 TBC1D5 LUC7L3 COL12A1 PLCB4 MBD5 PLCH1 PAPPA SPIDR ZNF292 PNISR CALD1 KMT2C DNM2 FAM13A CDK14 SORL1 SCD MAPK10 LRRFIP1 FRY PDZRN3 TENM4 EIF4G3 ALDH7A1 CEMIP2 PTK2 MAGI1 STK32B NUP58 EPB41L2 PPARGC1B UBR2 DOCK5 PIAS2 SORCS3 DST TTN ERRFI1 CADM1 ABCA5 P4HA1 BCAS3 PARD3 CDC42BPA REV3L DENND5B FRMD4B RP11-541P9 ARHGEF3 CHD9 LINC01473 COL4A6 DNAJC1 LMX1B LINC00894 ANKH SRSF11 ZNF638 MLLT10 PTPN13 HERC1 NCOA1 PITX2 DAPK1 CDH2 PDLIM5 FBXL17 SNHG14 SETD5 ANKRD17 STXBP5 RGS7BP BNC2 C1ORF21 FGFR2 ABLIM1 SVEP1 ATXN1 NIN PHACTR2 NF1 PUM1 PRKN ANKRD36 CPEB3 BAZ2B PBX1 ENPP1 GLI3 RIN2 LDLRAD4 PPP6R3 CFH LPP AHI1 ADD3 LINC01278 AGO3 FBXL7 PDGFRB HNRNPH1 LRIG1 HELZ KDM4C COL1A2 PER3 DNAJC6 MED13L EGLN3 VPS13D UBE2H ABI3BP PKP4 COG5 TMTC1 ITGBL1 FNDC3B GARRE1 HPS5 ETV6 SETD3 SULF2 GPHN ACER3 FCHSD2 STK35 STAG1 ASPH NBEA CDH23 AKAP9 NFIA WDFY3 ITGB5 FAM160A1 TIMP3 SORBS2 SMYD3 GRIN2B BRWD1 ASAP1 VEGFA ERBIN NIPBL NPEPPS LCNL1 GXYLT2 ZFAND3 C20ORF194 TCF7L2 NHSL1 STOX2 ITPR1 GNA14 AC064875 RAB11FIP2 WWC2 EMX2 SGK1 MYOC GAPDH TTC28 UBR5 ARID4B SLC2A1 UACA DOCK9 ZMYM4 SLC23A2 KMT2E BCL2L13 ZBTB7C OGA ARHGAP26 AHCYL1 PKM AGAP1 GOLGA4 TUT4 JMJD1C CACNA1A LSM14A SLC22A23 PFKFB4 FAF1 DLGAP1 HERC2 UBR3 FAM126A SYNJ1 PLK5 DOCK1 KDM2A BTBD9 SIK2 SYNE2 EXOC4 NR3C2 ZMYM2 SIPA1L1 PITPNC1 PKHD1 CPAMD8 SENP6 UVRAG PTPRK MLLT3 EMX2OS KANSL1 CLASP1 ITFG1 PAN3 USP32 HERC4 RABGAP1L NCOR1 PHLPP1 ARID5B ZNF532 ASH1L EXOC6B ATXN2 CTDSPL SREBF2 SUPT3H\n",
      "Cell Type: transit amplifying cell, Tissue: cornea, Gene Expression: MALAT1 NEAT1 MIR205HG KC6 DCDC1 CNTN4 RORA WWOX KAZN MACF1 TGFBI PARD3 SUCO DST KIF13A PLXDC2 PCSK5 RERE ALDH3A1 KRT12 MSI2 EXOC6B FHOD3 ARHGEF3 EGFR ARHGEF28 IMMP2L ST6GALNAC3 CH507-528H12 SYNE2 FTX FAF1 ASPH LYPD6B CRYBG1 GPM6A KRT5 BNC2 MACROD2 TIAM1 CPAMD8 KIAA1217 GPHN SNX29 RASAL2 CACNA1D ARHGEF4 COL17A1 TP63 FHIT FOXP2 FGD4 SMAD3 NQO1 HMGN3 YAP1 PTK2 ADK SAT1 NCKAP5 ZBTB20 PAX6 LRBA NKAIN2 ARID1B MYCBP2 RASSF6 CDH13 NXN SLC22A23 SH3PXD2A UTRN FAM169A PHIP CENPP RAD51B MYOF PHACTR1 MYO1E DOCK1 FRYL PID1 TKT FTH1 IVNS1ABP SYNE1 TMEM117 ZFAND3 RABGAP1L SLC38A2 SPIDR NRG1 GLS KMT2C PTPN13 RAPGEF5 SLCO3A1 STAG1 TBL1XR1 CUX1 PDE4D EXOC4 TRERF1 TCF12 ANO4 USP34 MOXD1 ENO1 AKAP9 EFNA5 NF1 BIRC6 SSBP2 CRTAC1 TBC1D5 PATJ VAV3 DLG1 HNRNPH1 FBXL17 FRMD4A NHSL1 TENM4 ELF2 SH3D19 EIF4G3 IGF1R COBLL1 EPB41L4A PITPNC1 CLU SRPK2 PTPRD KCNMA1 RAPH1 DLGAP2 ANKRD17 PSME4 DLG2 ERBIN ARHGAP12 SAMD12 FER NLK JMJD1C DGKH FNDC3B BCL2L13 SSH2 ITCH FOXN3 PTPN14 TENM2 CPXM2 GRIN2A TRIM36 FRMD6 CMIP MBD5 UACA MIR924HG SASH1 AGAP1 CTSV AGL SRGAP3 MARK3 OSBPL10 MED13L MLLT10 CACNA2D3 APP ANKRD11 GMDS DIP2B S100A6 MRTFA LPP NIPBL DOCK5 ELP4 VPS13D FAM83A TMPRSS4 CDKAL1 AFDN TCF7L2 SIPA1L1 N4BP2L2 IBTK CTDSPL DDX5 SH3RF1 UBR5 WDFY3 FA2H CERS6 TANC1 CELF2 ZNF83 TNRC6B TUT4 TBC1D22A TANC2 AOPEP WAC LAMB1 ATXN1 DGKB ITGA2 GNAQ MAGI1 LUC7L3 PERP DSP L3MBTL4 CHD9 CTBP2 PPP6R3 SMCHD1 HERC4 ZMYM2 EXT1 KDM4C CADM1 DOCK9 SYT8 NFIA ERC1 SLMAP WNK1 BCAS3 ZNF638 PER3 COP1 RBM6 ARL15 WSB1 FAT1 IL18 AKAP13 ANKRD28 ETV6 COL4A5 MAPK10 LINC01473 MCC CTNNA1 TAOK3 PARD3B ACAP2 PUM2 MEF2A UTY BRIP1 NKTR RBFOX2 KANSL1 KDM2A LGR4 SOX6 TMEM131L NCKAP1 DENND4A PAN3 FRMD4B GSK3B CRIM1 TNRC6A DIAPH2 MAST4 OXR1 RBM39 ATAD2 ANXA1 HNRNPA2B1 ARFGEF1 CAST NCOA2 SLK KIF21A BOC GSN SBF2 PTBP3 FMN1 CARMIL1 DDX17 ACTN4 PRKDC ANXA2 TRPM3 PPP4R1 KTN1 MYO6 VPS13A UBR2 MAT2A EZR DYM TXNRD1 TRAPPC9 UBE2E2 MEIS1 MGAT5 GPC6 DIAPH3 ZCCHC7 UBE2H GRHL2 MAP2K4 SIPA1L3 AHI1 SETD5 HNRNPDL EMP1 STRN3 FAM172A UBE2Q2 SRSF11 PUM1 CLDN1 VPS13B PKP4 VWA8 PLCB1 MAP4K5 VGLL4 MAP4 ACACA RPS6KA3 GALNT18 EHBP1 PNISR ITGA6 ZNF326 PPFIBP1 ZNF609 NFAT5 PRIM2 DENND4C LINC00486_ENSG00000230876 CLASP1 CXCL14 NT5C2 SMYD3 TTC17 BAZ2B RIN2 ITFG1\n",
      "Cell Type: corneal epithelial cell, Tissue: cornea, Gene Expression: MALAT1 NEAT1 KAZN PLXDC2 WWOX PARD3 DCDC1 CNTN4 RORA CH507-528H12 PCSK5 MACF1 KRT12 KC6 EXOC6B ASPH PTPN13 FOXP2 GPHN ARHGEF3 KIF13A CPAMD8 WNK2 FTX SLCO3A1 ARHGEF4 CRYBG1 FOXN3 TGFBI RERE NEBL CACNA1D MIR205HG ARHGEF28 PAX6 MSI2 MYH14 ZBTB20 AFDN MACROD2 FHIT FA2H MYCBP2 MYO6 RASAL2 PDE4D B4GALT5 CUX1 PERP YAP1 IMMP2L ERBIN LRBA AKAP13 IKZF2 ELF3 DSP SUCO ADK ZFAND3 PATJ TMPRSS4 KRT5 KIAA1217 EZR EIF4G3 BNC2 KRT3 PID1 KMT2C USP34 UBE2E2 GLS BIRC6 DOCK1 TMEM117 SAMD12 RABGAP1L FAF1 KDM2A TIAM1 SYNE2 MAPK10 SASH1 ARID1B SH3RF1 AKAP9 SMAD3 IGF1R KLF5 DIAPH2 SAT1 XACT MAST4 TANC1 NT5C2 FGD4 EGFR FBXL17 L3MBTL4 EFNA5 PPP4R1 VPS13D SLC20A1 EMP1 CAST MARK3 SRPK2 SCEL LGALS3 N4BP2L2 SH3D19 BCAS3 ST6GALNAC3 DLG1 RIOK3 XDH TOM1L2 TBC1D5 MED13L PSME4 TAOK3 ELF2 SH3PXD2A ATAD2B TRIM36 SNX29 DOCK3 PTK2 NHSL1 ETV6 ZNF83 MBD5 COBLL1 TBL1XR1 EPN2 CLU ARFGEF1 FAM169A CRTAC1 JMJD1C NIPBL SYT8 PLEKHG1 EPB41L4A FAM83A OXR1 ELP4 ANKRD17 ARHGAP12 ENO1 ANXA2 EXOC4 TCF12 IBTK KIF21A ZMYM2 FHOD3 UBE2H MUC16 RAPH1 SLMAP DENND2C DIP2B SIPA1L1 LYPD6B MAL2 RAPGEF5 ITCH TMTC1 TRPM3 LIPH GMDS WDFY3 TNRC6B MAP4K5 DDX17 DDX5 HECTD1 GRHL2 NPEPPS SLC22A23 PDCD4 SBF2 MACC1 SSH2 SSBP2 DSC2 TBC1D22A NEDD4L NLK GALNT18 ERICH5 NCOA2 CTSV NCKAP5 ACACA BAZ2B VGLL4 SLK TRAPPC9 FRYL MRTFA ANKRD11 TP63 VAV3 PUM2 HERC4 KANSL1 WDFY2 FTH1 CMIP LINC01473 ADIRF RREB1 CD55 ACAP2 NF1 PRKN NQO1 UBR2 CTNNA1 PAN3 PPP6R3 TPCN1 HMGN3 CHD9 TKT DLG2 BABAM2 GSK3B MAP2K4 SPIDR TCF7L2 ZFAND6 BCL2L13 COP1 NCKAP1 ALDH3A1 KDM4C C6ORF132 IL20RA WSB1 LINC00278 UACA MAML3 HNRNPH1 MEIS1 PPL LRRFIP1 CRACDL KDM6A PTBP3 AFF1 UBR5 PLCB4 ITFG1 RBM6 KCTD8 GAREM1 TCF25 SERINC5 WDR26 ZNF638 ATXN1 CLINT1 FER MAML2 AGAP1 NXN RAD51B KAT2B FGFR3 CTBP2 SH3GL3 ASH1L VPS13B WAC FRMD6 LMO7 STAG1 MAP4 MAGI3 ARID4B DGKB MYO5B EHBP1 RNF149 MEF2A TXNRD1 S100A6 EXT1 MICAL2 MAL NEK7 MPRIP CH507-513H4 FAM135A ID1 TJP1 REPS1 BTBD9 DENND1B STRN3 MLLT10 SCD5 KCNMA1 TPD52 LGR4 PAFAH1B1 GNAQ CLASP1 LRRFIP2 WNK1 PUM1 RELL1 ZCCHC7 ABI1 BRWD1 GRIN2A DOCK9 DSG1 EPB41 POF1B MYOF RP11-492A10 RALGAPA1 ESYT2 PNISR MTSS1 CLDN1 NUAK2 SIPA1L3 ANXA11 PHACTR1 TUT4 LUC7L3 KLF3 ADAM10 MON2 PICALM RGS12 ERC1 TET2 RBM47 JARID2 TNRC6A KMT2E\n",
      "Cell Type: leukocyte, Tissue: cornea, Gene Expression: MALAT1 MBNL1 NEAT1 PARP8 FKBP5 PTPRC CELF2 ARHGAP15 ZBTB20 SSH2 ANKRD44 CH507-528H12 CHST11 CBLB UTRN DOCK8 PIP4K2A STK17B SYTL3 PICALM AKAP13 CCND3 ELMO1 DPYD THEMIS AKT3 RABGAP1L ZFAND3 TNRC6B IKZF1 PCNX1 ARHGAP26 FYN ATXN1 PDE3B BIRC6 HSP90AA1 SIPA1L1 SAT1 KMT2C DOCK10 AOAH STAG1 JMJD1C ARID1B SKAP1 RASA2 SMCHD1 PLXDC2 TBC1D22A SFMBT2 TBC1D5 MED13L LDLRAD4 PITPNC1 N4BP2L2 LRBA CDC42SE2 RPS6KA3 PRKCH FNBP1 CYRIB FYB1 SPIDR NIPBL DDX17 RAPGEF1 TCF12 MACF1 MAML2 ANKRD11 KANSL1 MGAT5 KMT2E FTX PDE7A EML4 SMAP2 PAN3 PPP2R5C CCDC91 USP34 APBB1IP AAK1 SP100 CLEC2D CASK SIK3 B2M STK4 H2AC6 STAT4 RERE HERC1 ETV6 SMYD3 WWOX CYTIP NIBAN1 IQGAP2 CMIP DOCK2 VPS13C LINC01934 ZNF609 TBL1XR1 MEF2A RORA MYCBP2 KLF12 WAC PACS1 RCSD1 EPS15 RBMS1 RUNX1 ITPR2 VPS13B H3-3B PTPRJ FAM172A MKLN1 PLCB1 PCNX2 FOXN3 RICTOR CAMK1D RAP1B UBAC2 GLS SLC4A7 DLEU2 INPP5D ARID4B PPP3CA NKTR USP53 TAOK3 HNRNPH1 MGAT4A TRAPPC9 COP1 ATM SLC38A1 RAP1A VMP1 PPP1R12A CD96 LUC7L3 LINC01619 HERC4 JAK1 ELF1 ITGA4 RBM39 TTC39C RNF213 CDKAL1 RUNX3 HNRNPA2B1 SAMSN1 DENND4A FBXL17 NCOA2 MVB12B AKAP9 EIF4G3 WNK1 SLC2A3 DOCK4 EXOC4 ASH1L HIF1A KDM4C PREX1 DIAPH2 PHC3 MBP TC2N CYTH1 FAF1 PIAS1 AFF1 KDM6A NCOR1 LPP PDCD4 HSPA1A PRKCB ARL15 FLI1 ZNF292 BRWD1 WIPF1 MBD5 SUCLG2 ST6GAL1 ERBIN ABR DENND1B TGFBR2 FCHSD2 PPP6R3 RAP1GDS1 SH3KBP1 ATF7IP ZMYM2 USP15 MSI2 USP3 TTC17 RNF149 PUM2 RBM6 NR3C1 INPP4B XIST IMMP2L MSN SMURF2 FTH1 CAMK4 SENP6 BPTF BCAS3 XYLT1 CEP85L KDM2A OGA OSBPL8 SORL1 ROCK1 BBX JAML DYRK1A SRGN MYO9B PAG1 PRKCA ZC3HAV1 CNOT6L MARK3 SBF2 EPC1 FRMD4A QKI KAT6A DDX5 PCED1B CUX1 DLG1 ITGAE MAP3K5 IL7R ZCCHC7 GNAQ ADK ZNF638 ITFG1 ATRX USP25 ARID2 FRYL SOS1 DYM STIM1 PHIP BCL11B PCM1 BCL2 CFLAR GTDC1 NCOA1 ID2 PNISR CD247 TOX BTG1 ARHGEF3 PAM ZSWIM6 NCOA3 TXNIP CD226 CLASP1 SARAF SRPK2 ETS1 SRSF11 STAG2 SSBP2 UBR2 TUT4 VTI1A GSK3B P4HA1 CD69 ITGA1 LRMDA ACAP2 CHD9 RUNX2 LRRFIP1 CELF1 ATP8A1 STK17A RSRP1 ZFP36L1 RBPJ ATP11B OGT CAMK2D EPB41 WSB1 ANKRD17 CARD11 EVL BTBD9 SNX29 LINC01138 NABP1 DISC1 AKNA XKR6 UBR5 UBE2K MLLT10 TRIP12 SYNE2 SCAF11 ATG7 BABAM2 CLASP2 INPP4A CRYBG1 CD74 SLC8A1 SETD2 RALGAPA1 VWA8 ARAP2 MAN1A1 SND1 PLCL2 PDS5A PRRC2C\n",
      "Cell Type: basal cell, Tissue: cornea, Gene Expression: MALAT1 NEAT1 MIR205HG DCDC1 KAZN KC6 CNTN4 RORA MACF1 WWOX TGFBI PLXDC2 DST KRT12 ALDH3A1 SUCO KIF13A PARD3 RERE PCSK5 EXOC6B MSI2 FTX ARHGEF28 ASPH ARHGEF3 KRT5 IMMP2L CPAMD8 FHOD3 CH507-528H12 COL17A1 EGFR NQO1 FHIT FTH1 GPM6A KIAA1217 SAT1 HMGN3 ARHGEF4 NKAIN2 CRYBG1 YAP1 PTK2 TP63 ZBTB20 CACNA1D LYPD6B ST6GALNAC3 PID1 NRG1 FOXP2 SH3PXD2A RASAL2 ADK FGD4 TIAM1 SNX29 BNC2 GLS NCKAP5 MYO1E SLC22A23 RASSF6 IVNS1ABP GPHN CLU NXN CDH13 SMAD3 ANO4 ZFAND3 SYNE2 FAF1 ARHGAP12 MYCBP2 KCNMA1 MYOF RAPGEF5 MACROD2 TMEM117 TKT SLC38A2 ENO1 PTPN13 LRBA ARID1B CUX1 PATJ PAX6 USP34 SH3D19 CRTAC1 DOCK1 AGL TENM4 EIF4G3 VAV3 CTSV GRIN2A PHACTR1 NHSL1 BIRC6 KMT2C SRPK2 FA2H NF1 TRERF1 GMDS FER EXOC4 DLGAP2 PTPN14 S100A6 FRYL AKAP9 PDE4D ITCH IGF1R DIP2B FAM169A PITPNC1 NLK DLG1 PSME4 SLCO3A1 MOXD1 DGKB AOPEP FRMD4A DLG2 RAPH1 BCL2L13 MARK3 EPB41L4A MRTFA DOCK5 MED13L TENM2 CMIP TCF12 ANKRD17 TBL1XR1 N4BP2L2 SYNE1 MBD5 HNRNPH1 FBXL17 TBC1D5 ATXN1 COL4A5 CPXM2 FNDC3B APP SAMD12 OSBPL10 ERBIN FRMD6 FAM83A DSP ZNF83 MAT2A UACA SASH1 RABGAP1L ARL15 JMJD1C UBE2E2 VPS13D CACNA2D3 AFDN SH3RF1 PERP EMP1 COBLL1 SSBP2 HERC4 BCAS3 ANKRD11 EFNA5 CTDSPL TNRC6B PTPRD ELF2 SLMAP WDFY3 STAG1 LINC01473 TMPRSS4 LPP LAMA3 IBTK MEF2A CLDN1 ZMYM2 IL18 TRIM36 DDX5 MCC CRIM1 DGKH FAT1 KDM4C GSK3B UTRN SOX6 ZNF326 MAPK10 TBC1D22A AGAP1 CTBP2 NIPBL FRMD4B FOXN3 TCF7L2 TXNRD1 ETV6 ARFGEF1 ITGA6 EZR AKAP13 L3MBTL4 TAOK3 SSH2 KDM2A SPOCK1 CADM1 TANC2 ITGA2 DENND4A SYT8 CHD9 CTNNA1 CELF2 SBF2 GNAQ MAP4 MLLT10 KANSL1 WSB1 TUT4 MAGI1 EHBP1 MEIS1 LUC7L3 VGLL4 CAST UBE2H PUM2 DOCK9 BAZ2B ACTN4 SLK LAMB1 MYO6 CBLB PLEKHG1 WAC GJB6 SPIDR ANXA2 WNK1 CXCL14 SIPA1L1 PRKN ANXA1 RBM39 RBM6 EXT1 TANC1 MAP2K4 PAN3 NFAT5 RAD51B ELP4 UBR5 FILIP1L PPP6R3 ZNF638 TNS4 DDX17 ATAD2B KTN1 SRGAP3 PPFIBP1 KIF21A PHIP ERC1 MKLN1 XACT COP1 SIPA1L3 TNRC6A UBR2 NPEPPS EPB41L4B MGAT5 TOM1L2 MAML3 GRHL2 CAMSAP2 NCOA3 NCKAP1 LINC00486_ENSG00000230876 CLASP1 VWA8 VPS13B DAAM1 ZBTB7C KDM6A UTY HELZ CERS6 LGR4 GSN MAST4 FMN1\n",
      "Manuscript:\n",
      "\n"
     ]
    }
   ],
   "source": [
    "dataset_index = str(next(dataset_numbers_iterator))\n",
    "dataset_name = [k for k,v in meta_data.items() if f'({dataset_index})' in v.get('filename', '')]\n",
    "if len(dataset_name) != 1:\n",
    "    print(\"dataset index: \", dataset_index)\n",
    "    print(dataset_name)\n",
    "    print(f\"dataset \\\"{dataset_name}\\\" not in meta_data!\")\n",
    "else:\n",
    "    dataset_name = dataset_name[0]\n",
    "    cur_url = meta_data[dataset_name]['url']\n",
    "    dataset_file_path = [path for path in datasets_files_paths if f\"({dataset_index})\" in path][0]\n",
    "    dataset_df = pd.read_csv(dataset_file_path)\n",
    "    dataset_in_prompt, sampled_indices = dataset_for_prompt(dataset_df)\n",
    "    print(\"Dataset Index: \", dataset_index)\n",
    "    print(\"\\nDataset Name: \", dataset_name)\n",
    "    print(\"\\nPublication URL: \", cur_url)\n",
    "    print(\"\\nPrompt:\\n\", prompt_prefix + \"Dataset: \\n\" + dataset_in_prompt + \"Manuscript:\\n\")\n"
   ]
  },
  {
   "cell_type": "markdown",
   "metadata": {},
   "source": [
    "Just copy paste the output into the next cell, shouldn't need to do additional processing"
   ]
  },
  {
   "cell_type": "code",
   "execution_count": 142,
   "metadata": {},
   "outputs": [],
   "source": [
    "output = \"\"\"\n",
    "<|Context|>These cells contribute to the stromal structure in the cornea, helping maintain its clarity and tensile strength. They are associated with matrix production and remodeling.<|Question|>Are the [fibroblast] cell gene expression profiles suggestive of extracellular matrix organization in the corneal stroma?<|Answer|>Yes. The [fibroblast] cell gene expression includes “COL5A2,” “COL6A3,” and “COL4A3,” which encode various collagen components supporting stromal structure. Also, “ITGBL1” and “DCN” are known to modulate cell–matrix interactions. Together, these gene signals indicate that fibroblasts likely contribute actively to corneal extracellular matrix assembly and homeostasis.<|Keyword|>yes, COL5A2, COL6A3, COL4A3, ITGBL1, DCN\n",
    "\n",
    "<|Context|>Transit amplifying cells exist in the basal layers of the corneal epithelium and rapidly proliferate to replenish epithelial cells.<|Question|>Do [transit amplifying cell gene expression] profiles indicate a state of active cell cycling?<|Answer|>Yes. The [transit amplifying cell gene expression] list features markers like “MKI67,” “TOP2A,” and “BIRC5,” which are well-known regulators of proliferation and mitosis. Their concurrent expression strongly supports that these transit amplifying cells are actively cycling to supply new epithelial cells.<|Keyword|>yes, MKI67, TOP2A, BIRC5\n",
    "\n",
    "<|Context|>Corneal endothelial cells form a single layer that maintains fluid balance within the cornea to preserve transparency.<|Question|>Which genes in [corneal endothelial cell gene expression] might regulate corneal fluid balance?<|Answer|>Genes such as “SLC4A4” and “SLC4A11” from [corneal endothelial cell gene expression] suggest involvement in bicarbonate transport and fluid regulation. Additionally, “CA12” could assist in maintaining ionic gradients for fluid homeostasis. Together, these genes support endothelial function in corneal hydration control.<|Keyword|>SLC4A4, SLC4A11, CA12\n",
    "\n",
    "<|Context|>Basal cells in the corneal epithelium continually transition into wing and superficial cells, maintaining a healthy epithelial surface.<|Question|>Which expressed genes in [basal cell gene expression] hint at basal epithelial adhesion to the basement membrane?<|Answer|>The [basal cell gene expression] list includes “LAMA3,” “ITGA6,” and “COL17A1,” which facilitate interactions with the basement membrane. Their combined presence likely reinforces stable adhesion of basal epithelial cells to underlying corneal structures, underscoring this cell type’s role in epithelial anchoring.<|Keyword|>LAMA3, ITGA6, COL17A1\n",
    "\n",
    "<|Context|>Leukocytes in the cornea can indicate immune surveillance or inflammation.<|Question|>Which immune-related genes from [leukocyte] cell gene expression suggest inflammatory responses in the cornea?<|Answer|>The [leukocyte] cell gene expression profile shows “PTPRC,” “FYN,” and “IKZF1,” which are known immune regulators. “PTPRC” (CD45) is expressed widely by leukocytes, “FYN” is involved in T-cell signaling, and “IKZF1” influences lymphocyte development. Their presence signals active immune or surveillance roles.<|Keyword|>PTPRC, FYN, IKZF1\n",
    "\n",
    "<|Context|>Corneal fibroblasts (stromal keratocytes) can undergo changes in response to injury and contribute to fibrotic processes.<|Question|>Which genes in [fibroblast] cell gene expression could drive scar formation in corneal wound healing?<|Answer|>“COL6A2,” “COL12A1,” and “TGFBI” from [fibroblast] cell gene expression are key fibrotic markers. Elevated collagen transcripts (“COL6A2,” “COL12A1”) imply an increased extracellular matrix deposition, while “TGFBI” can mediate fibrotic pathways. Altogether, these genes suggest a fibrotic remodeling response.<|Keyword|>COL6A2, COL12A1, TGFBI\n",
    "\n",
    "<|Context|>Transit amplifying cells differentiate toward mature epithelial phenotypes and keep the tissue surface robust.<|Question|>How does [transit amplifying cell gene expression] underscore their transitional state between basal and terminally differentiated corneal cells?<|Answer|>The coexpression of proliferation markers (e.g., “MKI67”) with early differentiation genes like “KRT5” in [transit amplifying cell gene expression] indicates these cells are actively dividing yet beginning to acquire corneal-specific structural proteins. This aligns with a transitional, rapidly dividing phenotype.<|Keyword|>MKI67, KRT5\n",
    "\n",
    "<|Context|>The corneal endothelium is integral to preventing corneal edema by regulating ion pumps.<|Question|>Which [corneal endothelial cell gene expression] features suggest an active fluid pump mechanism for corneal deturgescence?<|Answer|>Genes such as “ATP1A2” and “SLC4A4” found in [corneal endothelial cell gene expression] are central to ion transport. “ATP1A2” drives active ion exchange, and “SLC4A4” regulates bicarbonate flux. Together, they likely maintain the fluid pump mechanism critical for preventing excessive fluid accumulation.<|Keyword|>ATP1A2, SLC4A4\n",
    "\n",
    "<|Context|>Corneal epithelial basal cells anchor tightly to the basement membrane for continual renewal.<|Question|>Which transcripts from [basal cell gene expression] might be essential for epithelial integrity and renewal?<|Answer|>“KRT14” and “PAX6” in [basal cell gene expression] are major players. “KRT14” helps form the cytoskeletal framework in basal epithelial layers, while “PAX6” is crucial for ocular epithelial development and regeneration. Their high expression supports structural integrity and ongoing renewal.<|Keyword|>KRT14, PAX6\n",
    "\n",
    "<|Context|>Leukocytes in the cornea can reflect disease states such as infection or autoimmunity.<|Question|>From [leukocyte] cell gene expression, do you see indications of T-cell or B-cell lineage involvement?<|Answer|>Yes. “IKZF1” and “CD69” in [leukocyte] cell gene expression are suggestive of T-cell activity, as IKZF1 is involved in lymphocyte differentiation, and CD69 is an early activation marker. This pattern supports T-cell involvement in immune responses within the cornea.<|Keyword|>yes, IKZF1, CD69\n",
    "\n",
    "<|Context|>Corneal fibroblasts synthesize collagen to maintain corneal strength and transparency.<|Question|>Which [fibroblast] cell gene expression markers might relate to collagen fibril organization supporting corneal transparency?<|Answer|>“COL5A2” and “COL1A2” in [fibroblast] cell gene expression coordinate fibril diameter and spacing. “COL5A2” helps initiate fibril assembly, while “COL1A2” contributes to structural tensile strength. Their combined expression suggests a role in proper collagen architecture for clarity.<|Keyword|>COL5A2, COL1A2\n",
    "\n",
    "<|Context|>Transit amplifying cells are a rapidly dividing subset in corneal epithelium, replacing worn-out surface cells.<|Question|>What genes in [transit amplifying cell gene expression] imply rapid cell turnover supporting epithelial surface upkeep?<|Answer|>Markers “BIRC5” and “UBE2C” from [transit amplifying cell gene expression] are associated with cell cycle progression and survival. Their high expression underscores sustained proliferative renewal, ensuring the corneal surface remains replenished and functional.<|Keyword|>BIRC5, UBE2C\n",
    "\n",
    "<|Context|>Corneal endothelial cell dysfunction can lead to diseases such as Fuchs’ endothelial dystrophy.<|Question|>Which genes from [corneal endothelial cell gene expression] might be connected to corneal endothelial dystrophy risk?<|Answer|>“COL8A1” and “COL4A3” in [corneal endothelial cell gene expression] have been linked to endothelial dystrophies. “COL8A1,” for instance, may be involved in Descemet’s membrane structure. Alterations here could predispose cells to degenerative conditions like Fuchs’ dystrophy, impacting endothelial function.<|Keyword|>COL8A1, COL4A3\n",
    "\n",
    "<|Context|>Basal epithelial cells of the cornea transition into specialized superficial layers that form a protective barrier.<|Question|>Which transcription factors in [basal cell gene expression] might regulate early steps of epithelial cell differentiation?<|Answer|>“PAX6” and “TFAP2B” from [basal cell gene expression] can govern the early differentiation of corneal epithelial cells. “PAX6” is an overarching eye-specific regulator, while “TFAP2B” modulates key epithelial programs, guiding basal cells toward their specialized surface identity.<|Keyword|>PAX6, TFAP2B\n",
    "\n",
    "<|Context|>Leukocytes can help monitor and modulate corneal immune privilege.<|Question|>What elements in [leukocyte] cell gene expression suggest a regulatory role rather than a strictly proinflammatory function?<|Answer|>The presence of “SAT1” and “RASA2” in [leukocyte] cell gene expression indicates possible immunomodulatory actions. “SAT1” has roles in polyamine metabolism affecting immune responses; “RASA2” helps regulate Ras signaling. These findings suggest leukocytes here may balance vigilance with immune tolerance.<|Keyword|>SAT1, RASA2\n",
    "\n",
    "<|Context|>Fibroblasts in the cornea can respond to external signals for matrix remodeling.<|Question|>Which signals in [fibroblast] cell gene expression are linked to remodeling and matrix turnover?<|Answer|>“MMP” family members are notably absent in the snippet, but “PITPNC1,” “DCN,” and “FRMD4A” appear in [fibroblast] cell gene expression. “DCN” modulates collagen fibril assembly, while “PITPNC1” may regulate phosphoinositide signaling. Together, they hint at dynamic matrix turnover and remodeling.<|Keyword|>PITPNC1, DCN, FRMD4A\n",
    "\n",
    "<|Context|>Transit amplifying cells must maintain a balance between proliferation and commitment to terminal differentiation.<|Question|>Which genes in [transit amplifying cell gene expression] signal a shift toward differentiation rather than continued proliferation?<|Answer|>While many are proliferative, the detection of “KRT12” in [transit amplifying cell gene expression] indicates these cells also initiate cornea-specific differentiation. So, even with high proliferation markers, some cells begin expressing corneal-epithelium–specific genes, suggesting progression toward maturity.<|Keyword|>KRT12\n",
    "\n",
    "<|Context|>The corneal endothelium is vital to nutrient exchange for the avascular cornea.<|Question|>From [corneal endothelial cell gene expression], which transporters are likely key to nutrient supply in the cornea?<|Answer|>“SLC4A4” and “GLS” appear in [corneal endothelial cell gene expression]. “SLC4A4” helps with bicarbonate transport crucial for pH balance, while “GLS” could aid in glutamine metabolism. These genes suggest an active role in nutrient and metabolite supply to corneal tissues.<|Keyword|>SLC4A4, GLS\n",
    "\n",
    "<|Context|>Basal corneal epithelial cells are crucial for maintaining a functional barrier against pathogens.<|Question|>Which [basal cell gene expression] factors may support barrier integrity to resist microbial invasion?<|Answer|>“KRT14” ensures a robust cytoskeletal network, and “LAMA3” helps attach cells to basement membranes. Both in [basal cell gene expression] reinforce epithelial tightness, reducing gaps for pathogens. This structural cohesion strengthens the corneal epithelial barrier against microbial challenges.<|Keyword|>KRT14, LAMA3\n",
    "\n",
    "<|Context|>Leukocytes in the cornea might be recruited in conditions like microbial keratitis or autoimmune disease.<|Question|>Do [leukocyte] cell gene expression profiles hint at potential chemotactic behavior in corneal inflammation?<|Answer|>Yes. Genes like “CCND3” and “DOCK8” in [leukocyte] cell gene expression can be associated with cell migration and proliferation. “DOCK8” influences cytoskeletal rearrangement, promoting movement toward chemokines. This indicates leukocytes might actively migrate into inflamed or infected corneas.<|Keyword|>yes, CCND3, DOCK8\n",
    "\n",
    "\n",
    "\"\"\""
   ]
  },
  {
   "cell_type": "markdown",
   "metadata": {},
   "source": [
    "run the following cell to convert the output into a hf dataset"
   ]
  },
  {
   "cell_type": "code",
   "execution_count": 143,
   "metadata": {},
   "outputs": [
    {
     "name": "stdout",
     "output_type": "stream",
     "text": [
      "Error in the following QA pair:\n",
      "\n",
      "\n",
      "Example:\n"
     ]
    },
    {
     "data": {
      "text/plain": [
       "{'Context': 'These cells contribute to the stromal structure in the cornea, helping maintain its clarity and tensile strength. They are associated with matrix production and remodeling.',\n",
       " 'Summary_Dataset': 'Cell Type: fibroblast, Tissue: cornea, Gene Expression: MALAT1 NEAT1 PDE4D ITGBL1 RORA ALDH3A1 COL5A2 ZBTB20 FTX AKAP13 DCN COL12A1 CEMIP CH507-528H12 MSI2 ZFHX3 NEBL COL6A3 DOCK5 WWOX SNX29 IMMP2L PTPRM SASH1 ABCA6 DLG2 WSB1 COL4A3 TCF12 UTRN RERE PLXDC2 RIPOR2 LSAMP AUTS2 TMTC1 SVIL ITSN1 PTPRG BICC1 FKBP5 MACF1 SIPA1L1 C1ORF21 ELF2 SPOCK1 DDX17 AC003090 REV3L AOPEP COLEC12 COL1A2 ABI3BP USP34 TTC28 COL6A2 CACNA2D3 FNDC3B BIRC6 FRMD4A PITPNC1 ASPH NFIA MME MKLN1 PSD3 SH3D19 TNRC6A MYCBP2 TFAP2B ENO1 C20ORF194 ITGB4 TNRC6B COL6A1 MIR99AHG CFH CHD9 MYO1D MAP4K3 AKT3 EFNA5 CNTN3 ZBTB16 EIF4G3 ARID1B PTK2 CARMIL1 MAMDC2 PLPP3 COG5 TPCN1 CDON PNISR COL4A4 PDGFD SLC20A1 DLG1 FNDC3A AFF3 BCAS3 STAG1 TGFBI GLUL LUC7L3 PLCB4 STXBP5 GPHN PIAS1 AKAP9 SRSF11 PTPN13 SBF2 APBB2 MAGI2 INPP4B IGF1R PDLIM5 PRKN ZEB1 SSH2 MBNL1 ZFHX4 PEAK1 SIK3 JMJD1C PARD3 DYNC2H1 COL8A1 USP53 MACROD2 NAV1 NKTR AFF1 N4BP2L2 TSC22D3 KMT2C ADAMTS9-AS2 MTUS1 ENPP1 UBE2E2 TCF4 SYNE1 PPFIBP1 FBXL7 WDFY3 LPP MED13L CALD1 LRP4 KIF13A PRRX1 USP32 DOCK9 FBXL17 ZNF638 MLLT10 EXOC6B PAM CACHD1 RIC1 HERC4 KMT2E DOCK1 ANGPTL7 ZBTB7C HNRNPH1 RBFOX2 TBC1D5 ADARB1 GOLGA4 DENND4C FHIT KLHL29 PUM1 CTDSPL MARK3 LHFPL6 SPIDR WDFY2 AFDN ASH1L MBD5 ETV6 MEF2A PELI2 PLEKHA5 GLS ESYT2 NCOR1 FAM126A SLMAP ERG DPYD NF1 SUGCT PARD3B ERCC6 KRT12 ZFAND3 MIR100HG TCF7L2 DDX5 RP11-6N13 FNBP1 CUX1 FAF1 PID1 AHI1 CCDC102B RBM6 ARID4B SETBP1 MON2 BAZ2B NIPBL NAALADL2 RBM39 CPAMD8 SETD5 KDM2A UBR3 UBR2 CRIM1 JAK1 ZNF292 ADAM33 ARHGAP26 CYTH3 NPEPPS PAFAH1B1 ANKRD17 MIR205HG PLSCR4 UBE2K TCF25 NCOA1 TWIST2 PPP6R3 MAPK10 VPS13B ATXN2 ASAP1 ITGA6 GXYLT2 KANSL1 ADK RABGAP1L ANKRD11 ITFG1 DKK2 COLGALT2 XRN1 TEAD1 CD99 STK35 SRPK2 SEPTIN11 GRK5 ARHGEF3 SSBP2 HERC1 ABCA5 CDC42BPA MAGI1 VPS13D UBR5 KAZN NFE2L2 SLIT2 TBL1XR1 ZMYM2 MAP4 BCL2L13 ACSL3 LGALS3 PCSK5 EXOC4 EHBP1 ERC1 WAC NFIC ZCCHC7 COP1 ARGLU1 PAN3 LINC01473 SRRM2 NR3C2 ARHGAP12 TANC1 DENND6A FER L3MBTL4 DIP2B BABAM2 SEC31A RAB1A ERBIN PER3 TACC1 LRBA MYO9A ITCH DST NCOA3 GLG1 TTC17 UBE2H YAP1 FNBP4 PCNX1 TUT4 UTY SRSF5 BPTF TBC1D22A SENP6 NTRK3 SPAG9 DCDC1 SHOX PATJ HTRA1 BRWD1 USP47 TNKS PDZRN3 CDKAL1 BCL6 CEP126 TMEM165 KDR LMX1B CAST CNOT2 NFAT5 PACS1 ATRX LINC01278 SMCHD1 SMYD3 AFF4 PSME4 RHOBTB3 ADD3 SEMA5A\\nCell Type: corneal endothelial cell, Tissue: cornea, Gene Expression: MALAT1 RORA COL4A3 POU6F2 NEAT1 NRXN3 COL8A1 PTPRM MSI2 COL4A4 AKAP13 SLC4A4 TJP1 CA12 SLC4A11 ENO1 FTX ZBTB20 WWOX TCF4 PCDH7 GLIS3 CH507-528H12 KAZN TNRC6A HIF1A-AS3 DLG2 MICAL2 ZFHX3 NEBL MACF1 ESRRG RERE MAGI3 LAMB1 KIAA1217 GRIP1 PLXDC2 PRKG1 GLS WSB1 MAGI2 PTGDS ELF2 IMMP2L MARCHF3 MED12L ALCAM IGF1R COL4A5 ERG AUTS2 FAM155A DLG1 FGF10 APP AOPEP DDX17 APBB2 COL5A2 BIRC6 MAP4K3 NTN1 PIP5K1B ZDHHC14 LINC01435 SUCO RERG FHIT PRUNE2 GLIS1 KIF26B CDON SLC20A2 CCDC144CP TGFBR3 RIPOR2 USP34 FKBP5 DCC MIR99AHG SCAI SLC20A1 SNX25 INPP4B TNRC6B PLCE1 AKT3 DANT2 PFKP PATJ NAV1 CRIM1 NECAB1 SH3D19 MYCBP2 DIP2B TFAP2B EFNA5 RHOBTB3 SIK3 LRBA SBF2 TCF12 NKTR NCAM1 N4BP2L2 MICAL3 ZFHX4 RUNX1T1 PDE4D MKLN1 ARID1B WNT5B PSD3 VPS41 GMDS MIR100HG PPFIBP1 MACROD2 PACS1 TANC1 KHDRBS2 ADAM12 TBC1D5 LUC7L3 COL12A1 PLCB4 MBD5 PLCH1 PAPPA SPIDR ZNF292 PNISR CALD1 KMT2C DNM2 FAM13A CDK14 SORL1 SCD MAPK10 LRRFIP1 FRY PDZRN3 TENM4 EIF4G3 ALDH7A1 CEMIP2 PTK2 MAGI1 STK32B NUP58 EPB41L2 PPARGC1B UBR2 DOCK5 PIAS2 SORCS3 DST TTN ERRFI1 CADM1 ABCA5 P4HA1 BCAS3 PARD3 CDC42BPA REV3L DENND5B FRMD4B RP11-541P9 ARHGEF3 CHD9 LINC01473 COL4A6 DNAJC1 LMX1B LINC00894 ANKH SRSF11 ZNF638 MLLT10 PTPN13 HERC1 NCOA1 PITX2 DAPK1 CDH2 PDLIM5 FBXL17 SNHG14 SETD5 ANKRD17 STXBP5 RGS7BP BNC2 C1ORF21 FGFR2 ABLIM1 SVEP1 ATXN1 NIN PHACTR2 NF1 PUM1 PRKN ANKRD36 CPEB3 BAZ2B PBX1 ENPP1 GLI3 RIN2 LDLRAD4 PPP6R3 CFH LPP AHI1 ADD3 LINC01278 AGO3 FBXL7 PDGFRB HNRNPH1 LRIG1 HELZ KDM4C COL1A2 PER3 DNAJC6 MED13L EGLN3 VPS13D UBE2H ABI3BP PKP4 COG5 TMTC1 ITGBL1 FNDC3B GARRE1 HPS5 ETV6 SETD3 SULF2 GPHN ACER3 FCHSD2 STK35 STAG1 ASPH NBEA CDH23 AKAP9 NFIA WDFY3 ITGB5 FAM160A1 TIMP3 SORBS2 SMYD3 GRIN2B BRWD1 ASAP1 VEGFA ERBIN NIPBL NPEPPS LCNL1 GXYLT2 ZFAND3 C20ORF194 TCF7L2 NHSL1 STOX2 ITPR1 GNA14 AC064875 RAB11FIP2 WWC2 EMX2 SGK1 MYOC GAPDH TTC28 UBR5 ARID4B SLC2A1 UACA DOCK9 ZMYM4 SLC23A2 KMT2E BCL2L13 ZBTB7C OGA ARHGAP26 AHCYL1 PKM AGAP1 GOLGA4 TUT4 JMJD1C CACNA1A LSM14A SLC22A23 PFKFB4 FAF1 DLGAP1 HERC2 UBR3 FAM126A SYNJ1 PLK5 DOCK1 KDM2A BTBD9 SIK2 SYNE2 EXOC4 NR3C2 ZMYM2 SIPA1L1 PITPNC1 PKHD1 CPAMD8 SENP6 UVRAG PTPRK MLLT3 EMX2OS KANSL1 CLASP1 ITFG1 PAN3 USP32 HERC4 RABGAP1L NCOR1 PHLPP1 ARID5B ZNF532 ASH1L EXOC6B ATXN2 CTDSPL SREBF2 SUPT3H\\nCell Type: transit amplifying cell, Tissue: cornea, Gene Expression: MALAT1 NEAT1 MIR205HG KC6 DCDC1 CNTN4 RORA WWOX KAZN MACF1 TGFBI PARD3 SUCO DST KIF13A PLXDC2 PCSK5 RERE ALDH3A1 KRT12 MSI2 EXOC6B FHOD3 ARHGEF3 EGFR ARHGEF28 IMMP2L ST6GALNAC3 CH507-528H12 SYNE2 FTX FAF1 ASPH LYPD6B CRYBG1 GPM6A KRT5 BNC2 MACROD2 TIAM1 CPAMD8 KIAA1217 GPHN SNX29 RASAL2 CACNA1D ARHGEF4 COL17A1 TP63 FHIT FOXP2 FGD4 SMAD3 NQO1 HMGN3 YAP1 PTK2 ADK SAT1 NCKAP5 ZBTB20 PAX6 LRBA NKAIN2 ARID1B MYCBP2 RASSF6 CDH13 NXN SLC22A23 SH3PXD2A UTRN FAM169A PHIP CENPP RAD51B MYOF PHACTR1 MYO1E DOCK1 FRYL PID1 TKT FTH1 IVNS1ABP SYNE1 TMEM117 ZFAND3 RABGAP1L SLC38A2 SPIDR NRG1 GLS KMT2C PTPN13 RAPGEF5 SLCO3A1 STAG1 TBL1XR1 CUX1 PDE4D EXOC4 TRERF1 TCF12 ANO4 USP34 MOXD1 ENO1 AKAP9 EFNA5 NF1 BIRC6 SSBP2 CRTAC1 TBC1D5 PATJ VAV3 DLG1 HNRNPH1 FBXL17 FRMD4A NHSL1 TENM4 ELF2 SH3D19 EIF4G3 IGF1R COBLL1 EPB41L4A PITPNC1 CLU SRPK2 PTPRD KCNMA1 RAPH1 DLGAP2 ANKRD17 PSME4 DLG2 ERBIN ARHGAP12 SAMD12 FER NLK JMJD1C DGKH FNDC3B BCL2L13 SSH2 ITCH FOXN3 PTPN14 TENM2 CPXM2 GRIN2A TRIM36 FRMD6 CMIP MBD5 UACA MIR924HG SASH1 AGAP1 CTSV AGL SRGAP3 MARK3 OSBPL10 MED13L MLLT10 CACNA2D3 APP ANKRD11 GMDS DIP2B S100A6 MRTFA LPP NIPBL DOCK5 ELP4 VPS13D FAM83A TMPRSS4 CDKAL1 AFDN TCF7L2 SIPA1L1 N4BP2L2 IBTK CTDSPL DDX5 SH3RF1 UBR5 WDFY3 FA2H CERS6 TANC1 CELF2 ZNF83 TNRC6B TUT4 TBC1D22A TANC2 AOPEP WAC LAMB1 ATXN1 DGKB ITGA2 GNAQ MAGI1 LUC7L3 PERP DSP L3MBTL4 CHD9 CTBP2 PPP6R3 SMCHD1 HERC4 ZMYM2 EXT1 KDM4C CADM1 DOCK9 SYT8 NFIA ERC1 SLMAP WNK1 BCAS3 ZNF638 PER3 COP1 RBM6 ARL15 WSB1 FAT1 IL18 AKAP13 ANKRD28 ETV6 COL4A5 MAPK10 LINC01473 MCC CTNNA1 TAOK3 PARD3B ACAP2 PUM2 MEF2A UTY BRIP1 NKTR RBFOX2 KANSL1 KDM2A LGR4 SOX6 TMEM131L NCKAP1 DENND4A PAN3 FRMD4B GSK3B CRIM1 TNRC6A DIAPH2 MAST4 OXR1 RBM39 ATAD2 ANXA1 HNRNPA2B1 ARFGEF1 CAST NCOA2 SLK KIF21A BOC GSN SBF2 PTBP3 FMN1 CARMIL1 DDX17 ACTN4 PRKDC ANXA2 TRPM3 PPP4R1 KTN1 MYO6 VPS13A UBR2 MAT2A EZR DYM TXNRD1 TRAPPC9 UBE2E2 MEIS1 MGAT5 GPC6 DIAPH3 ZCCHC7 UBE2H GRHL2 MAP2K4 SIPA1L3 AHI1 SETD5 HNRNPDL EMP1 STRN3 FAM172A UBE2Q2 SRSF11 PUM1 CLDN1 VPS13B PKP4 VWA8 PLCB1 MAP4K5 VGLL4 MAP4 ACACA RPS6KA3 GALNT18 EHBP1 PNISR ITGA6 ZNF326 PPFIBP1 ZNF609 NFAT5 PRIM2 DENND4C LINC00486_ENSG00000230876 CLASP1 CXCL14 NT5C2 SMYD3 TTC17 BAZ2B RIN2 ITFG1\\nCell Type: corneal epithelial cell, Tissue: cornea, Gene Expression: MALAT1 NEAT1 KAZN PLXDC2 WWOX PARD3 DCDC1 CNTN4 RORA CH507-528H12 PCSK5 MACF1 KRT12 KC6 EXOC6B ASPH PTPN13 FOXP2 GPHN ARHGEF3 KIF13A CPAMD8 WNK2 FTX SLCO3A1 ARHGEF4 CRYBG1 FOXN3 TGFBI RERE NEBL CACNA1D MIR205HG ARHGEF28 PAX6 MSI2 MYH14 ZBTB20 AFDN MACROD2 FHIT FA2H MYCBP2 MYO6 RASAL2 PDE4D B4GALT5 CUX1 PERP YAP1 IMMP2L ERBIN LRBA AKAP13 IKZF2 ELF3 DSP SUCO ADK ZFAND3 PATJ TMPRSS4 KRT5 KIAA1217 EZR EIF4G3 BNC2 KRT3 PID1 KMT2C USP34 UBE2E2 GLS BIRC6 DOCK1 TMEM117 SAMD12 RABGAP1L FAF1 KDM2A TIAM1 SYNE2 MAPK10 SASH1 ARID1B SH3RF1 AKAP9 SMAD3 IGF1R KLF5 DIAPH2 SAT1 XACT MAST4 TANC1 NT5C2 FGD4 EGFR FBXL17 L3MBTL4 EFNA5 PPP4R1 VPS13D SLC20A1 EMP1 CAST MARK3 SRPK2 SCEL LGALS3 N4BP2L2 SH3D19 BCAS3 ST6GALNAC3 DLG1 RIOK3 XDH TOM1L2 TBC1D5 MED13L PSME4 TAOK3 ELF2 SH3PXD2A ATAD2B TRIM36 SNX29 DOCK3 PTK2 NHSL1 ETV6 ZNF83 MBD5 COBLL1 TBL1XR1 EPN2 CLU ARFGEF1 FAM169A CRTAC1 JMJD1C NIPBL SYT8 PLEKHG1 EPB41L4A FAM83A OXR1 ELP4 ANKRD17 ARHGAP12 ENO1 ANXA2 EXOC4 TCF12 IBTK KIF21A ZMYM2 FHOD3 UBE2H MUC16 RAPH1 SLMAP DENND2C DIP2B SIPA1L1 LYPD6B MAL2 RAPGEF5 ITCH TMTC1 TRPM3 LIPH GMDS WDFY3 TNRC6B MAP4K5 DDX17 DDX5 HECTD1 GRHL2 NPEPPS SLC22A23 PDCD4 SBF2 MACC1 SSH2 SSBP2 DSC2 TBC1D22A NEDD4L NLK GALNT18 ERICH5 NCOA2 CTSV NCKAP5 ACACA BAZ2B VGLL4 SLK TRAPPC9 FRYL MRTFA ANKRD11 TP63 VAV3 PUM2 HERC4 KANSL1 WDFY2 FTH1 CMIP LINC01473 ADIRF RREB1 CD55 ACAP2 NF1 PRKN NQO1 UBR2 CTNNA1 PAN3 PPP6R3 TPCN1 HMGN3 CHD9 TKT DLG2 BABAM2 GSK3B MAP2K4 SPIDR TCF7L2 ZFAND6 BCL2L13 COP1 NCKAP1 ALDH3A1 KDM4C C6ORF132 IL20RA WSB1 LINC00278 UACA MAML3 HNRNPH1 MEIS1 PPL LRRFIP1 CRACDL KDM6A PTBP3 AFF1 UBR5 PLCB4 ITFG1 RBM6 KCTD8 GAREM1 TCF25 SERINC5 WDR26 ZNF638 ATXN1 CLINT1 FER MAML2 AGAP1 NXN RAD51B KAT2B FGFR3 CTBP2 SH3GL3 ASH1L VPS13B WAC FRMD6 LMO7 STAG1 MAP4 MAGI3 ARID4B DGKB MYO5B EHBP1 RNF149 MEF2A TXNRD1 S100A6 EXT1 MICAL2 MAL NEK7 MPRIP CH507-513H4 FAM135A ID1 TJP1 REPS1 BTBD9 DENND1B STRN3 MLLT10 SCD5 KCNMA1 TPD52 LGR4 PAFAH1B1 GNAQ CLASP1 LRRFIP2 WNK1 PUM1 RELL1 ZCCHC7 ABI1 BRWD1 GRIN2A DOCK9 DSG1 EPB41 POF1B MYOF RP11-492A10 RALGAPA1 ESYT2 PNISR MTSS1 CLDN1 NUAK2 SIPA1L3 ANXA11 PHACTR1 TUT4 LUC7L3 KLF3 ADAM10 MON2 PICALM RGS12 ERC1 TET2 RBM47 JARID2 TNRC6A KMT2E\\nCell Type: leukocyte, Tissue: cornea, Gene Expression: MALAT1 MBNL1 NEAT1 PARP8 FKBP5 PTPRC CELF2 ARHGAP15 ZBTB20 SSH2 ANKRD44 CH507-528H12 CHST11 CBLB UTRN DOCK8 PIP4K2A STK17B SYTL3 PICALM AKAP13 CCND3 ELMO1 DPYD THEMIS AKT3 RABGAP1L ZFAND3 TNRC6B IKZF1 PCNX1 ARHGAP26 FYN ATXN1 PDE3B BIRC6 HSP90AA1 SIPA1L1 SAT1 KMT2C DOCK10 AOAH STAG1 JMJD1C ARID1B SKAP1 RASA2 SMCHD1 PLXDC2 TBC1D22A SFMBT2 TBC1D5 MED13L LDLRAD4 PITPNC1 N4BP2L2 LRBA CDC42SE2 RPS6KA3 PRKCH FNBP1 CYRIB FYB1 SPIDR NIPBL DDX17 RAPGEF1 TCF12 MACF1 MAML2 ANKRD11 KANSL1 MGAT5 KMT2E FTX PDE7A EML4 SMAP2 PAN3 PPP2R5C CCDC91 USP34 APBB1IP AAK1 SP100 CLEC2D CASK SIK3 B2M STK4 H2AC6 STAT4 RERE HERC1 ETV6 SMYD3 WWOX CYTIP NIBAN1 IQGAP2 CMIP DOCK2 VPS13C LINC01934 ZNF609 TBL1XR1 MEF2A RORA MYCBP2 KLF12 WAC PACS1 RCSD1 EPS15 RBMS1 RUNX1 ITPR2 VPS13B H3-3B PTPRJ FAM172A MKLN1 PLCB1 PCNX2 FOXN3 RICTOR CAMK1D RAP1B UBAC2 GLS SLC4A7 DLEU2 INPP5D ARID4B PPP3CA NKTR USP53 TAOK3 HNRNPH1 MGAT4A TRAPPC9 COP1 ATM SLC38A1 RAP1A VMP1 PPP1R12A CD96 LUC7L3 LINC01619 HERC4 JAK1 ELF1 ITGA4 RBM39 TTC39C RNF213 CDKAL1 RUNX3 HNRNPA2B1 SAMSN1 DENND4A FBXL17 NCOA2 MVB12B AKAP9 EIF4G3 WNK1 SLC2A3 DOCK4 EXOC4 ASH1L HIF1A KDM4C PREX1 DIAPH2 PHC3 MBP TC2N CYTH1 FAF1 PIAS1 AFF1 KDM6A NCOR1 LPP PDCD4 HSPA1A PRKCB ARL15 FLI1 ZNF292 BRWD1 WIPF1 MBD5 SUCLG2 ST6GAL1 ERBIN ABR DENND1B TGFBR2 FCHSD2 PPP6R3 RAP1GDS1 SH3KBP1 ATF7IP ZMYM2 USP15 MSI2 USP3 TTC17 RNF149 PUM2 RBM6 NR3C1 INPP4B XIST IMMP2L MSN SMURF2 FTH1 CAMK4 SENP6 BPTF BCAS3 XYLT1 CEP85L KDM2A OGA OSBPL8 SORL1 ROCK1 BBX JAML DYRK1A SRGN MYO9B PAG1 PRKCA ZC3HAV1 CNOT6L MARK3 SBF2 EPC1 FRMD4A QKI KAT6A DDX5 PCED1B CUX1 DLG1 ITGAE MAP3K5 IL7R ZCCHC7 GNAQ ADK ZNF638 ITFG1 ATRX USP25 ARID2 FRYL SOS1 DYM STIM1 PHIP BCL11B PCM1 BCL2 CFLAR GTDC1 NCOA1 ID2 PNISR CD247 TOX BTG1 ARHGEF3 PAM ZSWIM6 NCOA3 TXNIP CD226 CLASP1 SARAF SRPK2 ETS1 SRSF11 STAG2 SSBP2 UBR2 TUT4 VTI1A GSK3B P4HA1 CD69 ITGA1 LRMDA ACAP2 CHD9 RUNX2 LRRFIP1 CELF1 ATP8A1 STK17A RSRP1 ZFP36L1 RBPJ ATP11B OGT CAMK2D EPB41 WSB1 ANKRD17 CARD11 EVL BTBD9 SNX29 LINC01138 NABP1 DISC1 AKNA XKR6 UBR5 UBE2K MLLT10 TRIP12 SYNE2 SCAF11 ATG7 BABAM2 CLASP2 INPP4A CRYBG1 CD74 SLC8A1 SETD2 RALGAPA1 VWA8 ARAP2 MAN1A1 SND1 PLCL2 PDS5A PRRC2C\\nCell Type: basal cell, Tissue: cornea, Gene Expression: MALAT1 NEAT1 MIR205HG DCDC1 KAZN KC6 CNTN4 RORA MACF1 WWOX TGFBI PLXDC2 DST KRT12 ALDH3A1 SUCO KIF13A PARD3 RERE PCSK5 EXOC6B MSI2 FTX ARHGEF28 ASPH ARHGEF3 KRT5 IMMP2L CPAMD8 FHOD3 CH507-528H12 COL17A1 EGFR NQO1 FHIT FTH1 GPM6A KIAA1217 SAT1 HMGN3 ARHGEF4 NKAIN2 CRYBG1 YAP1 PTK2 TP63 ZBTB20 CACNA1D LYPD6B ST6GALNAC3 PID1 NRG1 FOXP2 SH3PXD2A RASAL2 ADK FGD4 TIAM1 SNX29 BNC2 GLS NCKAP5 MYO1E SLC22A23 RASSF6 IVNS1ABP GPHN CLU NXN CDH13 SMAD3 ANO4 ZFAND3 SYNE2 FAF1 ARHGAP12 MYCBP2 KCNMA1 MYOF RAPGEF5 MACROD2 TMEM117 TKT SLC38A2 ENO1 PTPN13 LRBA ARID1B CUX1 PATJ PAX6 USP34 SH3D19 CRTAC1 DOCK1 AGL TENM4 EIF4G3 VAV3 CTSV GRIN2A PHACTR1 NHSL1 BIRC6 KMT2C SRPK2 FA2H NF1 TRERF1 GMDS FER EXOC4 DLGAP2 PTPN14 S100A6 FRYL AKAP9 PDE4D ITCH IGF1R DIP2B FAM169A PITPNC1 NLK DLG1 PSME4 SLCO3A1 MOXD1 DGKB AOPEP FRMD4A DLG2 RAPH1 BCL2L13 MARK3 EPB41L4A MRTFA DOCK5 MED13L TENM2 CMIP TCF12 ANKRD17 TBL1XR1 N4BP2L2 SYNE1 MBD5 HNRNPH1 FBXL17 TBC1D5 ATXN1 COL4A5 CPXM2 FNDC3B APP SAMD12 OSBPL10 ERBIN FRMD6 FAM83A DSP ZNF83 MAT2A UACA SASH1 RABGAP1L ARL15 JMJD1C UBE2E2 VPS13D CACNA2D3 AFDN SH3RF1 PERP EMP1 COBLL1 SSBP2 HERC4 BCAS3 ANKRD11 EFNA5 CTDSPL TNRC6B PTPRD ELF2 SLMAP WDFY3 STAG1 LINC01473 TMPRSS4 LPP LAMA3 IBTK MEF2A CLDN1 ZMYM2 IL18 TRIM36 DDX5 MCC CRIM1 DGKH FAT1 KDM4C GSK3B UTRN SOX6 ZNF326 MAPK10 TBC1D22A AGAP1 CTBP2 NIPBL FRMD4B FOXN3 TCF7L2 TXNRD1 ETV6 ARFGEF1 ITGA6 EZR AKAP13 L3MBTL4 TAOK3 SSH2 KDM2A SPOCK1 CADM1 TANC2 ITGA2 DENND4A SYT8 CHD9 CTNNA1 CELF2 SBF2 GNAQ MAP4 MLLT10 KANSL1 WSB1 TUT4 MAGI1 EHBP1 MEIS1 LUC7L3 VGLL4 CAST UBE2H PUM2 DOCK9 BAZ2B ACTN4 SLK LAMB1 MYO6 CBLB PLEKHG1 WAC GJB6 SPIDR ANXA2 WNK1 CXCL14 SIPA1L1 PRKN ANXA1 RBM39 RBM6 EXT1 TANC1 MAP2K4 PAN3 NFAT5 RAD51B ELP4 UBR5 FILIP1L PPP6R3 ZNF638 TNS4 DDX17 ATAD2B KTN1 SRGAP3 PPFIBP1 KIF21A PHIP ERC1 MKLN1 XACT COP1 SIPA1L3 TNRC6A UBR2 NPEPPS EPB41L4B MGAT5 TOM1L2 MAML3 GRHL2 CAMSAP2 NCOA3 NCKAP1 LINC00486_ENSG00000230876 CLASP1 VWA8 VPS13B DAAM1 ZBTB7C KDM6A UTY HELZ CERS6 LGR4 GSN MAST4 FMN1\\n',\n",
       " 'Question': 'Are the [fibroblast] cell gene expression profiles suggestive of extracellular matrix organization in the corneal stroma?',\n",
       " 'Answer': 'Yes. The [fibroblast] cell gene expression includes “COL5A2,” “COL6A3,” and “COL4A3,” which encode various collagen components supporting stromal structure. Also, “ITGBL1” and “DCN” are known to modulate cell–matrix interactions. Together, these gene signals indicate that fibroblasts likely contribute actively to corneal extracellular matrix assembly and homeostasis.',\n",
       " 'Keyword': 'yes, COL5A2, COL6A3, COL4A3, ITGBL1, DCN',\n",
       " 'full_QA_pair': '<|Question|>These cells contribute to the stromal structure in the cornea, helping maintain its clarity and tensile strength. They are associated with matrix production and remodeling.<|Question|>Are the [fibroblast] cell gene expression profiles suggestive of extracellular matrix organization in the corneal stroma?<|Answer|>Yes. The [fibroblast] cell gene expression includes “COL5A2,” “COL6A3,” and “COL4A3,” which encode various collagen components supporting stromal structure. Also, “ITGBL1” and “DCN” are known to modulate cell–matrix interactions. Together, these gene signals indicate that fibroblasts likely contribute actively to corneal extracellular matrix assembly and homeostasis.<|Keyword|>yes, COL5A2, COL6A3, COL4A3, ITGBL1, DCN',\n",
       " 'Dataset_Name': 'Central Cornea',\n",
       " 'Publication_URL': 'https://cellxgene.cziscience.com/collections/63d03351-06be-478e-a0db-f7a653b6b19b',\n",
       " 'Dataset_Index': '250',\n",
       " 'Used_Rows': [3, 1, 5, 2, 4, 0]}"
      ]
     },
     "execution_count": 143,
     "metadata": {},
     "output_type": "execute_result"
    }
   ],
   "source": [
    "qa_dict_list = []\n",
    "for QA_pair in output.split(\"<|Context|>\"):\n",
    "    if not QA_pair:\n",
    "        continue\n",
    "    try:\n",
    "        context = QA_pair.split(\"<|Question|>\")[0].strip()\n",
    "        question = QA_pair.split(\"<|Question|>\")[1].split(\"<|Chain of Thoughts|>\")[0].strip()\n",
    "        chain_of_thoughts = QA_pair.split(\"<|Chain of Thoughts|>\")[1].split(\"<|Answer|>\")[0].strip()\n",
    "        answer = QA_pair.split(\"<|Answer|>\")[1].split(\"<|Keyword|>\")[0].strip()\n",
    "        label = QA_pair.split(\"<|Keyword|>\")[1].strip()\n",
    "    except:\n",
    "        print(\"Error in the following QA pair:\")\n",
    "        print(QA_pair)\n",
    "        continue\n",
    "\n",
    "    entry = {\n",
    "        \"Context\": context,\n",
    "        \"Summary_Dataset\": dataset_in_prompt,\n",
    "        \"Question\": question, \n",
    "        \"Chain of Thoughts\": chain_of_thoughts,\n",
    "        \"Answer\": answer,\n",
    "        \"Keyword\": label,\n",
    "        \"full_QA_pair\": \"<|Question|>\"+QA_pair.strip(), \n",
    "        \"Dataset_Name\": dataset_name,\n",
    "        \"Publication_URL\": cur_url,\n",
    "        \"Dataset_Index\": dataset_index,\n",
    "        \"Used_Rows\": sampled_indices,\n",
    "    }\n",
    "    qa_dict_list.append(entry)\n",
    "\n",
    "qa_dict = {key: [d[key] for d in qa_dict_list] for key in qa_dict_list[0].keys()} # list of dicts to dict of lists\n",
    "\n",
    "new_hf_dataset = Dataset.from_dict(qa_dict)\n",
    "print(\"Example:\")\n",
    "new_hf_dataset[0]"
   ]
  },
  {
   "cell_type": "markdown",
   "metadata": {},
   "source": [
    "run the following cell every time to save updates \\\n",
    "sometimes save_to_disk will fail because it doesn't automatically overwrites, just delete the old file adn run it again"
   ]
  },
  {
   "cell_type": "code",
   "execution_count": 144,
   "metadata": {},
   "outputs": [
    {
     "name": "stderr",
     "output_type": "stream",
     "text": [
      "/users/zlyu12/.conda/envs/cell2sentence-tc/lib/python3.10/site-packages/datasets/table.py:1395: FutureWarning: promote has been superseded by promote_options='default'.\n",
      "  block_group = [InMemoryTable(cls._concat_blocks(list(block_group), axis=axis))]\n",
      "/users/zlyu12/.conda/envs/cell2sentence-tc/lib/python3.10/site-packages/datasets/table.py:1421: FutureWarning: promote has been superseded by promote_options='default'.\n",
      "  table = cls._concat_blocks(blocks, axis=0)\n"
     ]
    },
    {
     "data": {
      "text/plain": [
       "Dataset({\n",
       "    features: ['Context', 'Summary_Dataset', 'Question', 'Answer', 'Keyword', 'full_QA_pair', 'Dataset_Name', 'Publication_URL', 'Dataset_Index', 'Used_Rows'],\n",
       "    num_rows: 489\n",
       "})"
      ]
     },
     "execution_count": 144,
     "metadata": {},
     "output_type": "execute_result"
    }
   ],
   "source": [
    "hf_dataset = concatenate_datasets([hf_dataset, new_hf_dataset])\n",
    "hf_dataset\n"
   ]
  },
  {
   "cell_type": "code",
   "execution_count": 145,
   "metadata": {},
   "outputs": [
    {
     "name": "stderr",
     "output_type": "stream",
     "text": [
      "Saving the dataset (1/1 shards): 100%|██████████| 489/489 [00:00<00:00, 13968.73 examples/s]"
     ]
    },
    {
     "name": "stdout",
     "output_type": "stream",
     "text": [
      "current hf_dataset: \n"
     ]
    },
    {
     "name": "stderr",
     "output_type": "stream",
     "text": [
      "\n"
     ]
    },
    {
     "data": {
      "text/plain": [
       "Dataset({\n",
       "    features: ['Context', 'Summary_Dataset', 'Question', 'Answer', 'Keyword', 'full_QA_pair', 'Dataset_Name', 'Publication_URL', 'Dataset_Index', 'Used_Rows'],\n",
       "    num_rows: 489\n",
       "})"
      ]
     },
     "execution_count": 145,
     "metadata": {},
     "output_type": "execute_result"
    }
   ],
   "source": [
    "hf_dataset.save_to_disk(hf_dataset_output_path+\"_new\")\n",
    "print(\"current hf_dataset: \")\n",
    "hf_dataset"
   ]
  }
 ],
 "metadata": {
  "kernelspec": {
   "display_name": "cell2sentence-tc",
   "language": "python",
   "name": "python3"
  },
  "language_info": {
   "codemirror_mode": {
    "name": "ipython",
    "version": 3
   },
   "file_extension": ".py",
   "mimetype": "text/x-python",
   "name": "python",
   "nbconvert_exporter": "python",
   "pygments_lexer": "ipython3",
   "version": "3.10.12"
  }
 },
 "nbformat": 4,
 "nbformat_minor": 2
}
