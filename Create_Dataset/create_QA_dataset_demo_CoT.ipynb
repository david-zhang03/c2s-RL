{
 "cells": [
  {
   "cell_type": "code",
   "execution_count": 1,
   "metadata": {},
   "outputs": [
    {
     "name": "stderr",
     "output_type": "stream",
     "text": [
      "/users/zlyu12/.conda/envs/cell2sentence-tc/lib/python3.10/site-packages/tqdm/auto.py:21: TqdmWarning: IProgress not found. Please update jupyter and ipywidgets. See https://ipywidgets.readthedocs.io/en/stable/user_install.html\n",
      "  from .autonotebook import tqdm as notebook_tqdm\n"
     ]
    }
   ],
   "source": [
    "import torch\n",
    "import numpy as np\n",
    "import json\n",
    "import os\n",
    "import re\n",
    "import pandas as pd\n",
    "import shutil\n",
    "\n",
    "from datasets import Dataset, load_from_disk, concatenate_datasets, DatasetDict\n",
    "\n",
    "seed = 42\n",
    "torch.manual_seed(seed)\n",
    "np.random.seed(seed)"
   ]
  },
  {
   "cell_type": "markdown",
   "metadata": {},
   "source": [
    "helper functions and constants"
   ]
  },
  {
   "cell_type": "code",
   "execution_count": 3,
   "metadata": {},
   "outputs": [],
   "source": [
    "def dataset_for_prompt(df):\n",
    "    # number of rows to sample\n",
    "    num_rows = min(len(df), np.random.randint(5, 25))\n",
    "    df = df.sample(num_rows)\n",
    "    #number of genes to sample\n",
    "    num_genes = 2000 // num_rows\n",
    "\n",
    "    use_d = True\n",
    "    if len(df['diseases'].unique()) == 1:\n",
    "        use_d = False\n",
    "\n",
    "    s = \"\"\n",
    "    sampled_indices = []\n",
    "    for index, row in df.iterrows():\n",
    "        cur_num_genes = min(num_genes+np.random.randint(-20, 20), 1000)\n",
    "        cell_sentence = ' '.join(row[f'gene_{i}'] for i in range(1, cur_num_genes))\n",
    "        if use_d:\n",
    "            s += f\"Cell Type: {row['cell_type']}, Tissue: {row['tissue']}, Disease: {row['diseases']}, Gene Expression: {cell_sentence}\\n\"\n",
    "        else:\n",
    "            s += f\"Cell Type: {row['cell_type']}, Tissue: {row['tissue']}, Gene Expression: {cell_sentence}\\n\"\n",
    "        sampled_indices.append(index)\n",
    "        \n",
    "    return s, sampled_indices\n",
    "\n",
    "prompt_prefix = \"\"\"This is a scientific manuscript and an example of the single-cell RNA sequencing dataset it is associated with. The example dataset contains one representative cell from each type and the corresponding cell sentence(ranked gene names by expression). You need to create question-answer pairs for Large Language Models to learn analyzing scRNA-seq datasets when given pieces of data converted into cell sentences. I would like questions and answers about the given cell sentence in terms of cells, tissues, disease, or other relevant biological information. \n",
    "The questions must be answerable by looking at the given cell sentences alone. The question-answer pairs should follow a line of reasoning mentioned in the manuscript or results arrived by the researchers. When creating questions, you should first read the given manuscript, consider what the analysis the researchers did in the manuscript and the biological context of this study. Then look at the example cell sentences(or a part of them), think about what question the researchers asked or would ask about the cell sentence, what they wanted to and can infer, study, or understand. Imitate the interpretation of data in the manuscript. Then answer the question, quote specific cell sentences and genes as evidence, and include detailed explanations and reasonings resemble a chain of thoughts. You can borrow reasoning and analysis, conclusions from the manuscript but don't directly use or quote the manuscript in question or answer. Avoid questions about experiment design or procedures, avoid vague questions. Vary the questions, answers and their wording as much as possible to cover a diverse range of topics. Include both open ended questions and yes or no questions.\n",
    "Provide Context for the question, this is only the essential background information required to answer the question, do not directly summarize or describe the dataset. Find context from the manuscript. Provide Answer no less than 30 words, including detailed reasonings. Refer to specific cell sentences as [type] cell gene expression. Also include a chain of thoughts as intermediate reasoning and analysis steps, think about the important gene names and functions, gene sets. Provide Keywords of the answer being the most essential parts of the correct answer. The keywords should be yes or no(must include if it is a yes or no question), or important gene names, or biological information in question. These keywords will be used during my training to validate my model's response. \n",
    "Give 30 question answer pairs as one list, don't give any other word. Strictly format like this: \n",
    "<|Context|>the context<|Question|>the content of the question<|Chain of Thoughts|>the intermediate reasonings<|Answer|>the content of the answer<|Keyword|>the answer keywords\n",
    "<|Context|>the context<|Question|>the content of the question<|Chain of Thoughts|>the intermediate reasonings<|Answer|>the content of the answer<|Keyword|>the answer keywords\n",
    "...\n",
    "\"\"\""
   ]
  },
  {
   "cell_type": "markdown",
   "metadata": {},
   "source": [
    "loads all datasets and meta data \\\n",
    "assumes summary datasets are in a directory as csv files, assuming the format processed by Harry \\\n",
    "all files I'm looking at can be found in my C2S-RL dev github repo branch"
   ]
  },
  {
   "cell_type": "code",
   "execution_count": 5,
   "metadata": {},
   "outputs": [
    {
     "name": "stdout",
     "output_type": "stream",
     "text": [
      "Dataset({\n",
      "    features: [],\n",
      "    num_rows: 0\n",
      "})\n"
     ]
    }
   ],
   "source": [
    "# TODO: change to your own file path\n",
    "datasets_directory = \"/users/zlyu12/Desktop/c2s-RL/Dec19_dataset\" # all summary datasets\n",
    "meta_data_path = \"/users/zlyu12/Desktop/c2s-RL/Create_Dataset/meta_data.json\" # dataset name, filename, url etc.\n",
    "hf_dataset_output_path = \"/users/zlyu12/Desktop/c2s-RL/Create_Dataset/temp_hf_dataset_new\" # temporary output directory\n",
    "\n",
    "datasets_files_paths = [os.path.join(datasets_directory, f) for f in os.listdir(datasets_directory) if f.endswith('.csv')]\n",
    "dataset_numbers = np.sort([int(re.search(r'\\((\\d+)\\)', f).group(1)) for f in datasets_files_paths])\n",
    "\n",
    "meta_data = json.load(open(meta_data_path))\n",
    "dataset_numbers_iterator = iter(dataset_numbers[500:])\n",
    "\n",
    "try:\n",
    "    hf_dataset = load_from_disk(hf_dataset_output_path)\n",
    "except:\n",
    "    hf_dataset = Dataset.from_dict({})\n",
    "\n",
    "print(hf_dataset)"
   ]
  },
  {
   "cell_type": "markdown",
   "metadata": {},
   "source": [
    "iterates through all datasets in your directory \\\n",
    "this prepares the prompt \\\n",
    "copy paste, add the publication text at the end and run our favorite LLM \\\n",
    "run only once for a row, we rely on some variables defined here in later cells"
   ]
  },
  {
   "cell_type": "code",
   "execution_count": 65,
   "metadata": {},
   "outputs": [
    {
     "name": "stdout",
     "output_type": "stream",
     "text": [
      "Dataset Index:  537\n",
      "\n",
      "Dataset Name:  Nasopharynx\n",
      "\n",
      "Publication URL:  https://cellxgene.cziscience.com/collections/35d0b748-3eed-43a5-a1c4-1dade5ec5ca0\n",
      "\n",
      "Prompt:\n",
      " This is a scientific manuscript and an example of the single-cell RNA sequencing dataset it is associated with. The example dataset contains one representative cell from each type and the corresponding cell sentence(ranked gene names by expression). You need to create question-answer pairs for Large Language Models to learn analyzing scRNA-seq datasets when given pieces of data converted into cell sentences. I would like questions and answers about the given cell sentence in terms of cells, tissues, disease, or other relevant biological information. \n",
      "The questions must be answerable by looking at the given cell sentences alone. The question-answer pairs should follow a line of reasoning mentioned in the manuscript or results arrived by the researchers. When creating questions, you should first read the given manuscript, consider what the analysis the researchers did in the manuscript and the biological context of this study. Then look at the example cell sentences(or a part of them), think about what question the researchers asked or would ask about the cell sentence, what they wanted to and can infer, study, or understand. Imitate the interpretation of data in the manuscript. Then answer the question, quote specific cell sentences and genes as evidence, and include detailed explanations and reasonings resemble a chain of thoughts. You can borrow reasoning and analysis, conclusions from the manuscript but don't directly use or quote the manuscript in question or answer. Avoid questions about experiment design or procedures, avoid vague questions. Vary the questions, answers and their wording as much as possible to cover a diverse range of topics. Include both open ended questions and yes or no questions.\n",
      "Provide Context for the question, this is only the essential background information required to answer the question, do not directly summarize or describe the dataset. Find context from the manuscript. Provide Answer no less than 30 words, including detailed reasonings. Refer to specific cell sentences as [type] cell gene expression. Also include a chain of thoughts as intermediate reasoning and analysis steps, think about the important gene names and functions, gene sets. Provide Keywords of the answer being the most essential parts of the correct answer. The keywords should be yes or no(must include if it is a yes or no question), or important gene names, or biological information in question. These keywords will be used during my training to validate my model's response. \n",
      "Give 30 question answer pairs as one list, don't give any other word. Strictly format like this: \n",
      "<|Context|>the context<|Question|>the content of the question<|Chain of Thoughts|>the intermediate reasonings<|Answer|>the content of the answer<|Keyword|>the answer keywords\n",
      "<|Context|>the context<|Question|>the content of the question<|Chain of Thoughts|>the intermediate reasonings<|Answer|>the content of the answer<|Keyword|>the answer keywords\n",
      "...\n",
      "Dataset: \n",
      "Cell Type: T cell, Tissue: nasopharynx, Disease: COVID-19, Gene Expression: MALAT1 MT-ND4 HSP90AA1 TNFAIP3 JUN MT-CO1 B2M MT-ATP6 MT-ND2 MT-ND5 KLF6 FOSB MT-CO2 MT-CYB HLA-B DNAJB1 HSP90AB1 HSPH1 HSPA8 BRD2 MT-ND1 NR4A2 TPT1 CCL5 FOS MT-CO3 BTG1 UBC HSPA5 H3-3B UBB HLA-E PPP1R15A DNAJA1 TSC22D3 HSPA1A SRSF3 DDX5 CALM1 STK17B HLA-C RPS6 ATF3 AHNAK MCL1 DUSP1 RPS19 HLA-A PABPC1 SRGN CD69 RPLP1 PTPRC EIF1 HSPA1B GADD45B NR4A1 RPS12 CXCR4 MT-ND3 RPS11 EIF4G2 ZFP36L1 ACTG1 EZR HNRNPA2B1 NCL LCP1 NFKBIA ATF4 RPS16 RPS3 ZFP36L2 TMSB10 SRSF7 RPL13A RPL3 RNF213 EIF5 RPS14 DDX3X GNAS RPS4X EEF2 TAGAP TUBB4B ZFP36 JUND MT-ATP8 RSRP1 HSP90B1 RPLP2 PNRC1 ACTB RGS1 RGCC BTG2 ELF1 RPL8 RPL13 PRRC2C\n",
      "Cell Type: B cell, Tissue: nasopharynx, Disease: respiratory failure, Gene Expression: MALAT1 HLA-DRA HSP90AA1 RNF213 HLA-B CD74 B2M MS4A1 MX1 TPT1 ACTG1 PABPC1 DDX5 HLA-C LAPTM5 JUN RPS11 HSP90AB1 SYNE2 HSPH1 HLA-E MX2 FOS HLA-A BANK1 IGKC ELF1 IFI16 SP110 MTDH PARP14 MT-ND4 RPS19 SEPTIN6 RPL18 SP140 DNAJB1 IFI27 CHD7 NR4A2 HCLS1 CHD8 SP100 BTG1 RPL11 EEF2 RPL12 TSPYL2 RPL13A CTSH RGS2 PPP1R16B HSPA8 IFIT2 SETD2 FOSB HLA-DPA1 EIF5 ARPC2 SETX RPS14 PRRC2C RPL35A HLA-DPB1 IFIT3 TCF4 IKZF3 IFI44L DNAJA1 GNAS TRANK1 EIF4G2 CD19 SH3KBP1 DDX3X CD53 RACK1 MYL6 RBM39 BRD2 SAMD9L SON JAK1 STK17A ITPR1 UBE2J1 VIM HLA-F GADD45B CHD2 ISG15 ETS1 LTB HLA-DMA EEF1D HNRNPH1 NCOR1 UTRN RPL4 TRA2B STAT1 RPL8 TAPBP UBC RASSF2\n",
      "Cell Type: ciliated cell, Tissue: nasopharynx, Disease: normal, Gene Expression: MALAT1 MT-ND2 MT-ND4 MT-ATP6 MT-CYB MT-CO1 MT-ND5 MT-ND1 MT-CO2 MT-CO3 HSP90AA1 MT-ND3 B2M CAPS MUC16 DNAH5 EZR MTRNR2L1 MT-ATP8 TSPAN1 SYNE1 ANXA1 SAT1 ABCA13 AKAP9 SYNE2 DNAAF1 DDX5 DNAH12 NEAT1 CALM1 LRRIQ1 DNAH11 ALDH1A1 PRDX5 MTRNR2L12 S100A6 DNAH3 ERICH3 GSTA1 MT-ND4L DNAH9 PCM1 TUBB4B FHAD1 MUC4 CALM2 CFAP44 CFAP157 DNAH7 ALDH3A1 NUCB2 PRDX1 TPPP3 DLEC1 CDHR3 RSPH1 SPEF2 AHNAK ANXA2 GSTP1 DNAH6 HYDIN CFAP43 ZBBX DYNC2I1 DNAH10 TMC5 CD59 KIF21A GOLGB1 CYP4B1 DDX17 C9ORF24 CCDC17 PIFO CCDC146 CFAP100 ELF3 HSP90AB1 HLA-B SPAG17 RP1 ATP5IF1 CCDC170 CFAP251 MYL6 HNRNPA2B1 VWA3A CFAP70 CSPP1 ALCAM C20ORF85 IFT57 FTH1 CAST CFAP46 PIGR DRC3 EFHC1 TBC1D8 DYNC2H1 CAPN2 KTN1 DTHD1 KIAA2012 TMBIM6 UBB IK TAX1BP1 RRAD SLC44A4 CFAP54\n",
      "Cell Type: macrophage, Tissue: nasopharynx, Disease: long COVID-19, Gene Expression: MALAT1 MT-CO2 MT-CO1 MT-ATP6 MT-ND4 MT-ND1 MT-CO3 HSP90AA1 SAT1 MT-ND2 MT-CYB B2M RPLP1 HNRNPA2B1 HSPA8 XBP1 MT-ND5 SRSF3 BAZ1A MYL6 JUN NFKBIA UBR4 REL HSPA5 KLF6 ITPR1 CASP8 HLA-B NOP56 GAPDH C15ORF48 TPT1 HLA-C BRD2 RNF213 RPS20 NEAT1 TNFAIP3 SOD2 ZBED5 KCNQ1OT1 TOB1 CSKMT SPSB3 SDCCAG8 RP11-796E2 WSB1 BORCS6 CYTH1 ATP2B1-AS1 SQSTM1 HLA-DRB1 CD74 GBP5 KMT2E MT-ATP8 JUNB HSPA1B SPTBN5 H2BC8 MT-ND4L FOSB RPL13 MT-ND3 HMGB2 S100A6 SLA CEP350 RPS12 CXCR4 TGFBR2 RPS6 PIGX EIF4G2 NCBP2AS2 MCL1 INPP5D CTR9 ACTB IRF2BP2 IL10RA S100PBP ODC1 OGFRL1 ANXA11 ASXL1 NLRC5 GBP2 H3-3B SRSF7 H4C3 IER3 PTPN1 PABPC1 ATP6V0D1-DT RPGRIP1L AP001437 EXOSC10 DUSP1 CTD-2371O3-1 ZNF292 TSC22D3 GOSR1 TFDP2 ABCA2 KDM2A LILRB2\n",
      "Cell Type: enteroendocrine cell, Tissue: nasopharynx, Disease: normal, Gene Expression: CITF22-49E9 ERGIC1 SENP3 SEC11A LEMD1-DT TRIM56 NFASC CTBP1-AS SGK2 SLC16A1-AS1 CORO2A NARF TNFRSF9 SLC35B1 GIP GTF2IRD1 RTL10 HEMK1 POFUT1 RBM26 CASP10 GCLM MAGIX STRIP2 YEATS2 PLCD4 HIGD2A SEPTIN3 SIRLNT AP1M1 TCFL5 SUPT6H PKN1 MYOCOS LINC00862 MRPL48 GABPB1-AS1 IRF1 CEACAM16 AP5S1 MCPH1-AS1 MYO1F LIMK1 PTAFR ERC1 ZNF248 CACNG8 ZNF710 ZNF829 KCNK6 ABCG8 CTCF METTL22 ZNF565 EXOSC1 PRELP CACNA1A MYBPC1 STAM-AS1 SH2D3A LINC00958 CTD-2378E12 ATCAY LINC00672 RP3-337H4 MAST1 C15ORF40 CDC42BPB RPS29 RLBP1 ZNF791 LINC00471 NIPAL2 TRRAP ZNF83 NRDE2 RAB11FIP1 NIN CAPN11 AC009120 ZNF226 RCCD1-AS1 NCAPD2 EMILIN2 RP11-665C16-1 LRP5 WWC1 PCSK5 AP000679 WBP2 BIN2 LRP10 GALM L3MBTL2-AS1 TAOK3 DISP2 TARS2\n",
      "Cell Type: T cell, Tissue: nasopharynx, Disease: normal, Gene Expression: HSP90AA1 MALAT1 MT-CO1 MT-ND4 HSPA1A MT-ATP6 MT-ND2 DNAJB1 MT-CYB HSP90AB1 TNFAIP3 MT-ND5 HSPH1 KLF6 MT-ND1 HSPA8 B2M UBC MT-CO2 BTG1 HLA-B MT-CO3 FOSB DNAJA1 JUN NR4A2 HSPA1B TPT1 PPP1R15A AHNAK CCL5 HSPA5 DDX5 UBB STK17B FOS BRD2 HLA-E MTRNR2L1 NR4A1 H3-3B HLA-A DDX3X MCL1 PTPRC CALM1 ACTG1 DUSP1 RPS3 EIF4G2 ZFP36L1 MT-ATP8 HNRNPA2B1 RPS11 EZR TSC22D3 MACF1 ELF1 RPS4X HLA-C ANXA1 LCP1 RESF1 SRSF3 ATF4 GOLGB1 PABPC1 RPS6 PRRC2C NCL DUSP2 CD69 RGCC SRGN JUND IL7R TAGAP IVNS1ABP RPL3 MT-ND3 EIF1 VIM ZFP36L2 NR4A3 RPS14 PNRC1 EIF5 CXCR4 GNAS RPS19 RNF213 SRSF7 HNRNPU RPL18 RPL13 BTG2 EEF2 ITGA1 NEU1 SF3B1 MBNL1 SOD1 RPL19 RPS16 RPLP1 MYH9 RPL8 HSPD1 RBM39 RPS12 DEDD2 MYCBP2 ETS1 RORA PDCD4 YPEL5 HSP90B1 TUBB4B IQGAP1 TRBC2\n",
      "Cell Type: nasal mucosa goblet cell, Tissue: nasopharynx, Disease: normal, Gene Expression: MALAT1 MT-ND2 MT-ATP6 MT-ND4 MT-CYB MT-CO1 MT-ND5 MT-ND1 MT-CO2 MT-CO3 MT-ATP8 MT-ND3 SLPI SAT1 NEAT1 WFDC2 MUC16 MTRNR2L1 MTRNR2L12 B2M S100A6 PIGR KRT19 MUC4 AHNAK TPT1 ANKRD36C HSP90AA1 MT-ND4L HLA-B ANXA1 PSCA SERPINB3 ALDH1A1 ELF3 XIST F3 ALDH3A1 SYNE2 SRRM2 DDX5 AQP3 AGR2 EZR GLUL LCN2 HNRNPA2B1 GOLGB1 TSPAN1 S100P CP ABCA13 ALCAM HLA-A RPS6 LGALS3 AKAP9 DDX17 PRSS23 PRRC2C MUC1 ATP1B1 PABPC1 MYL6 RBM39 TXNIP TACSTD2 KRT7 ACTG1 TMSB10 EPAS1 MT-ND6 VMO1 GSTP1 RPL8 MUC5AC SRSF11 ANXA2 JUN PRDX1 RNF213 HLA-C HSP90B1 RBM25 APLP2 ERN2 RRBP1 LMO7 GOLGA4 RPL18 CLINT1 BPIFB1 RPS12 HLA-E KLF5 PNISR SON HSPA1A CXCL17 CD55 MYOF RPL31 ADH1C CTSB CALM1 CLU SLK FOS RPS8 SYTL2\n",
      "Cell Type: secretory cell, Tissue: nasopharynx, Disease: respiratory failure, Gene Expression: MT-ND4 MALAT1 SLPI MT-ATP6 MT-CO2 MT-CO1 MT-ND2 B2M WFDC2 MT-CYB MT-ND5 MT-CO3 KRT19 MT-ND1 HSP90AA1 SAT1 S100P SERPINB3 FOS PSCA TPT1 JUN ANXA1 S100A6 TSPAN1 PIGR MT-ND3 HLA-B TACSTD2 ALDH1A1 GLUL ACTG1 ATP1B1 F3 MT-ATP8 VMO1 KRT7 EZR HLA-C PRSS23 ELF3 AQP3 MYL6 MUC16 AGR2 HLA-A TMSB10 HSPA1A HSPA1B HSPA5 ALCAM ATP1A1 PRDX1 ANXA2 GSTP1 UBC RPL8 DNAJB1 ALDH3A1 RPS6 FOSB AHNAK CTSB MUC1 EPAS1 MUC4 RPS11 RPS12 RPS16 PERP TXNIP LCN2 FXYD3 TMBIM6 PABPC1 KRT4 CXCL17 HSP90AB1 LGALS3 HNRNPA2B1 CTSD UBB ANXA11 CLDN4 DUSP1 PPP1R15A ADH1C GNAS DHCR24 HLA-E NEAT1 APLP2 ATF3 BPIFB1 HSPA8 KRT24 PSAP RPLP0 DDX5 RPS14 RPS19 EGR1 CYP4B1 CALM1 RDH10 S100A4\n",
      "Cell Type: ionocyte, Tissue: nasopharynx, Disease: normal, Gene Expression: MALAT1 MT-ND2 MT-ND5 MT-CYB MT-ND4 MT-ATP6 MT-CO1 MT-ND1 MT-CO2 MT-CO3 MT-ATP8 MT-ND3 MTRNR2L12 SYNE2 MTRNR2L1 DST AHNAK APLP2 TFCP2L1 GOLM1 NEAT1 MT-ND4L MUC16 GNAS RARRES2 HLA-B SCNN1B B2M STAP1 AKAP9 ARHGAP18 DSP GOLGB1 ATP1A1 DDX5 CAPN2 ITPRID2 CFTR ITPR2 HLA-A HSP90AA1 SRRM2 PPP1R12B HIPK2 ANK2 MT-ND6 ITIH5 DDX17 SPTBN1 KTN1 XIST CLCNKB S100A6 ANKRD12 ATP1B1 RBM39 ADGRF5 LAMA4 DGKI BRWD1 LGALS3 GOLGA4 MACF1 SCIN SRSF11 CENPC PLCG2 NEDD4L PRRC2C ACTG1 HLA-C SLC43A2 HSP90B1 KRT7 PDE1C MYL6 JUN TPT1 LUC7L3 NKTR SLC4A11 RNF152 HNRNPA2B1 DYNC1H1 H3-3B NUMA1 CHD6 SCNN1A LINC01187 LTBP2 MTSS1 CD24 FOS SON PSAP EIF4G2 MYO6 SEMA3C SORL1 BRD2 CAST PCM1 PNISR HLA-E MYOF THBS1 CD9 KMT2C CALM1 VPS13C CALM2 AKAP13\n",
      "Cell Type: dendritic cell, Tissue: nasopharynx, Disease: normal, Gene Expression: HSP90AA1 CD74 HSPA1A MALAT1 HLA-DRA MT-CO1 MT-ND4 HSPH1 DNAJB1 SAT1 HLA-DPA1 KLF6 HSP90AB1 MT-ATP6 MT-ND2 VIM FTH1 CD83 TPT1 HLA-DPB1 HLA-DRB1 MT-CO2 B2M MT-ND5 PABPC1 HLA-B MT-ND1 HSPA1B MT-CYB MT-CO3 SRGN FTL HSPA5 UBC ATF3 HSPA8 SOD2 RPS6 PPP1R15A NR4A3 HLA-A GADD45B FOS HLA-DQB1 RPS11 TMSB10 ACTG1 SQSTM1 RGS1 LCP1 RPS4X PLEK HLA-DQA1 EIF5 ACTB REL BTG1 HSP90B1 DDX5 MTRNR2L1 OAZ1 MYL6 H3-3B ATP1A1 KLF4 RGS2 EZR HNRNPA2B1 RPL19 IL7R DNAJA1 CXCL8 SRSF3 PSAP HSPD1 RPL3 NR4A1 RPS16 HLA-E NFKBIA EIF1 RPL8 CCR7 TCP1 ANXA1 LYZ BRD2 TNFAIP3 CD44 RPS19 SERPINB9 RPS14 RPS20 RPS12 ZFAND5 CDKN1A RPL11 CFLAR HNRNPU CTSB FOSB RPLP0 ATF4 MT-ND3 RPS8 NAMPT RPS5 CXCR4 IER5 CALR PNRC1 HLA-DRB5 RACK1 CANX RPLP2 CTSZ GNAS JUN AFF4 MT-ND4L NR4A2 DNAJA4 RPS23 AHNAK RPLP1 MCL1\n",
      "Cell Type: T cell, Tissue: nasopharynx, Disease: long COVID-19, Gene Expression: MT-ND4 MT-ND2 MT-CO2 MALAT1 HSP90AA1 MT-ATP6 MT-CO1 MT-ND5 MT-CYB MT-CO3 TNFAIP3 MT-ND1 B2M KLF6 MT-ND3 FOSB HLA-B HSPH1 HSPA8 NR4A2 HSP90AB1 JUN CCL5 BTG1 BRD2 AHNAK DNAJB1 HSPA5 TPT1 HLA-E TSC22D3 RPS19 HLA-A MCL1 RPS11 PABPC1 HLA-C PTPRC PPP1R15A RPS12 MT-ATP8 FOS RPS16 CALM1 UBC SRGN RPS6 LCP1 UBB GNAS STK17B DNAJA1 DDX5 RPS4X JUND VIM H3-3B RPS14 ACTG1 TMSB10 EIF1 HSPA1A ZFP36L1 EZR RPL3 RPLP1 NR4A3 RPLP2 RPS3 RPL19 NCL RPL18 RPS21 MYL6 DYNLL1 RNF213 SRSF3 EIF4G2 ATF4 CCL4 RPL8 GOLGB1 YPEL5 ZFP36L2 RPL30 HNRNPA2B1 CD8A DDX3X EEF2 RPL11 TUBB4B IL7R GAPDH GADD45B NEU1 ZNF331 EIF5 ANXA1 RESF1 SARAF CCNL1 SLC2A3 HSP90B1 RPL13A IVNS1ABP\n",
      "Cell Type: enteroendocrine cell, Tissue: nasopharynx, Disease: respiratory failure, Gene Expression: YEATS2 SLC16A1-AS1 CORO2A CITF22-49E9 PCSK5 TALDO1 RAB8A TRIM56 PLCD4 ITCH AP1M1 ATCAY NARF PTAFR DYNC1H1 TCFL5 RAB11FIP1 PKN1 VPS4A LINC01588 STRIP2 RPS29 PCLAF STAM-AS1 TRRAP RTL10 NRIP3 LEMD1-DT MRPL48 SENP3 GBP1 SIRLNT FAM131A HIGD2A PIGZ SEC11A SAMHD1 NDUFS1 DISP2 LDLR ZNF248 ZNF335 AGO3 ABCG8 TARS2 GTF2IRD1 GIP RP11-770J1-1 ZNF169 MELTF MARVELD3 BCL2L14 CACNG8 SGK2 CTBP1-AS POFUT1 SEPTIN3 NRDE2 NDUFV1 CD82 CTD-2378E12 NWD1 RP4-621N11 TRPV3 ZNF473 FLOT1 EXTL3-AS1 PDPR SETD4 ARL16 FUT6 TNFRSF9 HAX1 MYO1F RCCD1-AS1 STAT3 ABCF1 PLEKHB2 TMEM116 ERGIC1 CACNA1A LINC00837 SQSTM1 SRP19 FOXK1 KIF3B RP11-16K12 PPM1F-AS1 SYF2 ASH1L ZNFX1 ALDH7A1 VWA3A ORAI2 ABRAXAS1\n",
      "Cell Type: CD8-positive, alpha-beta T cell, Tissue: nasopharynx, Disease: long COVID-19, Gene Expression: MT-ND4 MALAT1 MT-CO2 MT-ATP6 MT-ND2 MT-CO3 MT-CO1 MT-ND5 MT-ND1 MT-CYB HSP90AA1 MT-ND3 B2M MT-ATP8 HLA-B JUN DNAJB1 HLA-E RPS19 HSPA1B HSPA8 KLF6 FOS HSPA1A BTG1 FOSB TPT1 CCL5 HLA-A RPS6 AHNAK RPS4X RPS11 HLA-C PTPRC RPS12 TNFAIP3 RPS16 ACTG1 RNF213 HSPH1 DDX5 UBC HSP90AB1 TMSB10 PPP1R15A TXNIP RPL30 PABPC1 HSPA5 RPLP1 BRD2 GNAS RPS14 H3-3B ACTB MT-ND4L RPL11 TSC22D3 RPL3 RPLP2 RPS21 VIM MTRNR2L12 UBB RPL31 HNRNPA2B1 STK17B RPL19 MCL1 RPL13 PRRC2C SP100 CD69 RPL34 ANKRD12 CD2 SYNE2 ZFP36L2 EIF4G2 SAT1 RPL4 RESF1 DUSP1 CALM1 NR4A2 RPL13A RPS3 DDX3X IL7R CD3D ETS1 RPL18 SRSF3 RPL37A RPS29 RPL8\n",
      "Cell Type: inflammatory macrophage, Tissue: nasopharynx, Disease: respiratory failure, Gene Expression: HSP90AA1 MALAT1 FTH1 FTL MT-ATP6 MT-CO2 B2M CXCL8 SOD2 MT-ND4 MT-CO1 HSPA1A HSPH1 TPT1 MT-CO3 PLEK HSPA1B MT-ND1 FOS MT-ND2 VIM PSAP MT-CYB CTSB DNAJB1 HSP90AB1 TMSB10 UBC HLA-B CCL3 SAT1 SRGN CD74 MT-ND5 CLEC5A CCL3L1 NFKBIA KLF6 CCL4L2 IER5 CD83 LAPTM5 PABPC1 HLA-DRA PPP1R15A CD44 HLA-E HSPA8 GLUL H3-3B PLAUR HSPA5 HLA-A DNAJA4 DUSP1 IER3 IL1B MT-ND3 UBB SQSTM1 EIF5 ATP2B1 EIF1 ID2 RPL8 NAMPT GADD45B CXCL3 JUN NEAT1 ARPC2 RPS6 RPL4 OAZ1 HLA-DPB1 HNRNPA2B1 RPS16 TYROBP SGK1 RGS2 ANXA1 TNFAIP3 KLF4 RPLP0 ACTB RUNX1 S100A9 RPS24 CTSD HLA-DRB1 RPS14 FOSB DNAJA1 LITAF ANXA2 RACK1 HLA-C APLP2 DDX5 MT-ATP8 RHOB PKM NPC2 RPS19 RPS2 TUBB4B CFL1 RBM25 EMP1 LYZ EGR1 RPS3 GAPDH RPL27\n",
      "Cell Type: T cell, Tissue: nasopharynx, Disease: respiratory failure, Gene Expression: MT-ND4 MT-CO1 MT-ATP6 MT-ND5 MT-ND2 MT-CO2 MT-CYB MT-CO3 MALAT1 TNFAIP3 MT-ND1 B2M MT-ND3 HSP90AA1 HLA-B FOSB KLF6 JUN BTG1 BRD2 TPT1 FOS TSC22D3 MT-ATP8 HSPA8 HSP90AB1 STK17B HLA-A DDX5 HSPH1 PABPC1 HLA-E DNAJB1 HSPA5 CCL5 NR4A2 H3-3B EIF1 HLA-C EZR VIM MCL1 CALM1 PTPRC SRGN RPS19 DNAJA1 SRSF3 PPP1R15A UBC RPS16 ZFP36L2 UBB CXCR4 GNAS RPS12 DDX3X RPS6 AHNAK YPEL5 RPS11 RPLP1 NFKBIA MACF1 ACTG1 HNRNPA2B1 EIF4G2 LCP1 NCL JUND ATF3 IL7R TMSB10 RPS4X SARAF TUBB4B TXNIP PNRC1 PRRC2C RPS14 RGCC RPL8 RPS3 MBNL1 ATF4 RNF213 HSP90B1 CD69 OAZ1 ETS1 RPL4 RPL18 RGS1 ELF1 SRSF7 FYB1 CCNL1 DUSP1 KMT2E SLC38A2 RPLP2 RPL3 IVNS1ABP SON PPP1R15B SRSF2 ZFAS1\n",
      "Cell Type: CD8-positive, alpha-beta cytotoxic T cell, Tissue: nasopharynx, Disease: respiratory failure, Gene Expression: MALAT1 MT-ND4 B2M MT-ND2 MT-ATP6 HLA-B MT-CO1 RNF213 HSP90AA1 MT-ND5 HLA-A HLA-E MT-CO2 MT-CYB TMSB10 JUN TPT1 HLA-C TNFAIP3 MX1 HSP90AB1 MT-CO3 MT-ND1 NFKBIA BRD2 SRGN HNRNPA2B1 FOS PTPRC VIM KLF6 DDX5 RPS11 RPS12 MT-ND3 HSPA8 FOSB RPS19 XAF1 SRSF3 GNLY RPS16 PRRC2C SP100 UBC CCL5 HSPA5 GZMB GNAS GAPDH RPS4X ACTG1 HSPH1 MCL1 PABPC1 BTG1 MT-ATP8 PPP1R15A SYNE2 MYL6 SRSF7 NCL HSP90B1 RPL18 LCP1 RPS6 H3-3B IRF1 AKAP13 UBB RPL3 DNAJB1 STK17B MACF1 RPL4 RACK1 DNAJA1 ADAR ISG15 HSPA1B UTRN RPS14 EEF2 MYH9 ACTB RPLP2 APOL6 HSPA1A SAMD9 LAG3 KMT2E ENO1 TSC22D3 ATF4 ARPC2 RPLP1 RPS3 ISG20 CCNL1 CD69 SRRM2 GADD45B RSRP1 RPS21 IFI44L PARP14 TRA2B ELF1 EIF4A2 AHNAK ETS1 SMCHD1 SRSF2 CD3D\n",
      "Cell Type: ionocyte, Tissue: nasopharynx, Disease: respiratory failure, Gene Expression: MT-ND4 MT-ATP6 MT-CO1 MT-ND2 MT-ND5 MT-CYB MT-CO2 MALAT1 MT-CO3 B2M HLA-B APLP2 ATP1A1 TFCP2L1 GNAS GOLM1 ACTG1 HLA-A FOS MT-ND1 HSP90AA1 HIPK2 MT-ND3 ATP1B1 SCNN1B JUN MYL6 ATP5F1B ATP6V1A PSAP HLA-C AHNAK DSP SYNE2 TPT1 CD9 EZR RPL8 CFTR MT-ATP8 DDX5 HSP90B1 DHCR24 CLCNKB SEMA3C HNRNPA2B1 CD24 H3-3B CD59 ATP6V0B FTH1 EIF4G2 COX5B HLA-E ACTB GAPDH KIT LGALS3 TMBIM6 CANX HSP90AB1 ASCL3 RPS16 KRT8 DST SPTBN1 ITPR2 IGF1 ANK2 TUBB4B CAPN2 RPS11 SLC25A3 RARRES2 KRT18 PKM MGST1 RPL4 COX4I1 RPL3 HSPA8 RPS6 SCNN1A ARHGAP18 LDHB DUSP1 PPP1R12B MGAT5 S100A6 RNF152 CALM2 HSPA1B STAP1 CCNI CNN3 RPS12 CALM1 ATF3 SCD THBS1 DMRT2\n",
      "Cell Type: basal cell, Tissue: nasopharynx, Disease: long COVID-19, Gene Expression: EGR1 JUN MT-ND4 HSP90AA1 MT-CO2 ALDH3A1 ATF3 MT-ND2 MT-ATP6 FOSB FOS MT-CO1 MT-CO3 ACTG1 HSPA5 AQP3 MALAT1 MT-ND1 B2M HSP90AB1 MT-ND5 MT-CYB TACSTD2 DNAJB1 HSP90B1 UBC BRD2 NR4A1 TPT1 HSPA1B PPP1R15A HSPA1A HSPA8 SAT1 KRT19 GADD45B EZR ANXA1 HLA-B DUSP1 PABPC1 TXNIP IER2 SQSTM1 MT-ND3 CLDN4 EPAS1 NFKBIA RPS14 SLPI BHLHE40 KRT17 BTG2 ID2 HSPH1 EEF2 DST KRT5 RPL3 HLA-C RPS6 WFDC2 PERP HLA-E EGFR ELF3 RPS11 MT-ATP8 RPLP1 GLUL ZFP36L1 SFN APLP2 NCOA7 EIF4G2 RND3 RPL8 PRSS23 CTSB ANXA2 ZFP36 TSC22D1 RPS16 IRF1 ID1 HES1 DSP FAM107B KLF4 H3-3B TUBB4B DNAJA1 DDX5 JUND KLF6 AHNAK HERPUD1 RPLP0 KLF5 EIF1 BTG1 RPS4X CCNL1 ATP1A1\n",
      "Manuscript:\n",
      "\n"
     ]
    }
   ],
   "source": [
    "dataset_index = str(next(dataset_numbers_iterator))\n",
    "dataset_name = [k for k,v in meta_data.items() if f'({dataset_index})' in v.get('filename', '')]\n",
    "if len(dataset_name) != 1:\n",
    "    print(\"dataset index: \", dataset_index)\n",
    "    print(dataset_name)\n",
    "    print(f\"dataset \\\"{dataset_name}\\\" not in meta_data!\")\n",
    "else:\n",
    "    dataset_name = dataset_name[0]\n",
    "    cur_url = meta_data[dataset_name]['url']\n",
    "    dataset_file_path = [path for path in datasets_files_paths if f\"({dataset_index})\" in path][0]\n",
    "    dataset_df = pd.read_csv(dataset_file_path)\n",
    "    dataset_in_prompt, sampled_indices = dataset_for_prompt(dataset_df)\n",
    "    print(\"Dataset Index: \", dataset_index)\n",
    "    print(\"\\nDataset Name: \", dataset_name)\n",
    "    print(\"\\nPublication URL: \", cur_url)\n",
    "    print(\"\\nPrompt:\\n\", prompt_prefix + \"Dataset: \\n\" + dataset_in_prompt + \"Manuscript:\\n\")\n"
   ]
  },
  {
   "cell_type": "markdown",
   "metadata": {},
   "source": [
    "Just copy paste the output into the next cell, shouldn't need to do additional processing"
   ]
  },
  {
   "cell_type": "code",
   "execution_count": 61,
   "metadata": {},
   "outputs": [],
   "source": [
    "output = \"\"\"\n",
    "\n",
    "\n",
    "\n",
    "<|Context|>Natural killer cells in the large intestine (normal) and small intestine (Crohn disease) show differences in certain immune-related genes.<|Question|>Do the natural killer cells from the small intestine with Crohn disease display elevated markers that hint at heightened immune activation compared to the natural killer cells from the large intestine with a normal condition?<|Chain of Thoughts|>Comparing the [natural killer cell, large intestine, normal, gene expression] with [natural killer cell, small intestine, Crohn disease, gene expression] reveals upregulation of TMSB4X, B2M, and immune-related genes like NKG7. This indicates a potential heightened immune response in the Crohn disease context.<|Answer|>Yes. The natural killer cell from the Crohn disease small intestine expresses multiple genes (for instance, TMSB4X, B2M, and NKG7) that are notably present and can be associated with increased immune reactivity. In particular, NKG7 has been implicated in cell-mediated cytotoxicity, and together with other immune-related genes, suggests enhanced immune activation in the diseased tissue. By contrast, the natural killer cell from the normal large intestine still expresses immune genes such as MALAT1 but lacks pronounced upregulation of certain inflammation-related markers.<|Keyword|>yes, NKG7, B2M, TMSB4X, heightened immune activation\n",
    "\n",
    "<|Context|>Group 3 innate lymphoid cells (ILC3s) in the large intestine (normal) have characteristic expression patterns associated with immunoregulation.<|Question|>Which genes might indicate that these group 3 innate lymphoid cells contribute to gut immune homeostasis?<|Chain of Thoughts|>By examining the [group 3 innate lymphoid cell, large intestine, normal, gene expression], we see expression of IL7R, JUN, DUSP1, and RORC signaling components that can be tied to regulatory immune responses.<|Answer|>Genes such as IL7R, JUN, and DUSP1, observed in the group 3 innate lymphoid cell gene expression, suggest capabilities in modulating immune pathways and providing homeostatic signals in the gut. IL7R is critical for lymphocyte development; JUN and DUSP1 are linked to cellular stress and inflammation regulation. These collectively point to ILC3s playing an essential immunoregulatory role in maintaining intestinal balance.<|Keyword|>IL7R, JUN, DUSP1, immune homeostasis\n",
    "\n",
    "<|Context|>Oligodendrocyte precursor cells can express typical ribosomal and structural protein genes in the large intestine (normal).<|Question|>What might the presence of cytoskeletal genes like ACTG1 and tubulin-related genes indicate about the oligodendrocyte precursor cell in the gut environment?<|Chain of Thoughts|>Looking at [oligodendrocyte precursor cell, large intestine, normal, gene expression], we see ACTG1, TUBA1A, and other structural proteins. These might imply cytoskeletal readiness for potential morphological changes or migration within the gut.<|Answer|>The presence of genes such as ACTG1 and tubulin-related genes (for example, TUBA1A) in the oligodendrocyte precursor cell gene expression profile suggests a supportive cytoskeletal framework for cellular processes like shape alteration and motility. Even though oligodendrocyte precursor cells are best known in the central nervous system, their expression of structural components here might assist in local adaptation and potential guidance or support roles within the intestinal milieu, reflecting a capacity for varied morphogenetic functions.<|Keyword|>ACTG1, TUBA1A, cytoskeletal support\n",
    "\n",
    "<|Context|>T cells in the small intestine (normal) exhibit a range of ribosomal genes alongside markers such as B2M and HLA-related genes.<|Question|>How do these HLA and ribosomal genes suggest a T cell’s involvement in antigen processing in the small intestine?<|Chain of Thoughts|>From [T cell, small intestine, normal, gene expression], we see HLA-B, HLA-A, and a robust set of ribosomal components. HLA molecules enable antigen presentation, while ribosomal genes reflect active protein synthesis.<|Answer|>The T cell’s expression of HLA-B and HLA-A (notably present in the T cell gene expression list) is key to presenting antigens to other immune cells, while the robust presence of ribosomal genes (such as RPL and RPS family members) indicates high protein translation capacity. Together, these features highlight the T cell’s active role in sampling and responding to antigens in the gut, ensuring effective immune surveillance and communication with other immune partners.<|Keyword|>HLA-B, HLA-A, ribosomal genes, antigen processing\n",
    "\n",
    "<|Context|>NKp44-negative group 3 innate lymphoid cells in the lymph node (normal) show expression of multiple immediate early genes such as FOS and JUN.<|Question|>Could the expression of FOS and JUN in NKp44-negative group 3 innate lymphoid cells signal rapid immune responses in the lymph node environment?<|Chain of Thoughts|>The [NKp44-negative group 3 innate lymphoid cell, lymph node, normal, gene expression] includes FOS, JUN, DUSP1, which are immediate early genes that typically respond quickly to stimuli.<|Answer|>Yes. The prominent presence of FOS and JUN, seen among the top expressed genes, typically denotes cells capable of swift transcriptional responses to external signals. These immediate early genes can trigger downstream cascades linked to cell proliferation, cytokine production, or inflammatory responses. Thus, in a lymph node context, their expression would equip these NKp44-negative ILC3s with prompt reaction capabilities, presumably for rapid immune cell coordination and activation.<|Keyword|>yes, FOS, JUN, immediate early genes\n",
    "\n",
    "<|Context|>Mesodermal cells in the lymph node (normal) present VIM and SPARC among other genes.<|Question|>How might SPARC and VIM expression indicate a role for mesodermal cells in structural integrity within the lymph node?<|Chain of Thoughts|>Examining [mesodermal cell, lymph node, normal, gene expression], SPARC and VIM are notable. SPARC is involved in extracellular matrix remodeling; VIM is a classic intermediate filament protein.<|Answer|>SPARC (a protein that modulates collagen and matrix interactions) and VIM (a major cytoskeletal component) point to mesodermal cells contributing substantially to the extracellular matrix and mechanical architecture of the lymph node. Their expression supports cell adhesion, migration, and structural maintenance, which are crucial for preserving tissue organization and facilitating immune cell trafficking in that microenvironment.<|Keyword|>SPARC, VIM, structural integrity\n",
    "\n",
    "<|Context|>Memory B cells in the vermiform appendix (normal) display markers like CD74 and HLA-DRA, alongside multiple ribosomal genes.<|Question|>Which evidence in their gene expression suggests that these memory B cells are ready for antigen presentation and antibody production?<|Chain of Thoughts|>The [memory B cell, vermiform appendix, normal, gene expression] includes CD74 and HLA-DRA, essential for antigen presentation, and robust ribosomal genes, supporting high translational capacity.<|Answer|>The presence of CD74 and HLA-DRA within memory B cells indicates a strong capacity for antigen presentation through class II MHC pathways. Meanwhile, a large number of ribosomal genes, such as RPL and RPS family members, underpins a robust protein synthesis framework. Combined, these features suggest that memory B cells are primed to present antigens and rapidly produce antibodies if re-exposed to their cognate antigens in the appendix.<|Keyword|>CD74, HLA-DRA, antigen presentation\n",
    "\n",
    "<|Context|>T-helper 17 cells in the small intestine (normal) feature IL7R, KLRB1, and other markers typical of effector immune responses.<|Question|>What does the presence of IL7R and KLRB1 imply about the Th17 cell’s functionality in the intestinal environment?<|Chain of Thoughts|>In [T-helper 17 cell, small intestine, normal, gene expression], IL7R is crucial for T cell development and survival; KLRB1 encodes CD161, often linked to mucosal T helper subsets.<|Answer|>IL7R expression underscores the cell’s reliance on IL-7 signaling for survival and expansion, a key aspect of T cell homeostasis. KLRB1 (CD161), frequently associated with mucosal T cells, hints at specialized interactions within the gut environment. Together, they highlight these Th17 cells as potent mediators of mucosal immunity, capable of responding robustly to local microbial stimuli and helping maintain epithelial integrity and protective immunity.<|Keyword|>IL7R, KLRB1, Th17 functionality\n",
    "\n",
    "<|Context|>Pericytes in the vermiform appendix (normal) express an array of smooth muscle-related genes, including ACTA2 and MYH11.<|Question|>Does the co-expression of ACTA2 and MYH11 suggest a specialized contractile function in pericytes surrounding blood vessels in the appendix?<|Chain of Thoughts|>Assessing [pericyte, vermiform appendix, normal, gene expression] shows ACTA2 (smooth muscle actin) and MYH11 (smooth muscle myosin) typically linked to contractility and regulation of vascular tone.<|Answer|>Yes. The joint presence of ACTA2 and MYH11 strongly indicates that these pericytes can exert contractile forces on nearby vessels, helping manage blood flow and vessel stability in the appendix. Both genes are hallmarks of smooth muscle–type contractility, highlighting the specialized supportive and regulatory role pericytes serve in modulating local perfusion and maintaining vascular integrity.<|Keyword|>yes, ACTA2, MYH11, contractile function\n",
    "\n",
    "<|Context|>Colon epithelial cells in the lymph node (normal) have high expression of genes like RPL41, EEF1A1, and RPS3A.<|Question|>What does this abundance of ribosomal and elongation factor genes reveal about epithelial cells that might have migrated or been sampled in the lymph node?<|Chain of Thoughts|>From [colon epithelial cell, lymph node, normal, gene expression], many RPL/RPS genes and EEF1A1. These indicate active protein synthesis, possibly reflecting a highly metabolic state or rapid turnover.<|Answer|>The notable enrichment of multiple RPL and RPS genes, along with EEF1A1, points to robust protein synthesis processes, indicating these epithelial cells are highly metabolically active. The presence of colon-derived epithelial cells in the lymph node context suggests they could be sampled or drained via lymphatic routes, maintaining their vigorous translational capacity even outside the typical colon environment. This may reflect tissue surveillance or immune sampling events.<|Keyword|>ribosomal genes, EEF1A1, high metabolic activity\n",
    "\n",
    "<|Context|>A natural killer cell in the small intestine with Crohn disease exhibits CCL5 and KLRB1 expression.<|Question|>How do CCL5 and KLRB1 co-expression suggest the NK cell’s role in inflammatory chemotaxis or tissue retention during Crohn disease?<|Chain of Thoughts|>Looking at [natural killer cell, small intestine, Crohn disease, gene expression], we see CCL5, known for attracting immune cells, and KLRB1, which can mark tissue-homing or mucosal subsets.<|Answer|>The NK cell’s production of CCL5 can drive recruitment of other immune cells, enhancing the inflammatory milieu in Crohn disease. KLRB1, often found on tissue-homing lymphocytes, may aid retention within the gut mucosa, potentially prolonging local immune activation. Together, these genes imply that NK cells not only directly engage target cells but also orchestrate broader inflammatory processes in the diseased intestine.<|Keyword|>CCL5, KLRB1, chemotaxis, tissue retention\n",
    "\n",
    "<|Context|>A CD34-positive, CD56-positive, CD117-positive common innate lymphoid precursor in the large intestine (normal) shows IL7R expression.<|Question|>What does the presence of IL7R signal about the developmental potential of these precursor cells in gut immune contexts?<|Chain of Thoughts|>In [CD34-positive, CD56-positive, CD117-positive common innate lymphoid precursor, large intestine, normal, gene expression], IL7R is essential for early lymphoid development, hinting at potential to differentiate into multiple ILC subsets.<|Answer|>IL7R’s expression is strongly associated with driving lymphoid lineage commitment, indicating that these common innate lymphoid precursors can proliferate and mature into various ILC subsets. By expressing IL7R in the large intestine, they are likely primed to respond to local growth factors, fostering differentiation pathways that support tissue-specific immune surveillance and regulatory roles crucial for gut homeostasis.<|Keyword|>IL7R, common innate lymphoid precursor, developmental potential\n",
    "\n",
    "<|Context|>A reticular cell in the large intestine (normal) has high RPS27, RPL10, and TMSB4X expression.<|Question|>How might these gene products highlight the role of reticular cells in immune cell support within the large intestine?<|Chain of Thoughts|>The [reticular cell, large intestine, normal, gene expression] includes abundant ribosomal genes plus TMSB4X, which can impact actin dynamics and possibly facilitate scaffolding for immune cells.<|Answer|>Robust ribosomal gene expression (for example, RPS27, RPL10) indicates strong translational activity, potentially necessary for producing extracellular matrix and signaling molecules. TMSB4X, associated with actin remodeling, may help shape a supportive meshwork. Altogether, this profile suggests reticular cells provide structural and trophic support, aiding immune cell movement and retention in the large intestine’s lymphoid architecture.<|Keyword|>RPS27, RPL10, TMSB4X, immune cell support\n",
    "\n",
    "<|Context|>A motor neuron in the small intestine (normal) expresses neuron-specific cytoskeletal genes like TUBA1A and STMN1.<|Question|>Could these genes indicate an active remodeling state in enteric neurons as they integrate signals in the small intestine?<|Chain of Thoughts|>The [motor neuron, small intestine, normal, gene expression] has TUBA1A, a tubulin alpha, and STMN1, a microtubule regulator that suggests dynamic cytoskeletal changes.<|Answer|>Yes. STMN1 is a key regulator of microtubule turnover, and TUBA1A encodes alpha-tubulin, crucial for forming neuronal microtubules. Their co-expression indicates that these motor neurons maintain a dynamically remodeling cytoskeleton, which is essential for axon outgrowth, synaptic plasticity, and potentially rapid adaptation to enteric signals and motility demands in the small intestine.<|Keyword|>yes, TUBA1A, STMN1, active remodeling\n",
    "\n",
    "<|Context|>Group 3 innate lymphoid cells in the large intestine (normal) express DUSP1 and TSC22D3.<|Question|>How could DUSP1 and TSC22D3 contribute to regulating inflammatory responses among these ILC3s?<|Chain of Thoughts|>The [group 3 innate lymphoid cell, large intestine, normal, gene expression] includes DUSP1 (a phosphatase regulating MAPK pathways) and TSC22D3 (a glucocorticoid-induced leucine zipper gene), both can dampen inflammation.<|Answer|>DUSP1 dephosphorylates components of the MAPK pathway, curbing prolonged inflammatory signaling, while TSC22D3 (often known as GILZ) mediates anti-inflammatory effects under glucocorticoid influence. Their co-expression implies these ILC3s possess intrinsic mechanisms to fine-tune or terminate inflammatory cascades, helping maintain tissue homeostasis in the large intestine.<|Keyword|>DUSP1, TSC22D3, anti-inflammatory regulation\n",
    "\n",
    "<|Context|>A T cell in the small intestine (normal) shows B2M and HLA-A expression.<|Question|>Does the presence of B2M alongside HLA-A indicate a capacity for presenting peptides to CD8+ T cells in the gut?<|Chain of Thoughts|>B2M is required for MHC class I assembly; HLA-A is a class I molecule. Looking at [T cell, small intestine, normal, gene expression], both are present, so it supports class I presentation.<|Answer|>Yes. HLA-A class I molecules must associate with B2M to effectively present endogenous peptides, primarily to CD8+ T cells. Their co-expression indicates an active involvement in antigen presentation, aiding in cytotoxic T cell engagement within the small intestine’s immune environment.<|Keyword|>yes, B2M, HLA-A, class I presentation\n",
    "\n",
    "<|Context|>Memory B cells in the vermiform appendix (normal) show high expression of CD74 and multiple RPL genes.<|Question|>Could CD74 and robust ribosomal gene expression signify that these memory B cells are prepared for both antigen presentation and rapid immunoglobulin production?<|Chain of Thoughts|>[Memory B cell, vermiform appendix, normal, gene expression] includes CD74, a key MHC class II chaperone, plus numerous RPL genes enabling quick protein synthesis, which suggests readiness for antibody secretion.<|Answer|>Yes. CD74 helps load antigenic peptides onto MHC class II for T-helper cell engagement, and the abundance of ribosomal genes highlights a high-capacity protein synthesis machinery. This dual readiness means memory B cells can present antigens to helper T cells and then swiftly translate immunoglobulin mRNAs upon activation, ensuring rapid and potent secondary immune responses in the appendix.<|Keyword|>yes, CD74, ribosomal genes, immunoglobulin production\n",
    "\n",
    "<|Context|>Pericytes in the vermiform appendix (normal) express TPM2, CALD1, and MYL9.<|Question|>How might these genes reflect the contractile machinery of pericytes influencing blood vessel regulation?<|Chain of Thoughts|>In [pericyte, vermiform appendix, normal, gene expression], TPM2 (tropomyosin), CALD1 (caldesmon), MYL9 (myosin light chain) are integral to smooth muscle contraction, indicating pericytes help regulate vascular tone.<|Answer|>TPM2, CALD1, and MYL9 are core components of the smooth muscle–like apparatus. TPM2 stabilizes actin filaments, CALD1 modulates actin–myosin interactions, and MYL9 helps drive the contractile force. Their co-expression in pericytes suggests an integrated contractile phenotype that facilitates blood flow regulation, vessel stability, and potential support of local vascular remodeling within the appendix.<|Keyword|>TPM2, CALD1, MYL9, contractile machinery\n",
    "\n",
    "<|Context|>Colon epithelial cells in the lymph node (normal) express FOS, a gene related to immediate early responses.<|Question|>What could FOS expression imply about epithelial cells’ reactivity or signaling potential when they appear in lymph node contexts?<|Chain of Thoughts|>Examining [colon epithelial cell, lymph node, normal, gene expression], FOS is a rapid-response transcription factor, typically linked to cellular activation. This suggests a readiness to respond to stimuli.<|Answer|>FOS is well-known to be quickly upregulated in cells experiencing external stimuli like cytokine signals or stress. For epithelial cells residing or sampled in the lymph node, FOS expression likely indicates they can mount swift transcriptional changes, possibly interacting with immune cells or adapting to new microenvironmental cues. This highlights a dynamic role beyond just structural coverage, extending to active immune or signaling participation.<|Keyword|>FOS, immediate early response, signaling potential\n",
    "\n",
    "<|Context|>A natural killer cell in the large intestine (normal) expresses NKG7, typically associated with cytotoxic function.<|Question|>Could NKG7 expression alone indicate robust cytotoxic capabilities in this intestinal NK cell type?<|Chain of Thoughts|>The [natural killer cell, large intestine, normal, gene expression] includes NKG7, known for roles in lytic granule function, which might reflect strong cytotoxic potential.<|Answer|>Yes. NKG7 is frequently involved in the formation and exocytosis of cytolytic granules, hallmark features of NK cell killing activity. Its presence in this normal large intestine NK cell suggests it is poised for direct cytotoxic actions against target cells, underscoring a key defense mechanism within the gut’s immune surveillance.<|Keyword|>yes, NKG7, cytotoxic function\n",
    "\n",
    "<|Context|>NKp44-negative group 3 innate lymphoid cells in the lymph node (normal) show high TMSB4X and IL7R.<|Question|>How do TMSB4X and IL7R together underscore both structural and developmental roles of these ILC3s in the lymph node?<|Chain of Thoughts|>From [NKp44-negative group 3 innate lymphoid cell, lymph node, normal, gene expression], TMSB4X is linked to actin dynamics; IL7R is crucial for ILC development, indicating both morphological and maturation aspects.<|Answer|>TMSB4X, known to modulate actin reorganization, could enhance the cell’s migratory or shape-adjusting capabilities. IL7R is integral for ILC survival and differentiation. Their co-expression suggests these ILC3s can adapt structurally while maintaining the potential for further development or expansion in the lymph node. This dual feature may support rapid recruitment, positioning, and local immune functions.<|Keyword|>TMSB4X, IL7R, structural remodeling, development\n",
    "\n",
    "<|Context|>A mesodermal cell in the lymph node (normal) expresses both VIM and LGALS1.<|Question|>What might the presence of LGALS1, a galectin, indicate about mesodermal cells interacting with immune cells in the lymph node?<|Chain of Thoughts|>The [mesodermal cell, lymph node, normal, gene expression] includes LGALS1, recognized for modulating immune cell behavior. It can bind glycoproteins on lymphocytes, potentially influencing cell migration or cytokine secretion.<|Answer|>LGALS1 (galectin-1) can bind to specific glycosylation patterns on immune cells, modulating their proliferation and apoptosis. In conjunction with VIM, representing a dynamic cytoskeleton, these mesodermal cells may provide a microenvironment that shapes how immune cells traffic and respond. This suggests an immunoregulatory capacity that complements their structural function in the lymph node.<|Keyword|>LGALS1, immunoregulation, mesodermal cell\n",
    "\n",
    "<|Context|>A memory B cell in the vermiform appendix (normal) shows strong HLA-DRA expression alongside costimulatory molecules.<|Question|>Does this indicate that memory B cells might function as potent antigen-presenting cells to T cells in the appendix?<|Chain of Thoughts|>From [memory B cell, vermiform appendix, normal, gene expression], HLA-DRA is crucial for MHC class II presentation. Memory B cells can present antigen to CD4+ T cells, especially if costimulatory genes are expressed.<|Answer|>Yes. By strongly expressing HLA-DRA, memory B cells in the appendix assemble MHC class II complexes for peptide display. Coupled with costimulatory molecules, they can effectively engage helper T cells and catalyze robust adaptive immune responses. This capacity underscores the integral role of memory B cells not just in antibody production but also in bridging innate and adaptive immunity through efficient antigen presentation.<|Keyword|>yes, HLA-DRA, antigen presentation, memory B cell\n",
    "\n",
    "<|Context|>T-helper 17 cells in the small intestine (normal) exhibit KLRB1 and LTB expression.<|Question|>How might LTB complement KLRB1 in shaping the local immune microenvironment for Th17 cells?<|Chain of Thoughts|>Looking at [T-helper 17 cell, small intestine, normal, gene expression], LTB (lymphotoxin beta) can drive local lymphoid structure formation, while KLRB1 marks mucosal T helper cells.<|Answer|>LTB can promote local stromal cell activation and formation of lymphoid-like structures, reinforcing protective immune niches within the intestine. KLRB1 serves as a mucosal homing or function-related marker, and together, these genes imply Th17 cells orchestrate tissue remodeling and immune cell recruitment in gut-associated lymphoid areas, fostering a supportive immune environment.<|Keyword|>LTB, KLRB1, local immune environment\n",
    "\n",
    "<|Context|>A pericyte in the vermiform appendix (normal) expresses MT-ND4, MT-ND1, and other mitochondrial genes.<|Question|>Do high mitochondrial gene levels suggest an active metabolic state in appendix pericytes for vascular support?<|Chain of Thoughts|>[Pericyte, vermiform appendix, normal, gene expression] shows multiple mitochondrial transcripts (MT-ND4, MT-ND1). Pericytes with high oxidative phosphorylation capacity could maintain contractile functions and regulate blood flow effectively.<|Answer|>Yes. Elevated expression of mitochondrial respiratory chain genes like MT-ND4 and MT-ND1 in pericytes implies high energy production via oxidative phosphorylation. This robust ATP availability supports contractile activity, signaling processes, and overall maintenance of microvascular tone in the appendix, where local blood supply regulation is vital for efficient immune and epithelial function.<|Keyword|>yes, MT-ND4, MT-ND1, high metabolic state\n",
    "\n",
    "<|Context|>Colon epithelial cells in the lymph node (normal) express CKB (creatine kinase B) and COX7C (a cytochrome c oxidase subunit).<|Question|>How do these mitochondrial and metabolic genes hint at the energetic demands of epithelial cells located in a lymph node environment?<|Chain of Thoughts|>The [colon epithelial cell, lymph node, normal, gene expression] includes CKB for energy buffering and COX7C for the electron transport chain, suggesting high ATP demands for these cells.<|Answer|>With CKB helping store and transfer phosphate groups for ATP regeneration and COX7C contributing to electron transport in mitochondria, these epithelial cells appear to maintain high energy flux. Even though they reside in or have migrated to a lymph node setting, they likely need robust metabolic capacity to sustain barrier or immunomodulatory functions, indicating an adaptable but energy-intensive role.<|Keyword|>CKB, COX7C, high energy demand\n",
    "\n",
    "<|Context|>A natural killer cell in the small intestine (Crohn disease) expresses CCL5 (RANTES) and GNLY (granulysin).<|Question|>Does the combination of CCL5 and GNLY suggest a more aggressive inflammatory response by NK cells in Crohn disease tissue?<|Chain of Thoughts|>The [natural killer cell, small intestine, Crohn disease, gene expression] includes chemokine CCL5 and cytotoxic GNLY, which together may intensify local immune cell recruitment and tissue damage.<|Answer|>Yes. CCL5 recruits a broad range of immune cells, amplifying inflammatory processes, while GNLY contributes potent antimicrobial and cytotoxic actions. Their combined expression in Crohn disease NK cells could substantially escalate tissue injury and inflammation, reflecting a more pathogenic NK cell phenotype that intensifies the mucosal immune assault and perpetuates gut inflammation.<|Keyword|>yes, CCL5, GNLY, aggressive inflammation\n",
    "\n",
    "<|Context|>A CD34-positive, CD56-positive, CD117-positive common innate lymphoid precursor in the large intestine (normal) expresses LTB alongside IL7R.<|Question|>How might LTB interact with IL7R signaling to guide the differentiation of these innate lymphoid precursors in the gut?<|Chain of Thoughts|>From [CD34-positive, CD56-positive, CD117-positive, large intestine, normal, gene expression], LTB can drive local stromal activation; IL7R fosters ILC lineage commitment. Combined, they might shape tissue-specific ILC differentiation.<|Answer|>LTB may stimulate stromal and endothelial cells to provide microenvironmental cues, while IL7R signaling ensures the precursor cell proliferates and matures into functional ILC subsets. This synergy can guide the precursor cell’s developmental trajectory in the intestine, potentially aiding in establishing the appropriate balance of innate lymphoid populations crucial for homeostatic or immune-protective functions.<|Keyword|>LTB, IL7R, precursor differentiation\n",
    "\n",
    "<|Context|>A reticular cell in the large intestine (normal) expresses DCN (decorin) and VIM.<|Question|>Why do DCN and VIM suggest a role for reticular cells in extracellular matrix organization and scaffolding in the gut?<|Chain of Thoughts|>[Reticular cell, large intestine, normal, gene expression] includes DCN, a proteoglycan influencing collagen fibrils, and VIM, an intermediate filament. This indicates structural maintenance roles.<|Answer|>DCN (decorin) regulates collagen fibrillogenesis, helping to organize and stabilize extracellular matrix structures, while VIM (vimentin) supports the cell’s internal framework for distributing mechanical stresses. Together, these genes highlight reticular cells’ essential function in sculpting and maintaining a supportive environment, ensuring the intestinal tissue’s architecture remains conducive to immune cell interactions and nutrient handling.<|Keyword|>DCN, VIM, extracellular matrix organization\n",
    "\n",
    "<|Context|>Motor neurons in the small intestine (normal) express TUBA1A and BTF3.<|Question|>Could BTF3, a general transcription factor, work alongside cytoskeletal genes to regulate neuronal function in the enteric system?<|Chain of Thoughts|>Looking at [motor neuron, small intestine, normal, gene expression], TUBA1A is structural, while BTF3 helps regulate transcription. This indicates integrated control of both morphological and transcriptional programs.<|Answer|>Yes. BTF3 can modulate core promoter activity, thus influencing the expression of numerous neuronal genes, while TUBA1A stabilizes microtubule networks essential for axonal transport and neuron shape. Together, they support the enteric neuron’s function, balancing the need for precise cytoskeletal organization with the ongoing transcriptional demands required for neurotransmission and neuronal maintenance in the small intestine.<|Keyword|>yes, BTF3, TUBA1A, neuronal function\n",
    "\n",
    "<|Context|>Group 3 innate lymphoid cells in the large intestine (normal) express KLF6 and TNFAIP3.<|Question|>How do KLF6 and TNFAIP3 highlight a potential regulatory checkpoint for inflammation within ILC3 populations?<|Chain of Thoughts|>In [group 3 innate lymphoid cell, large intestine, normal, gene expression], KLF6 is a transcription factor and TNFAIP3 is a negative regulator of NF-κB signaling, possibly limiting over-inflammation.<|Answer|>KLF6 can shape transcriptional responses to stress or immune signals, while TNFAIP3 (A20) is key for terminating NF-κB–driven inflammatory pathways. Together, these genes imply a built-in restraint mechanism in ILC3s, preventing excessive cytokine release or destructive inflammation. This suggests that ILC3s are capable of self-limiting responses to preserve tissue health and prevent inflammatory overdrive.<|Keyword|>KLF6, TNFAIP3, anti-inflammatory checkpoint\n",
    "\n",
    "<|Context|>A mesodermal cell in the lymph node (normal) expresses SPARC and TAGLN.<|Question|>Do SPARC and TAGLN co-expression suggest any fibroblast-like remodeling capabilities in the lymph node stroma?<|Chain of Thoughts|>From [mesodermal cell, lymph node, normal, gene expression], SPARC is involved in ECM remodeling, and TAGLN (transgelin) is linked to actin cytoskeleton, indicating a contractile or remodeling fibroblast-like phenotype.<|Answer|>SPARC modifies collagen and other extracellular components, while TAGLN regulates actin cross-linking and smooth muscle–like traits. Their combined expression points to a fibroblast-like mesodermal cell able to reshape the stromal matrix and potentially alter tissue architecture. This capacity helps the lymph node adapt its structural scaffold, facilitating immune cell trafficking and optimal function.<|Keyword|>SPARC, TAGLN, fibroblast-like remodeling\n",
    "\n",
    "<|Context|>Memory B cells in the vermiform appendix (normal) show expression of TXNIP.<|Question|>How might TXNIP, known for its role in redox regulation, influence memory B cell responsiveness in the appendix?<|Chain of Thoughts|>Assessing [memory B cell, vermiform appendix, normal, gene expression], TXNIP can modulate oxidative stress responses and cellular metabolism, potentially affecting B cell activation or survival.<|Answer|>TXNIP binds thioredoxin, limiting antioxidant activity and modulating redox-sensitive signaling. In memory B cells, tight control of oxidative stress may optimize their reactivation capacity and longevity. By regulating cellular metabolic states, TXNIP ensures memory B cells remain poised to proliferate and produce antibodies swiftly upon antigen re-encounter in the appendix microenvironment.<|Keyword|>TXNIP, redox regulation, memory B cell responsiveness\n",
    "\n",
    "<|Context|>T-helper 17 cells in the small intestine (normal) express SH3BGRL3 and CD3D.<|Question|>Does this combination of SH3BGRL3 and CD3D point to specialized signaling adaptations in Th17 cells for gut environments?<|Chain of Thoughts|>The [T-helper 17 cell, small intestine, normal, gene expression] shows CD3D as part of the T cell receptor complex, while SH3BGRL3 might modulate intracellular signaling cascades. Together, they might reflect specialized TCR activation pathways.<|Answer|>SH3BGRL3 has been implicated in signal transduction processes, possibly interacting with cytoskeletal or adaptor proteins. Coupled with CD3D, essential for T cell receptor assembly and activation, this gene pair could equip Th17 cells with finely tuned intracellular pathways. Such adaptations facilitate rapid and nuanced responses to luminal antigens, microbial flora, or inflammatory cues in the small intestine.<|Keyword|>SH3BGRL3, CD3D, specialized TCR signaling\n",
    "\n",
    "<|Context|>A pericyte in the vermiform appendix (normal) displays high MYL6 and CALD1 expression.<|Question|>How do MYL6 and CALD1 underscore dynamic control of blood vessel caliber by pericytes in gut-associated lymphoid tissues?<|Chain of Thoughts|>[Pericyte, vermiform appendix, normal, gene expression] includes MYL6, a myosin light chain subunit, and CALD1 for actin-myosin interactions. This suggests smooth muscle–like regulation of vascular caliber.<|Answer|>MYL6 contributes to the contractile apparatus that generates tension on vessel walls, and CALD1 modulates the interaction of actin and myosin. Their high expression highlights these pericytes as active regulators of microvascular diameter, enabling precise blood flow modulation. This is critical in gut-associated lymphoid tissues where immune cell trafficking and localized blood supply must be finely tuned.<|Keyword|>MYL6, CALD1, vascular caliber control\n",
    "\n",
    "<|Context|>Motor neurons in the small intestine (normal) express MARCKSL1 and MAP1B.<|Question|>What do MARCKSL1 and MAP1B indicate about the synaptic plasticity or axonal transport capacity of enteric motor neurons?<|Chain of Thoughts|>From [motor neuron, small intestine, normal, gene expression], MARCKSL1 is linked to cytoskeletal organization, MAP1B is a microtubule-associated protein, both important for synaptic function and neurite outgrowth.<|Answer|>MARCKSL1 helps coordinate actin dynamics at membranes, potentially affecting synapse formation and plasticity, while MAP1B stabilizes microtubules essential for axonal transport and structural integrity. Their co-expression suggests these enteric motor neurons are well-equipped for adaptive synaptic changes and efficient delivery of molecular cargo along axons, underpinning the finely tuned motility and sensory reflexes of the gut.<|Keyword|>MARCKSL1, MAP1B, synaptic plasticity, axonal transport\n",
    "\n",
    "\n",
    "\n",
    "\n",
    "\n",
    "\"\"\""
   ]
  },
  {
   "cell_type": "markdown",
   "metadata": {},
   "source": [
    "run the following cell to convert the output into a hf dataset"
   ]
  },
  {
   "cell_type": "code",
   "execution_count": 62,
   "metadata": {},
   "outputs": [
    {
     "name": "stdout",
     "output_type": "stream",
     "text": [
      "Error in the following QA pair:\n",
      "\n",
      "\n",
      "\n",
      "\n",
      "\n",
      "Example:\n"
     ]
    },
    {
     "data": {
      "text/plain": [
       "{'Context': 'Natural killer cells in the large intestine (normal) and small intestine (Crohn disease) show differences in certain immune-related genes.',\n",
       " 'Summary_Dataset': 'Cell Type: natural killer cell, Tissue: large intestine, Disease: normal, Gene Expression: MALAT1 MT-CO1 B2M TMSB4X EEF1A1 MT-CO2 RPS27 MT-CO3 RPL41 RPL10 RPLP1 RPL13 ACTB RPS18 RPS27A RPS15A RPS19 RPL34 RPS12 MT-CYB PTMA RPS3 RPS3A MT-ATP6 RPL32 RPL39 RPS14 MT-ND4 RPS23 RPL30 RPS4X MT-ND3 RPL28 RPL11 RPL21 RPL3 RPL18A RPS28 RPS2 RPL19 RPS29 H3-3B RPLP2 TPT1 RPS6 RPS15 RPS8 RPL13A NKG7 RPL23A RPL35A RPS24 RPL15 SRGN RPL26 RPL37 HLA-B RPS13 EIF1 FAU RPS7 RPL29 PFN1 RPL18 RPL8 RPLP0 RPL12 RPL6 RPL7A TMSB10 ZFP36 RPS25 CCL4 MT-ND2 RPL37A RPL9 RPL14 RPL36 RPL10A RPS16 BTG1 HSP90AA1 HLA-A RACK1 FTH1 FTL RPS9 RPS21 RPS5 MT-ND1 HLA-C RPL31 RPSA RPL35 FOS MT-ND4L RPL27A ACTG1 RPL5 CCL5 KLRB1 RPL24 RPL7 TSC22D3 UBA52 GAPDH TYROBP NFKBIA RPL27 CD7 UBC IFITM2 HSP90AB1 CFL1 GZMA RPL22 IFITM1 NACA RPL4 RPS26 KLRD1 MT-ND5 CMC1 UBB DDX5 SERF2 CCL3 JUN PABPC1 ATP5F1E CD69 ZFP36L2 MT-ATP8 JUNB CXCR4 DUSP1 EEF2 H3-3A RPL38 HSPA8 EEF1D MYL6\\nCell Type: group 3 innate lymphoid cell, Tissue: large intestine, Disease: normal, Gene Expression: MALAT1 MT-CO1 EEF1A1 B2M MT-CO3 MT-CO2 RPL41 RPL10 RPLP1 RPL13 RPS27 MT-CYB RPL34 RPS27A FOS RPS18 RPL32 MT-ATP6 MT-ND3 RPS19 TMSB4X RPS4X RPS6 DUSP1 RPS12 RPS14 RPS3A TSC22D3 RPL21 MT-ND4 TPT1 RPS3 RPS15A RPL3 BTG1 RPL11 RPS2 PTMA RPS23 RPL39 RPS13 RPL30 AREG JUN IL7R RPS28 MT-ND2 RPL19 ZFP36 RPL15 RPL35A NFKBIA ACTB RPS15 MT-ND1 EIF1 ZFP36L2 RPL18A RPL8 HLA-B RPS8 RPL6 H3-3B RPLP2 RPL13A RPL28 CXCR4 RPL12 RPS24 RPLP0 RPS9 RPL7 RPS29 FTH1 RPL9 RPS7 RPL29 RPL14 SRGN RPL26 RPL18 RPL37 RPL10A RPL23A HSP90AA1 RACK1 CD69 FAU JUNB RPS25 RPS5 TXNIP FTL RPL36 RPL5 RPS16 MT-ND4L KLF6 TNFAIP3 RPL7A RPL31 HLA-A HLA-C UBC RPL37A RPS21 UBB RPL35 KLRB1 RPSA HSP90AB1 RPL27A RPL4 FXYD5 PABPC1 EEF1D IGHA1 RPL22 NACA IER2 IGKC FOSB HSPA8 MT-ND5 DDX5 RPL24 RGS1 EEF2 PNRC1 DDIT4 ZFP36L1 HNRNPA1 ACTG1 ITM2B HNRNPA2B1 CITED2 UBA52 NPM1 TMSB10 GAPDH ID2\\nCell Type: oligodendrocyte precursor cell, Tissue: large intestine, Disease: normal, Gene Expression: MALAT1 EEF1A1 RPL10 RPL41 RPLP1 VIM RPS3A RPL13 RPS2 RPS18 RPS8 RPL32 RPL3 RPS3 RPL34 RPS27 RPS23 RPS14 RPL13A RPS15A MT-CO1 RPS6 RPL11 RPS12 RPL15 RPS24 RPS4X RPS19 RPL39 RPL18A RPL6 RPS27A RPL21 RPL7 HNRNPA1 RPL35A RPL5 RPLP0 RPS15 RPL26 RPL19 PTMA RPL37A RPL23A RPS7 MT-CO3 RPL7A GAPDH ACTG1 RPS28 RPS13 RPL9 RPL30 RPL12 RPL10A RPL29 RPL37 RACK1 RPL28 RPLP2 RPL18 RPL8 RPS25 RPS9 RPL31 RPS29 ACTB RPL36 RPS5 RPS16 RPL27A RPL14 MT-CO2 RPL24 TPT1 MDK RPL35 NACA RPSA RPL4 RPL22 NPM1 H3-3A TMSB10 FTH1 RPL23 RPS11 H3-3B MT-ND4 RPL27 HSP90AB1 MT-CYB RPS21 RPS20 RPL38 MT-ATP6 BTF3 FAU EEF2 TMSB4X MT-ND3 FTL MT-ND1 UBA52 HMGB1 RPS17 PPIA TUBA1A SLC25A6 YBX1 STMN1 ATP5MC2 TUBB RPS10 MARCKSL1 EIF1 RPS26 RPL36A LDHB MT-ND2 EIF3E NAP1L1 HSP90AA1 EEF1D UBB COX7C PABPC1 CIRBP EEF1B2 CFL1 SUMO2 TUBA1B ZFAS1 PPDPF RPL17 SRP14 ATP5F1E HNRNPA2B1 HNRNPDL ZFP36L1 EIF3L H2AZ1 SLC25A3 SERF2 MYL6 PFDN5 PFN1\\nCell Type: T cell, Tissue: small intestine, Disease: normal, Gene Expression: MALAT1 TMSB4X MT-CO1 EEF1A1 RPLP1 B2M ACTB RPL10 RPL41 RPL13 MT-CO2 RPS27 RPS12 RPL28 TPT1 MT-CO3 RPS18 RPS19 RPL32 RPL39 RPS8 RPL34 RPS24 RPS3 RPL19 RPS23 RPS28 RPS4X RPL30 RPL18A RPL11 PTMA RPS27A RPS3A RPS15A RPS2 RPL37 RPS15 RPS14 RPS6 MT-CYB RPL12 GAPDH RPLP2 RPL29 RPLP0 PFN1 RPS13 RPL3 RPL15 RPL18 MT-ATP6 RPL8 RPL7A RPS7 RPS26 RPL35A HSP90AA1 ACTG1 HLA-B H3-3B RPL23A TMSB10 RPL21 MT-ND4L RPS25 RPL14 RPL37A FTH1 RPS16 MT-ND4 FAU RACK1 RPL13A RPL36 MT-ND3 RPS5 RPS29 RPL6 RPS21 RPL9 RPS9 RPL10A FTL HLA-A IL32 EIF1 RPSA RPL35 NACA RPL24 HLA-C KLRB1 IFITM1 SERF2 RPL22 RPL5 MYL6 LTB UBA52 RPL31 MT-ATP8 JUN RPL27 CFL1 PPIA IL7R IFITM2 HSPA1B CD52 RPL4 MIF CD7 RPL26 RPL7 ARHGDIB HSP90AB1 EEF1B2 ATP5F1E EVL MT-ND1 CD69 FOS H3-3A UBC HSPA1A RPS11 HNRNPA1 SH3BGRL3 RPL27A MT-ND5 CORO1A SRGN EEF1D CD3E DNAJB1 BTG1 RPL38 HSPA8 EEF2 HNRNPA2B1 CD3D LSP1 BTF3 PABPC1 NPM1 HLA-E ZFP36 UBB RAC2 ATP5MG\\nCell Type: NKp44-negative group 3 innate lymphoid cell, human, Tissue: lymph node, Disease: normal, Gene Expression: MALAT1 MT-CO1 EEF1A1 FOS RPLP1 MT-CO2 ACTB JUN RPL10 RPL13 MT-CO3 DUSP1 TPT1 B2M RPS27 TMSB4X RPS12 RPL32 RPL30 RPL28 JUNB RPL39 RPL41 RPL34 RPS24 RPS3A RPS15A RPS8 RPS18 IL7R RPS28 RPL19 RPS13 MT-CYB MT-ND4L DNAJB1 EIF1 RPS23 RPL37 RPS4X RPS27A RPL11 RPS2 MT-ND3 HSP90AA1 RPL29 MT-ATP6 PTMA RPS3 RPL12 HSPA1B RPS19 RPL18A RPS21 KLF6 RPLP0 RPS14 H3-3B CD69 LTB ZFP36 RPL15 ACTG1 RPL8 RPL18 RPS15 NFKBIA RPL35A RPS6 MT-ATP8 RACK1 HSPA1A RPL37A RPL7A RPLP2 RPL14 UBC FTL RPS29 FAU RPL3 CD52 RPL6 RPS25 GAPDH RPL36 IER2 RPS7 HLA-B PPP1R15A RPL23A RPL9 NACA BTG1 FOSB HSPA8 RPL21 RPL5 TMSB10 KLRB1 RPS5 HSP90AB1 PFN1 RPL22 PABPC1 BTG2 RPL26 RPL24 UBB RPS16 FTH1 RPL10A RPL35 HLA-C HLA-E MT-ND5 RPS26 RPS9 EEF1B2 EEF2 RPSA EVL SARAF PNRC1 TNFAIP3 ARHGDIB\\nCell Type: mesodermal cell, Tissue: lymph node, Disease: normal, Gene Expression: EEF1A1 RPL10 RPS8 RPLP1 ACTB RPL26 RPL34 RPS24 RPL13 RPL18A RPS12 RPS18 RPLP0 RPS14 RPL32 MALAT1 RPL15 TMSB10 RPS23 RPL12 RPS28 RPL7A RPS4X VIM RPL39 RPS27 RPS3A MT-CO2 RPL37A RPS3 RPL14 RPL6 RPL37 RPL29 RPL18 RPL30 TMSB4X RPL11 RPS21 TPT1 MT-CO1 RPL28 RPS15 RPL35A RPS27A RPL3 MT-ND3 RACK1 MT-CYB RPS15A RPS2 SPARC RPLP2 ACTG1 RPS13 RPL19 LGALS1 RPL22 PTMA MT-CO3 RPL21 RPS7 EIF1 GAPDH MT-ND4L FTH1 RPL8 RPS9 MT-ND5 MT-ATP6 RPL9 RPL24 RPL5 RPS6 RPL31 H3-3A H3-3B FTL RPL4 RPL35 RPL23A RPL13A MYL6 ARPC2 RPS29 RPL36 RPS25 EEF1G PABPC1 RPL38 RPS16 SERF2 RPS5 RPL41 TAGLN COMMD6 ZFP36L1 RPSA RPS19 FAU EEF2 NACA RPL10A CHCHD2 EEF1B2 HSPA5 UBB B2M BANF1 ZFAS1 IGFBP7 RPL27 HSPA8 FHL1 FOS TUBA1B GABARAP MYL9 RPL17 PCBP2 UBE2L3 NDUFA4 CALD1 GSTP1 COX7C RPS20 OST4 CIRBP FXYD1 SARAF CCNI SLC25A6 ST13 CFL1 MT-ATP8 UBE2D3 S100A6 RHOA PFN1 BTF3 HNRNPK HSP90AB1 HSBP1 UQCRB HNRNPA2B1 TOMM7 EDF1\\nCell Type: memory B cell, Tissue: vermiform appendix, Disease: normal, Gene Expression: MALAT1 EEF1A1 CD74 RPL41 MT-CO1 RPLP1 MT-CO2 RPS27 RPS12 RPL10 MTRNR2L12 B2M RPS8 RPL39 RPL13 RPL32 RPL30 RPL28 RPL34 RPS28 RPL11 MT-CO3 RPL19 RPS27A RPS23 RPS15A MT-ND3 RPS3 RPL37 MT-ND4L MT-ATP6 RPL18A RPS3A RPS14 MT-CYB RPS19 ACTB RPS18 RPL8 TMSB4X RPS13 HLA-B RPS26 RPL12 TPT1 RPS21 RPS15 RPLP2 RPS6 HLA-DRA RPS2 RPL35A RPL29 RPS7 FAU RPS4X RPL18 RPL7A RPS29 RPL36 RPS24 RPS25 RPL3 RPL21 RPL14 RPL26 PTMA RPL6 RPLP0 RPS5 RPL5 RPL9 RPL23A RPL15 RPS16 RPL22 RPSA MT-ND4 FTH1 RACK1 EEF1B2 RPL37A HLA-DRB1 HLA-C RPL10A JUN NACA RPL13A UBC RPS9 FTL BTG1 TXNIP MT-ND5 MT-ND1 RPL24 HSP90AA1 CD37 H3-3B HLA-DPA1 TMSB10 DUSP1 PABPC1 EIF1 TSC22D3 HSP90AB1 ACTG1 RPL35 UBA52 RPL36A EEF2 HLA-A LAPTM5 RPL4 HLA-DPB1 MT-ND2 GAPDH MS4A1 FOS EEF1D HLA-E HSPA1A PFDN5 RPL38 PFN1 ZFP36L2 RPL7 KLF6 CD52 CD79A SERF2 RPS11 JUNB RPL27 PCBP2 RPL31 IGKC RPL17 OAZ1 HSPA8 HSPA1B CYBA NPM1 HLA-DQB1 CXCR4 DNAJB1 HLA-DQA1 HNRNPA2B1 ARHGDIB PPIA TOMM7 HNRNPA1 BTF3 ZFP36 HLA-DRB5 EZR RPS10 ATP5F1E RPL36AL VIM\\nCell Type: T-helper 17 cell, Tissue: small intestine, Disease: normal, Gene Expression: MALAT1 TMSB4X B2M RPLP1 RPS27 MT-CO1 RPL41 EEF1A1 RPL10 RPL13 RPS29 RPL13A RPS18 MT-CO2 RPS12 RPL34 RPL21 RPS19 RPL32 RPLP2 RPS15A RPL28 MT-ND2 RPL39 MT-CO3 TPT1 RPS6 RPS27A RPS2 MT-ND3 MT-ND4 RPS28 RPS4X RPS3A RPL11 RPL23A RPL27A RPS3 RPL18A RPS14 RPL3 RPS15 RPL26 RPL30 RPL19 RPL37 MT-ATP6 RPS25 ACTB RPL12 RPL36 RPL35A RPL31 PTMA RPL37A MT-CYB RPL15 RPS23 KLRB1 RPS8 RPL9 RPL35 MT-ND1 RPS16 RPL7 RPS13 RPS24 RPL8 RPL6 RPL38 RPL14 TMSB10 FTH1 RPL29 RPS9 RPS20 RPS7 RPL18 BTG1 UBA52 RPL10A FAU RPL27 HLA-B RPS21 RPLP0 CD52 RPS5 RPL7A RPSA FTL RPL5 RACK1 RPS17 EIF1 RPL22 RPL4 H3-3B RPL36A HLA-C RPS10 SERF2 RPS11 PFN1 RPL24 ZFP36L2 ATP5F1E S100A4 HLA-A GAPDH EEF1D RPS26 TSC22D3 RPL23 CD69 IL7R DUSP1 JUNB KLF6 LTB SH3BGRL3 FOS NACA DDX5 TRAC CCL5 CD3D HNRNPA1 S100A6 PABPC1 RGS1 TMA7 HLA-E EEF2 RPL17 EEF1B2 ACTG1 PFDN5 TOMM7 IL32 CD3E COX7C TXNIP CD2 CFL1 ID2 ATP5MG LINC01871 H3-3A OAZ1 MYL6 RPL36AL PPDPF OST4\\nCell Type: pericyte, Tissue: vermiform appendix, Disease: normal, Gene Expression: MALAT1 MT-CO1 MT-CO2 MT-CO3 MT-CYB MT-ND4L ACTB MT-ATP6 MT-ND3 MT2A TAGLN MT-ND4 MT-ND1 ACTA2 EEF1A1 VIM MYL9 SPARCL1 MYH11 MT-ND5 MT-ND2 MT-ATP8 IGFBP7 JUNB CALD1 TPM2 FTH1 RPL41 PTMA RPL10 RPLP1 RHOB MYL6 GADD45B IGFBP5 MT1M DSTN H3-3B ADIRF RPS8 S100A6 FOS SORBS2 ZFP36 ACTG1 RPL19 TPM1 EIF1 RPL34 MT1X RPL32 CSRP1 CDKN1A ZFAND5 RPL13 NR4A1 RPL30 RPS7 RPL7A RPL8 FLNA FAU TPT1 RPL11 ADAMTS1 TIMP3 RPS3A RPS3 RPS27 SOD3 CAV1 RPL6 HSPB1 RPS13 RPS14 B2M NEAT1 CRISPLD2 RPS23 RPS24 MTRNR2L12 RPL14 FTL A2M TMSB4X RPS27A RPL5 RPS28 RPL29 RPL3 LPP PDK4 BTG2 RPS19 FHL1 RPS12 TSC22D1 ZFP36L1 PNRC1 RPL35A CCNI RPL18 RPS18 GAPDH RPL18A RPS6 RPS4X RPS21 MT1E ITM2B CSRP2 CEBPD NACA BCAM RPL12 RPL24 RPLP0 RPL15 NUDT4 RPS15 RPS15A RPS2 RACK1 PALLD MCAM RPL39 RPL37A SELENOM GLUL RPS16 NDUFA4 RPL37\\nCell Type: colon epithelial cell, Tissue: lymph node, Disease: normal, Gene Expression: RPL41 MT-CO1 EEF1A1 MT-CO2 RPS18 RPS3 RPL32 RPL28 RPL12 RPLP1 RPS8 RPL10 RPS23 FTL RPS4X RPS24 RPL30 RPL39 RPL14 RPS3A MT-ND4 RPLP0 RPL7A RPL18A MT1G RPS14 RPL8 RPS13 RPS27A RPS9 RPL18 RPS12 RPL29 TPT1 RPS28 RPS26 RPL34 RPL11 RPS2 RPS27 MT-CO3 RPS19 RACK1 RPLP2 RPL37 RPL19 MALAT1 FOS RPS15A MT-ATP6 RPL13 MT-CYB PTMA RPL5 RPL37A RPL9 RPS7 RPS6 RPL23A RPL36 FTH1 MT-ND4L RPL35A RPL22 RPS5 TMSB10 RPL24 RPS29 RPL3 EEF1B2 RPL15 ACTB LGALS4 GAPDH COX7C CKB MT1H NACA RPL10A FAU NPM1 RPSA RPS21 ATP5MC2 AGR2 ACTG1 RPS15 EIF1 MT1X RPL21 RPS11 RPL31 RPS16 KLF5 MT1E MT2A ATP5F1C SRP14 RPL27 UBB GNG5 MT-ND3 BANF1 CHCHD2 HINT1 IER2 HSP90AA1 TMSB4X RPL6 MIF YBX1 TMEM141 GSTP1 BTF3 RPL13A CUTA PHGR1 CLIC1 RPL26 KRT8 RPL27A UBL5 KLF6 ELOB PHB SRRM2 MT-ND5\\nCell Type: natural killer cell, Tissue: small intestine, Disease: Crohn disease, Gene Expression: MALAT1 TMSB4X MT-CO1 B2M RPS27 RPL41 RPL10 MT-CO2 EEF1A1 MT-CO3 RPLP1 RPL13 RPS18 RPLP2 RPL13A RPS15A RPS29 MT-ND4 RPL21 RPS19 RPS12 RPS27A RPL32 RPL34 RPS14 RPL39 MT-ND3 RPS3A TPT1 ACTB TMSB10 RPS6 RPL28 RPL27A RPS28 RPS3 PTMA MT-ND2 RPL23A RPL3 RPS2 MT-ATP6 RPL37 RPL18A RPL37A MT-CYB RPL26 RPL19 RPS23 RPL11 RPS24 RPS15 RPL30 RPL15 RPS8 RPS4X RPL9 RPL35A NKG7 RPL35 RPS25 MT-ND1 RPL12 RPL31 RPL7 RPL36 RPS16 KLRB1 CCL5 RPL8 RPL29 HLA-B FAU RPL27 RPS13 RPL18 RPS7 RPL10A FTH1 RPS5 RPL14 UBA52 RPS21 RPL6 PFN1 RPL38 RPS9 RPL7A FTL RPS20 SERF2 H3-3B RPSA BTG1 EIF1 TYROBP RACK1 RPL5 RPS11 HLA-A HLA-C RPL24 RPS17 ATP5F1E CD7 GNLY RPL22 IFITM2 RPS26 SRGN HCST RPS10 RPL23 EEF1D CCL4 KLRD1 CMC1 ACTG1 RPLP0 RPL4 H3-3A TRDC IGKC GAPDH NACA TMA7 RPL36A TOMM7 HNRNPA1 CFL1\\nCell Type: CD34-positive, CD56-positive, CD117-positive common innate lymphoid precursor, human, Tissue: large intestine, Disease: normal, Gene Expression: MALAT1 EEF1A1 MT-CO1 RPLP1 RPL10 RPL13 MT-CO2 RPS15A RPL41 MT-CO3 RPS23 RPL32 RPS12 RPS27 RPL34 RPS18 RPL39 RPL11 RPL28 RPS3A ACTB TPT1 TMSB4X RPS8 RPS24 RPS4X RPS19 RPS28 RPL37 RPS27A RPS14 RPS3 LTB B2M PTMA RPS2 RPL3 RPL6 RPL15 MT-CYB RPS15 RPS6 RPL19 MT-ATP6 GAPDH RPL37A RPL18A RPLP2 RPLP0 RPL13A RPL8 RPL30 RPL23A RPL14 RPL26 RPL12 RPS7 RPL21 RPS13 RACK1 RPL7A RPL35A MT-ND4 RPL29 MT-ND3 RPL18 RPL5 RPL10A RPS29 ACTG1 RPL7 RPSA CD52 RPL9 RPS16 RPL36 NACA RPL24 RPS9 RPL31 HNRNPA1 IL7R H3-3B RPL35 RPS5 RPS25 RPL27A FTH1 LST1 RPL22 FAU RPS21 HSP90AA1 SERF2 RPL27 EIF1 RPL4 PFN1 HSPB1 H3-3A UBA52 FTL EEF1B2 EEF2 CFL1 PABPC1 BTF3 UBB MT-ND2 MYL6 PPIA NPM1 RPL38 NFKBIA KLRB1 RPS26 MT-ND4L TRBC1 ZFP36 ZFP36L1 MT-ND1 DUSP1 ATP5MG SRGN COX7C RPS11 FOS RPS20 RPL17 ATP5F1E HSP90AB1 RPL23 TMSB10 RPS10 HSPA1A UQCRB RPL36A\\nCell Type: reticular cell, Tissue: large intestine, Disease: normal, Gene Expression: MALAT1 RPL41 FTH1 MT-CO1 RPS27 RPL10 RPL34 MT-CO3 RPL13 EEF1A1 RPL21 RPS18 RPL13A B2M TMSB4X MT-CYB MT-CO2 RPL32 RPS6 RPLP1 RPL7 RPS2 RPS14 RPS27A MT-ND4 RPS4X DCN RPL3 RPL18A RPS19 RPL15 RPL11 RPS8 RPS3A FTL RPL23A RPS28 RPL35A RPS15 RPL12 RPS3 MT-ND3 RPLP0 MT-ND2 RPL36 RPS12 RPS13 RPS23 RPS15A RPL19 MT-ATP6 RPL8 RPL31 RPL26 RPL39 RPL10A RPL6 RPLP2 RPS9 S100A6 RPS25 MT-ND1 RPL27A ADH1B RPS29 RPL9 VIM RPS24 RPL30 PTMA RPL18 RACK1 RPL37A RPL29 C1S FAU RPS16 RPL14 RPS7 RPL35 IGFBP7 RPS5 C1R EIF1 TPT1 RPL37 C7 RPL7A NACA RPL5 RPS20 RPL24 RPL28 GLUL MGP RPL22 GSN SERPING1 GPX3 SPARCL1 TMSB10 SERPINF1 RPL38 TSC22D3 CST3 RPL4 EEF2 HLA-B IGFBP5 EEF1D TXNIP CEBPD UBA52 IFITM3 RPS11 HNRNPA1 H3-3B NPM1 RPL36A PFDN5 CD63 CALD1 APOE RARRES2 CIRBP UBC CCL21 UBB JUN RPL27 SRP14 RPL36AL RPL23 FBLN1 SERF2 PTGDS HLA-C SELENOP RPSA BTF3 ADAMDEC1 HSP90AB1 RPS21 CD74 RPS17 TSC22D1\\nCell Type: motor neuron, Tissue: small intestine, Disease: normal, Gene Expression: MALAT1 EEF1A1 MT-CO1 RPL10 PTMA TUBA1A TMSB10 MT-CO3 ACTG1 ACTB RPL13 MT-CO2 RPS3A RPS8 RPLP1 RPL34 RPL41 RPL32 RPS4X H3-3A FTH1 RPL11 RPS23 RPS14 RPS24 RPL3 RPS3 RPL15 STMN1 RPS2 RPS27A RPS18 RPL6 RPL18A GAPDH TUBB RPS12 RPL19 RPS15A RPL39 RPS19 RPS15 TMSB4X MT-CYB RPS27 RPL8 H3-3B RPS6 RPL35A RPL13A RPL5 HNRNPA1 RPL7A RPL21 RPL28 RPS13 TUBB2B MT-ND4 RPL30 RACK1 RPL37A RPL29 RPL18 RPS28 RPLP0 RPL7 RPL26 RPS7 RPL14 RPL12 MT-ATP6 RPL9 RPL24 RPLP2 FTL RPS9 LINC00682 RPL23A RPS5 NACA RPL10A NREP MT-ND3 CALM2 RPL37 MDK TPT1 CIRBP RPL22 MYL6 SRP14 RPS25 MARCKSL1 HOXB5 MT-ND1 RPS16 RPL36 MEG3 SOX4 EIF1 FAU RPL31 RPL4 MLLT11 MAP1B HSP90AB1 RPSA EEF2 RPL35 BTF3 NPM1 RPL27A HSP90AA1 RPS11 CFL1 PPIA STMN2 RPS29 UBB ATP5MC2 MT-ND2 LDHB SUMO2 RPS21 PPDPF RBP1 COX7C HMGB1 SLC25A6 UBA52 RPL27 CCNI RPL23 RPS26 CALM1 YBX1 BEX3 RPL38 SYT1 PRPH PCSK1N\\n',\n",
       " 'Question': 'Do the natural killer cells from the small intestine with Crohn disease display elevated markers that hint at heightened immune activation compared to the natural killer cells from the large intestine with a normal condition?',\n",
       " 'Chain of Thoughts': 'Comparing the [natural killer cell, large intestine, normal, gene expression] with [natural killer cell, small intestine, Crohn disease, gene expression] reveals upregulation of TMSB4X, B2M, and immune-related genes like NKG7. This indicates a potential heightened immune response in the Crohn disease context.',\n",
       " 'Answer': 'Yes. The natural killer cell from the Crohn disease small intestine expresses multiple genes (for instance, TMSB4X, B2M, and NKG7) that are notably present and can be associated with increased immune reactivity. In particular, NKG7 has been implicated in cell-mediated cytotoxicity, and together with other immune-related genes, suggests enhanced immune activation in the diseased tissue. By contrast, the natural killer cell from the normal large intestine still expresses immune genes such as MALAT1 but lacks pronounced upregulation of certain inflammation-related markers.',\n",
       " 'Keyword': 'yes, NKG7, B2M, TMSB4X, heightened immune activation',\n",
       " 'full_QA_pair': '<|Question|>Natural killer cells in the large intestine (normal) and small intestine (Crohn disease) show differences in certain immune-related genes.<|Question|>Do the natural killer cells from the small intestine with Crohn disease display elevated markers that hint at heightened immune activation compared to the natural killer cells from the large intestine with a normal condition?<|Chain of Thoughts|>Comparing the [natural killer cell, large intestine, normal, gene expression] with [natural killer cell, small intestine, Crohn disease, gene expression] reveals upregulation of TMSB4X, B2M, and immune-related genes like NKG7. This indicates a potential heightened immune response in the Crohn disease context.<|Answer|>Yes. The natural killer cell from the Crohn disease small intestine expresses multiple genes (for instance, TMSB4X, B2M, and NKG7) that are notably present and can be associated with increased immune reactivity. In particular, NKG7 has been implicated in cell-mediated cytotoxicity, and together with other immune-related genes, suggests enhanced immune activation in the diseased tissue. By contrast, the natural killer cell from the normal large intestine still expresses immune genes such as MALAT1 but lacks pronounced upregulation of certain inflammation-related markers.<|Keyword|>yes, NKG7, B2M, TMSB4X, heightened immune activation',\n",
       " 'Dataset_Name': 'Total - Cells of the human intestinal tract mapped across space and time',\n",
       " 'Publication_URL': 'https://cellxgene.cziscience.com/collections/e33ffcd3-7cbf-4b8c-b0f4-85587ad5019a',\n",
       " 'Dataset_Index': '536',\n",
       " 'Used_Rows': [232,\n",
       "  143,\n",
       "  242,\n",
       "  51,\n",
       "  44,\n",
       "  198,\n",
       "  192,\n",
       "  60,\n",
       "  249,\n",
       "  78,\n",
       "  234,\n",
       "  20,\n",
       "  276,\n",
       "  213]}"
      ]
     },
     "execution_count": 62,
     "metadata": {},
     "output_type": "execute_result"
    }
   ],
   "source": [
    "qa_dict_list = []\n",
    "for QA_pair in output.split(\"<|Context|>\"):\n",
    "    if not QA_pair:\n",
    "        continue\n",
    "    try:\n",
    "        context = QA_pair.split(\"<|Question|>\")[0].strip()\n",
    "        question = QA_pair.split(\"<|Question|>\")[1].split(\"<|Chain of Thoughts|>\")[0].strip()\n",
    "        chain_of_thoughts = QA_pair.split(\"<|Chain of Thoughts|>\")[1].split(\"<|Answer|>\")[0].strip()\n",
    "        answer = QA_pair.split(\"<|Answer|>\")[1].split(\"<|Keyword|>\")[0].strip()\n",
    "        label = QA_pair.split(\"<|Keyword|>\")[1].strip()\n",
    "    except:\n",
    "        print(\"Error in the following QA pair:\")\n",
    "        print(QA_pair)\n",
    "        continue\n",
    "\n",
    "    entry = {\n",
    "        \"Context\": context,\n",
    "        \"Summary_Dataset\": dataset_in_prompt,\n",
    "        \"Question\": question, \n",
    "        \"Chain of Thoughts\": chain_of_thoughts,\n",
    "        \"Answer\": answer,\n",
    "        \"Keyword\": label,\n",
    "        \"full_QA_pair\": \"<|Question|>\"+QA_pair.strip(), \n",
    "        \"Dataset_Name\": dataset_name,\n",
    "        \"Publication_URL\": cur_url,\n",
    "        \"Dataset_Index\": dataset_index,\n",
    "        \"Used_Rows\": sampled_indices,\n",
    "    }\n",
    "    qa_dict_list.append(entry)\n",
    "\n",
    "qa_dict = {key: [d[key] for d in qa_dict_list] for key in qa_dict_list[0].keys()} # list of dicts to dict of lists\n",
    "\n",
    "new_hf_dataset = Dataset.from_dict(qa_dict)\n",
    "print(\"Example:\")\n",
    "new_hf_dataset[0]"
   ]
  },
  {
   "cell_type": "markdown",
   "metadata": {},
   "source": [
    "run the following cell every time to save updates \\\n",
    "sometimes save_to_disk will fail because it doesn't automatically overwrites, just delete the old file adn run it again"
   ]
  },
  {
   "cell_type": "code",
   "execution_count": 63,
   "metadata": {},
   "outputs": [
    {
     "name": "stderr",
     "output_type": "stream",
     "text": [
      "/users/zlyu12/.conda/envs/cell2sentence-tc/lib/python3.10/site-packages/datasets/table.py:1395: FutureWarning: promote has been superseded by promote_options='default'.\n",
      "  block_group = [InMemoryTable(cls._concat_blocks(list(block_group), axis=axis))]\n",
      "/users/zlyu12/.conda/envs/cell2sentence-tc/lib/python3.10/site-packages/datasets/table.py:1421: FutureWarning: promote has been superseded by promote_options='default'.\n",
      "  table = cls._concat_blocks(blocks, axis=0)\n"
     ]
    },
    {
     "data": {
      "text/plain": [
       "Dataset({\n",
       "    features: ['Context', 'Summary_Dataset', 'Question', 'Chain of Thoughts', 'Answer', 'Keyword', 'full_QA_pair', 'Dataset_Name', 'Publication_URL', 'Dataset_Index', 'Used_Rows'],\n",
       "    num_rows: 409\n",
       "})"
      ]
     },
     "execution_count": 63,
     "metadata": {},
     "output_type": "execute_result"
    }
   ],
   "source": [
    "hf_dataset = concatenate_datasets([hf_dataset, new_hf_dataset])\n",
    "hf_dataset\n"
   ]
  },
  {
   "cell_type": "code",
   "execution_count": 64,
   "metadata": {},
   "outputs": [
    {
     "name": "stderr",
     "output_type": "stream",
     "text": [
      "Saving the dataset (1/1 shards): 100%|██████████| 409/409 [00:00<00:00, 16369.30 examples/s]"
     ]
    },
    {
     "name": "stdout",
     "output_type": "stream",
     "text": [
      "current hf_dataset: \n"
     ]
    },
    {
     "name": "stderr",
     "output_type": "stream",
     "text": [
      "\n"
     ]
    },
    {
     "data": {
      "text/plain": [
       "Dataset({\n",
       "    features: ['Context', 'Summary_Dataset', 'Question', 'Chain of Thoughts', 'Answer', 'Keyword', 'full_QA_pair', 'Dataset_Name', 'Publication_URL', 'Dataset_Index', 'Used_Rows'],\n",
       "    num_rows: 409\n",
       "})"
      ]
     },
     "execution_count": 64,
     "metadata": {},
     "output_type": "execute_result"
    }
   ],
   "source": [
    "hf_dataset.save_to_disk(\"dataset515-536_1-24-25_hf_dataset\")\n",
    "print(\"current hf_dataset: \")\n",
    "hf_dataset"
   ]
  }
 ],
 "metadata": {
  "kernelspec": {
   "display_name": "cell2sentence-tc",
   "language": "python",
   "name": "python3"
  },
  "language_info": {
   "codemirror_mode": {
    "name": "ipython",
    "version": 3
   },
   "file_extension": ".py",
   "mimetype": "text/x-python",
   "name": "python",
   "nbconvert_exporter": "python",
   "pygments_lexer": "ipython3",
   "version": "3.10.12"
  }
 },
 "nbformat": 4,
 "nbformat_minor": 2
}
