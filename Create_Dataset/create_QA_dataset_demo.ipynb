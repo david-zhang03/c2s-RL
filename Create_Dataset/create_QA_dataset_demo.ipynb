{
 "cells": [
  {
   "cell_type": "code",
   "execution_count": 1,
   "metadata": {},
   "outputs": [
    {
     "name": "stderr",
     "output_type": "stream",
     "text": [
      "/users/zlyu12/.conda/envs/cell2sentence-tc/lib/python3.10/site-packages/tqdm/auto.py:21: TqdmWarning: IProgress not found. Please update jupyter and ipywidgets. See https://ipywidgets.readthedocs.io/en/stable/user_install.html\n",
      "  from .autonotebook import tqdm as notebook_tqdm\n"
     ]
    }
   ],
   "source": [
    "import torch\n",
    "import numpy as np\n",
    "import json\n",
    "import os\n",
    "import re\n",
    "import pandas as pd\n",
    "import shutil\n",
    "\n",
    "from datasets import Dataset, load_from_disk, concatenate_datasets, DatasetDict\n",
    "\n",
    "seed = 42\n",
    "torch.manual_seed(seed)\n",
    "np.random.seed(seed)"
   ]
  },
  {
   "cell_type": "markdown",
   "metadata": {},
   "source": [
    "helper functions and constants"
   ]
  },
  {
   "cell_type": "code",
   "execution_count": 2,
   "metadata": {},
   "outputs": [],
   "source": [
    "def dataset_for_prompt(df):\n",
    "    # number of rows to sample\n",
    "    num_rows = min(len(df), np.random.randint(5, 25))\n",
    "    df = df.sample(num_rows)\n",
    "    #number of genes to sample\n",
    "    num_genes = 2000 // num_rows\n",
    "\n",
    "    use_d = True\n",
    "    if len(df['diseases'].unique()) == 1:\n",
    "        use_d = False\n",
    "\n",
    "    s = \"\"\n",
    "    sampled_indices = []\n",
    "    for index, row in df.iterrows():\n",
    "        cur_num_genes = min(num_genes+np.random.randint(-20, 20), 1000)\n",
    "        cell_sentence = ' '.join(row[f'gene_{i}'] for i in range(1, cur_num_genes))\n",
    "        if use_d:\n",
    "            s += f\"Cell Type: {row['cell_type']}, Tissue: {row['tissue']}, Disease: {row['diseases']}, Gene Expression: {cell_sentence}\\n\"\n",
    "        else:\n",
    "            s += f\"Cell Type: {row['cell_type']}, Tissue: {row['tissue']}, Gene Expression: {cell_sentence}\\n\"\n",
    "        sampled_indices.append(index)\n",
    "        \n",
    "    return s, sampled_indices\n",
    "\n",
    "prompt_prefix = \"\"\"This is a scientific manuscript and an example of the single-cell RNA sequencing dataset it is associated with. The example dataset contains one representative cell from each type and the corresponding cell sentence(ranked gene names by expression). You need to create question-answer pairs for Large Language Models to learn analyzing scRNA-seq datasets when given pieces of data converted into cell sentences. I would like questions and answers about the given cell sentence in terms of cells, tissues, disease, or other relevant biological information. \n",
    "The questions must be answerable by looking at the given cell sentences alone. The question-answer pairs should follow a line of reasoning mentioned in the manuscript or results arrived by the researchers. When creating questions, you should first read the given manuscript, consider what the analysis the researchers did in the manuscript and the biological context of this study. Then look at the example cell sentences(or a part of them), think about what question the researchers asked or would ask about the cell sentence, what they wanted to and can infer, study, or understand. Imitate the interpretation of data in the manuscript. Then answer the question, quote specific cell sentences and genes as evidence, and include a chain of thoughts. You can borrow reasoning and analysis, conclusions from the manuscript but don't directly use or quote the manuscript in question or answer. Avoid questions about experiment design or procedures, avoid vague questions. Try to vary the type of things the question asks and the wording, include both open ended questions and yes or no questions.\n",
    "Provide Context for the question, this is only the essential background information required to answer the question. Find context from the manuscript. Provide Answer, including detailed reasonings. Refer to specific cell sentences as [type] cell gene expression. Provide Keywords of the answer being the most essential parts of the correct answer. The keywords should be yes or no(must include if it is a yes or no question), or important gene names, or biological information in question. These keywords will be used during my training to validate my model's response. \n",
    "Give 20 question answer pairs as one list, don't give any other word. Strictly format like this: \n",
    "<|Context|>the context<|Question|>the content of the question<|Answer|>the content of the answer<|Keyword|>the answer keywords\n",
    "<|Context|>the context<|Question|>the content of the question<|Answer|>the content of the answer<|Keyword|>the answer keywords\n",
    "...\n",
    "\"\"\""
   ]
  },
  {
   "cell_type": "markdown",
   "metadata": {},
   "source": [
    "loads all datasets and meta data \\\n",
    "assumes summary datasets are in a directory as csv files, assuming the format processed by Harry \\\n",
    "all files I'm looking at can be found in my C2S-RL dev github repo branch"
   ]
  },
  {
   "cell_type": "code",
   "execution_count": 3,
   "metadata": {},
   "outputs": [
    {
     "data": {
      "text/html": [
       "<div>\n",
       "<style scoped>\n",
       "    .dataframe tbody tr th:only-of-type {\n",
       "        vertical-align: middle;\n",
       "    }\n",
       "\n",
       "    .dataframe tbody tr th {\n",
       "        vertical-align: top;\n",
       "    }\n",
       "\n",
       "    .dataframe thead th {\n",
       "        text-align: right;\n",
       "    }\n",
       "</style>\n",
       "<table border=\"1\" class=\"dataframe\">\n",
       "  <thead>\n",
       "    <tr style=\"text-align: right;\">\n",
       "      <th></th>\n",
       "      <th>dataset</th>\n",
       "      <th>filename</th>\n",
       "    </tr>\n",
       "  </thead>\n",
       "  <tbody>\n",
       "    <tr>\n",
       "      <th>0</th>\n",
       "      <td>Activated PBMCs - Expanded cohort CITE-seq</td>\n",
       "      <td>local(304).h5ad</td>\n",
       "    </tr>\n",
       "    <tr>\n",
       "      <th>1</th>\n",
       "      <td>blood and bone marrow from a healthy young donor</td>\n",
       "      <td>local(477).h5ad</td>\n",
       "    </tr>\n",
       "    <tr>\n",
       "      <th>2</th>\n",
       "      <td>scRNA-seq analysis of healthy human fallopian ...</td>\n",
       "      <td>local(770).h5ad</td>\n",
       "    </tr>\n",
       "    <tr>\n",
       "      <th>3</th>\n",
       "      <td>HypoMap – a unified single cell gene expressio...</td>\n",
       "      <td>local(52).h5ad</td>\n",
       "    </tr>\n",
       "    <tr>\n",
       "      <th>4</th>\n",
       "      <td>L4 IT - MTG: Seattle Alzheimer's Disease Atlas...</td>\n",
       "      <td>local(274).h5ad</td>\n",
       "    </tr>\n",
       "  </tbody>\n",
       "</table>\n",
       "</div>"
      ],
      "text/plain": [
       "                                             dataset         filename\n",
       "0         Activated PBMCs - Expanded cohort CITE-seq  local(304).h5ad\n",
       "1   blood and bone marrow from a healthy young donor  local(477).h5ad\n",
       "2  scRNA-seq analysis of healthy human fallopian ...  local(770).h5ad\n",
       "3  HypoMap – a unified single cell gene expressio...   local(52).h5ad\n",
       "4  L4 IT - MTG: Seattle Alzheimer's Disease Atlas...  local(274).h5ad"
      ]
     },
     "execution_count": 3,
     "metadata": {},
     "output_type": "execute_result"
    }
   ],
   "source": [
    "# TODO: change to your own file path\n",
    "datasets_directory = \"/users/zlyu12/Desktop/c2s-RL/RL_data/cell_type_result2024-12-09\" # all summary datasets\n",
    "title_to_datasets_path = \"/users/zlyu12/Desktop/c2s-RL/RL_data/matching_datasets.csv\" # dataset name to dataset filename\n",
    "meta_data_path = \"/users/zlyu12/Desktop/c2s-RL/Create_Dataset/meta_data.json\" # dataset name, filename, url etc.\n",
    "hf_dataset_output_path = \"/users/zlyu12/Desktop/c2s-RL/Create_Dataset/temp_hf_dataset\" # temporary output directory\n",
    "\n",
    "title_to_datasets = pd.read_csv(title_to_datasets_path)\n",
    "datasets_files_paths = [os.path.join(datasets_directory, f) for f in os.listdir(datasets_directory) if f.endswith('.csv')]\n",
    "dataset_numbers = [re.search(r'\\((\\d+)\\)', f).group(1) for f in datasets_files_paths]\n",
    "\n",
    "meta_data = json.load(open(meta_data_path))\n",
    "row_iterator = iter(title_to_datasets.iterrows())\n",
    "try:\n",
    "    hf_dataset = load_from_disk(hf_dataset_output_path)\n",
    "except:\n",
    "    hf_dataset = Dataset.from_dict({})\n",
    "\n",
    "title_to_datasets.head()"
   ]
  },
  {
   "cell_type": "markdown",
   "metadata": {},
   "source": [
    "iterates through all datasets in your directory \\\n",
    "this prepares the prompt \\\n",
    "copy paste, add the publication text at the end and run our favorite LLM \\\n",
    "run only once for a row, we rely on some variables defined here in later cells"
   ]
  },
  {
   "cell_type": "code",
   "execution_count": 8,
   "metadata": {},
   "outputs": [
    {
     "name": "stdout",
     "output_type": "stream",
     "text": [
      "Row Number:  1\n",
      "\n",
      "Dataset Name:  blood and bone marrow from a healthy young donor\n",
      "\n",
      "Publication URL:  https://cellxgene.cziscience.com/collections/93eebe82-d8c3-41bc-a906-63b5b5f24a9d\n",
      "\n",
      "Prompt:\n",
      " This is a scientific manuscript and an example of the single-cell RNA sequencing dataset it is associated with. The example dataset contains one representative cell from each type and the corresponding cell sentence(ranked gene names by expression). You need to create question-answer pairs for Large Language Models to learn analyzing scRNA-seq datasets when given pieces of data converted into cell sentences. I would like questions and answers about the given cell sentence in terms of cells, tissues, disease, or other relevant biological information. \n",
      "The questions must be answerable by looking at the given cell sentences alone. The question-answer pairs should follow a line of reasoning mentioned in the manuscript or results arrived by the researchers. When creating questions, you should first read the given manuscript, consider what the analysis the researchers did in the manuscript and the biological context of this study. Then look at the example cell sentences(or a part of them), think about what question the researchers asked or would ask about the cell sentence, what they wanted to and can infer, study, or understand. Imitate the interpretation of data in the manuscript. Then answer the question, quote specific cell sentences and genes as evidence, and include a chain of thoughts. You can borrow reasoning and analysis, conclusions from the manuscript but don't directly use or quote the manuscript in question or answer. Avoid questions about experiment design or procedures, avoid vague questions. Try to vary the type of things the question asks and the wording, include both open ended questions and yes or no questions.\n",
      "Provide Context for the question, this is only the essential background information required to answer the question. Find context from the manuscript. Provide Answer, including detailed reasonings. Refer to specific cell sentences as [type] cell gene expression. Provide Keywords of the answer being the most essential parts of the correct answer. The keywords should be yes or no(must include if it is a yes or no question), or important gene names, or biological information in question. These keywords will be used during my training to validate my model's response. \n",
      "Give 20 question answer pairs as one list, don't give any other word. Strictly format like this: \n",
      "<|Context|>the context<|Question|>the content of the question<|Answer|>the content of the answer<|Keyword|>the answer keywords\n",
      "<|Context|>the context<|Question|>the content of the question<|Answer|>the content of the answer<|Keyword|>the answer keywords\n",
      "...\n",
      "Dataset: \n",
      "Cell Type: conventional dendritic cell, Tissue: bone marrow, Gene Expression: EEF1A1 CD74 RPLP1 TMSB4X TMSB10 LYZ RPLP2 B2M TUBA1B HLA-DRB1 VIM PTMA HLA-DRA ACTG1 GAPDH HLA-B CST3 FTH1 HLA-DRB5 HLA-DPA1 S100A4 RACK1 H3-3A H3-3B STMN1 GSTP1 FTL FOS HMGB1 HLA-A HLA-DPB1 TAGLN2 H2AZ1 SRGN YBX1 COTL1 S100A10 HSP90AB1 CXCR4 ENO1 SNHG6 HINT1 NPM1 PSAP ANXA2 AIF1 IRF8 SELL TUBB TYROBP ITGB2 MACROH2A1 FCER1A TUBB4B FCER1G DUSP1 PCNA HSP90B1 S100A8 S100A11 ZFP36L2 ZFAS1 SEC61B S100A9 TALDO1 TYMS CD63 GAS5 CD37 CD99 PLEK IGFBP7 RSL1D1 RNASE2 SNHG32 CKS1B TGFBI AREG HCST LAT2 CSTA ATP5IF1 SLC3A2 CD164 SPINT2 MCM5 ITM2C MPO NKG7 HERPUD1 CD81 FERMT3 RNASE6 DDIT4 PRDX2 CD52 NUSAP1 CD33 ANP32E HMGN2 RAB32 JPT1 SLBP RCSD1\n",
      "Cell Type: common dendritic progenitor, Tissue: blood, Gene Expression: IGKC TMSB10 EEF1A1 JCHAIN RPLP1 RPLP2 B2M TMSB4X ACTG1 HSP90B1 TUBA1B GAPDH HLA-B RACK1 HLA-A VIM PTMA TAGLN2 H3-3A FTL CD52 CD74 HMGB1 H2AZ1 SEC61B MZB1 STMN1 HSP90AB1 YBX1 S100A10 PCNA ANXA2 GSTP1 NPM1 HLA-DRB1 ENO1 COTL1 S100A4 FTH1 SRGN SEC11C H3-3B CD99 ANP32E CD79A SNHG6 FKBP11 TUBB HINT1 HLA-DRB5 CD27 PRDX2 CASP3 CD81 TUBB4B ATP5IF1 CD37 PSAP HERPUD1 MCM2 RRM2 HLA-DPA1 ZFP36L2 RSL1D1 XBP1 S100A8 BUB1 AURKB TYMS MCM5 HLA-DRA CKS1B ITM2C TALDO1 ZFAS1 MCM4 USP1 ITGA4 GAS5 PLEK JPT1 HCST HMGN2 FEN1 SLC3A2 DERL3 SLBP CD44 LYZ MCM6 SNHG32 UHRF1 POLD3 PDLIM1 LBR UBE2C S100A11 SEL1L3 CDCA8\n",
      "Cell Type: precursor B cell, Tissue: bone marrow, Gene Expression: EEF1A1 RPLP1 TUBA1B PTMA RPLP2 STMN1 ACTG1 TMSB4X HMGB1 GAPDH CD74 TMSB10 H3-3A RACK1 B2M VIM IGHM H3-3B H2AZ1 TUBB HLA-DRA CXCR4 IGLL1 HLA-B SNHG6 NPM1 HLA-DRB1 TUBB4B TYMS YBX1 FTH1 TOP2A VPREB1 ENO1 GSTP1 NUSAP1 HINT1 HLA-A HLA-DRB5 CD52 MACROH2A1 PCNA RCSD1 HSP90AB1 CD79B HLA-DPA1 GAS5 ZFP36L2 FTL CKS1B TAGLN2 CD24 CD79A TACC3 HLA-DPB1 CD81 ZFAS1 UBE2C SNHG32 ANP32E CKS2 TPX2 PRDX2 CDC20 TALDO1 PDLIM1 BIRC5 CCNB2 AURKB CD99 HSP90B1 CD164 UHRF1 ATP5IF1 S100A4 SEC61B PSAP DNTT SMC4 USP1 CDCA8 CENPF SOX4 DUSP1 CDK6 LAT2 TCL1A SSBP2 CD47 KIF11 FOS LBR RANGAP1 RSL1D1 NCAPD2 ITGA4 LYZ CDCA7 MSI2 VPREB3 SPINT2\n",
      "Cell Type: basophil mast progenitor cell, Tissue: bone marrow, Gene Expression: EEF1A1 RPLP1 RPLP2 PTMA RACK1 CLC GAPDH FTH1 TUBA1B H3-3B SRGN TMSB4X HMGB1 B2M H3-3A FTL ACTG1 VIM STMN1 HSP90AB1 TMSB10 SNHG6 HLA-A HLA-B NPM1 PRG2 HINT1 YBX1 CXCR4 CD74 TAGLN2 GAS5 S100A4 H2AZ1 ZFAS1 ENO1 LMO4 ZFP36L2 GSTP1 CD63 AIF1 FCER1A PSAP TALDO1 TUBB HLA-DRB1 SEC61B HLA-DRA TYMS CPA3 PCNA HDC LYZ FAM117A MACROH2A1 CD164 RSL1D1 SNHG32 PRDX2 ATP5IF1 FOS RNASE2 HSP90B1 TUBB4B PLEK SLC3A2 CEBPA SOX4 NFE2 HLA-DRB5 IGLL1 DUSP1 CD99 SLC40A1 CKS1B CD82 COTL1 CDK6 HLA-DPA1 ITGA4 NUCB2 CD81 IGFBP7 MCM2 XBP1 CD52 HLA-DPB1 CTSW SPINT2 MCM5 LBR CDCA7 TYROBP CD37 ANP32E CD34 MGST1 S100A8 SNHG8 CKS2 YBX3 GNA15 TFRC S100A9 S100A10 CD47 CD33\n",
      "Cell Type: effector memory CD8-positive, alpha-beta T cell, Tissue: blood, Gene Expression: TMSB4X B2M EEF1A1 TMSB10 RPLP1 RPLP2 HLA-B CD52 ACTG1 HLA-A NKG7 S100A4 TUBA1B IL32 GAPDH STMN1 H3-3A S100A10 H2AZ1 RACK1 FTL COTL1 TAGLN2 CD8A PTMA FTH1 PCNA KLRB1 HLA-DRB5 HMGB1 HINT1 GZMA HLA-DRB1 H3-3B TRAC VIM CD74 KLRK1 GSTP1 ENO1 TYMS NPM1 SNHG6 HSP90AB1 CD2 YBX1 CD99 SRGN HOPX ZFP36L2 CD8B CST7 HCST S100A11 CD63 ATP5IF1 CTSW PLEK HLA-DPA1 HLA-DRA ANXA2 ITGA4 ANP32E RSL1D1 PRDX2 ITGB2 CKS2 ADGRG1 CD81 USP1 CD3E UNG CD164 TUBB4B SLBP RCSD1 TALDO1 TYROBP RFC2 MCM5 MCM2 PSAP HMGN2 CD47 TUBB RPA2 LY6E SAT1 SEC61B CD69 HLA-DPB1 HSP90B1 JPT1 CDK1 FKBP11 UBE2C TRGC2 UBR7 S100A8 RAD51 LYZ FCER1G NUSAP1 FCGR3A FERMT3 ITM2C CDCA7 LMO4 KLRD1\n",
      "Cell Type: late promyelocyte, Tissue: bone marrow, Gene Expression: LYZ EEF1A1 RPLP1 TMSB4X RPLP2 TMSB10 B2M GAPDH CD74 VIM S100A8 FTL ACTG1 HLA-B SRGN TUBA1B S100A9 PTMA HLA-A MPO HLA-DRB1 S100A4 FOS RACK1 FTH1 H3-3B H3-3A STMN1 HMGB1 HLA-DRA PSAP GSTP1 ENO1 CST3 H2AZ1 RNASE2 HLA-DRB5 TYROBP YBX1 TAGLN2 CXCR4 SNHG6 COTL1 CSTA ANXA2 ITGB2 HLA-DPA1 AIF1 HSP90AB1 HSP90B1 S100A11 DUSP1 TUBB TUBB4B TALDO1 HINT1 NPM1 HCST ZFP36L2 CD63 HLA-DPB1 MACROH2A1 S100A10 SELL FCER1G SEC61B CD99 FCN1 RSL1D1 CD37 IRF8 PCNA ZFAS1 IGFBP7 TYMS RAB32 NKG7 PLEK ATP5IF1 XBP1 CEBPA VCAN AZU1 GAS5 AREG MGST1 CSF3R SNHG32 CKS1B SLC3A2 ANP32E LAT2 CD164 RNASE6 RCSD1 BLVRB CD52 TOP2A TACC3 HBB CD33 CDC20 NUSAP1 FERMT3 HMGN2 CD81 SPNS3 JPT1\n",
      "Cell Type: late promyelocyte, Tissue: blood, Gene Expression: LYZ S100A8 S100A9 TMSB4X EEF1A1 RPLP1 VIM B2M TUBA1B TMSB10 RPLP2 HLA-B S100A4 FTL PSAP HLA-A ACTG1 CD74 H3-3A FCN1 GAPDH H2AZ1 FOS STMN1 HLA-DRB1 HLA-DRA TYROBP TAGLN2 SRGN HMGB1 GSTP1 HLA-DRB5 S100A11 ENO1 S100A10 ANXA2 RACK1 CST3 H3-3B FCER1G COTL1 FTH1 CSTA SELL TUBB4B TALDO1 ITGB2 HLA-DPA1 RNASE2 PTMA SNHG6 CD99 HINT1 NKG7 UBE2C SAT1 CD14 DUSP1 TUBB HCST VCAN AIF1 HSP90B1 AURKB RANGAP1 CKS1B ANP32E TOP2A CD52 PRAM1 HLA-DPB1 RSL1D1 YBX1 SEC61B ZFP36L2 SNHG32 CCNB2 CDK1 TYMS CDC20 CXCR4 JPT1 IGFBP7 CKS2 MS4A7 CENPA BLVRB ATP5IF1 IRF8 FERMT3 CD63 CD164 NUSAP1 PLEK CD44 RRM2 LBR TACC3 BUB1 HMGN2 XBP1 HERPUD1 LYST HJURP LMO2 GAS5 TPX2 NCAPD2 NPM1 MGST1 LST1 KIF23\n",
      "Cell Type: erythroid progenitor cell, Tissue: bone marrow, Gene Expression: EEF1A1 RPLP1 RPLP2 PTMA RACK1 TUBA1B FTH1 HMGB1 GAPDH HSP90AB1 B2M S100A4 HBB NPM1 H3-3A YBX1 TMSB10 FTL STMN1 H3-3B PRDX2 HINT1 ATP5IF1 H2AZ1 ACTG1 ZFP36L2 BLVRB TAGLN2 TMSB4X SNHG6 TUBB CA1 HLA-B TFRC GSTP1 GAS5 PSAP TALDO1 PCNA HLA-A ENO1 HBD LMO2 RSL1D1 CD74 TYMS TUBB4B CD82 CST3 CDK6 HSP90B1 YBX3 MCM5 ZFAS1 CD164 SEC61B SLC40A1 SNHG32 CD99 HLA-DRB1 MCM2 CKS2 MACROH2A1 LYZ SPINT2 ITGA2B CD63 NFE2 SRGN ITGA4 FOS SLBP FIS1 HLA-DRA SLC3A2 FAM117A S100A8 VIM CASP3 CKS1B LBR NUCB2 FERMT3 RPA2 DUSP1 UNG MCM4 MINPP1 PAFAH1B3 CD81 HLA-DRB5 ANP32E CD47 TSC22D1 HLA-DPA1 USP1 EGFL7 MSH2\n",
      "Cell Type: lymphoid lineage restricted progenitor cell, Tissue: bone marrow, Gene Expression: EEF1A1 RPLP1 RPLP2 TUBA1B RACK1 B2M GAPDH PTMA STMN1 TMSB4X CD74 ACTG1 H3-3A HMGB1 TMSB10 HSP90AB1 HLA-A H3-3B HLA-B NPM1 FTL FTH1 GSTP1 HINT1 SNHG6 VIM ENO1 GAS5 YBX1 AIF1 SPINK2 H2AZ1 HLA-DRB1 TAGLN2 HLA-DRA ZFP36L2 ZFAS1 TUBB CD164 SELL MACROH2A1 TYMS TALDO1 HLA-DPA1 HLA-DRB5 CD52 PCNA CD99 S100A4 RSL1D1 SNHG32 FOS HLA-DPB1 DUSP1 IGLL1 CDK6 PSAP CD34 HSP90B1 XBP1 SRGN CD37 LYZ TUBB4B PRDX2 CSF3R ATP5IF1 CDCA7 CD81 MCM2 LMO2 SLC3A2 SPINT2 MCM5 IGFBP7 YBX3 FAM117A NUCB2 CKS1B MGST1 ITGA4 ITM2C ETV6 CKS2\n",
      "Cell Type: non-classical monocyte, Tissue: bone marrow, Gene Expression: EEF1A1 RPLP1 FTH1 RPLP2 FTL B2M TMSB4X PTMA RACK1 PSAP HLA-B TMSB10 S100A4 CD74 H3-3B H3-3A GAPDH TUBA1B HLA-DRB1 COTL1 HMGB1 NPM1 HLA-A HSP90AB1 DUSP1 YBX1 TYROBP ACTG1 CD52 FOS HLA-DRB5 SNHG6 AIF1 HLA-DRA VIM CST3 HLA-DPA1 HBB GAS5 SRGN ZFP36L2 SAT1 FCGR3A HINT1 TAGLN2 FCER1G GSTP1 S100A11 H2AZ1 LYZ RSL1D1 ATP5IF1 HLA-DPB1 TALDO1 CTSS ENO1 ZFAS1 HSP90B1 CD37 STMN1 YBX3 CD164 PRDX2 MS4A7 SNHG32 S100A10 MACROH2A1 ITGB2 TFRC CA1 LMO2 CXCR4 TUBB4B ITGA4 TUBB S100A8 S100A9 ITGAX ANXA2 JPT1 CD44 BLVRB FCN1 LST1 NFKBIZ SNHG8 LY6E SLC3A2 CD99 CD63 SPINT2 HBD CD47 TYMS SEC61B CD82 NR4A1 MPEG1 TSC22D1 CD4 PLEK H1-0 CD81 SPINK2 CKS2 FIS1 CTSW NUCB2\n",
      "Cell Type: non-classical monocyte, Tissue: blood, Gene Expression: EEF1A1 TMSB4X B2M FTL RPLP2 HLA-DRB1 HLA-DRA RPLP1 CD74 HLA-B TMSB10 HLA-DRB5 S100A4 HLA-DPA1 CST3 FTH1 PSAP ACTG1 COTL1 HLA-A CD52 HLA-DPB1 RACK1 H3-3A VIM TYROBP TUBA1B SAT1 H3-3B FCER1G FCGR3A S100A11 S100A10 FOS SRGN PTMA GAPDH YBX1 DUSP1 ITGB2 S100A9 TAGLN2 GSTP1 AIF1 RSL1D1 LYZ HSP90AB1 ZFP36L2 ANXA2 CTSS CD37 PLEK FCER1A HINT1 NPM1 CD4 CD63 SNHG32 LST1 MS4A7 S100A8 SNHG6 LMO2 HMGB1 TRAC GAS5 ITGAX ENO1 IL32 TGFBI ZFAS1 HCST SELL NR4A1 HSP90B1 FERMT3 IL7R CD44 SEC61B CSTA CXCR4 TALDO1 CD164 RCSD1 CD1C CEBPA ATP5IF1 FCGR2A SNHG8 H2AZ1\n",
      "Cell Type: plasma cell, Tissue: bone marrow, Gene Expression: IGKC EEF1A1 B2M JCHAIN RPLP1 RPLP2 HSP90B1 TMSB4X HLA-B CD74 DUSP1 VIM FOS CXCR4 MZB1 HERPUD1 H3-3B HLA-A FTL TMSB10 RACK1 LYZ PTMA PSAP FTH1 XBP1 S100A8 SEC11C S100A4 H3-3A ACTG1 HBB SRGN SEC61B HLA-DRB1 GAPDH S100A9 HMGB1 HINT1 DERL3 FKBP11 NPM1 S100A10 ZFP36L2 GSTP1 ITM2C TUBA1B TYROBP COTL1 RSL1D1 SEL1L3 YBX1 SLC3A2 TAGLN2 DUSP2 GAS5 HSP90AB1 HLA-DPA1 CST3 S100A11 HLA-DRA HLA-DRB5 CD99 BTG2 H2AZ1 SSR4 CD63 CD27 CTSS CD52 IL32 JUN NKG7 CD79A ITGA4 SNHG32 HCST ITGB2 PRDX2 ZFAS1 TRAC FCER1G AIF1 LMO4 ANXA2 TALDO1 TUBB4B SELL FIS1 CSTA SNHG6 CD37\n",
      "Cell Type: hematopoietic multipotent progenitor cell, Tissue: bone marrow, Gene Expression: EEF1A1 RPLP1 RPLP2 B2M CD74 HLA-B TMSB4X RACK1 FOS FTH1 H3-3B HLA-A ZFP36L2 DUSP1 TMSB10 GAS5 VIM HLA-DRA HSP90AB1 HINT1 FTL HLA-DRB1 CD52 HLA-DPA1 ACTG1 CXCR4 PTMA TAGLN2 H3-3A S100A4 NPM1 RSL1D1 AIF1 HLA-DPB1 PSAP GAPDH CD164 ZFAS1 SELL CST3 HMGB1 IL32 LYZ SRGN HLA-DRB5 NRIP1 SNHG6 GSTP1 ATP5IF1 FERMT3 EBPL CD81 CD37 H1-0 LMO2 CD99 ENO1 S100A10 CD44 NPR3 TRAC SPINK2 ADGRG1 HSP90B1 CD3E TSC22D1 SEC61B S100A11 JUP HOPX COTL1 TUBA1B MACROH2A1 SLC3A2 XBP1 IL7R YBX1 CD82 SNHG8 CD34 PRDX2 MSI2 RCSD1 S100A9 TALDO1 SLC40A1 CD69 ITGB2 IGKC HCST CD63 FCMR FLT3 CKS1B CTSW SNHG32 TUBB4B STMN1 DEPTOR YBX3 EGFL7 DUSP2 TGFBI MGST1 CEBPA ITGA4 ITGA6\n",
      "Cell Type: myelocyte, Tissue: bone marrow, Gene Expression: LYZ S100A9 EEF1A1 S100A8 TMSB4X RPLP1 B2M RPLP2 TMSB10 FTL CD74 HLA-B FTH1 GAPDH VIM S100A4 PTMA SRGN ACTG1 HLA-A FOS PSAP HLA-DRB1 H3-3A H3-3B RACK1 TUBA1B HLA-DRA TYROBP CST3 FCN1 HMGB1 HLA-DRB5 GSTP1 STMN1 COTL1 TAGLN2 S100A11 HSP90AB1 YBX1 ENO1 CD52 SNHG6 ITGB2 HLA-DPA1 VCAN AIF1 DUSP1 S100A10 CSTA H2AZ1 FCER1G ZFP36L2 NPM1 HLA-DPB1 CXCR4 TALDO1 CD14 HINT1 ANXA2 RSL1D1 RNASE2 ZFAS1 CD63 SELL GAS5 MACROH2A1 HSP90B1 TGFBI CD164 TUBB CTSS HCST SNHG32 CD37 CD99 SLC3A2 FERMT3 BLVRB XBP1 LAT2 SEC61B PCNA CSF3R\n",
      "Cell Type: early promyelocyte, Tissue: bone marrow, Gene Expression: EEF1A1 RPLP1 MPO RPLP2 GAPDH RACK1 B2M PTMA ACTG1 TMSB4X HLA-A HSP90AB1 H3-3B CD74 TUBA1B HLA-B FTL TMSB10 NPM1 IGLL1 H3-3A ENO1 SRGN VIM HMGB1 YBX1 GSTP1 STMN1 FTH1 HINT1 SNHG6 HLA-DRB1 HSP90B1 GAS5 H2AZ1 HLA-DRA ZFP36L2 TAGLN2 XBP1 AIF1 ZFAS1 FOS TALDO1 LYZ HLA-DRB5 HLA-DPA1 CSF3R SPINK2 SELL RSL1D1 SNHG32 MACROH2A1 CPA3 MGST1 DUSP1 SEC61B RNASE2 CD99 PSAP HLA-DPB1 IGFBP7 CEBPA NUCB2 S100A4 CD81 PRSS57 CDK6 YBX3 CDCA7 SLC3A2 PCNA TUBB RAB32 CD63 CD37 NFE2 AZU1 CD44 ETV6 FAM117A ITGA4 S100A8 ATP5IF1 MCM2 CD34 CD164 PRDX2 COTL1 CXCR4 LMO2 MCM5\n",
      "Cell Type: megakaryocyte progenitor cell, Tissue: bone marrow, Gene Expression: EEF1A1 RPLP1 TMSB4X RPLP2 PTMA B2M TUBA1B H3-3A GAPDH RACK1 ACTG1 HMGB1 FTH1 H3-3B STMN1 HSP90AB1 TAGLN2 HLA-B NPM1 FTL YBX1 GSTP1 HLA-A H2AZ1 TMSB10 S100A4 SNHG6 HINT1 ENO1 FERMT3 PLEK SRGN TALDO1 ITGA2B CD74 PSAP CD164 TYMS PCNA GAS5 CD63 TUBB MACROH2A1 CDK6 AIF1 HSP90B1 VIM HLA-DRB1 PDLIM1 CST3 TUBB4B SNHG32 ZFAS1 SPINT2 SEC61B LYZ XBP1 ZFP36L2 RSL1D1 FCER1A HLA-DRA PRDX2 LMO2 ATP5IF1 S100A8 CKS1B HLA-DRB5 SLC40A1 CTSW CD81 HLA-DPA1 SLC3A2 CKS2 MCM5 FOS MCM2 CD99 CD37 GUCY1B1 NRIP1 ANP32E H1-0 HLA-DPB1 COTL1 NFE2 NUCB2 NPR3 USP1 LY6E YBX3 NUSAP1 IGFBP7 SNHG8 RSU1 ITGA4 S100A9 MCM4 SLBP CD34 FIS1 RPA2 RFC2 UBR7 ETV6 TOP2A GMPR DUSP1\n",
      "Cell Type: classical monocyte, Tissue: bone marrow, Gene Expression: EEF1A1 TMSB4X B2M LYZ CD74 RPLP1 FTH1 S100A9 HLA-B RPLP2 FTL S100A8 TMSB10 PSAP HLA-DRB1 HLA-DRA HLA-A FOS VIM S100A4 HLA-DRB5 H3-3B CST3 ACTG1 RACK1 SRGN TYROBP GAPDH HLA-DPA1 H3-3A DUSP1 CD52 PTMA COTL1 FCN1 HLA-DPB1 S100A11 GSTP1 AIF1 S100A10 FCER1G CTSS ITGB2 TAGLN2 VCAN ZFP36L2 CD37 YBX1 SNHG6 HSP90AB1 RSL1D1 HMGB1 HINT1 TUBA1B SELL TGFBI NPM1 CD14 CSTA ANXA2 ENO1 TALDO1 CXCR4 SAT1 ZFAS1 GAS5 CSF3R CD99 CD164 FERMT3 CD44 ITGAX CD63 MPEG1 HCST SNHG32 PLEK MACROH2A1 CD4 HERPUD1 ITGA4 SLC3A2 BTG2 H2AZ1 HSP90B1 CD86 XBP1 LAT2 DUSP2 BLVRB SEC61B MS4A7 HBB ATP5IF1\n",
      "Cell Type: common dendritic progenitor, Tissue: bone marrow, Gene Expression: EEF1A1 RPLP1 TUBA1B CD74 TMSB4X B2M RPLP2 TMSB10 STMN1 ACTG1 PTMA HMGB1 VIM HLA-B H3-3A HLA-DRA IRF8 GAPDH H3-3B HLA-DRB1 FTH1 H2AZ1 RACK1 HLA-DRB5 TUBB HLA-DPA1 HLA-A SNHG6 HLA-DPB1 TAGLN2 SEC61B YBX1 TUBB4B GSTP1 FTL CXCR4 NPM1 HINT1 CKS1B CST3 SELL TOP2A NUSAP1 S100A4 PSAP HSP90B1 FOS ZFP36L2 MACROH2A1 RNASE6 CD99 SOX4 CCDC50 IGLL1 JCHAIN TYMS IGHM ANP32E CD37 GAS5 HCST ATP5IF1 ZFAS1 SNHG32 UBE2C CD164 IL3RA AIF1 ITM2C ENO1 CDC20 TACC3 SRGN AURKB TPX2 HSP90AB1 MZB1 TYROBP CCNB2 CKS2 BIRC5 LAT2 UGCG COTL1 SEL1L3 PLEK LYZ IGKC DUSP1 TGFBI C12ORF75 TALDO1 CDCA8 PCNA NUCB2 FERMT3 USP1 HERPUD1 SLC3A2 FCER1G\n",
      "Cell Type: erythroid progenitor cell, Tissue: blood, Gene Expression: EEF1A1 RPLP1 RPLP2 RACK1 B2M HSP90AB1 S100A4 H3-3A TMSB10 GAPDH ACTG1 HMGB1 FTH1 SNHG6 FTL PTMA STMN1 TUBA1B HINT1 NPM1 GAS5 H3-3B ZFP36L2 YBX1 GSTP1 TAGLN2 ITGA2B HLA-B PSAP HLA-A ENO1 ZFAS1 ATP5IF1 SNHG32 CD74 H2AZ1 NFE2 CDK6 CD82 TMSB4X RSL1D1 HLA-DRB1 FAM117A PRDX2 SLC40A1 LMO2 HLA-DRB5 TALDO1 CST3 TFRC CD63 MINPP1 VIM IL1B BLVRB CD164 SPINT2 PAFAH1B3 SRGN TUBB ANP32E MCM2 CD81 ITGA4 UNG EGFL7 SEC61B CASP3 HLA-DRA PCNA CTSW YBX3 TSC22D1 HSP90B1 IGFBP7 MCM4 CDCA7 CKS2 SLC3A2 CD99 ANKRD28 CD37 MCM5 ETV6 FIS1 H1-0 TUBB4B FERMT3 EBPL TYMS TESPA1\n",
      "Manuscript:\n",
      "\n"
     ]
    }
   ],
   "source": [
    "next_row = next(row_iterator)\n",
    "\n",
    "dataset_index = re.search(r'\\((\\d+)\\)', next_row[1]['filename']).group(1)\n",
    "dataset_name = next_row[1]['dataset']\n",
    "if dataset_name not in meta_data:\n",
    "    print(f\"Row number {next_row[0]}, dataset \\\"{dataset_name}\\\" not in meta_data!\")\n",
    "elif dataset_index not in dataset_numbers:\n",
    "    print(f\"Row number {next_row[0]}, dataset \\\"{dataset_name}\\\", dataset index \\\"{dataset_index}\\\" not in datasets directory!\")\n",
    "else:\n",
    "    cur_url = meta_data[dataset_name]['url']\n",
    "    dataset_file_path = [path for path in datasets_files_paths if f\"({dataset_index})\" in path][0]\n",
    "    dataset_df = pd.read_csv(dataset_file_path)\n",
    "    dataset_in_prompt, sampled_indices = dataset_for_prompt(dataset_df)\n",
    "    print(\"Row Number: \", next_row[0])\n",
    "    print(\"\\nDataset Name: \", dataset_name)\n",
    "    print(\"\\nPublication URL: \", cur_url)\n",
    "    print(\"\\nPrompt:\\n\", prompt_prefix + \"Dataset: \\n\" + dataset_in_prompt + \"Manuscript:\\n\")\n"
   ]
  },
  {
   "cell_type": "markdown",
   "metadata": {},
   "source": [
    "Just copy paste the output into the next cell, shouldn't need to do additional processing"
   ]
  },
  {
   "cell_type": "code",
   "execution_count": 5,
   "metadata": {},
   "outputs": [],
   "source": [
    "output = \"\"\"\n",
    "Here is a list of 20 question-answer pairs derived from the provided single-cell RNA sequencing dataset and the manuscript's reasoning:\n",
    "\n",
    "<|Context|>Conventional dendritic cells (cDCs) are critical for antigen presentation and immune activation in the bone marrow. Gene expression profiles, such as high expression of HLA-DRB1, HLA-DRA, and CD74, suggest a strong antigen presentation function.<|Question|>Does the cell sentence of the conventional dendritic cell support its antigen-presenting function in the bone marrow?<|Answer|>Yes, the cell sentence supports the antigen-presenting function of conventional dendritic cells. High expression of HLA-DRB1, HLA-DRA, and CD74 genes indicates strong involvement in antigen presentation pathways, which are critical for dendritic cells. These genes encode components of the major histocompatibility complex (MHC) class II molecules and chaperones that facilitate antigen presentation to T cells.<|Keyword|>Yes, HLA-DRB1, HLA-DRA, CD74, antigen presentation\n",
    "\n",
    "<|Context|>Common dendritic progenitors give rise to various dendritic cell subtypes and are found in blood, often showing a proliferation signature.<|Question|>Do the gene expressions in the common dendritic progenitor indicate its proliferative capacity?<|Answer|>Yes, the gene expression profile shows signs of proliferation. The presence of genes such as MCM2, MCM4, and PCNA, which are involved in DNA replication and cell cycle progression, indicates active proliferation in common dendritic progenitors.<|Keyword|>Yes, MCM2, MCM4, PCNA, proliferation\n",
    "\n",
    "<|Context|>Precursor B cells in the bone marrow are critical for early B-cell lineage commitment.<|Question|>Which gene expression signatures in precursor B cells reflect their early B-cell lineage commitment?<|Answer|>The expression of IGHM, IGLL1, and CD79A reflects early B-cell lineage commitment. IGHM encodes the immunoglobulin heavy chain, while IGLL1 and CD79A are essential components for pre-B cell receptor signaling during B-cell development.<|Keyword|>IGHM, IGLL1, CD79A, B-cell lineage\n",
    "\n",
    "<|Context|>Basophil mast progenitor cells are critical for immune responses related to allergic reactions and inflammation.<|Question|>Do the gene expressions in the basophil mast progenitor cell suggest its function in allergic responses?<|Answer|>Yes, genes like CLC and CPA3, which are highly expressed in basophil mast progenitor cells, indicate their role in allergic responses. CLC encodes Charcot-Leyden crystal protein, a marker of eosinophil and basophil activity, and CPA3 encodes a mast cell-specific protease involved in inflammation.<|Keyword|>Yes, CLC, CPA3, allergic response\n",
    "\n",
    "<|Context|>Effector memory CD8+ T cells are found in blood and exhibit cytotoxic activity.<|Question|>Does the gene expression in effector memory CD8+ T cells indicate cytotoxic activity?<|Answer|>Yes, the expression of GZMA and NKG7 confirms cytotoxic activity. GZMA encodes Granzyme A, a key effector molecule involved in apoptosis of target cells, while NKG7 supports cytotoxic granule formation.<|Keyword|>Yes, GZMA, NKG7, cytotoxic activity\n",
    "\n",
    "<|Context|>Late promyelocytes in the bone marrow are transitioning from proliferation to differentiation.<|Question|>What genes in the late promyelocyte cell sentence indicate its differentiation into granulocytes?<|Answer|>Genes such as S100A8 and S100A9, which encode calcium-binding proteins involved in granulocyte maturation, indicate differentiation. These proteins are markers of neutrophilic granulocytes and are associated with inflammatory responses.<|Keyword|>S100A8, S100A9, granulocyte differentiation\n",
    "\n",
    "<|Context|>The late promyelocyte population in blood shows inflammatory gene markers.<|Question|>Which genes in the late promyelocyte population indicate its involvement in inflammation?<|Answer|>The genes S100A8, S100A9, and LYZ suggest inflammatory involvement. S100A8 and S100A9 are key inflammatory mediators, and LYZ encodes lysozyme, which contributes to antimicrobial activity.<|Keyword|>S100A8, S100A9, LYZ, inflammation\n",
    "\n",
    "<|Context|>Erythroid progenitor cells are responsible for red blood cell production.<|Question|>What gene expressions in erythroid progenitors reflect their commitment to red blood cell production?<|Answer|>The expression of HBB and HBD, which encode beta-globin and delta-globin, indicates a commitment to red blood cell production. These genes are critical for hemoglobin formation during erythropoiesis.<|Keyword|>HBB, HBD, red blood cell production\n",
    "\n",
    "<|Context|>Lymphoid lineage restricted progenitors give rise to lymphocytes.<|Question|>Which gene expressions in lymphoid lineage restricted progenitors indicate lymphoid cell commitment?<|Answer|>The presence of IGLL1 and SPINK2 reflects lymphoid cell commitment. IGLL1 is part of the pre-BCR signaling, and SPINK2 is expressed during early lymphoid development.<|Keyword|>IGLL1, SPINK2, lymphoid lineage\n",
    "\n",
    "<|Context|>Classical monocytes are responsible for inflammation and phagocytosis in the bone marrow.<|Question|>What gene expression in classical monocytes suggests their inflammatory activity?<|Answer|>Genes such as S100A8, S100A9, and FCN1 suggest inflammatory activity. FCN1 encodes ficolin-1, a marker for monocyte activation during inflammation.<|Keyword|>S100A8, S100A9, FCN1, inflammation\n",
    "\n",
    "<|Context|>Effector memory CD8+ T cells are known for their ability to respond quickly to previously encountered pathogens.<|Question|>What genes support the rapid immune response of effector memory CD8+ T cells?<|Answer|>The expression of GZMA and PRF1 supports rapid immune responses. GZMA encodes granzyme A, and PRF1 encodes perforin, which together mediate target cell apoptosis.<|Keyword|>GZMA, PRF1, immune response\n",
    "\n",
    "<|Context|>Late erythroid progenitors transition to mature red blood cells.<|Question|>Which genes indicate the hemoglobin synthesis function of late erythroid progenitors?<|Answer|>Genes like HBB, HBA1, and HBA2, which encode beta and alpha-globin chains, indicate hemoglobin synthesis in late erythroid progenitors.<|Keyword|>HBB, HBA1, HBA2, hemoglobin synthesis\n",
    "\n",
    "<|Context|>Basophil mast progenitor cells show immune response markers.<|Question|>Which genes reflect the immune function of basophil mast progenitors?<|Answer|>The expression of SRGN and CPA3 reflects immune function. SRGN encodes serglycin, which supports granule formation, and CPA3 encodes a protease involved in immune responses.<|Keyword|>SRGN, CPA3, immune response\n",
    "\n",
    "<|Context|>Precursor B cells are responsible for early immune responses.<|Question|>What genes reflect the activation and differentiation of precursor B cells?<|Answer|>The expression of CD79A and VPREB1 reflects activation. These genes encode key components of the B-cell receptor complex necessary for B-cell differentiation.<|Keyword|>CD79A, VPREB1, activation\n",
    "\n",
    "<|Context|>Effector memory CD8+ T cells exhibit signs of T-cell activation.<|Question|>What genes in the effector memory CD8+ T cell indicate T-cell activation?<|Answer|>The expression of IL32 and CD2 indicates T-cell activation. IL32 encodes an inflammatory cytokine, and CD2 supports T-cell receptor signaling.<|Keyword|>IL32, CD2, T-cell activation\n",
    "\n",
    "<|Context|>Conventional dendritic cells present antigens efficiently in the immune response.<|Question|>What genes in conventional dendritic cells highlight their antigen-presenting role?<|Answer|>The expression of HLA-DRB1, HLA-DPA1, and HLA-DPB1 highlights their role in antigen presentation. These genes encode MHC class II molecules critical for presenting antigens to T cells.<|Keyword|>HLA-DRB1, HLA-DPA1, HLA-DPB1, antigen presentation\n",
    "\n",
    "<|Context|>Common dendritic progenitors express genes linked to early activation.<|Question|>What gene expressions in common dendritic progenitors support early activation?<|Answer|>The presence of CD74 and HLA-DRB1 supports early activation, as these genes are involved in antigen processing and presentation.<|Keyword|>CD74, HLA-DRB1, early activation\n",
    "\n",
    "<|Context|>Precursor B cells are preparing for antibody production.<|Question|>What genes in precursor B cells reflect preparation for antibody production?<|Answer|>Genes like IGLL1 and VPREB1 reflect preparation for antibody production. These genes encode surrogate light chains for the pre-B cell receptor complex.<|Keyword|>IGLL1, VPREB1, antibody production\n",
    "\n",
    "<|Context|>Basophil mast progenitor cells are involved in immune signaling.<|Question|>What genes indicate immune signaling in basophil mast progenitors?<|Answer|>Genes like TYROBP and FCER1A indicate immune signaling. TYROBP supports immune receptor signaling, and FCER1A is part of the high-affinity IgE receptor.<|Keyword|>TYROBP, FCER1A, immune signaling\n",
    "\"\"\""
   ]
  },
  {
   "cell_type": "markdown",
   "metadata": {},
   "source": [
    "run the following cell to convert the output into a hf dataset"
   ]
  },
  {
   "cell_type": "code",
   "execution_count": 6,
   "metadata": {},
   "outputs": [
    {
     "name": "stdout",
     "output_type": "stream",
     "text": [
      "Error in the following QA pair:\n",
      "\n",
      "Here is a list of 20 question-answer pairs derived from the provided single-cell RNA sequencing dataset and the manuscript's reasoning:\n",
      "\n",
      "\n",
      "Example:\n"
     ]
    },
    {
     "data": {
      "text/plain": [
       "{'Context': 'Conventional dendritic cells (cDCs) are critical for antigen presentation and immune activation in the bone marrow. Gene expression profiles, such as high expression of HLA-DRB1, HLA-DRA, and CD74, suggest a strong antigen presentation function.',\n",
       " 'Summary_Dataset': 'Cell Type: classical monocyte, Tissue: blood, Disease: normal, Gene Expression: FTL FTH1 ACTB B2M TMSB4X MALAT1 MT-CO1 CD74 TYROBP MT-CO2 TMSB10 FOS RPLP1 FCER1G PFN1 S100A6 MT-CO3 PTMA S100A11 RPL10 RPS12 CTSB RPL28 CCL2 EEF1A1 RP11-84E17 LYZ HLA-B CTSD HLA-DRA MYL6 NPC2 SH3BGRL3 SERF2 S100A4 PSAP CFL1 S100A9 MT-ND4 VIM HLA-A CST3 NFKBIA FUCA1 TPT1 CXCL8 AIF1 GAPDH MT-CYB RPL19 LGALS3 MT-ND1 HLA-DRB1 LGALS1 OAZ1 RPS19 RPL13 RPS8 CD68 RPL12 GABARAP RPS28 RPL11 SAT1 RPLP2 RPS27A RPS15 ACTG1 HLA-C RPS14 CCL3 RPS24 RPL30 RPS23 MT-ATP6 RPS13 RPL32 FAU ITM2B PRDX1 RPLP0 CSTB PPIA ATP5F1E RPS15A DUSP1 RPL8 GPX1 RPS10 RPL18A GSTP1 MT-ND4L EIF1 CTSS RPS18 JUN RPS3A S100A8 KLF6 UBC GLUL MMP9 RPS7 RPL7A RPL15 RPS3 RPL18 ARPC3 ALDOA MT-ND2 CCL4 CD63 CAPG FCGRT UBA52 PFDN5 RPS26 MT-ND5 CALR ZFP36 H3-3A TUBA1B RPL34 ANXA5 RPL29 ARPC1B RPS6 CXCL2 RPS25 RPS16 RPL6 RPL39 RPL26 RPS9 NEAT1 S100A10 SOD2 ANXA2 H3-3B PKM HLA-DPA1 COX4I1 ARPC2 RPS4X GRN GPX4 RPL35 RPL13A CALM2 RPS27 RPL14 RHOA ATP6V0C CXCL3 COTL1 VAMP8 RPL37 SRGN RNASE1 ATP6V1F HLA-E PPIB RPL35A HMOX1 ATP6V0B CYBB BLVRB HLA-DPB1\\nCell Type: regulatory T cell, Tissue: blood, Disease: normal, Gene Expression: ACTB MT-CO2 B2M RPLP1 EEF1A1 MT-CO1 RPS12 GAPDH MT-CO3 PTMA RPL10 MALAT1 RPL28 RPS18 RPLP0 RPL13 RPS8 RPL19 RPS19 RPS27A RPL18A HSP90AB1 RPL32 RP11-84E17 RPS3 RPS23 ACTG1 MT-CYB PFN1 RPS14 RPL7A RPLP2 RPS6 RPL12 RPS15 NPM1 RPL11 RPS13 RPS15A TUBA1B MT-ND4L RPL8 RPS3A RPL29 TMSB4X RPL18 RPS4X RPL30 RPL14 RPS7 RPS10 RPL26 PPIA RPL13A HSP90AA1 HLA-A TMSB10 RPS16 RPS28 RPL15 RPL35 RPL37 RACK1 RPS26 RPS24 RPSA RPS5 RPL35A HSPA8 RPL6 RPL3 TPT1 MT-ND1 IL32 RPL34 RPS25 RPS2 RPL39 RPL17 FAU RPL36 RPL5 RPL41 RPL23A MIF HLA-B RPS9 MT-ATP6 NCL HNRNPA2B1 RPL37A TUBB RPL10A ENO1 RPL24 RPS27 FTL MT-ND4 H2AZ1 CFL1 RAN HNRNPA1 EEF1B2 HSPD1 RPL27 TPI1 RPS21 LDHA IFNG UBA52 MT-ND5 RPL9 RPL7 HMGB1 RPL4 MT-ATP8 H3-3B NACA CHCHD2 MT-ND2 FTH1 EIF5A MYL6 ALDOA LDHB HLA-C LTA NME2 PKM EIF1 GZMB RPL27A RPS11 RPL21 RPL31 PSME2 PGAM1 RPL22 RPS17 BTF3 CORO1A EEF2 SLC25A5 HSPE1 RPL23 HINT1 TXN EEF1G MT2A HMGN2 PRDX1 CALM1 CALR PABPC1 SERBP1 COX6A1 VIM RPL38 IFITM1 DUT EEF1D SH3BGRL3 S100A6 PPIB OAZ1 ATP5MC3 YBX1 SLC25A6 RPS29 MT-ND3 SERF2 IL2RA PA2G4 SUMO2 UBC ATP5F1B TPM3 SNRPD2 H4C3 COX4I1 RPS20 CD74 SLC25A3 TAGLN2 CCT6A\\nCell Type: type I NK T cell, Tissue: blood, Disease: normal, Gene Expression: MALAT1 B2M EEF1A1 MT-CO1 RPLP1 RPS12 RPL10 MT-CO2 ACTB RPL28 RPS27A RP11-84E17 RPL13 MT-CO3 TMSB4X RPL32 RPL30 RPL19 RPS15A RPS14 RPS3 RPS8 RPS19 MT-CYB RPS18 RPL11 RPS23 FTL RPL18A RPS3A TPT1 PTMA HLA-A RPS15 RPL12 RPS13 RPL34 RPLP2 RPS4X RPLP0 RPS27 FTH1 HLA-B RPL18 RPS10 RPL7A RPS7 RPS6 RPL29 RPS28 RPL8 RPL39 RPL14 TMSB10 RPL26 RPL37 MT-ND4L RPL35A RPS25 RPL3 FAU RPL13A RPS26 RPS24 RPL6 PFN1 GAPDH RPS5 RPS16 HLA-C RACK1 ACTG1 MT-ND1 RPL17 RPL5 RPL23A RPL36 RPL35 RPSA RPL15 RPL24 MT-ATP6 RPS9 NACA HSP90AB1 MT-ND2 EIF1 NPM1 IL32 RPS21 RPL10A RPL9 MT-ND4 MT-ATP8 UBA52 RPL37A MT-ND5 PPIA RPL27 RPL41 EEF1B2 H3-3B CD74 RPL4 RPL7 HLA-E HSPA8 CFL1 IFITM1 RPL22 SH3BGRL3 HNRNPA1 HNRNPA2B1 PABPC1 RPL21 RPS11 EEF1D HSP90AA1 RPS2 TUBA1B MIF RPL31 CCL5 VIM MYL6 UBC RPL27A MT-ND3 RPS29 NCL RPL38 HMGB1 EEF1G PFDN5 PTPRC CALM1 BTF3 SERF2 COX4I1 ALDOA EEF2 RPS20 LDHB SARAF ENO1 CHCHD2 TUBB S100A6 RPL36AL HINT1 DDX5 FOS CORO1A LDHA RPL23 RAN TPI1 JUN ATP5MC2 FXYD5 H2AZ1\\nCell Type: regulatory T cell, Tissue: blood, Disease: common variable immunodeficiency, Gene Expression: ACTB B2M MT-CO2 RPLP1 EEF1A1 MT-CO1 RPS12 GAPDH MT-CO3 RPL10 PTMA RPL28 RPS18 RPL13 RPLP0 MALAT1 RPS8 RPS19 RPL19 RPS27A RP11-84E17 RPL18A RPL32 ACTG1 RPS3 RPS23 HSP90AB1 PFN1 MT-CYB RPL7A RPS14 RPLP2 RPS15 RPL12 NPM1 RPS15A RPS6 RPL11 TUBA1B RPS13 TMSB4X RPS3A RPL8 RPL29 MT-ND4L RPL18 RPL30 RPS7 RPL14 PPIA RPL26 TMSB10 RPS4X RPL13A HLA-A RPS10 HSP90AA1 RPS16 RPS28 RPL37 RPL35 RPS5 RPL35A RPSA RPL15 RPS24 RACK1 RPS26 RPL34 HSPA8 RPL3 RPL6 RPL39 TPT1 MT-ND1 IL32 RPS25 RPL36 HLA-B FAU RPL41 RPS2 RPL5 MIF RPL23A RPL17 RPS9 RPS27 RPL37A TUBB HNRNPA2B1 ENO1 NCL RPL10A RPL24 MT-ATP6 CFL1 FTL RAN H2AZ1 HNRNPA1 RPS21 MT-ND4 EEF1B2 TPI1 LDHA HSPD1 RPL27 UBA52 MT-ND5 RPL9 RPL7 HMGB1 NACA H3-3B RPL4 FTH1 MT-ND2 CHCHD2 MT-ATP8 EIF5A NME2 HLA-C ALDOA LDHB MYL6 PKM EIF1 LTA RPL21 RPL31 PSME2 RPL27A RPL22 RPS11 PGAM1 RPS17 IFNG BTF3 CORO1A EEF2 SLC25A5 HSPE1 HINT1 EEF1G HMGN2 RPL23 GZMB PRDX1 PABPC1 TXN SH3BGRL3 RPL38 CALM1 CD74 COX6A1 RPS29 EEF1D DUT SLC25A6 SERBP1 UBC VIM IFITM1 ATP5MC3 CALR PPIB H4C3 SERF2 YBX1 MT-ND3 OAZ1 PA2G4 ATP5F1B TPM3 SUMO2 SNRPD2 S100A6 COX4I1\\nCell Type: effector memory CD8-positive, alpha-beta T cell, Tissue: blood, Disease: normal, Gene Expression: MALAT1 B2M EEF1A1 MT-CO1 TMSB4X CCL5 RPS12 RPL10 RP11-84E17 RPLP1 RPS19 RPS3 HLA-A MT-CO2 ACTB RPS27A RPL30 RPS15A RPS14 RPL28 FTL RPL13 RPS27 HLA-B MT-CO3 RPL19 HLA-C RPS3A MT-CYB FTH1 RPS4X RPL32 RPS18 RPS23 RPL11 RPS7 RPL7A TPT1 RPL26 RPL34 RPS8 PTMA TMSB10 RPS15 RPL18A RPS10 RPL29 RPL14 FAU RPS28 RPL18 RPS25 RPL35A RPL3 RPLP2 NKG7 RPL13A RPL39 RPS6 RPL6 MT-ND4L RPS13 RPS24 RPL8 RPL23A RPL37 SH3BGRL3 RPL12 GNLY EIF1 RPLP0 PFN1 HLA-E RPS26 RPL17 NACA RPS16 RPL24 MT-ND1 ACTG1 IL32 RPL35 CD52 RACK1 PTPRC H3-3B UBA52 MT-ATP6 RPL5 RPL36 UBC MT-ND2 MT-ND4 RPL15 MT-ATP8 RPS5 RPS9 EEF1D JUN RPL9 CST7 MT-ND5 CD8A RPSA GAPDH CD74 RPL37A RPS21 PFDN5 RPL27A CD3E RPL41 RPL10A CFL1 RPL21 RPL27 RPL36AL FGFBP2 FOS SERF2 IFITM1 SARAF RPS11 PTPRCAP S100A6 RPL22 MYL6 ITM2B VIM RPL31 RPL7 CALM1 COX4I1 H3-3A PPDPF RPS29 HNRNPA1 DDX5 PPIA RPS20 GZMH EEF1B2 HMGB1 CCL4 MT-ND3 TOMM7 CD3D CD99 ARPC2 RPL38 ARHGDIB OAZ1 KLF6 NPM1 ATP5MC2 BTF3 LAPTM5 ATP5F1E PNRC1 HNRNPA2B1 CRIP1 MYL12B SRGN S100A4 SRSF5 PABPC1 IER2 CORO1A HSP90AA1 CIRBP LCP1 EEF2 MYL12A GZMA GZMB YWHAZ HSPA8 EEF1G LSP1 GABARAP ALDOA TMA7 PLAAT4 SEPTIN7 RPS2 EVL EIF3K\\nCell Type: macrophage, Tissue: blood, Disease: normal, Gene Expression: FTL FTH1 B2M ACTB TMSB4X MALAT1 LGALS3 CTSD MT-CO1 TYROBP TMSB10 CD74 S100A11 MT-CO2 CSTB RPLP1 CTSB VIM SH3BGRL3 S100A6 PSAP PFN1 FCER1G RPL10 EEF1A1 HLA-B CD68 PTMA MT-CO3 HLA-A FOS MYL6 SERF2 HLA-DRA RPS12 RPL28 CFL1 NPC2 RP11-84E17 LGALS1 CD63 LYZ HLA-DRB1 MT-ND4 RPL19 ACP5 OAZ1 MT-CYB ACTG1 HLA-C GABARAP GAPDH PRDX1 RPS8 TPT1 MT-ND1 RPL13 CTSS CAPG RPS19 RPL11 GPNMB RPS28 RPL12 SAT1 FUCA1 GRN ANXA2 PPIA RPS27A RPS15 RPL8 RPS14 RPLP2 CST3 ANXA5 ALDOA ATP5F1E MT-ATP6 FABP5 EIF1 RPLP0 RPL30 LSP1 CXCL8 RPS13 APOC1 RPS24 FAU RPL32 RPS23 ATP6V0C GPX1 RPL18A RPS10 UBC S100A4 RPS15A RPS3A RPS7 S100A9 TUBA1B CCL2 ARPC3 RPL7A MT-ND4L ITM2B GSTP1 CALR RPL15 GPX4 S100A10 RPS3 RPS18 ATP6V1F PKM RPL18 H3-3A UBA52 GLUL ARPC1B MT-ND2 NFKBIA COX4I1 MMP9 TXN CTSL PFDN5 CALM2 ARPC2 RHOA PLA2G7 RPL34 ATP6V0B HLA-DPA1 RPL39 TALDO1 RPL6 KLF6 NEAT1 RPS26 AIF1 RPS9 PLD3 LGMN RPS16 RPS25 MT-ND5 RPL29 RPL26 RPS4X JUN LAPTM5 RPL13A RPL14 FCGRT H3-3B HLA-DPB1 DUSP1 RPS6 RPS27 PPIB SOD2 RPL35 TPM3 APOE\\nCell Type: macrophage, Tissue: blood, Disease: common variable immunodeficiency, Gene Expression: FTL FTH1 B2M ACTB MALAT1 TMSB4X LGALS3 CTSD MT-CO1 CD74 MT-CO2 VIM TMSB10 CSTB S100A11 TYROBP CTSB RPLP1 PSAP HLA-A SH3BGRL3 HLA-B S100A6 HLA-DRA CD68 EEF1A1 PFN1 RPL10 FOS MT-CO3 FCER1G PTMA LYZ HLA-C SERF2 RPS12 NPC2 MYL6 CD63 HLA-DRB1 ACP5 RPL28 CFL1 RP11-84E17 MT-CYB OAZ1 LGALS1 RPL19 PRDX1 MT-ND4 CTSS GRN GABARAP ACTG1 GPNMB SAT1 RPS8 GAPDH RPL13 CAPG RPL12 ANXA2 RPL11 RPS19 PPIA TPT1 MT-ND1 ATP6V0C MT-ND4L ALDOA RPS28 RPS27A RPS14 UBC RPS15 EIF1 GPX4 ANXA5 RPL30 RPLP0 LSP1 RPLP2 RPL8 RPL32 CST3 MT-ATP6 RPS24 RPS13 FAU HLA-DPA1 RPL18A RPS7 RPS23 ATP5F1E TUBA1B CALR ARPC3 RPS15A RPL7A CXCL8 PKM RPS10 RPL15 ITM2B H3-3A FABP5 RPS3A NFKBIA RPS3 JUN ATP6V1F RPL18 ARPC1B S100A10 GSTP1 RPS18 RHOA CTSL PLD3 HLA-DPB1 FUCA1 UBA52 KLF6 LIPA S100A4 APOC1 TXN PFDN5 PLA2G7 GLUL HLA-E COX4I1 ARPC2 RPL6 RPL39 TALDO1 CALM2 MT-ND2 CCL2 GPX1 S100A9 DUSP1 ATP6V0B MT-ND5 RPS9 CD9 RPL29 RPL26 RPL34 MMP9 RPS25 RPL14 RPS16 NEAT1 H3-3B RPS26 LAPTM5 LGMN RPS6 HSP90AA1 CYP27A1 RNASEK RPS27 PPIB AIF1 RPS4X FCGRT\\nCell Type: intermediate monocyte, Tissue: blood, Disease: normal, Gene Expression: FTL FTH1 ACTB TMSB4X MT-CO1 B2M TMSB10 MALAT1 MT-CO2 RPLP1 TYROBP S100A6 RPS12 MT-CO3 PFN1 RP11-84E17 SERF2 PTMA RPL28 FCER1G S100A11 MT-ND4 CTSD MYL6 RPL10 FOS CTSB MT-ND1 S100A4 SH3BGRL3 ATP5F1E RPS28 CD74 LGALS1 CCL2 MT-ATP6 RPL12 RPLP2 EEF1A1 CFL1 RPS19 LGALS3 RPL19 AIF1 S100A9 MT-CYB GPX1 PSAP RPL13 OAZ1 RPS8 NPC2 RPS15 TPT1 RPS14 GAPDH RPS27A CSTB RPS13 RPL32 RPL11 HLA-B FAU RPS24 RPS15A RPS23 RPL30 MT-ND2 VIM RPS10 FUCA1 GABARAP CST3 RPL39 LYZ S100A8 SAT1 RPS26 RPLP0 RPL18A RPL8 GSTP1 RPS7 ACTG1 RPL18 RPS3A RPL34 RPS18 CD68 HLA-A PPIA UBA52 RPL35 MT-ND4L HLA-DRA RPS27 GLUL RPL37 RPS3 MT-ND5 EIF1 PFDN5 RPL7A CXCL8 RNASE1 RPL15 RPS25 MT-ND3 S100A10 RPS16 PRDX1 RPL13A HLA-C ANXA5 RPL29 RPL41 GPX4 NFKBIA UBC ITM2B CAPG RPL6 RPS6 COX4I1 RPL26 ARPC3 RPL36 RPL35A ALDOA HLA-DRB1 RPS9 COX8A H3-3A MMP9 KLF6 RPL14 H3-3B VAMP8 FCGRT ARPC1B CD63 TUBA1B AP2S1 CTSS ATP6V1F RPS4X COTL1 ATP5MG NEAT1 BLVRB ARPC2 COX6B1 HMOX1 COX5B ELOB RPL22 PKM JUN RPL27 RPL24 ATP5MC2 ATOX1 RPL9 RPS21 RPS5 TXN CALR RHOA RPL37A ANXA2 TPM3 CTSZ NME2 CHCHD2 CALM2 RPL23A PPDPF ATP6V0C ATP6V0B NACA CALM1 GNG5 DUSP1 LAPTM5 RNASEK UQCR11 HNRNPA2B1 TALDO1 ENO1 RPL17 RPL3 HSP90AA1 MT-ATP8 COX7C\\nCell Type: mucosal invariant T cell, Tissue: blood, Disease: normal, Gene Expression: MALAT1 B2M EEF1A1 RPLP1 RPS12 RPL10 MT-CO1 RPL13 RPL28 MT-CO2 RPS27A ACTB RP11-84E17 TMSB4X RPS19 RPL30 RPS3 RPS14 RPL32 RPS15A MT-CO3 RPL19 TPT1 RPS18 RPL11 HLA-A RPS3A RPS23 RPS8 MT-CYB RPS4X FTL RPL34 RPL18A HLA-B RPS27 RPS10 RPLP0 RPS13 RPS15 RPL18 PTMA RPL7A RPL3 RPL12 FTH1 RPLP2 RPS7 RPL29 RPL14 RPL8 RPL39 RPS6 RPL26 RPS28 FAU RPL35A RPL37 RPS25 RPL6 MT-ND4L HLA-C RPL13A RPS24 CCL5 RPS16 RPL17 RPS26 RPL23A RPS5 MT-ND1 EIF1 RPL5 RACK1 RPL35 RPSA TMSB10 PFN1 IL32 RPL15 RPL24 NACA ACTG1 RPL10A RPS9 RPL9 RPL36 GAPDH SH3BGRL3 FOS UBA52 RPS21 IL7R MT-ND2 MT-ATP6 MT-ATP8 HLA-E MT-ND4 EEF1B2 H3-3B MT-ND5 UBC EEF1D RPL37A JUN RPL22 HSP90AB1 RPL41 VIM CFL1 RPL7 RPL27 RPL21 NPM1 RPL27A MYL6 HNRNPA1 PFDN5 S100A6 PPIA COX4I1 PABPC1 RPL31 RPL36AL S100A4 RPS29 RPL4 EEF1G ITM2B CALM1 RPS2 RPS11 MT-ND3 HNRNPA2B1 SARAF RPS20 BTF3 SERF2 PTPRC CD3E EEF2 CD74 HSPA8 RPL38 CORO1A MYL12A NFKBIA CD52 HSP90AA1 MIF ARHGDIB PTPRCAP HMGB1 LAPTM5 DDX5 H3-3A LTB DUSP1 KLRB1 IFITM1 ATP5F1E OAZ1 ATP5MC2 PPIB HINT1 PPDPF FXYD5 SLC25A6 ALDOA IER2 CHCHD2 GZMK NCL\\nCell Type: effector memory CD8-positive, alpha-beta T cell, terminally differentiated, Tissue: blood, Disease: normal, Gene Expression: MALAT1 B2M MT-CO1 EEF1A1 TMSB4X CCL5 RPL10 RPS12 RP11-84E17 RPLP1 HLA-A RPS19 RPS27A ACTB RPS3 RPS15A MT-CO2 RPL30 HLA-B RPL28 FTL RPS14 RPS27 RPL13 MT-CO3 RPS3A HLA-C RPL19 MT-CYB RPL11 FTH1 RPS23 RPL32 RPS18 RPS8 RPS4X RPL7A PTMA RPS10 RPS7 TMSB10 RPS15 RPL18A RPL26 RPL34 TPT1 RPL14 RPL18 RPLP2 RPL3 FAU NKG7 RPL29 RPL35A RPS28 RPL37 RPS25 RPL13A RPL39 RPS6 RPL6 RPS13 MT-ND4L RPL8 RPL23A RPS24 RPL12 HLA-E SH3BGRL3 PFN1 RPL17 RPL24 IL32 EIF1 NACA PTPRC RPS16 UBA52 RPLP0 ACTG1 MT-ND1 RACK1 MT-ATP6 RPS26 H3-3B CST7 MT-ND4 MT-ATP8 RPL15 RPL35 RPL36 RPL5 RPS5 EEF1D MT-ND2 CD52 UBC CD74 RPS9 RPL9 RPL37A MT-ND5 RPS21 RPL27A RPS11 IFITM1 RPL41 GNLY GAPDH RPS29 RPL10A PFDN5 RPSA CFL1 RPL27 DDX5 CD3E MYL6 PPDPF SERF2 RPL22 RPL36AL ITM2B PTPRCAP RPL21 SARAF FGFBP2 RPS20 CALM1 ARHGDIB RPL7 MT-ND3 PPIA RPL31 COX4I1 H3-3A VIM SRSF5 OAZ1 RPL38 TOMM7 JUN HNRNPA1 PABPC1 ARPC2 EEF1B2 HMGB1 BTF3 SRGN MYL12B CD3D S100A6 CRIP1 PLAAT4 CORO1A ATP5F1E HNRNPA2B1 CD99 TMA7 NPM1 HSPA8 RPL4 EEF2 YWHAZ LCP1 ATP5MC2 KLF6 LSP1 NCL EVL CD8A CIRBP ALDOA SEPTIN7 RPS2 PNRC1\\nCell Type: classical monocyte, Tissue: blood, Disease: common variable immunodeficiency, Gene Expression: FTL FTH1 B2M ACTB TMSB4X MALAT1 CD74 MT-CO1 FOS MT-CO2 TMSB10 TYROBP RPLP1 HLA-DRA FCER1G MT-CO3 LYZ PFN1 RPL10 CTSB EEF1A1 PTMA S100A6 RPS12 HLA-B S100A11 CTSD RPL28 HLA-DRB1 HLA-A RP11-84E17 HLA-C PSAP CST3 NPC2 S100A4 SERF2 MYL6 SH3BGRL3 NFKBIA MT-CYB VIM CFL1 MT-ND4 TPT1 LGALS3 RPL19 S100A9 AIF1 RPL13 GAPDH FUCA1 OAZ1 CD68 CXCL8 SAT1 RPS19 MT-ND1 CCL2 RPL12 RPS8 LGALS1 RPL11 GABARAP JUN RPS27A DUSP1 ACTG1 RPS28 RPS14 RPL30 HLA-DPA1 RPS24 RPS13 RPL32 RPLP2 RPS15 MT-ND4L ITM2B MT-ATP6 CCL3 RPS23 PRDX1 RPLP0 ZFP36 FAU CTSS CSTB RPS15A GPX1 UBC RPL18A EIF1 KLF6 RPS3A ATP5F1E RPL8 PPIA RPS7 RPS10 RPS3 RPL7A RPL15 GSTP1 RPS18 GLUL HLA-DPB1 RPL18 ARPC3 CD63 ALDOA MT-ND2 MT-ND5 CCL4 FCGRT PFDN5 RPL34 CXCL2 GRN RPL29 H3-3A NEAT1 UBA52 CALR RPL26 ARPC1B S100A8 TUBA1B RPS25 RPL39 RPS6 RPS27 H3-3B RPL6 RPS9 RPS16 RPS26 ANXA5 RPL13A HLA-E ATP6V0C RNASE1 CAPG CALM2 RPL14 ARPC2 GPX4 SOD2 COX4I1 ANXA2 RPL35A RPS4X SRGN PKM HMOX1 RHOA IER2 CD14 RPL37 RPL35 BLVRB COTL1 CYBB VAMP8 CXCL3 MMP9 IER3 JUNB NACA RPL3 HNRNPA2B1 RACK1 MT-ND3 RPS5 GRB2 S100A10 LAPTM5 MT-ATP8 PPIB RPL17 ATP6V0B IL1B STAT1 FCN1 RPL41 TPM3 AP2S1 ARHGDIB ATP6V1F CLIC1 COX8A ARPC5 HSP90AA1 CHCHD2 HSP90AB1\\n',\n",
       " 'Question': 'Does the cell sentence of the conventional dendritic cell support its antigen-presenting function in the bone marrow?',\n",
       " 'Answer': 'Yes, the cell sentence supports the antigen-presenting function of conventional dendritic cells. High expression of HLA-DRB1, HLA-DRA, and CD74 genes indicates strong involvement in antigen presentation pathways, which are critical for dendritic cells. These genes encode components of the major histocompatibility complex (MHC) class II molecules and chaperones that facilitate antigen presentation to T cells.',\n",
       " 'Keyword': 'Yes, HLA-DRB1, HLA-DRA, CD74, antigen presentation',\n",
       " 'full_QA_pair': '<|Question|>Conventional dendritic cells (cDCs) are critical for antigen presentation and immune activation in the bone marrow. Gene expression profiles, such as high expression of HLA-DRB1, HLA-DRA, and CD74, suggest a strong antigen presentation function.<|Question|>Does the cell sentence of the conventional dendritic cell support its antigen-presenting function in the bone marrow?<|Answer|>Yes, the cell sentence supports the antigen-presenting function of conventional dendritic cells. High expression of HLA-DRB1, HLA-DRA, and CD74 genes indicates strong involvement in antigen presentation pathways, which are critical for dendritic cells. These genes encode components of the major histocompatibility complex (MHC) class II molecules and chaperones that facilitate antigen presentation to T cells.<|Keyword|>Yes, HLA-DRB1, HLA-DRA, CD74, antigen presentation',\n",
       " 'Dataset_Name': 'Activated PBMCs - Expanded cohort CITE-seq',\n",
       " 'Publication_URL': 'https://cellxgene.cziscience.com/collections/bf325905-5e8e-42e3-933d-9a9053e9af80',\n",
       " 'Dataset_Index': '304',\n",
       " 'Used_Rows': [13, 45, 47, 44, 17, 27, 26, 25, 31, 19, 12]}"
      ]
     },
     "execution_count": 6,
     "metadata": {},
     "output_type": "execute_result"
    }
   ],
   "source": [
    "qa_dict_list = []\n",
    "for QA_pair in output.split(\"<|Context|>\"):\n",
    "    if not QA_pair:\n",
    "        continue\n",
    "    try:\n",
    "        context = QA_pair.split(\"<|Question|>\")[0].strip()\n",
    "        question = QA_pair.split(\"<|Question|>\")[1].split(\"<|Answer|>\")[0].strip()\n",
    "        answer = QA_pair.split(\"<|Answer|>\")[1].split(\"<|Keyword|>\")[0].strip()\n",
    "        label = QA_pair.split(\"<|Keyword|>\")[1].strip()\n",
    "    except:\n",
    "        print(\"Error in the following QA pair:\")\n",
    "        print(QA_pair)\n",
    "        continue\n",
    "\n",
    "    entry = {\n",
    "        \"Context\": context,\n",
    "        \"Summary_Dataset\": dataset_in_prompt,\n",
    "        \"Question\": question, \n",
    "        \"Answer\": answer,\n",
    "        \"Keyword\": label,\n",
    "        \"full_QA_pair\": \"<|Question|>\"+QA_pair.strip(), \n",
    "        \"Dataset_Name\": dataset_name,\n",
    "        \"Publication_URL\": cur_url,\n",
    "        \"Dataset_Index\": dataset_index,\n",
    "        \"Used_Rows\": sampled_indices,\n",
    "    }\n",
    "    qa_dict_list.append(entry)\n",
    "\n",
    "qa_dict = {key: [d[key] for d in qa_dict_list] for key in qa_dict_list[0].keys()} # list of dicts to dict of lists\n",
    "\n",
    "new_hf_dataset = Dataset.from_dict(qa_dict)\n",
    "print(\"Example:\")\n",
    "new_hf_dataset[0]"
   ]
  },
  {
   "cell_type": "markdown",
   "metadata": {},
   "source": [
    "run the following cell every time to save updates \\\n",
    "sometimes save_to_disk will fail because it doesn't automatically overwrites, just delete the old file adn run it again"
   ]
  },
  {
   "cell_type": "code",
   "execution_count": 7,
   "metadata": {},
   "outputs": [
    {
     "name": "stderr",
     "output_type": "stream",
     "text": [
      "/users/zlyu12/.conda/envs/cell2sentence-tc/lib/python3.10/site-packages/datasets/table.py:1395: FutureWarning: promote has been superseded by promote_options='default'.\n",
      "  block_group = [InMemoryTable(cls._concat_blocks(list(block_group), axis=axis))]\n",
      "/users/zlyu12/.conda/envs/cell2sentence-tc/lib/python3.10/site-packages/datasets/table.py:1421: FutureWarning: promote has been superseded by promote_options='default'.\n",
      "  table = cls._concat_blocks(blocks, axis=0)\n"
     ]
    },
    {
     "ename": "OSError",
     "evalue": "[Errno 39] Directory not empty: '/users/zlyu12/Desktop/c2s-RL/Create_Dataset/temp_hf_dataset'",
     "output_type": "error",
     "traceback": [
      "\u001b[0;31m---------------------------------------------------------------------------\u001b[0m",
      "\u001b[0;31mOSError\u001b[0m                                   Traceback (most recent call last)",
      "Cell \u001b[0;32mIn[7], line 3\u001b[0m\n\u001b[1;32m      1\u001b[0m hf_dataset \u001b[38;5;241m=\u001b[39m concatenate_datasets([hf_dataset, new_hf_dataset])\n\u001b[1;32m      2\u001b[0m \u001b[38;5;28;01mif\u001b[39;00m os\u001b[38;5;241m.\u001b[39mpath\u001b[38;5;241m.\u001b[39mexists(hf_dataset_output_path):\n\u001b[0;32m----> 3\u001b[0m     \u001b[43mshutil\u001b[49m\u001b[38;5;241;43m.\u001b[39;49m\u001b[43mrmtree\u001b[49m\u001b[43m(\u001b[49m\u001b[43mhf_dataset_output_path\u001b[49m\u001b[43m)\u001b[49m\n\u001b[1;32m      4\u001b[0m hf_dataset\u001b[38;5;241m.\u001b[39msave_to_disk(hf_dataset_output_path)\n\u001b[1;32m      5\u001b[0m \u001b[38;5;28mprint\u001b[39m(\u001b[38;5;124m\"\u001b[39m\u001b[38;5;124mcurrent hf_dataset: \u001b[39m\u001b[38;5;124m\"\u001b[39m)\n",
      "File \u001b[0;32m~/.conda/envs/cell2sentence-tc/lib/python3.10/shutil.py:731\u001b[0m, in \u001b[0;36mrmtree\u001b[0;34m(path, ignore_errors, onerror)\u001b[0m\n\u001b[1;32m    729\u001b[0m         os\u001b[38;5;241m.\u001b[39mrmdir(path)\n\u001b[1;32m    730\u001b[0m     \u001b[38;5;28;01mexcept\u001b[39;00m \u001b[38;5;167;01mOSError\u001b[39;00m:\n\u001b[0;32m--> 731\u001b[0m         \u001b[43monerror\u001b[49m\u001b[43m(\u001b[49m\u001b[43mos\u001b[49m\u001b[38;5;241;43m.\u001b[39;49m\u001b[43mrmdir\u001b[49m\u001b[43m,\u001b[49m\u001b[43m \u001b[49m\u001b[43mpath\u001b[49m\u001b[43m,\u001b[49m\u001b[43m \u001b[49m\u001b[43msys\u001b[49m\u001b[38;5;241;43m.\u001b[39;49m\u001b[43mexc_info\u001b[49m\u001b[43m(\u001b[49m\u001b[43m)\u001b[49m\u001b[43m)\u001b[49m\n\u001b[1;32m    732\u001b[0m \u001b[38;5;28;01melse\u001b[39;00m:\n\u001b[1;32m    733\u001b[0m     \u001b[38;5;28;01mtry\u001b[39;00m:\n\u001b[1;32m    734\u001b[0m         \u001b[38;5;66;03m# symlinks to directories are forbidden, see bug #1669\u001b[39;00m\n",
      "File \u001b[0;32m~/.conda/envs/cell2sentence-tc/lib/python3.10/shutil.py:729\u001b[0m, in \u001b[0;36mrmtree\u001b[0;34m(path, ignore_errors, onerror)\u001b[0m\n\u001b[1;32m    727\u001b[0m     os\u001b[38;5;241m.\u001b[39mclose(fd)\n\u001b[1;32m    728\u001b[0m     fd_closed \u001b[38;5;241m=\u001b[39m \u001b[38;5;28;01mTrue\u001b[39;00m\n\u001b[0;32m--> 729\u001b[0m     \u001b[43mos\u001b[49m\u001b[38;5;241;43m.\u001b[39;49m\u001b[43mrmdir\u001b[49m\u001b[43m(\u001b[49m\u001b[43mpath\u001b[49m\u001b[43m)\u001b[49m\n\u001b[1;32m    730\u001b[0m \u001b[38;5;28;01mexcept\u001b[39;00m \u001b[38;5;167;01mOSError\u001b[39;00m:\n\u001b[1;32m    731\u001b[0m     onerror(os\u001b[38;5;241m.\u001b[39mrmdir, path, sys\u001b[38;5;241m.\u001b[39mexc_info())\n",
      "\u001b[0;31mOSError\u001b[0m: [Errno 39] Directory not empty: '/users/zlyu12/Desktop/c2s-RL/Create_Dataset/temp_hf_dataset'"
     ]
    }
   ],
   "source": [
    "hf_dataset = concatenate_datasets([hf_dataset, new_hf_dataset])\n",
    "if os.path.exists(hf_dataset_output_path):\n",
    "    shutil.rmtree(hf_dataset_output_path)\n",
    "hf_dataset.save_to_disk(hf_dataset_output_path)\n",
    "print(\"current hf_dataset: \")\n",
    "hf_dataset\n"
   ]
  }
 ],
 "metadata": {
  "kernelspec": {
   "display_name": "cell2sentence-tc",
   "language": "python",
   "name": "python3"
  },
  "language_info": {
   "codemirror_mode": {
    "name": "ipython",
    "version": 3
   },
   "file_extension": ".py",
   "mimetype": "text/x-python",
   "name": "python",
   "nbconvert_exporter": "python",
   "pygments_lexer": "ipython3",
   "version": "3.10.12"
  }
 },
 "nbformat": 4,
 "nbformat_minor": 2
}
