{
 "cells": [
  {
   "cell_type": "code",
   "execution_count": 1,
   "metadata": {},
   "outputs": [
    {
     "name": "stderr",
     "output_type": "stream",
     "text": [
      "/users/zlyu12/.conda/envs/cell2sentence-tc/lib/python3.10/site-packages/tqdm/auto.py:21: TqdmWarning: IProgress not found. Please update jupyter and ipywidgets. See https://ipywidgets.readthedocs.io/en/stable/user_install.html\n",
      "  from .autonotebook import tqdm as notebook_tqdm\n"
     ]
    }
   ],
   "source": [
    "import torch\n",
    "import numpy as np\n",
    "import json\n",
    "import os\n",
    "import re\n",
    "import pandas as pd\n",
    "import shutil\n",
    "\n",
    "from datasets import Dataset, load_from_disk, concatenate_datasets, DatasetDict\n",
    "\n",
    "seed = 42\n",
    "torch.manual_seed(seed)\n",
    "np.random.seed(seed)"
   ]
  },
  {
   "cell_type": "markdown",
   "metadata": {},
   "source": [
    "helper functions and constants"
   ]
  },
  {
   "cell_type": "code",
   "execution_count": 6,
   "metadata": {},
   "outputs": [],
   "source": [
    "def dataset_for_prompt(df):\n",
    "    # number of rows to sample\n",
    "    num_rows = min(len(df), np.random.randint(5, 25))\n",
    "    df = df.sample(num_rows)\n",
    "    #number of genes to sample\n",
    "    num_genes = 2000 // num_rows\n",
    "\n",
    "    use_d = True\n",
    "    if len(df['diseases'].unique()) == 1:\n",
    "        use_d = False\n",
    "\n",
    "    s = \"\"\n",
    "    sampled_indices = []\n",
    "    for index, row in df.iterrows():\n",
    "        cur_num_genes = min(num_genes+np.random.randint(-20, 20), 1000)\n",
    "        cell_sentence = ' '.join(row[f'gene_{i}'] for i in range(1, cur_num_genes))\n",
    "        if use_d:\n",
    "            s += f\"Cell Type: {row['cell_type']}, Tissue: {row['tissue']}, Disease: {row['diseases']}, Gene Expression: {cell_sentence}\\n\"\n",
    "        else:\n",
    "            s += f\"Cell Type: {row['cell_type']}, Tissue: {row['tissue']}, Gene Expression: {cell_sentence}\\n\"\n",
    "        sampled_indices.append(index)\n",
    "        \n",
    "    return s, sampled_indices\n",
    "\n",
    "prompt_prefix = \"\"\"This is a scientific manuscript and an example of the single-cell RNA sequencing dataset it is associated with. The example dataset contains one representative cell from each type and the corresponding cell sentence(ranked gene names by expression). You need to create question-answer pairs for Large Language Models to learn analyzing scRNA-seq datasets when given pieces of data converted into cell sentences. I would like questions and answers about the given cell sentence in terms of cells, tissues, disease, or other relevant biological information. \n",
    "The questions must be answerable by looking at the given cell sentences alone. The question-answer pairs should follow a line of reasoning mentioned in the manuscript or results arrived by the researchers. When creating questions, you should first read the given manuscript, consider what the analysis the researchers did in the manuscript and the biological context of this study. Then look at the example cell sentences(or a part of them), think about what question the researchers asked or would ask about the cell sentence, what they wanted to and can infer, study, or understand. Imitate the interpretation of data in the manuscript. Then answer the question, quote specific cell sentences and genes as evidence, and include a chain of thoughts. You can borrow reasoning and analysis, conclusions from the manuscript but don't directly use or quote the manuscript in question or answer. Avoid questions about experiment design or procedures, avoid vague questions. Try to vary the type of things the question asks and the wording, include both open ended questions and yes or no questions.\n",
    "Provide Context for the question, this is only the essential background information required to answer the question. Find context from the manuscript. Provide Answer, including detailed reasonings. Refer to specific cell sentences as [type] cell gene expression. Provide Keywords of the answer being the most essential parts of the correct answer. The keywords should be yes or no(must include if it is a yes or no question), or important gene names, or biological information in question. These keywords will be used during my training to validate my model's response. \n",
    "Give 20 question answer pairs as one list, don't give any other word. Strictly format like this: \n",
    "<|Context|>the context<|Question|>the content of the question<|Answer|>the content of the answer<|Keyword|>the answer keywords\n",
    "<|Context|>the context<|Question|>the content of the question<|Answer|>the content of the answer<|Keyword|>the answer keywords\n",
    "...\n",
    "\"\"\""
   ]
  },
  {
   "cell_type": "markdown",
   "metadata": {},
   "source": [
    "loads all datasets and meta data \\\n",
    "assumes summary datasets are in a directory as csv files, assuming the format processed by Harry \\\n",
    "all files I'm looking at can be found in my C2S-RL dev github repo branch"
   ]
  },
  {
   "cell_type": "code",
   "execution_count": 7,
   "metadata": {},
   "outputs": [],
   "source": [
    "# TODO: change to your own file path\n",
    "datasets_directory = \"/users/zlyu12/Desktop/c2s-RL/Dec19_dataset\" # all summary datasets\n",
    "meta_data_path = \"/users/zlyu12/Desktop/c2s-RL/Create_Dataset/meta_data.json\" # dataset name, filename, url etc.\n",
    "hf_dataset_output_path = \"/users/zlyu12/Desktop/c2s-RL/Create_Dataset/temp_hf_dataset\" # temporary output directory\n",
    "\n",
    "datasets_files_paths = [os.path.join(datasets_directory, f) for f in os.listdir(datasets_directory) if f.endswith('.csv')]\n",
    "dataset_numbers = [re.search(r'\\((\\d+)\\)', f).group(1) for f in datasets_files_paths]\n",
    "\n",
    "meta_data = json.load(open(meta_data_path))\n",
    "dataset_numbers_iterator = iter(dataset_numbers)\n",
    "\n",
    "try:\n",
    "    hf_dataset = load_from_disk(hf_dataset_output_path)\n",
    "except:\n",
    "    hf_dataset = Dataset.from_dict({})\n"
   ]
  },
  {
   "cell_type": "markdown",
   "metadata": {},
   "source": [
    "iterates through all datasets in your directory \\\n",
    "this prepares the prompt \\\n",
    "copy paste, add the publication text at the end and run our favorite LLM \\\n",
    "run only once for a row, we rely on some variables defined here in later cells"
   ]
  },
  {
   "cell_type": "code",
   "execution_count": 9,
   "metadata": {},
   "outputs": [
    {
     "name": "stdout",
     "output_type": "stream",
     "text": [
      "\n",
      "Dataset Name:  UMAP of Endothelial cells\n",
      "\n",
      "Publication URL:  https://cellxgene.cziscience.com/collections/a18474f4-ff1e-4864-af69-270b956cee5b\n",
      "\n",
      "Prompt:\n",
      " This is a scientific manuscript and an example of the single-cell RNA sequencing dataset it is associated with. The example dataset contains one representative cell from each type and the corresponding cell sentence(ranked gene names by expression). You need to create question-answer pairs for Large Language Models to learn analyzing scRNA-seq datasets when given pieces of data converted into cell sentences. I would like questions and answers about the given cell sentence in terms of cells, tissues, disease, or other relevant biological information. \n",
      "The questions must be answerable by looking at the given cell sentences alone. The question-answer pairs should follow a line of reasoning mentioned in the manuscript or results arrived by the researchers. When creating questions, you should first read the given manuscript, consider what the analysis the researchers did in the manuscript and the biological context of this study. Then look at the example cell sentences(or a part of them), think about what question the researchers asked or would ask about the cell sentence, what they wanted to and can infer, study, or understand. Imitate the interpretation of data in the manuscript. Then answer the question, quote specific cell sentences and genes as evidence, and include a chain of thoughts. You can borrow reasoning and analysis, conclusions from the manuscript but don't directly use or quote the manuscript in question or answer. Avoid questions about experiment design or procedures, avoid vague questions. Try to vary the type of things the question asks and the wording, include both open ended questions and yes or no questions.\n",
      "Provide Context for the question, this is only the essential background information required to answer the question. Find context from the manuscript. Provide Answer, including detailed reasonings. Refer to specific cell sentences as [type] cell gene expression. Provide Keywords of the answer being the most essential parts of the correct answer. The keywords should be yes or no(must include if it is a yes or no question), or important gene names, or biological information in question. These keywords will be used during my training to validate my model's response. \n",
      "Give 20 question answer pairs as one list, don't give any other word. Strictly format like this: \n",
      "<|Context|>the context<|Question|>the content of the question<|Answer|>the content of the answer<|Keyword|>the answer keywords\n",
      "<|Context|>the context<|Question|>the content of the question<|Answer|>the content of the answer<|Keyword|>the answer keywords\n",
      "...\n",
      "Dataset: \n",
      "Cell Type: vein endothelial cell, Tissue: lower esophagus, Disease: normal, Gene Expression: MALAT1 B2M TMSB4X RPL10 EEF1A1 RPS18 RPL13 RPS6 RPLP1 RPL41 RPL13A PTMA RPS2 RPS14 RPL32 MT-CO1 KRT13 RPS27A RPL34 RPL3 RPS19 RPL11 S100A9 RPS4X RPS3 RPS8 RPL19 RPL21 RPS12 ACTB RPL18A S100A8 RPL8 RPS27 MT-CO3 RPLP2 MT-ND4 TMSB10 MT-CO2 RPS23 RPS15A MT-CYB TPT1 RPS15 RPL15 RPS9 HLA-B RPL12 RPL9 HLA-A MT-ND2 RPS7 RPL28 RPS3A SPRR3 VIM RPL27A RPL18 ITM2B RPL35A RPL30 RPS5 RPL10A EIF1 RPS16 CSTB RPL29 FTH1 RPL7 RPS20 RPS13 RPL6 RPL7A RPL23A RPL26 FAU RPL35 HLA-C RPL31 H3-3B RPS28 ACTG1 MT-ATP6 IGFBP7 RPS24 RPL39 RPL36 FTL RPL5 RPS29 RPL24 GAPDH HLA-E RPL14 SPARCL1 RACK1 TXNIP RPS11 CD74 HSPB1 MYL6 RPL37 UBC S100A6 UBA52 RPL37A IFITM3 RPSA ANXA1 MT-ND1 MT-ND3 NACA RPS25 S100A11 RPLP0 RPL27 ACKR1 RPL23 S100A10 SERF2 SRP14 IFI27 CLU HSP90AB1 MYL12A BTF3 JUNB YBX1 CFL1 BTG1 EEF1D CSTA ID3 UBB CD63 ADIRF ID1 RPL4 DDX5 HSP90AA1 GSTP1 PFN1 COX4I1 IFITM2 RPL38 ANXA2 PFDN5 KRT4 NEAT1 CALM1 GNG11 DYNLL1 ATP5F1E MYL12B CALM2 HLA-DRB1 FABP5 CST3 AQP1 TXN RPS21 EEF2 FKBP1A RAC1 SH3BGRL3 OAZ1 CLDN5 RPS26 MT-ND5 H3-3A EEF1B2 HNRNPA1 GIMAP7 SLC25A6 RAMP2 CAV1 HMGB1 PPIA LDHA SELENOW HINT1 TUBA1B TM4SF1 EIF3E ITM2A LAPTM4A CD9\n",
      "Cell Type: endothelial cell of artery, Tissue: duodenum, Disease: normal, Gene Expression: MALAT1 MT-CO3 MT-CO1 B2M MT-CO2 TMSB4X PLVAP MT-ND3 MT-CYB IGFBP7 MT-ND2 MT-ND4 FABP5 MT-ATP6 HSPA1A TMSB10 HSPG2 APOA4 PTMA IFI27 RPL41 APOA1 ITM2B HSP90AB1 RPL21 H3-3B NEAT1 HLA-A MGP RPS28 ACTB MT-ND1 TPT1 FTL SPARC UBB MYL6 HLA-E SPTBN1 HSP90AA1 PLAT FKBP1A SOCS3 HSPA1B FTH1 RPS15 RPL11 RPS27 ZFP36 RPL13 COL4A1 N4BP2L2 EPAS1 RPL13A RPS19 HLA-B DYNLL1 RPS6 RPS3 HNRNPA1 CD320 DNAJB1 SFPQ SELENOW POLR2L MYL12B RPL3 SNX3 RPS15A SORBS2 BCAM TMEM88 RPLP2 RPL19 RPS29 RPS7 LGALS1 CD36 DNAJA4 CD74 CCDC85B EHD4 H3-3A EMP2 S100A10 MYL12A PRXL2A RPL27 RPL37 RPS14 RPS18 RPL34 FOS GSN RSRP1 APOC3 NOTCH4 HSPA12B TIE1 ZC3HAV1 MT-ND5 NKTR NPDC1 HNRNPA0 VAPA RPL26 SELENOP ERG RPL36 TSPO RPL32 CRBN RPL39 CAVIN1 SCP2 RPS21 VWA1 RPS3A TAGLN2 PDE2A OAZ1 HLA-C S100A11 IGKC CHCHD2 COX5B YBX3 DOCK6 FOSB RPL37A MORF4L1 LAPTM4A RPLP1 EEF1A1 RNASE1 JUNB SERF2 RPL18A RPS12 EIF5B SLC9A3R2 HSPB1 MMRN2 IRF1 IER5 COL4A2 RPS13 RAMP2 CD63 RPL15 RPS25 CLIC1 CLDN5 RPL6 CALM2 RPS11 KATNBL1 NEU1 MARCKSL1 CTNNB1 UPP1 ATP5ME RHOA HSPE1 YPEL1 RPL18 NDUFB7 EMCN LSM2 HSPA8 SPAG9 CALR ACVRL1 DDIT4 CHD9\n",
      "Cell Type: vein endothelial cell, Tissue: colon, Disease: normal, Gene Expression: MALAT1 B2M TMSB10 HLA-B PTMA MT-CO2 RPL41 MT-ND2 RPS28 FABP5 PLVAP MT-ATP6 MT-CO3 RPL34 RPL21 RPS14 MT-ND4 MT-CYB HLA-A EEF1A1 IFITM3 TMSB4X RPS18 RPS27 MT-ND3 CD74 RPL13A IGFBP4 IFI27 RPL26 A2M ACTB CD320 ITM2B RPLP1 TPT1 RPL13 IGFBP7 HSPB1 ID1 RPS15 RPL10 S100A6 ATP5F1E RPL19 MGP RPL37A RPS27A RPS16 RPL15 RPL11 RPL28 SRP14 H3-3A FTH1 CFL1 RPL18A RPL37 RPL27A RPL39 SPARCL1 RPL9 RPL38 RPS8 EIF1 SRGN POMP VIM RPLP2 EGFL7 RPS24 RPS12 SLC9A3R2 MT-ND1 CD63 HLA-E IFITM2 S100A4 RPL35A RPL30 HLA-DRB1 RPL24 RPS21 RPL12 RPS3 RPL8 RPL23 RPL23A RPL7 SERF2 RPL36 TGFBR2 RAMP3 MT-CO1 RPS15A FKBP1A RPS3A FAU MYL12B CCDC85B CLIC1 CD59 GNG11 RPL6 RPS25 RPS9 SEM1 RPS29 RPL27 RPS13 COX7C MYL6 RPS6 HMGB1 RPS19 NNMT PTMS RACK1 CRIP2 C12orf57 TOMM7 RPL7A CST3 H3-3B COX6C RPS20 RHOA RPS4X SPARC VAMP5 BTF3 RPL32 RPL14 MRPL33 RPS23 ESAM ENG RPS11 NDUFB1 S100A11 HLA-DRA SDF4 RPS17 GNG5 SOCS3 ENPP2 RPL22 SNU13 ACTG1 HSPG2 EPAS1 GRAMD1A HNRNPK TMA7 TUBB4B ADAMTS4 RPS26 CAV1 NDUFA4 PCAT19 TAGLN2 CD99 NPDC1 FLT1 HLA-DRB5 IFI16 HEG1 GAPDH NEAT1 FTL RBP7 CNN3 ELOB TRAPPC1\n",
      "Cell Type: endothelial cell of artery, Tissue: lower esophagus, Disease: Barrett esophagus, Gene Expression: MALAT1 B2M TMSB4X MT-CO1 MT-ND4 MT-CO2 MT-CYB MT-CO3 TMSB10 MT-ND2 RPS18 ACTB PTMA MT-ATP6 RPL10 EEF1A1 RPL41 S100A6 RPL13 RPS6 MT-ND3 RPL32 RPLP1 RPL34 MT-ND1 RPL11 RPL3 RPS27A RPS4X RPS14 RPL13A IFI27 RPL21 CD74 IFITM3 HLA-A RPL8 RPL19 RPS2 ITM2B RPS19 RPLP2 VIM RPS3 RPS23 SPARCL1 RPS15 HLA-B RPS27 RPL18 RPS24 MT-ND5 EIF1 RPL18A ACTG1 RPS28 RPS9 MYL6 RPS3A RPS12 H3-3B IGFBP7 RPL35 FTH1 RPS8 S100A10 RPL29 SERF2 SRP14 TPT1 HLA-E RPL35A RPL12 NEAT1 RPS20 RPL37A ID3 JUNB RPS15A HLA-DRB1 RPL36 RPL7 RPL27A GNG11 RPL28 FTL RPL24 HSPB1 RPL15 RPL7A RPS16 VWF RPS13 RPL30 FAU AQP1 TFF1 RPL31 RPL23A A2M RPL9 RPS7 ANXA2 HLA-C RPL10A S100A9 RPS25 ADIRF RPL39 CAV1 CLDN5 UBC RPS29 RPL37 MYL12A RPL26 FOS RPL23 CALM1 ID1 TXNIP DDX5 S100A8 IGFBP4 GSN PECAM1 RAMP2 RPL27 GAPDH PFN1 RPS5 TM4SF1 FABP5 CLU RPL14 RPL38 MGP IER2 RPL6 CSTB UBA52 RPS11 IFITM2 KRT13 CFL1 RAC1 HMGB1 CD9 RACK1 ANXA1 NACA CD63 CD59 RNASE1 N4BP2L2 FKBP1A DYNLL1 H3-3A HSPG2 PLVAP S100A11 PFDN5\n",
      "Cell Type: capillary endothelial cell, Tissue: lower esophagus, Disease: normal, Gene Expression: MALAT1 IGFBP7 TMSB4X RPL10 RAMP2 KRT13 B2M ID1 RPS18 RPS4X SAT1 TSC22D1 ITM2B GADD45B RPS12 EEF1A1 SRP14 TUBA1B TMSB10 PLVAP A2M RPL34 MT-CO2 JUNB RPS6 S100A9 RPL3 ID3 RPL28 IFITM3 ACTB HLA-B RPS9 IFITM2 TXNIP RPLP1 GSN TIMP3 CD9 IFI27 RPL6 MT-CO1 HLA-C RPL19 UBC EMP1 RPS7 RPL5 S100A8 SUMO2 TPM3 RPL13 PRSS23 XIST TPT1 PDK4 CAST ATP5MC3 S100A6 BSG PRDX2 SGK1 CAPZA2 RAB13 RAMP3 MTIF3 H3-3B VIM RPL9 GIMAP1 RPS27 RPL11 PIEZO1 RPL35A GAPDH RPL15 ARHGAP29 GJA1 RPL41 RPL35 PTMS MYL6 RPL30 FYN CST3 LDHA RPL7A DYNLL1 S100A10 NQO1 CALM1 RPL8 PNISR WASF2 SEPTIN7 LEF1 HEY1 SPARC C11orf58 PSMB6 GABARAPL2 SH3BGRL3 RGCC RPS15 MT-CO3 FXYD5 ANXA1 PSMB3 ENDOV CYSTM1 MT-CYB PTMA LIFR TSSC4 TMEM147 TSC22D3 SPARCL1 PSMA7 HSPB1 RPL24 FUS RPL29 ZCRB1 GIMAP7 OAZ2 ANXA2 MT-ND4 PKM RBP7 ACTG1 MCRIP1 DDIT4 ETNK1 COX7A1 SLC9A3R2 BRAF ARPC4 RP11-147L13-3 MT1G NOP10 FAU VTA1 WDFY1 TIE1 TLE5 TPST2 ADGRL4 FAM104A UFM1 CPNE2 SHPRH BABAM2 HERPUD1 MRPL33 GRINA EWSR1 SLC2A3 HCCS SELENOF DCAF10 TTC28 SHARPIN EEF2 CNN3 PPP1R14B ZBTB7A SH3KBP1 ESD EIF1AX CTSC PPIB LPAR6 BDH1 CLTB RPL32 OTUB1 CALD1 PABPC4 TCN2 CCDC28A NDUFB2 CEP68 BRK1 TBXA2R ACTR2 RBBP7 KLF9 PERP VPS28 SKP1 C7orf50 PTK2 KLF13 DDX5 DAPK3 TPM1\n",
      "Cell Type: capillary endothelial cell, Tissue: submucosal esophageal gland, Disease: normal, Gene Expression: MALAT1 TMSB10 B2M RPL41 IFITM3 MT-ND4 RPS28 TMSB4X TIMP3 RPS27 PTMA MT-CO3 MT-CO2 RPL32 HLA-B RPL37A EEF1A1 RPLP1 RPS18 TXNIP RPS12 RPLP2 SPARCL1 RPL34 VWF ITM2B RPL37 CD74 RPL28 RPS15A MT-CYB MT-ATP6 TPT1 MT-ND3 MT-ND2 NEAT1 GSN IFI27 RPL13A EPAS1 CLDN5 HLA-A RPS15 RPL36 RPS19 RPS8 MT-CO1 HLA-E S100A6 A2M AQP1 RPS29 VIM ACTB RPL26 RPL10 RPL31 RPL39 RPL13 RPL11 IFITM2 PECAM1 MT-ND1 RPS24 RPL19 RPS14 RPL12 RPS25 RPL27A RPL35 RPS27A RPL35A RPS23 STOM EGFL7 RPS16 DDX5 HLA-C SRGN RPL21 RPS6 RPL38 RPL18A IGFBP4 CAV1 TCF4 RPL8 AHNAK ACTG1 CRIP2 RPS11 SRP14 UBC HSPG2 PSAP RPL23A FAU FKBP1A CD93 ENG RPS3A MYL6 RPL3 RPL15 RPL30 RPS13 TM4SF1 RPS5 RPS4X RPL27 ID1 ATP5F1E HSPB1 IGHA1 RPS7 CD59 H3-3B RPS21 PLVAP RACK1 DDX17 RPL23 IGFBP7 RPS9 RPS2 CD81 KCTD12 RPL9 RPS3 RPL7A SERF2 RPL18 RPL24 RPL22 CAVIN1 EIF1 RNASE1 TGFBR2 PODXL FTH1 RPS17 CST3 GAPDH CLU MYH9 DUSP1 NPDC1 HLA-DRB1 MT-ND5 SELENOW H3-3A RPL29 TAGLN2 SLC9A3R2 RAMP2 IGFBP3 NFIB GNAS HNRNPH1 UBA52 RAC1 LIFR SPTBN1 ARGLU1 CALM1 ITGB1\n",
      "Cell Type: vein endothelial cell, Tissue: submucosal esophageal gland, Disease: normal, Gene Expression: MALAT1 RPL41 RPS27 RPS28 RPL32 RPS18 RPL34 RPLP1 RPS12 TMSB10 B2M RPS15A EEF1A1 TMSB4X RPL10 RPLP2 RPL37A PTMA RPL13 RPL12 RPL36 RPL39 RPL26 RPS29 RPS27A RPL21 TPT1 RPL37 RPS8 RPS6 MT-ND4 RPL28 RPS14 RPL13A RPS23 RPS19 IFITM3 RPS15 RPS24 RPL35A RPL31 RPS2 RPS25 RPL38 RPL11 MT-CO3 RPL18A RPL27A MT-CO2 RPL19 RPL30 HLA-B MT-CO1 SPARCL1 RPL35 RPS4X RPS21 RPS13 FAU RPL23A RPS3 RPL8 RPS16 CD74 MT-ATP6 RPS3A RPL9 RPL15 RPL3 RPS9 MT-CYB NEAT1 AQP1 MT-ND3 RPS7 MT-ND2 RPL18 RPL29 S100A6 VWF RPL27 TXNIP RPL24 RPS11 RPS17 RPL23 ACTB RPS5 CLDN5 IGFBP4 HLA-E MT-ND1 ATP5F1E RPL22 RPL7A RPL7 ITM2B IFITM2 RPL36A HLA-A GSN UBA52 RPL5 VIM PECAM1 ACTG1 RPL10A ACKR1 RPL6 IFI27 TIMP3 SERF2 RPL14 RACK1 FTH1 RPS20 HLA-C PLVAP RPLP0 EGFL7 EIF1 FTL GAPDH IGFBP7 RPSA FKBP1A RPS10 CST3 MYL6 SRP14 COX7C TOMM7 HSPB1 UBC H3-3B A2M CAV1 DDX5 S100A10 CD59 EPAS1 AHNAK CRIP2 TCF4 HLA-DRB1 H3-3A HLA-DRA NPDC1 ADIRF RPL4 HSPG2 IGHA1 RPS26 EEF1D SELENOW TAGLN2 GNG11 NACA ENG CAVIN1 PPIA EEF2 HNRNPA1 TMA7 ZFP36L1 RPL17 NOP53 MT-ND5 TGFBR2 CLU RNASE1 ID1 PABPC1 MYL12A JUNB ATP5MC2 RAMP2 COX4I1 STOM CD34\n",
      "Cell Type: vein endothelial cell, Tissue: body of stomach, Disease: normal, Gene Expression: MALAT1 RPL41 RPS27 RPS18 B2M TMSB4X RPL10 PTMA TMSB10 RPL32 RPS28 RPL34 RPL13 RPS12 RPLP1 RPS15A RPL13A RPL37A RPS27A RPS29 RPS8 RPLP2 RPL21 RPL26 RPS2 RPS6 RPL12 EEF1A1 RPS15 NEAT1 MT2A RPS23 RPS14 RPS19 MT-CO1 RPL36 RPL37 RPS25 RPL35A RPL28 TM4SF1 RPL27A RPL23A RPL3 RPL18A RPL11 RPL39 TPT1 RPS24 RPS16 RPL35 RPS3 RPL15 EIF1 FTH1 RPL38 RPL19 RPS3A HSP90AA1 RPL8 RPL5 MT-ND4 RPS4X ACTB RPS20 FAU RPS21 RPS13 RPL23 RPS11 RPS9 RPL30 RPL31 IGFBP7 MT-CO2 RPL9 RPL24 RPL10A RPL7 RPS5 EMP1 MT-ND2 MT-CO3 AKAP12 RPS7 RPL7A UBC MT-ATP6 HSP90AB1 RPL27 H3-3B RPS17 IFITM3 RPL6 S100A6 RPL29 RPL18 HLA-B FOS FTL HLA-E SPARCL1 RPL14 JUN STC1 MT-ND1 SAT1 S100A10 UBA52 MT-CYB RPL22 RPS10 HLA-A VIM HSPA1A HSPB1 ATP5F1E ZFP36 GAPDH SPRY1 DSTN SERF2 RACK1 RPL36A CD74 HES1 TIMP1 ADIRF ACTG1 MT1X NFKBIA MYL6 ITM2B UBB PABPC1 JUNB DNAJB1 H3-3A IFI27 PCAT19 HLA-C DDX21 MT-ND3 FOSB EEF1D NACA PDLIM1 DDX5 YBX1 RPLP0 CAV1 CLU CD59 RPL17 SRP14 YBX3 RPSA RPL4 CFL1 DUSP1 MYL12A IGHA1 ACKR1 RAC1 IFITM2 LMNA CLDN5 NCL\n",
      "Cell Type: endothelial cell of artery, Tissue: body of stomach, Disease: stomach disorder, Gene Expression: MALAT1 B2M TMSB4X MT-CO2 RPL34 MT-ND4 MT-CO1 PTMA MT-CYB MT-ATP6 MT-CO3 TMSB10 RPL41 H3-3B MT-ND2 RPS28 RPL10 RPL7 IFI27 RPS18 RPS27A RPS27 NEAT1 RPL21 JUNB RPS14 EIF1 FOS RPS19 HLA-B ACTB EEF1A1 FTL IFITM3 MT-ND3 ITM2B FABP5 SPARCL1 RPS15 SERF2 RPLP1 PLVAP RPS6 FTH1 RPS2 IGKC CD320 RPL13 SRP14 RPL15 CD74 RPL32 RPS3A MYL6 MT-ND1 HLA-C RPL3 VIM MYL12A RPS15A CRIP2 RPL13A S100A6 RPL39 RPL26 ZFP36 RPS9 TPT1 RPS4X HLA-A RPL11 RPL8 MT-ND5 RPS29 RPS3 TM4SF1 RPL18A RPS12 RPL19 GADD45B GNG11 JUN ACTG1 RPLP2 RPL35 RPS23 RPL36 UBB RPL28 RPS8 HLA-E PFN1 FOSB RPL12 RPS13 RPL35A IGFBP7 RPS25 CD63 IER2 ATP5F1E MGP IFITM1 SAT1 A2M FKBP1A RPL27A ID3 CFL1 GAPDH CALM1 CALM2 RPL9 RAMP2 UBC GSN RPL6 HMGB1 RPS7 SOCS3 CLDN5 ID1 SKP1 HSP90AB1 RPL37A JUND NFKBIA HSPB1 RPS16 RPL23A COX7A2 SLC9A3R2 IGHA1 HSP90AA1 DYNLL1 RPS24 LMNA HES1 SH3BGRL3 ANXA2 H3-3A FAU POMP RPL24 RPL10A RAMP3 RPL18 RPS20 RPL29 DDX5 CLIC1 RPL31 RACK1 COX6C HINT1 RPS5 PRSS23 MYL12B ATP5PF TMA7 LAPTM4A ADIRF RPL27 EMP1 SNX3 PFDN5 IFITM2 RPL30 SPARC RPS26 TSC22D1 ATP5ME RPL38 S100A11 CD59 PLPP1 EEF1D S100A10 TMEM59 GSTP1 COX4I1 TGFBR2 NPC2 GUK1 TUBA1B DSTN RBX1 TCF4 NDUFA4 SELENOW TAGLN2 ZFP36L1 RNASE1 DNAJA1 RPL37 RPS27L SEC62 PPA1\n",
      "Cell Type: capillary endothelial cell, Tissue: body of stomach, Disease: gastritis, Gene Expression: MALAT1 B2M TMSB4X TMSB10 FABP5 PLVAP PTMA IFI27 CD320 ACTB MT-CO2 RPS28 RPL41 FOS MT-CO1 RPL10 JUNB HLA-B HLA-C SPARCL1 CD74 RPL34 HLA-A MT-ND4 ITM2B ZFP36 IGFBP7 RPS18 H3-3B IFITM3 EEF1A1 RPLP1 RPS27 JUN EIF1 RPL13 RPS14 MT-CO3 RPS27A MT-ND2 MYL6 FTL NEAT1 RPL13A HLA-E RPL32 SERF2 MT-CYB GAST RPL11 RPS15 RPS19 GADD45B FTH1 RPL15 RPLP2 GSN RPS6 RPS15A SOCS3 RPL3 IER2 RPL21 PRSS23 SLC9A3R2 RPS29 RPL7 RAMP2 RPL36 MYL12A ACTG1 RPL8 VIM TPT1 GNG11 SRP14 RPL19 RPS2 S100A6 FKBP1A MT-ATP6 RPL18A CAV1 RPS8 RAMP3 RPS4X RPL39 SPARC RPL27A RPS12 TM4SF1 RPL35 UBC CRIP2 RPS3 RPS3A RPL37A RPS9 UBB CFL1 RPS23 RPL35A RPL23A RPS13 FAU TXNIP CD63 RPL28 RPS16 CD36 IFITM1 MT-ND3 SRGN IFITM2 CALM1 RPS25 RPS7 RPL26 MGP VAMP5 CD59 PFN1 ATP5F1E CA4 RPL9 MYL12B GAPDH TFF1 RNASE1 IGKC FOSB RPL12 IGHA1 FLT1 RPL18 H3-3A HSPB1 RPL30 TUBA1B RPL37 RPL38 RPL31 S100A10 CALM2 DDX5 RACK1 CST3 RPS5 DYNLL1 RPL29 MT-ND1 TGFBR2 HMGB1 PECAM1 HLA-DRA A2M HLA-DRB5 RPS20 UBA52 ID3 S100A11 HSPG2 APP HSPA1A ENG PLPP1 PLPP3 HSP90AA1 IGFBP4 ADIRF CAVIN1 HES1 SNX3 RPL24 RPS24 ID1 GUK1\n",
      "Cell Type: capillary endothelial cell, Tissue: cardia of stomach, Disease: stomach disorder, Gene Expression: MALAT1 MT-ATP6 IGFBP7 B2M MT-CO3 TPT1 A2M MT-CYB HLA-B GNG11 TMSB10 MT-ND4 CXCL12 PTMA MT-CO1 SLC9A3R2 MT-ND3 GNAS RPS15 ACTG1 GSN IFI27 RPS28 MT-CO2 VIM RPL28 RPLP1 SRP14 ADGRF5 S100A10 CALM1 TMSB4X RPS27 RPL13 RNASE1 PODXL HLA-DRB1 MT-ND1 RPL27A ITGB1 RBP7 SELENOW CRIP2 CD81 RPS13 HLA-A HLA-E UBA52 RPS6 S100A6 EGFL7 PLVAP SPARC CFLAR RPL35A YWHAB HNRNPA2B1 RPL11 RAMP2 IFITM3 MYL12A RPL5 RPS14 HSPA8 MYL6 FRYL RPL10 ARHGAP29 MEF2C RPL23A SLC14A1 OSBPL8 PFN1 HERC1 PLPP1 SORBS2 EEF1A1 RPS20 STXBP3 IFITM2 RPLP2 KCTD12 TAGLN2 CD74 PPA1 CLEC14A RPS4X ACTN4 HEG1 RPS7 RACK1 PCBP2 GAPDH HSPG2 PLCB1 KLF2 RPS12 H1-10 NEAT1 RPL7A DEK RPL32 NCL TIMP3 SRSF10 TUBB4B AHNAK JUND TACC1 GLUL UBB RPS9 ITM2B RPL29 HMGB1 FLT1 EDN1 PTMS TXNIP CALD1 ATP2B1 SPEN YBX3 CNOT6L ENTPD1 RIPOR1 PSMD7 DOK4 LGALS3 RPL13A VSIR HLA-C MRPL50 RPL19 CRBN NSD1 UQCRB SIPA1 FCGRT TMEM14C COX7A2 LDLR TGFBR2 TMEM30A ATRX DSTN PLEC MZT2B STOM C1orf35 HNRNPF UTRN CTSZ ATP5F1E DDX5 SELENON OAZ1 TSHZ3 NDUFS5 HDAC7 RPL36 ZNF507 FXYD6\n",
      "Manuscript:\n",
      "\n"
     ]
    }
   ],
   "source": [
    "dataset_index = next(dataset_numbers_iterator)\n",
    "dataset_name = [k for k,v in meta_data.items() if f'({dataset_index})' in v.get('filename', '')]\n",
    "if len(dataset_name) != 1:\n",
    "    print(dataset_name)\n",
    "    print(f\"dataset \\\"{dataset_name}\\\" not in meta_data!\")\n",
    "else:\n",
    "    dataset_name = dataset_name[0]\n",
    "    cur_url = meta_data[dataset_name]['url']\n",
    "    dataset_file_path = [path for path in datasets_files_paths if f\"({dataset_index})\" in path][0]\n",
    "    dataset_df = pd.read_csv(dataset_file_path)\n",
    "    dataset_in_prompt, sampled_indices = dataset_for_prompt(dataset_df)\n",
    "    print(\"Dataset Index: \", dataset_index)\n",
    "    print(\"\\nDataset Name: \", dataset_name)\n",
    "    print(\"\\nPublication URL: \", cur_url)\n",
    "    print(\"\\nPrompt:\\n\", prompt_prefix + \"Dataset: \\n\" + dataset_in_prompt + \"Manuscript:\\n\")\n"
   ]
  },
  {
   "cell_type": "markdown",
   "metadata": {},
   "source": [
    "Just copy paste the output into the next cell, shouldn't need to do additional processing"
   ]
  },
  {
   "cell_type": "code",
   "execution_count": 10,
   "metadata": {},
   "outputs": [],
   "source": [
    "output = \"\"\"\n",
    "<|Context|>In this study, endothelial cells in both normal and metaplastic tissues can show altered gene expression patterns reflecting changes in their microenvironment. Researchers are interested in identifying whether certain cell states in intestinal metaplasia resemble gastric or intestinal phenotypes and if there is an association with inflammation or tissue remodeling.\n",
    "<|Question|>Do the vein endothelial cells from the lower esophagus in a normal state exhibit a gene expression profile that suggests a stable, noninflamed microenvironment compared to metaplastic conditions?\n",
    "<|Answer|>Yes. The [vein endothelial cell (lower esophagus, normal) gene expression] includes stable housekeeping genes (e.g., RPL10, EEF1A1), common endothelial markers (e.g., VIM), and limited stress-responsive genes. Crucially, while it contains broad markers like MALAT1 and B2M, it lacks strong inflammatory markers (e.g., fewer interferon-inducible genes like IFITM2 or IFI27) that appear more frequently in diseased states. This suggests a steady endothelial phenotype without evident inflammatory signals.\n",
    "<|Keyword|>yes, stable microenvironment, MALAT1, B2M, VIM\n",
    "\n",
    "<|Context|>Intestinal metaplasia can induce a mosaic phenotype in surrounding cells, including endothelial cells. Researchers analyze gene expression to detect subtle shifts toward either a more gastric- or intestinal-like profile.\n",
    "<|Question|>In the endothelial cell of the artery from the duodenum (normal), do we see any genes associated with a more mature intestinal environment, reflecting its native intestinal tissue location?\n",
    "<|Answer|>Yes. The [endothelial cell of artery (duodenum, normal) gene expression] shows transcripts like PLVAP and IGFBP7, which are associated with fenestrated and nutrient-absorptive vascular beds common in intestinal tissues. The presence of genes such as APOA4 and APOA1 also aligns with nutrient handling in the intestinal vasculature. These expression patterns support a phenotype consistent with a well-defined intestinal environment.\n",
    "<|Keyword|>yes, APOA4, APOA1, PLVAP, IGFBP7, intestinal environment\n",
    "\n",
    "<|Context|>In metaplastic lesions, certain endothelial cells may express genes linked to inflammation or epithelial remodeling.\n",
    "<|Question|>Does the endothelial cell of the artery in the lower esophagus with Barrett esophagus show increased expression of genes related to immune response compared to normal esophageal endothelial cells?\n",
    "<|Answer|>Yes. The [endothelial cell of artery (lower esophagus, Barrett esophagus) gene expression] includes IFI27, HLA-DRB1, and HLA-A, reflecting heightened antigen presentation and immune signaling. These differ from the normal lower esophagus endothelial profile, which had fewer such immune-related genes. The presence of IFI27 and multiple HLA genes suggests an environment more engaged with immune surveillance and possible inflammatory processes.\n",
    "<|Keyword|>yes, IFI27, HLA-DRB1, HLA-A, immune response\n",
    "\n",
    "<|Context|>Intestinal metaplasia often involves shifts in cellular phenotypes, including endothelial adaptation to a changing tissue environment.\n",
    "<|Question|>In the vein endothelial cell from the colon (normal), do we observe markers indicating a strong baseline intestinal vascular identity?\n",
    "<|Answer|>Yes. The [vein endothelial cell (colon, normal) gene expression] includes PLVAP, FABP5, and IGFBP7, which are commonly associated with intestinal endothelium that supports nutrient absorption and metabolic activity. Additionally, genes like IFI27 are less prominent, suggesting less active inflammation compared to metaplastic conditions. This pattern is consistent with a stable intestinal vascular environment.\n",
    "<|Keyword|>yes, PLVAP, FABP5, IGFBP7, intestinal identity\n",
    "\n",
    "<|Context|>Metaplastic changes can lead to the presence of stress or remodeling signals in cells.\n",
    "<|Question|>Does the endothelial cell of artery in the body of the stomach with a stomach disorder show increased expression of transcriptional regulators related to cellular stress or remodeling compared to normal stomach endothelium?\n",
    "<|Answer|>Yes. The [endothelial cell of artery (body of stomach, stomach disorder) gene expression] includes JUNB, FOS, and ZFP36. JUNB and FOS are immediate early genes tied to stress responses and tissue remodeling. Their presence suggests a shift toward a microenvironment undergoing adaptive changes, unlike stable normal stomach endothelium that shows fewer stress-associated transcription factors.\n",
    "<|Keyword|>yes, JUNB, FOS, ZFP36, stress response\n",
    "\n",
    "<|Context|>Gastritis and other inflammatory conditions can shape endothelial gene expression toward more immunomodulatory profiles.\n",
    "<|Question|>Do capillary endothelial cells from the body of the stomach with gastritis show gene changes indicating an activated inflammatory environment?\n",
    "<|Answer|>Yes. The [capillary endothelial cell (body of stomach, gastritis) gene expression] includes IFI27 and IFITM3, which are interferon-stimulated genes linked to immune activation. Their presence, alongside stress-related markers like JUNB and FOS, indicates that these cells encounter and respond to inflammatory signals within the gastric mucosa affected by gastritis.\n",
    "<|Keyword|>yes, IFI27, IFITM3, JUNB, FOS, inflammation\n",
    "\n",
    "<|Context|>Atrophic changes and metaplasia can alter the typical endothelial gene expression patterns, introducing intestinal-like features in the esophagus.\n",
    "<|Question|>In vein endothelial cells from the lower esophagus with Barrett esophagus, is there any sign of partial intestinal-like signaling based on gene expression?\n",
    "<|Answer|>Yes. The [vein endothelial cell (lower esophagus, Barrett esophagus) gene expression] includes genes like IFI27, IFITM3, and TFF1. Although not classic intestinal epithelial markers, TFF1 is often associated with mucosal protection seen in intestinal and gastric epithelia. The co-presence of stress response (IFI27) and a protective mucosal factor (TFF1) suggests subtle shifts toward a more intestinal-like microenvironment compared to strictly normal esophageal endothelium.\n",
    "<|Keyword|>yes, TFF1, IFI27, intestinal-like\n",
    "\n",
    "<|Context|>In normal tissues, endothelial cells support stable tissue function, whereas in metaplasia, they may show expression of extracellular matrix or angiogenic signals.\n",
    "<|Question|>Do the capillary endothelial cells from the submucosal esophageal gland (normal) show a simple housekeeping and structural gene profile rather than an activated, remodeling profile?\n",
    "<|Answer|>Yes. The [capillary endothelial cell (submucosal esophageal gland, normal) gene expression] is dominated by ribosomal proteins (RPL41, RPL32), metabolic regulators (TPT1, GAPDH), and basic vascular markers (CLDN5). There are fewer immediate early genes (like FOS or JUN) or interferon-related genes (IFI27), indicating a stable, non-remodeling state typical of normal, healthy tissue.\n",
    "<|Keyword|>yes, RPL41, RPL32, CLDN5, stable state\n",
    "\n",
    "<|Context|>Chronic inflammation and metaplasia can trigger expression of genes linked to tissue remodeling or altered vascular permeability.\n",
    "<|Question|>In vein endothelial cells from the submucosal esophageal gland (normal), is there evidence of an active remodeling phenotype?\n",
    "<|Answer|>No. The [vein endothelial cell (submucosal esophageal gland, normal) gene expression] largely consists of housekeeping genes (RPS27, RPS28, RPL32), with minimal immediate early genes or inflammatory genes. This lack of stress markers (e.g., IFI27, FOS) suggests the absence of a remodeling phenotype.\n",
    "<|Keyword|>no, RPS27, RPL32, no remodeling\n",
    "\n",
    "<|Context|>In metaplastic and inflamed tissues, endothelial cells may upregulate immune-related genes, including HLA class I and II molecules.\n",
    "<|Question|>Do endothelial cells from the artery in the body of the stomach under stomach disorders express more HLA genes suggestive of enhanced antigen presentation?\n",
    "<|Answer|>Yes. The [endothelial cell of artery (body of stomach, stomach disorder) gene expression] includes HLA-B, HLA-A, and HLA-C. The enrichment of multiple HLA genes indicates increased antigen presentation capability, reflecting a more interactive role with the immune system in this diseased state.\n",
    "<|Keyword|>yes, HLA-B, HLA-A, HLA-C, antigen presentation\n",
    "\n",
    "<|Context|>Intestinal metaplasia is associated with a mosaic environment blending features of gastric and intestinal identity, influencing stromal and endothelial responses.\n",
    "<|Question|>Do the capillary endothelial cells from the lower esophagus (normal) show any significant markers of intestinal-like adaptation?\n",
    "<|Answer|>No. The [capillary endothelial cell (lower esophagus, normal) gene expression] includes general markers like MALAT1, B2M, and structural components like RPL10, but lacks distinct intestinal-associated markers (e.g., APOA4, APOA1, or strong interferon-induced genes). This suggests an absence of intestinal-like adaptation in the normal esophagus.\n",
    "<|Keyword|>no, MALAT1, B2M, no intestinal adaptation\n",
    "\n",
    "<|Context|>As diseases progress, endothelial cells may express cytokine-related or stress-response genes tied to tissue injury.\n",
    "<|Question|>In capillary endothelial cells from submucosal esophageal gland (normal), is there evidence of cytokine-driven remodeling (e.g., strong expression of immediate early genes)?\n",
    "<|Answer|>No. The [capillary endothelial cell (submucosal esophageal gland, normal) gene expression] is mainly housekeeping and structural. There is no marked expression of immediate early genes like FOS or JUN. The profile is more akin to a stable, quiescent endothelium, without prominent cytokine-driven remodeling signals.\n",
    "<|Keyword|>no, stable endothelium, no FOS, no JUN\n",
    "\n",
    "<|Context|>Disease states often upregulate stress response genes, which can serve as markers of early pathological changes.\n",
    "<|Question|>Do vein endothelial cells from the body of the stomach (normal) express fewer stress-related transcription factors than cells from stomach disorder conditions?\n",
    "<|Answer|>Yes. The [vein endothelial cell (body of stomach, normal) gene expression] relies heavily on ribosomal and metabolic genes (RPL41, RPS27, RPL10), without the pronounced presence of immediate early genes (FOS, JUN) or interferon-induced genes (IFI27). Compared to stomach disorder conditions, these normal endothelial cells are less stress-activated.\n",
    "<|Keyword|>yes, RPL41, RPS27, no stress factors\n",
    "\n",
    "<|Context|>In pathologic states, endothelial cells may reflect the presence of growth factors or angiogenic signals.\n",
    "<|Question|>Do endothelial cells of the artery in the lower esophagus under Barrett esophagus express markers associated with angiogenic remodeling (e.g., endothelial growth factors)?\n",
    "<|Answer|>Yes. The [endothelial cell of artery (lower esophagus, Barrett esophagus) gene expression] includes TIE1 (an endothelial receptor), and RAMP2 (related to angiogenic pathways), suggesting a shift toward a vasculature supportive of altered tissue states. TIE1 in particular can indicate active remodeling in metaplastic conditions.\n",
    "<|Keyword|>yes, TIE1, RAMP2, angiogenesis\n",
    "\n",
    "<|Context|>Metaplasia involves interplay of different cell types, with endothelial cells potentially reflecting changes in nutrient transport and tissue integrity.\n",
    "<|Question|>In vein endothelial cells from the colon (normal), are there markers that indicate efficient nutrient handling characteristic of a healthy intestinal setting?\n",
    "<|Answer|>Yes. The [vein endothelial cell (colon, normal) gene expression] has FABP5, a fatty acid-binding protein, and IGFBP7, involved in metabolic regulation. These suggest a well-adapted nutrient exchange system, consistent with a stable and functional intestinal vasculature.\n",
    "<|Keyword|>yes, FABP5, IGFBP7, nutrient handling\n",
    "\n",
    "<|Context|>Intestinal metaplasia and associated conditions can alter the balance of endothelial surface molecules, potentially affecting leukocyte trafficking.\n",
    "<|Question|>Does the endothelial cell of artery in stomach disorder states express immune-related genes that would facilitate immune cell adhesion or interaction?\n",
    "<|Answer|>Yes. The [endothelial cell of artery (body of stomach, stomach disorder) gene expression] includes HLA-B, HLA-C, and IFI27. This combination suggests an environment that is more immune-interactive, potentially enhancing leukocyte-endothelium interactions common in inflamed or metaplastic tissues.\n",
    "<|Keyword|>yes, HLA-B, HLA-C, IFI27, immune interaction\n",
    "\n",
    "<|Context|>As tissues progress towards metaplasia, even supportive cells like endothelium can express genes indicating microenvironmental shifts.\n",
    "<|Question|>In the capillary endothelial cell from the body of the stomach with gastritis, do we see any subtle changes toward intestinal-like features, despite its gastric origin?\n",
    "<|Answer|>Yes. The [capillary endothelial cell (body of stomach, gastritis) gene expression] includes IFI27 and IFITM3, which can appear in inflamed intestinal conditions as well, and a mix of metabolic genes like FABP5. While not overtly intestinal, the stress/inflammatory profile resembles patterns seen in intestinalized environments undergoing remodeling.\n",
    "<|Keyword|>yes, IFI27, IFITM3, FABP5, intestinal-like signals\n",
    "\n",
    "<|Context|>Fibrotic or remodeling signals often appear in disease states, potentially reflected by changes in gene sets of endothelial cells.\n",
    "<|Question|>In the endothelial cell of artery from duodenum (normal), is there less evidence of fibrotic or desmoplastic gene expression compared to gastric or esophageal metaplastic states?\n",
    "<|Answer|>Yes. The [endothelial cell of artery (duodenum, normal) gene expression] mainly features typical vascular and metabolic genes (PLVAP, IGFBP7) without strong immediate early genes (FOS, JUN) or ECM-related markers (POSTN) that appear in fibrotic conditions. This indicates a lack of desmoplastic or fibrotic signals in the normal duodenum endothelium.\n",
    "<|Keyword|>yes, PLVAP, IGFBP7, no POSTN, no fibrosis\n",
    "\n",
    "<|Context|>Inflammatory and metaplastic processes can lead to increased expression of certain immunomodulatory and tissue remodeling genes in endothelial cells.\n",
    "<|Question|>Do vein endothelial cells from the lower esophagus normal tissue show fewer immunomodulatory genes than Barrett esophagus conditions?\n",
    "<|Answer|>Yes. The [vein endothelial cell (lower esophagus, normal) gene expression] lacks strong immunomodulatory genes like IFI27 or multiple HLA class II variants. In contrast, Barrett esophagus samples feature those genes. This suggests that normal endothelial cells in the lower esophagus have a more quiescent immune profile.\n",
    "<|Keyword|>yes, fewer HLA, fewer IFI27, quiescent immune profile\n",
    "\n",
    "<|Context|>In metaplastic tissues, endothelial cells can reflect features of both gastric and intestinal microenvironments.\n",
    "<|Question|>In capillary endothelial cells from the cardia of the stomach with a stomach disorder, do we see gene expression patterns suggesting a transitional environment influenced by both gastric and intestinal signals?\n",
    "<|Answer|>Yes. The [capillary endothelial cell (cardia of stomach, stomach disorder) gene expression] includes intestinal-like factors (e.g., IFI27), gastric-endothelial markers (TIE1), and metabolic genes (GSN, FABP5). The coexistence of these markers indicates a transitional state, reflecting both gastric origin and intestinal-like signals, consistent with a mosaic phenotype in metaplastic conditions.\n",
    "<|Keyword|>yes, IFI27, TIE1, FABP5, mosaic environment\n",
    "\n",
    "\"\"\""
   ]
  },
  {
   "cell_type": "markdown",
   "metadata": {},
   "source": [
    "run the following cell to convert the output into a hf dataset"
   ]
  },
  {
   "cell_type": "code",
   "execution_count": 11,
   "metadata": {},
   "outputs": [
    {
     "name": "stdout",
     "output_type": "stream",
     "text": [
      "Error in the following QA pair:\n",
      "\n",
      "\n",
      "Example:\n"
     ]
    },
    {
     "data": {
      "text/plain": [
       "{'Context': 'In this study, endothelial cells in both normal and metaplastic tissues can show altered gene expression patterns reflecting changes in their microenvironment. Researchers are interested in identifying whether certain cell states in intestinal metaplasia resemble gastric or intestinal phenotypes and if there is an association with inflammation or tissue remodeling.',\n",
       " 'Summary_Dataset': 'Cell Type: vein endothelial cell, Tissue: lower esophagus, Disease: normal, Gene Expression: MALAT1 B2M TMSB4X RPL10 EEF1A1 RPS18 RPL13 RPS6 RPLP1 RPL41 RPL13A PTMA RPS2 RPS14 RPL32 MT-CO1 KRT13 RPS27A RPL34 RPL3 RPS19 RPL11 S100A9 RPS4X RPS3 RPS8 RPL19 RPL21 RPS12 ACTB RPL18A S100A8 RPL8 RPS27 MT-CO3 RPLP2 MT-ND4 TMSB10 MT-CO2 RPS23 RPS15A MT-CYB TPT1 RPS15 RPL15 RPS9 HLA-B RPL12 RPL9 HLA-A MT-ND2 RPS7 RPL28 RPS3A SPRR3 VIM RPL27A RPL18 ITM2B RPL35A RPL30 RPS5 RPL10A EIF1 RPS16 CSTB RPL29 FTH1 RPL7 RPS20 RPS13 RPL6 RPL7A RPL23A RPL26 FAU RPL35 HLA-C RPL31 H3-3B RPS28 ACTG1 MT-ATP6 IGFBP7 RPS24 RPL39 RPL36 FTL RPL5 RPS29 RPL24 GAPDH HLA-E RPL14 SPARCL1 RACK1 TXNIP RPS11 CD74 HSPB1 MYL6 RPL37 UBC S100A6 UBA52 RPL37A IFITM3 RPSA ANXA1 MT-ND1 MT-ND3 NACA RPS25 S100A11 RPLP0 RPL27 ACKR1 RPL23 S100A10 SERF2 SRP14 IFI27 CLU HSP90AB1 MYL12A BTF3 JUNB YBX1 CFL1 BTG1 EEF1D CSTA ID3 UBB CD63 ADIRF ID1 RPL4 DDX5 HSP90AA1 GSTP1 PFN1 COX4I1 IFITM2 RPL38 ANXA2 PFDN5 KRT4 NEAT1 CALM1 GNG11 DYNLL1 ATP5F1E MYL12B CALM2 HLA-DRB1 FABP5 CST3 AQP1 TXN RPS21 EEF2 FKBP1A RAC1 SH3BGRL3 OAZ1 CLDN5 RPS26 MT-ND5 H3-3A EEF1B2 HNRNPA1 GIMAP7 SLC25A6 RAMP2 CAV1 HMGB1 PPIA LDHA SELENOW HINT1 TUBA1B TM4SF1 EIF3E ITM2A LAPTM4A CD9\\nCell Type: endothelial cell of artery, Tissue: duodenum, Disease: normal, Gene Expression: MALAT1 MT-CO3 MT-CO1 B2M MT-CO2 TMSB4X PLVAP MT-ND3 MT-CYB IGFBP7 MT-ND2 MT-ND4 FABP5 MT-ATP6 HSPA1A TMSB10 HSPG2 APOA4 PTMA IFI27 RPL41 APOA1 ITM2B HSP90AB1 RPL21 H3-3B NEAT1 HLA-A MGP RPS28 ACTB MT-ND1 TPT1 FTL SPARC UBB MYL6 HLA-E SPTBN1 HSP90AA1 PLAT FKBP1A SOCS3 HSPA1B FTH1 RPS15 RPL11 RPS27 ZFP36 RPL13 COL4A1 N4BP2L2 EPAS1 RPL13A RPS19 HLA-B DYNLL1 RPS6 RPS3 HNRNPA1 CD320 DNAJB1 SFPQ SELENOW POLR2L MYL12B RPL3 SNX3 RPS15A SORBS2 BCAM TMEM88 RPLP2 RPL19 RPS29 RPS7 LGALS1 CD36 DNAJA4 CD74 CCDC85B EHD4 H3-3A EMP2 S100A10 MYL12A PRXL2A RPL27 RPL37 RPS14 RPS18 RPL34 FOS GSN RSRP1 APOC3 NOTCH4 HSPA12B TIE1 ZC3HAV1 MT-ND5 NKTR NPDC1 HNRNPA0 VAPA RPL26 SELENOP ERG RPL36 TSPO RPL32 CRBN RPL39 CAVIN1 SCP2 RPS21 VWA1 RPS3A TAGLN2 PDE2A OAZ1 HLA-C S100A11 IGKC CHCHD2 COX5B YBX3 DOCK6 FOSB RPL37A MORF4L1 LAPTM4A RPLP1 EEF1A1 RNASE1 JUNB SERF2 RPL18A RPS12 EIF5B SLC9A3R2 HSPB1 MMRN2 IRF1 IER5 COL4A2 RPS13 RAMP2 CD63 RPL15 RPS25 CLIC1 CLDN5 RPL6 CALM2 RPS11 KATNBL1 NEU1 MARCKSL1 CTNNB1 UPP1 ATP5ME RHOA HSPE1 YPEL1 RPL18 NDUFB7 EMCN LSM2 HSPA8 SPAG9 CALR ACVRL1 DDIT4 CHD9\\nCell Type: vein endothelial cell, Tissue: colon, Disease: normal, Gene Expression: MALAT1 B2M TMSB10 HLA-B PTMA MT-CO2 RPL41 MT-ND2 RPS28 FABP5 PLVAP MT-ATP6 MT-CO3 RPL34 RPL21 RPS14 MT-ND4 MT-CYB HLA-A EEF1A1 IFITM3 TMSB4X RPS18 RPS27 MT-ND3 CD74 RPL13A IGFBP4 IFI27 RPL26 A2M ACTB CD320 ITM2B RPLP1 TPT1 RPL13 IGFBP7 HSPB1 ID1 RPS15 RPL10 S100A6 ATP5F1E RPL19 MGP RPL37A RPS27A RPS16 RPL15 RPL11 RPL28 SRP14 H3-3A FTH1 CFL1 RPL18A RPL37 RPL27A RPL39 SPARCL1 RPL9 RPL38 RPS8 EIF1 SRGN POMP VIM RPLP2 EGFL7 RPS24 RPS12 SLC9A3R2 MT-ND1 CD63 HLA-E IFITM2 S100A4 RPL35A RPL30 HLA-DRB1 RPL24 RPS21 RPL12 RPS3 RPL8 RPL23 RPL23A RPL7 SERF2 RPL36 TGFBR2 RAMP3 MT-CO1 RPS15A FKBP1A RPS3A FAU MYL12B CCDC85B CLIC1 CD59 GNG11 RPL6 RPS25 RPS9 SEM1 RPS29 RPL27 RPS13 COX7C MYL6 RPS6 HMGB1 RPS19 NNMT PTMS RACK1 CRIP2 C12orf57 TOMM7 RPL7A CST3 H3-3B COX6C RPS20 RHOA RPS4X SPARC VAMP5 BTF3 RPL32 RPL14 MRPL33 RPS23 ESAM ENG RPS11 NDUFB1 S100A11 HLA-DRA SDF4 RPS17 GNG5 SOCS3 ENPP2 RPL22 SNU13 ACTG1 HSPG2 EPAS1 GRAMD1A HNRNPK TMA7 TUBB4B ADAMTS4 RPS26 CAV1 NDUFA4 PCAT19 TAGLN2 CD99 NPDC1 FLT1 HLA-DRB5 IFI16 HEG1 GAPDH NEAT1 FTL RBP7 CNN3 ELOB TRAPPC1\\nCell Type: endothelial cell of artery, Tissue: lower esophagus, Disease: Barrett esophagus, Gene Expression: MALAT1 B2M TMSB4X MT-CO1 MT-ND4 MT-CO2 MT-CYB MT-CO3 TMSB10 MT-ND2 RPS18 ACTB PTMA MT-ATP6 RPL10 EEF1A1 RPL41 S100A6 RPL13 RPS6 MT-ND3 RPL32 RPLP1 RPL34 MT-ND1 RPL11 RPL3 RPS27A RPS4X RPS14 RPL13A IFI27 RPL21 CD74 IFITM3 HLA-A RPL8 RPL19 RPS2 ITM2B RPS19 RPLP2 VIM RPS3 RPS23 SPARCL1 RPS15 HLA-B RPS27 RPL18 RPS24 MT-ND5 EIF1 RPL18A ACTG1 RPS28 RPS9 MYL6 RPS3A RPS12 H3-3B IGFBP7 RPL35 FTH1 RPS8 S100A10 RPL29 SERF2 SRP14 TPT1 HLA-E RPL35A RPL12 NEAT1 RPS20 RPL37A ID3 JUNB RPS15A HLA-DRB1 RPL36 RPL7 RPL27A GNG11 RPL28 FTL RPL24 HSPB1 RPL15 RPL7A RPS16 VWF RPS13 RPL30 FAU AQP1 TFF1 RPL31 RPL23A A2M RPL9 RPS7 ANXA2 HLA-C RPL10A S100A9 RPS25 ADIRF RPL39 CAV1 CLDN5 UBC RPS29 RPL37 MYL12A RPL26 FOS RPL23 CALM1 ID1 TXNIP DDX5 S100A8 IGFBP4 GSN PECAM1 RAMP2 RPL27 GAPDH PFN1 RPS5 TM4SF1 FABP5 CLU RPL14 RPL38 MGP IER2 RPL6 CSTB UBA52 RPS11 IFITM2 KRT13 CFL1 RAC1 HMGB1 CD9 RACK1 ANXA1 NACA CD63 CD59 RNASE1 N4BP2L2 FKBP1A DYNLL1 H3-3A HSPG2 PLVAP S100A11 PFDN5\\nCell Type: capillary endothelial cell, Tissue: lower esophagus, Disease: normal, Gene Expression: MALAT1 IGFBP7 TMSB4X RPL10 RAMP2 KRT13 B2M ID1 RPS18 RPS4X SAT1 TSC22D1 ITM2B GADD45B RPS12 EEF1A1 SRP14 TUBA1B TMSB10 PLVAP A2M RPL34 MT-CO2 JUNB RPS6 S100A9 RPL3 ID3 RPL28 IFITM3 ACTB HLA-B RPS9 IFITM2 TXNIP RPLP1 GSN TIMP3 CD9 IFI27 RPL6 MT-CO1 HLA-C RPL19 UBC EMP1 RPS7 RPL5 S100A8 SUMO2 TPM3 RPL13 PRSS23 XIST TPT1 PDK4 CAST ATP5MC3 S100A6 BSG PRDX2 SGK1 CAPZA2 RAB13 RAMP3 MTIF3 H3-3B VIM RPL9 GIMAP1 RPS27 RPL11 PIEZO1 RPL35A GAPDH RPL15 ARHGAP29 GJA1 RPL41 RPL35 PTMS MYL6 RPL30 FYN CST3 LDHA RPL7A DYNLL1 S100A10 NQO1 CALM1 RPL8 PNISR WASF2 SEPTIN7 LEF1 HEY1 SPARC C11orf58 PSMB6 GABARAPL2 SH3BGRL3 RGCC RPS15 MT-CO3 FXYD5 ANXA1 PSMB3 ENDOV CYSTM1 MT-CYB PTMA LIFR TSSC4 TMEM147 TSC22D3 SPARCL1 PSMA7 HSPB1 RPL24 FUS RPL29 ZCRB1 GIMAP7 OAZ2 ANXA2 MT-ND4 PKM RBP7 ACTG1 MCRIP1 DDIT4 ETNK1 COX7A1 SLC9A3R2 BRAF ARPC4 RP11-147L13-3 MT1G NOP10 FAU VTA1 WDFY1 TIE1 TLE5 TPST2 ADGRL4 FAM104A UFM1 CPNE2 SHPRH BABAM2 HERPUD1 MRPL33 GRINA EWSR1 SLC2A3 HCCS SELENOF DCAF10 TTC28 SHARPIN EEF2 CNN3 PPP1R14B ZBTB7A SH3KBP1 ESD EIF1AX CTSC PPIB LPAR6 BDH1 CLTB RPL32 OTUB1 CALD1 PABPC4 TCN2 CCDC28A NDUFB2 CEP68 BRK1 TBXA2R ACTR2 RBBP7 KLF9 PERP VPS28 SKP1 C7orf50 PTK2 KLF13 DDX5 DAPK3 TPM1\\nCell Type: capillary endothelial cell, Tissue: submucosal esophageal gland, Disease: normal, Gene Expression: MALAT1 TMSB10 B2M RPL41 IFITM3 MT-ND4 RPS28 TMSB4X TIMP3 RPS27 PTMA MT-CO3 MT-CO2 RPL32 HLA-B RPL37A EEF1A1 RPLP1 RPS18 TXNIP RPS12 RPLP2 SPARCL1 RPL34 VWF ITM2B RPL37 CD74 RPL28 RPS15A MT-CYB MT-ATP6 TPT1 MT-ND3 MT-ND2 NEAT1 GSN IFI27 RPL13A EPAS1 CLDN5 HLA-A RPS15 RPL36 RPS19 RPS8 MT-CO1 HLA-E S100A6 A2M AQP1 RPS29 VIM ACTB RPL26 RPL10 RPL31 RPL39 RPL13 RPL11 IFITM2 PECAM1 MT-ND1 RPS24 RPL19 RPS14 RPL12 RPS25 RPL27A RPL35 RPS27A RPL35A RPS23 STOM EGFL7 RPS16 DDX5 HLA-C SRGN RPL21 RPS6 RPL38 RPL18A IGFBP4 CAV1 TCF4 RPL8 AHNAK ACTG1 CRIP2 RPS11 SRP14 UBC HSPG2 PSAP RPL23A FAU FKBP1A CD93 ENG RPS3A MYL6 RPL3 RPL15 RPL30 RPS13 TM4SF1 RPS5 RPS4X RPL27 ID1 ATP5F1E HSPB1 IGHA1 RPS7 CD59 H3-3B RPS21 PLVAP RACK1 DDX17 RPL23 IGFBP7 RPS9 RPS2 CD81 KCTD12 RPL9 RPS3 RPL7A SERF2 RPL18 RPL24 RPL22 CAVIN1 EIF1 RNASE1 TGFBR2 PODXL FTH1 RPS17 CST3 GAPDH CLU MYH9 DUSP1 NPDC1 HLA-DRB1 MT-ND5 SELENOW H3-3A RPL29 TAGLN2 SLC9A3R2 RAMP2 IGFBP3 NFIB GNAS HNRNPH1 UBA52 RAC1 LIFR SPTBN1 ARGLU1 CALM1 ITGB1\\nCell Type: vein endothelial cell, Tissue: submucosal esophageal gland, Disease: normal, Gene Expression: MALAT1 RPL41 RPS27 RPS28 RPL32 RPS18 RPL34 RPLP1 RPS12 TMSB10 B2M RPS15A EEF1A1 TMSB4X RPL10 RPLP2 RPL37A PTMA RPL13 RPL12 RPL36 RPL39 RPL26 RPS29 RPS27A RPL21 TPT1 RPL37 RPS8 RPS6 MT-ND4 RPL28 RPS14 RPL13A RPS23 RPS19 IFITM3 RPS15 RPS24 RPL35A RPL31 RPS2 RPS25 RPL38 RPL11 MT-CO3 RPL18A RPL27A MT-CO2 RPL19 RPL30 HLA-B MT-CO1 SPARCL1 RPL35 RPS4X RPS21 RPS13 FAU RPL23A RPS3 RPL8 RPS16 CD74 MT-ATP6 RPS3A RPL9 RPL15 RPL3 RPS9 MT-CYB NEAT1 AQP1 MT-ND3 RPS7 MT-ND2 RPL18 RPL29 S100A6 VWF RPL27 TXNIP RPL24 RPS11 RPS17 RPL23 ACTB RPS5 CLDN5 IGFBP4 HLA-E MT-ND1 ATP5F1E RPL22 RPL7A RPL7 ITM2B IFITM2 RPL36A HLA-A GSN UBA52 RPL5 VIM PECAM1 ACTG1 RPL10A ACKR1 RPL6 IFI27 TIMP3 SERF2 RPL14 RACK1 FTH1 RPS20 HLA-C PLVAP RPLP0 EGFL7 EIF1 FTL GAPDH IGFBP7 RPSA FKBP1A RPS10 CST3 MYL6 SRP14 COX7C TOMM7 HSPB1 UBC H3-3B A2M CAV1 DDX5 S100A10 CD59 EPAS1 AHNAK CRIP2 TCF4 HLA-DRB1 H3-3A HLA-DRA NPDC1 ADIRF RPL4 HSPG2 IGHA1 RPS26 EEF1D SELENOW TAGLN2 GNG11 NACA ENG CAVIN1 PPIA EEF2 HNRNPA1 TMA7 ZFP36L1 RPL17 NOP53 MT-ND5 TGFBR2 CLU RNASE1 ID1 PABPC1 MYL12A JUNB ATP5MC2 RAMP2 COX4I1 STOM CD34\\nCell Type: vein endothelial cell, Tissue: body of stomach, Disease: normal, Gene Expression: MALAT1 RPL41 RPS27 RPS18 B2M TMSB4X RPL10 PTMA TMSB10 RPL32 RPS28 RPL34 RPL13 RPS12 RPLP1 RPS15A RPL13A RPL37A RPS27A RPS29 RPS8 RPLP2 RPL21 RPL26 RPS2 RPS6 RPL12 EEF1A1 RPS15 NEAT1 MT2A RPS23 RPS14 RPS19 MT-CO1 RPL36 RPL37 RPS25 RPL35A RPL28 TM4SF1 RPL27A RPL23A RPL3 RPL18A RPL11 RPL39 TPT1 RPS24 RPS16 RPL35 RPS3 RPL15 EIF1 FTH1 RPL38 RPL19 RPS3A HSP90AA1 RPL8 RPL5 MT-ND4 RPS4X ACTB RPS20 FAU RPS21 RPS13 RPL23 RPS11 RPS9 RPL30 RPL31 IGFBP7 MT-CO2 RPL9 RPL24 RPL10A RPL7 RPS5 EMP1 MT-ND2 MT-CO3 AKAP12 RPS7 RPL7A UBC MT-ATP6 HSP90AB1 RPL27 H3-3B RPS17 IFITM3 RPL6 S100A6 RPL29 RPL18 HLA-B FOS FTL HLA-E SPARCL1 RPL14 JUN STC1 MT-ND1 SAT1 S100A10 UBA52 MT-CYB RPL22 RPS10 HLA-A VIM HSPA1A HSPB1 ATP5F1E ZFP36 GAPDH SPRY1 DSTN SERF2 RACK1 RPL36A CD74 HES1 TIMP1 ADIRF ACTG1 MT1X NFKBIA MYL6 ITM2B UBB PABPC1 JUNB DNAJB1 H3-3A IFI27 PCAT19 HLA-C DDX21 MT-ND3 FOSB EEF1D NACA PDLIM1 DDX5 YBX1 RPLP0 CAV1 CLU CD59 RPL17 SRP14 YBX3 RPSA RPL4 CFL1 DUSP1 MYL12A IGHA1 ACKR1 RAC1 IFITM2 LMNA CLDN5 NCL\\nCell Type: endothelial cell of artery, Tissue: body of stomach, Disease: stomach disorder, Gene Expression: MALAT1 B2M TMSB4X MT-CO2 RPL34 MT-ND4 MT-CO1 PTMA MT-CYB MT-ATP6 MT-CO3 TMSB10 RPL41 H3-3B MT-ND2 RPS28 RPL10 RPL7 IFI27 RPS18 RPS27A RPS27 NEAT1 RPL21 JUNB RPS14 EIF1 FOS RPS19 HLA-B ACTB EEF1A1 FTL IFITM3 MT-ND3 ITM2B FABP5 SPARCL1 RPS15 SERF2 RPLP1 PLVAP RPS6 FTH1 RPS2 IGKC CD320 RPL13 SRP14 RPL15 CD74 RPL32 RPS3A MYL6 MT-ND1 HLA-C RPL3 VIM MYL12A RPS15A CRIP2 RPL13A S100A6 RPL39 RPL26 ZFP36 RPS9 TPT1 RPS4X HLA-A RPL11 RPL8 MT-ND5 RPS29 RPS3 TM4SF1 RPL18A RPS12 RPL19 GADD45B GNG11 JUN ACTG1 RPLP2 RPL35 RPS23 RPL36 UBB RPL28 RPS8 HLA-E PFN1 FOSB RPL12 RPS13 RPL35A IGFBP7 RPS25 CD63 IER2 ATP5F1E MGP IFITM1 SAT1 A2M FKBP1A RPL27A ID3 CFL1 GAPDH CALM1 CALM2 RPL9 RAMP2 UBC GSN RPL6 HMGB1 RPS7 SOCS3 CLDN5 ID1 SKP1 HSP90AB1 RPL37A JUND NFKBIA HSPB1 RPS16 RPL23A COX7A2 SLC9A3R2 IGHA1 HSP90AA1 DYNLL1 RPS24 LMNA HES1 SH3BGRL3 ANXA2 H3-3A FAU POMP RPL24 RPL10A RAMP3 RPL18 RPS20 RPL29 DDX5 CLIC1 RPL31 RACK1 COX6C HINT1 RPS5 PRSS23 MYL12B ATP5PF TMA7 LAPTM4A ADIRF RPL27 EMP1 SNX3 PFDN5 IFITM2 RPL30 SPARC RPS26 TSC22D1 ATP5ME RPL38 S100A11 CD59 PLPP1 EEF1D S100A10 TMEM59 GSTP1 COX4I1 TGFBR2 NPC2 GUK1 TUBA1B DSTN RBX1 TCF4 NDUFA4 SELENOW TAGLN2 ZFP36L1 RNASE1 DNAJA1 RPL37 RPS27L SEC62 PPA1\\nCell Type: capillary endothelial cell, Tissue: body of stomach, Disease: gastritis, Gene Expression: MALAT1 B2M TMSB4X TMSB10 FABP5 PLVAP PTMA IFI27 CD320 ACTB MT-CO2 RPS28 RPL41 FOS MT-CO1 RPL10 JUNB HLA-B HLA-C SPARCL1 CD74 RPL34 HLA-A MT-ND4 ITM2B ZFP36 IGFBP7 RPS18 H3-3B IFITM3 EEF1A1 RPLP1 RPS27 JUN EIF1 RPL13 RPS14 MT-CO3 RPS27A MT-ND2 MYL6 FTL NEAT1 RPL13A HLA-E RPL32 SERF2 MT-CYB GAST RPL11 RPS15 RPS19 GADD45B FTH1 RPL15 RPLP2 GSN RPS6 RPS15A SOCS3 RPL3 IER2 RPL21 PRSS23 SLC9A3R2 RPS29 RPL7 RAMP2 RPL36 MYL12A ACTG1 RPL8 VIM TPT1 GNG11 SRP14 RPL19 RPS2 S100A6 FKBP1A MT-ATP6 RPL18A CAV1 RPS8 RAMP3 RPS4X RPL39 SPARC RPL27A RPS12 TM4SF1 RPL35 UBC CRIP2 RPS3 RPS3A RPL37A RPS9 UBB CFL1 RPS23 RPL35A RPL23A RPS13 FAU TXNIP CD63 RPL28 RPS16 CD36 IFITM1 MT-ND3 SRGN IFITM2 CALM1 RPS25 RPS7 RPL26 MGP VAMP5 CD59 PFN1 ATP5F1E CA4 RPL9 MYL12B GAPDH TFF1 RNASE1 IGKC FOSB RPL12 IGHA1 FLT1 RPL18 H3-3A HSPB1 RPL30 TUBA1B RPL37 RPL38 RPL31 S100A10 CALM2 DDX5 RACK1 CST3 RPS5 DYNLL1 RPL29 MT-ND1 TGFBR2 HMGB1 PECAM1 HLA-DRA A2M HLA-DRB5 RPS20 UBA52 ID3 S100A11 HSPG2 APP HSPA1A ENG PLPP1 PLPP3 HSP90AA1 IGFBP4 ADIRF CAVIN1 HES1 SNX3 RPL24 RPS24 ID1 GUK1\\nCell Type: capillary endothelial cell, Tissue: cardia of stomach, Disease: stomach disorder, Gene Expression: MALAT1 MT-ATP6 IGFBP7 B2M MT-CO3 TPT1 A2M MT-CYB HLA-B GNG11 TMSB10 MT-ND4 CXCL12 PTMA MT-CO1 SLC9A3R2 MT-ND3 GNAS RPS15 ACTG1 GSN IFI27 RPS28 MT-CO2 VIM RPL28 RPLP1 SRP14 ADGRF5 S100A10 CALM1 TMSB4X RPS27 RPL13 RNASE1 PODXL HLA-DRB1 MT-ND1 RPL27A ITGB1 RBP7 SELENOW CRIP2 CD81 RPS13 HLA-A HLA-E UBA52 RPS6 S100A6 EGFL7 PLVAP SPARC CFLAR RPL35A YWHAB HNRNPA2B1 RPL11 RAMP2 IFITM3 MYL12A RPL5 RPS14 HSPA8 MYL6 FRYL RPL10 ARHGAP29 MEF2C RPL23A SLC14A1 OSBPL8 PFN1 HERC1 PLPP1 SORBS2 EEF1A1 RPS20 STXBP3 IFITM2 RPLP2 KCTD12 TAGLN2 CD74 PPA1 CLEC14A RPS4X ACTN4 HEG1 RPS7 RACK1 PCBP2 GAPDH HSPG2 PLCB1 KLF2 RPS12 H1-10 NEAT1 RPL7A DEK RPL32 NCL TIMP3 SRSF10 TUBB4B AHNAK JUND TACC1 GLUL UBB RPS9 ITM2B RPL29 HMGB1 FLT1 EDN1 PTMS TXNIP CALD1 ATP2B1 SPEN YBX3 CNOT6L ENTPD1 RIPOR1 PSMD7 DOK4 LGALS3 RPL13A VSIR HLA-C MRPL50 RPL19 CRBN NSD1 UQCRB SIPA1 FCGRT TMEM14C COX7A2 LDLR TGFBR2 TMEM30A ATRX DSTN PLEC MZT2B STOM C1orf35 HNRNPF UTRN CTSZ ATP5F1E DDX5 SELENON OAZ1 TSHZ3 NDUFS5 HDAC7 RPL36 ZNF507 FXYD6\\n',\n",
       " 'Question': 'Do the vein endothelial cells from the lower esophagus in a normal state exhibit a gene expression profile that suggests a stable, noninflamed microenvironment compared to metaplastic conditions?',\n",
       " 'Answer': 'Yes. The [vein endothelial cell (lower esophagus, normal) gene expression] includes stable housekeeping genes (e.g., RPL10, EEF1A1), common endothelial markers (e.g., VIM), and limited stress-responsive genes. Crucially, while it contains broad markers like MALAT1 and B2M, it lacks strong inflammatory markers (e.g., fewer interferon-inducible genes like IFITM2 or IFI27) that appear more frequently in diseased states. This suggests a steady endothelial phenotype without evident inflammatory signals.',\n",
       " 'Keyword': 'yes, stable microenvironment, MALAT1, B2M, VIM',\n",
       " 'full_QA_pair': '<|Question|>In this study, endothelial cells in both normal and metaplastic tissues can show altered gene expression patterns reflecting changes in their microenvironment. Researchers are interested in identifying whether certain cell states in intestinal metaplasia resemble gastric or intestinal phenotypes and if there is an association with inflammation or tissue remodeling.\\n<|Question|>Do the vein endothelial cells from the lower esophagus in a normal state exhibit a gene expression profile that suggests a stable, noninflamed microenvironment compared to metaplastic conditions?\\n<|Answer|>Yes. The [vein endothelial cell (lower esophagus, normal) gene expression] includes stable housekeeping genes (e.g., RPL10, EEF1A1), common endothelial markers (e.g., VIM), and limited stress-responsive genes. Crucially, while it contains broad markers like MALAT1 and B2M, it lacks strong inflammatory markers (e.g., fewer interferon-inducible genes like IFITM2 or IFI27) that appear more frequently in diseased states. This suggests a steady endothelial phenotype without evident inflammatory signals.\\n<|Keyword|>yes, stable microenvironment, MALAT1, B2M, VIM',\n",
       " 'Dataset_Name': 'UMAP of Endothelial cells',\n",
       " 'Publication_URL': 'https://cellxgene.cziscience.com/collections/a18474f4-ff1e-4864-af69-270b956cee5b',\n",
       " 'Dataset_Index': '10',\n",
       " 'Used_Rows': [29, 15, 25, 17, 8, 9, 31, 21, 12, 0, 4]}"
      ]
     },
     "execution_count": 11,
     "metadata": {},
     "output_type": "execute_result"
    }
   ],
   "source": [
    "qa_dict_list = []\n",
    "for QA_pair in output.split(\"<|Context|>\"):\n",
    "    if not QA_pair:\n",
    "        continue\n",
    "    try:\n",
    "        context = QA_pair.split(\"<|Question|>\")[0].strip()\n",
    "        question = QA_pair.split(\"<|Question|>\")[1].split(\"<|Answer|>\")[0].strip()\n",
    "        answer = QA_pair.split(\"<|Answer|>\")[1].split(\"<|Keyword|>\")[0].strip()\n",
    "        label = QA_pair.split(\"<|Keyword|>\")[1].strip()\n",
    "    except:\n",
    "        print(\"Error in the following QA pair:\")\n",
    "        print(QA_pair)\n",
    "        continue\n",
    "\n",
    "    entry = {\n",
    "        \"Context\": context,\n",
    "        \"Summary_Dataset\": dataset_in_prompt,\n",
    "        \"Question\": question, \n",
    "        \"Answer\": answer,\n",
    "        \"Keyword\": label,\n",
    "        \"full_QA_pair\": \"<|Question|>\"+QA_pair.strip(), \n",
    "        \"Dataset_Name\": dataset_name,\n",
    "        \"Publication_URL\": cur_url,\n",
    "        \"Dataset_Index\": dataset_index,\n",
    "        \"Used_Rows\": sampled_indices,\n",
    "    }\n",
    "    qa_dict_list.append(entry)\n",
    "\n",
    "qa_dict = {key: [d[key] for d in qa_dict_list] for key in qa_dict_list[0].keys()} # list of dicts to dict of lists\n",
    "\n",
    "new_hf_dataset = Dataset.from_dict(qa_dict)\n",
    "print(\"Example:\")\n",
    "new_hf_dataset[0]"
   ]
  },
  {
   "cell_type": "markdown",
   "metadata": {},
   "source": [
    "run the following cell every time to save updates \\\n",
    "sometimes save_to_disk will fail because it doesn't automatically overwrites, just delete the old file adn run it again"
   ]
  },
  {
   "cell_type": "code",
   "execution_count": 12,
   "metadata": {},
   "outputs": [
    {
     "name": "stderr",
     "output_type": "stream",
     "text": [
      "Saving the dataset (1/1 shards): 100%|██████████| 20/20 [00:00<00:00, 1120.41 examples/s]"
     ]
    },
    {
     "name": "stdout",
     "output_type": "stream",
     "text": [
      "current hf_dataset: \n"
     ]
    },
    {
     "name": "stderr",
     "output_type": "stream",
     "text": [
      "\n"
     ]
    },
    {
     "data": {
      "text/plain": [
       "Dataset({\n",
       "    features: ['Context', 'Summary_Dataset', 'Question', 'Answer', 'Keyword', 'full_QA_pair', 'Dataset_Name', 'Publication_URL', 'Dataset_Index', 'Used_Rows'],\n",
       "    num_rows: 20\n",
       "})"
      ]
     },
     "execution_count": 12,
     "metadata": {},
     "output_type": "execute_result"
    }
   ],
   "source": [
    "hf_dataset = concatenate_datasets([hf_dataset, new_hf_dataset])\n",
    "if os.path.exists(hf_dataset_output_path):\n",
    "    shutil.rmtree(hf_dataset_output_path)\n",
    "hf_dataset.save_to_disk(hf_dataset_output_path)\n",
    "print(\"current hf_dataset: \")\n",
    "hf_dataset"
   ]
  }
 ],
 "metadata": {
  "kernelspec": {
   "display_name": "cell2sentence-tc",
   "language": "python",
   "name": "python3"
  },
  "language_info": {
   "codemirror_mode": {
    "name": "ipython",
    "version": 3
   },
   "file_extension": ".py",
   "mimetype": "text/x-python",
   "name": "python",
   "nbconvert_exporter": "python",
   "pygments_lexer": "ipython3",
   "version": "3.10.12"
  }
 },
 "nbformat": 4,
 "nbformat_minor": 2
}
