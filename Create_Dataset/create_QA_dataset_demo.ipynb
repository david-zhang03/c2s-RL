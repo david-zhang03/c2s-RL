{
 "cells": [
  {
   "cell_type": "code",
   "execution_count": 1,
   "metadata": {},
   "outputs": [
    {
     "name": "stderr",
     "output_type": "stream",
     "text": [
      "/users/zlyu12/.conda/envs/cell2sentence-tc/lib/python3.10/site-packages/tqdm/auto.py:21: TqdmWarning: IProgress not found. Please update jupyter and ipywidgets. See https://ipywidgets.readthedocs.io/en/stable/user_install.html\n",
      "  from .autonotebook import tqdm as notebook_tqdm\n"
     ]
    }
   ],
   "source": [
    "import torch\n",
    "import numpy as np\n",
    "import json\n",
    "import os\n",
    "import re\n",
    "import pandas as pd\n",
    "import shutil\n",
    "\n",
    "from datasets import Dataset, load_from_disk, concatenate_datasets, DatasetDict\n",
    "\n",
    "seed = 42\n",
    "torch.manual_seed(seed)\n",
    "np.random.seed(seed)"
   ]
  },
  {
   "cell_type": "markdown",
   "metadata": {},
   "source": [
    "helper functions and constants"
   ]
  },
  {
   "cell_type": "code",
   "execution_count": 2,
   "metadata": {},
   "outputs": [],
   "source": [
    "def dataset_for_prompt(df):\n",
    "    # number of rows to sample\n",
    "    num_rows = min(len(df), np.random.randint(5, 25))\n",
    "    df = df.sample(num_rows)\n",
    "    #number of genes to sample\n",
    "    num_genes = 2000 // num_rows\n",
    "\n",
    "    use_d = True\n",
    "    if len(df['diseases'].unique()) == 1:\n",
    "        use_d = False\n",
    "\n",
    "    s = \"\"\n",
    "    sampled_indices = []\n",
    "    for index, row in df.iterrows():\n",
    "        cur_num_genes = min(num_genes+np.random.randint(-20, 20), 1000)\n",
    "        cell_sentence = ' '.join(row[f'gene_{i}'] for i in range(1, cur_num_genes))\n",
    "        if use_d:\n",
    "            s += f\"Cell Type: {row['cell_type']}, Tissue: {row['tissue']}, Disease: {row['diseases']}, Gene Expression: {cell_sentence}\\n\"\n",
    "        else:\n",
    "            s += f\"Cell Type: {row['cell_type']}, Tissue: {row['tissue']}, Gene Expression: {cell_sentence}\\n\"\n",
    "        sampled_indices.append(index)\n",
    "        \n",
    "    return s, sampled_indices\n",
    "\n",
    "prompt_prefix = \"\"\"This is a scientific manuscript and an example of the single-cell RNA sequencing dataset it is associated with. The example dataset contains one representative cell from each type and the corresponding cell sentence(ranked gene names by expression). You need to create question-answer pairs for Large Language Models to learn analyzing scRNA-seq datasets when given pieces of data converted into cell sentences. I would like questions and answers about the given cell sentence in terms of cells, tissues, disease, or other relevant biological information. \n",
    "The questions must be answerable by looking at the given cell sentences alone. The question-answer pairs should follow a line of reasoning mentioned in the manuscript or results arrived by the researchers. When creating questions, you should first read the given manuscript, consider what the analysis the researchers did in the manuscript and the biological context of this study. Then look at the example cell sentences(or a part of them), think about what question the researchers asked or would ask about the cell sentence, what they wanted to and can infer, study, or understand. Imitate the interpretation of data in the manuscript. Then answer the question, quote specific cell sentences and genes as evidence, and include detailed explanations and reasonings resemble a chain of thoughts. You can borrow reasoning and analysis, conclusions from the manuscript but don't directly use or quote the manuscript in question or answer. Avoid questions about experiment design or procedures, avoid vague questions. Vary the questions, answers and their wording as much as possible to cover a diverse range of topics. Include both open ended questions and yes or no questions.\n",
    "Provide Context for the question, this is only the essential background information required to answer the question, do not directly summarize or describe the dataset. Find context from the manuscript. Provide Answer no less than 30 words, including detailed reasonings. Refer to specific cell sentences as [type] cell gene expression. Provide Keywords of the answer being the most essential parts of the correct answer. The keywords should be yes or no(must include if it is a yes or no question), or important gene names, or biological information in question. These keywords will be used during my training to validate my model's response. \n",
    "Give 20 question answer pairs as one list, don't give any other word. Strictly format like this: \n",
    "<|Context|>the context<|Question|>the content of the question<|Answer|>the content of the answer<|Keyword|>the answer keywords\n",
    "<|Context|>the context<|Question|>the content of the question<|Answer|>the content of the answer<|Keyword|>the answer keywords\n",
    "...\n",
    "\"\"\""
   ]
  },
  {
   "cell_type": "markdown",
   "metadata": {},
   "source": [
    "loads all datasets and meta data \\\n",
    "assumes summary datasets are in a directory as csv files, assuming the format processed by Harry \\\n",
    "all files I'm looking at can be found in my C2S-RL dev github repo branch"
   ]
  },
  {
   "cell_type": "code",
   "execution_count": 3,
   "metadata": {},
   "outputs": [
    {
     "name": "stdout",
     "output_type": "stream",
     "text": [
      "Dataset({\n",
      "    features: ['Context', 'Summary_Dataset', 'Question', 'Answer', 'Keyword', 'full_QA_pair', 'Dataset_Name', 'Publication_URL', 'Dataset_Index', 'Used_Rows'],\n",
      "    num_rows: 365\n",
      "})\n"
     ]
    }
   ],
   "source": [
    "# TODO: change to your own file path\n",
    "datasets_directory = \"/users/zlyu12/Desktop/c2s-RL/Dec19_dataset\" # all summary datasets\n",
    "meta_data_path = \"/users/zlyu12/Desktop/c2s-RL/Create_Dataset/meta_data.json\" # dataset name, filename, url etc.\n",
    "hf_dataset_output_path = \"/users/zlyu12/Desktop/c2s-RL/Create_Dataset/temp_hf_dataset\" # temporary output directory\n",
    "\n",
    "datasets_files_paths = [os.path.join(datasets_directory, f) for f in os.listdir(datasets_directory) if f.endswith('.csv')]\n",
    "dataset_numbers = np.sort([int(re.search(r'\\((\\d+)\\)', f).group(1)) for f in datasets_files_paths])\n",
    "\n",
    "meta_data = json.load(open(meta_data_path))\n",
    "dataset_numbers_iterator = iter(dataset_numbers[20:])\n",
    "\n",
    "try:\n",
    "    hf_dataset = load_from_disk(hf_dataset_output_path)\n",
    "except:\n",
    "    hf_dataset = Dataset.from_dict({})\n",
    "\n",
    "print(hf_dataset)"
   ]
  },
  {
   "cell_type": "markdown",
   "metadata": {},
   "source": [
    "iterates through all datasets in your directory \\\n",
    "this prepares the prompt \\\n",
    "copy paste, add the publication text at the end and run our favorite LLM \\\n",
    "run only once for a row, we rely on some variables defined here in later cells"
   ]
  },
  {
   "cell_type": "code",
   "execution_count": 99,
   "metadata": {},
   "outputs": [
    {
     "name": "stdout",
     "output_type": "stream",
     "text": [
      "Dataset Index:  50\n",
      "\n",
      "Dataset Name:  Microglia - 24 months old wild-type and Rag1-KO\n",
      "\n",
      "Publication URL:  https://cellxgene.cziscience.com/collections/0faa1af6-e504-4b88-a47b-69347e1bace5\n",
      "\n",
      "Prompt:\n",
      " This is a scientific manuscript and an example of the single-cell RNA sequencing dataset it is associated with. The example dataset contains one representative cell from each type and the corresponding cell sentence(ranked gene names by expression). You need to create question-answer pairs for Large Language Models to learn analyzing scRNA-seq datasets when given pieces of data converted into cell sentences. I would like questions and answers about the given cell sentence in terms of cells, tissues, disease, or other relevant biological information. \n",
      "The questions must be answerable by looking at the given cell sentences alone. The question-answer pairs should follow a line of reasoning mentioned in the manuscript or results arrived by the researchers. When creating questions, you should first read the given manuscript, consider what the analysis the researchers did in the manuscript and the biological context of this study. Then look at the example cell sentences(or a part of them), think about what question the researchers asked or would ask about the cell sentence, what they wanted to and can infer, study, or understand. Imitate the interpretation of data in the manuscript. Then answer the question, quote specific cell sentences and genes as evidence, and include a chain of thoughts. You can borrow reasoning and analysis, conclusions from the manuscript but don't directly use or quote the manuscript in question or answer. Avoid questions about experiment design or procedures, avoid vague questions. Try to vary the type of things the question asks and the wording, include both open ended questions and yes or no questions.\n",
      "Provide Context for the question, this is only the essential background information required to answer the question. Find context from the manuscript. Provide Answer, including detailed reasonings. Refer to specific cell sentences as [type] cell gene expression. Provide Keywords of the answer being the most essential parts of the correct answer. The keywords should be yes or no(must include if it is a yes or no question), or important gene names, or biological information in question. These keywords will be used during my training to validate my model's response. \n",
      "Give 20 question answer pairs as one list, don't give any other word. Strictly format like this: \n",
      "<|Context|>the context<|Question|>the content of the question<|Answer|>the content of the answer<|Keyword|>the answer keywords\n",
      "<|Context|>the context<|Question|>the content of the question<|Answer|>the content of the answer<|Keyword|>the answer keywords\n",
      "...\n",
      "Dataset: \n",
      "Cell Type: microglial cell, Tissue: brain white matter, Gene Expression: CST3 MALAT1 TMSB4X C1QA C1QB CTSS HEXB ACTB C1QC CTSD APOE FTH1 ITM2B RPS29 MT-CO3 EEF1A1 RPLP1 FAU MT-ATP6 MT-CO1 TPT1 MT-CO2 RPS24 TYROBP RPS12 RPL23 CD81 RPL13 RPL39 MT-CYTB RPL27A RPS21 FCER1G RPL37A CX3CR1 RPS9 TREM2 RPS8 RPL30 FTL1 LGMN RPL35A B2M RPL37 RPS27A RPL21 RPL41 RPL18A RPS11 RPS4X CTSB CD9 CTSZ RPS10 RPS3A1 RPS15A SPARC RPL32 RPS16 RPL19 RPS23 RPL6 RPS14 RPS20 CSF1R RPL17 MT-ND4 RPS27 RPL10 MARCKS RPL34 LY86 PSAP RPL26 RPL11 LAPTM5 RPS28 MT-ND1 RPLP2 RPL9 RPS13 RPLP0 RPS7 CTSL SERINC3 RPS3 RPL28 RPS5 RPS19 RPS18 RPL12 PPIA RPS25 RPL38 RPL3 RPS2 RPSA RPL10A RPS26 MT-ND2 LAMP1 RPL18 CYBA RPL7 RPL15 LYZ2 SELPLG RPL24 RPL36 DDX5 P2RY12 NPC2 RGS10 RPL8 RPS15 H2-D1 UBB RPL22 GPR34 TRF PTMA RPL5 CTSH SELENOP RPL29 RPL35 RPS6 RACK1 RRBP1 H3F3B PFN1 CD52 EIF1 BASP1 AIF1 GRN MEF2C RPL36A GAPDH UNC93B1 RPL14 CD63 CAPZA2 RPL7A LY6E OLFML3 RPL23A LPCAT2 HSP90AB1 MAFB TIMP2 FCGR3 GNAI2 ITGB5 MPEG1 CFL1 HSP90B1 SIGLECH ANXA3 EEF1B2 H2-K1 CLTA EPB41L2 MAN2B1 TGFBR1 RPL27 SH3BGRL3 CDC42 ARHGAP5 MEF2A HEXA LAIR1 NACA SON CD68 RPL13A COX4I1 GNAS RPS17 RSRP1 MBNL1 SERF2 ACTG1 ATP6V0B MTDH HSPA8 PMEPA1 HPGDS TMEM119 ARPC2 UBC ABHD12 SAT1 H3F3A VSIR CD300C2 COX8A KCTD12 CALM2 GNG5 FYB CLIC1 IFNGR1 FCRLS TMBIM6 BIN1 PLD4 TMEM176B SRRM2 CYFIP1 RHOA PLXDC2 ITGAM PFDN5 MT-ND3 GABARAP OAZ1 ZFHX3 CTSA CALR CYTH4 CD53 IRF8 CFH LAMP2 PTPRC PDIA3 ARPC1B PTMS TPM3 RPL4 SH3GLB1 NPM1 APBB1IP YWHAH CKB SSR4 MAF RBM39 SIRPA EEF2 BSG CREG1 BRI3 RNASE4 GDI2 PABPC1 RPL31 CD37 ERP29 SYNGR1 ZEB2 BTF3 TMEM50A IVNS1ABP ATP5G2 HMGB1 ASAH1 TMEM59 RAB14 CALM1 LDHB MORF4L1 HNRNPK CORO1A PTGS1 COX7C MACF1 SRGAP2 RTN4 PPIB LUC7L2 SCAMP2 SMAP2 UQCRH HNRNPA2B1 ITM2C LYN PTPN18 CD84 ARL6IP1 POU2F2 SRSF5 PYCARD COTL1 CHCHD2 SPI1 GOLM1 SSH2 SNX5 HPGD MYL6 LAPTM4A HSPA5 CTSC EIF4A1 CANX RHOB MSN SCOC GLUL COX7A2L LTC4S YWHAE RAC1 CD33 ENSMUSG00000118642 ATP5E SERPINE2 ATOX1 ARHGDIB HNRNPF ARPC3 PRDX1 VDAC2 MT-ND5 YBX1 TMEM176A SLC25A3 ARGLU1 ATP6V1G1 PLEK SF3B1 ALDOA_ENSMUSG00000030695 LCP1 F11R CELF2 CAMK1 BMP2K WASF2 RAP1B FUS AKR1A1 INPP5D WNK1 SELENOF POMP RABAC1 TMED10 GNB2 SNRNP70 NCL NSA2 TLN1 SLC25A5 FRMD4A FCGR1 SERBP1 RBM25 ATP5L RPL36AL CAPZB PSME1 GPX1 BRK1 H2-DMA PMP22 P2RY13 COX6B1 EFHD2 SPCS2 EIF3F TUBB5 PICALM BIN2 COX6C RGS2 TANC2 CD14 COMT RBM3 GNS MT-ND4L EEF1D PRDX5 SEC61G LMO2 PTP4A2 ZFP36L2 ACTR2 ALOX5AP ITGB2 ATP5H RNF130 SLCO2B1 GPX4 CMTM6 NRIP1 UCP2 NCF1 UBE2D3 RPL22L1 SFT2D1 HK2 RNF13 MERTK ATP6V0E ATP6V0C CLTC TGFBR2 SDCBP CCR5 TMCC3 BCL2A1B MRPL52 ADAP2 MPC1 IFNAR2 PSMB8 MYL12B TCF4 DST HINT1 SARAF MT1 PAG1 PNISR HNRNPA3 CTTNBP2NL NDUFA4 ATP6V1F EIF2S2 HSPE1 ARF1 PLEKHO1 NFE2L2 ACTR3 ASPH ELOB HNRNPU VAMP8 PKM EVI2A ARHGDIA MCL1 GNGT2 ATP5B RAP1A TMED9 SELENOK PCBP2 SRGN DAD1 PDIA6 BTG1 REEP5 MRFAP1 PPT1 SRSF2 LAMTOR4 ABI3 FCGR2B ENTPD1 CRLF2 ATP2B1 PPFIA4 NAV2 TM9SF3 SRSF9 TMSB10 RETREG1 ATP5J2 LRP1 ATPIF1 ZFP36L1 GNG10 SUMO2 SEC62 SDF4 NPTN GATM SPPL2A COMMD8 ARPC5 UBL5 GIT2 VAPA SKIL ATP5J SET SEM1 AKAP13 SLC29A3 TPP1 CNBP ITGB1 SERINC1 SRSF3 TMCO1 SKAP2 LAG3 CD180 LGALS3BP PTPN6 HAVCR2 TNFAIP8L2 TUBA1B ST13 ELMO1 TACC1 NDUFA13 PAK2 BHLHE41 EIF3H EIF4G2 CLK1 SELENOS COX7A2 NMT1 SYNGR2 FOXN3 FAM102B IFNGR2 STX7 ADAM10 SLC3A2 P2RY6 FERMT3 ST3GAL6 CMTM7 GM2A CSNK1E GPR183 OXCT1 NDUFC2 CCL6 SNX18 YPEL3 RBX1 CD34 SAMSN1 MYLIP PPP1R14B PSENEN ARPC4 EIF3A RTN3 NTPCR PTPN1 OPHN1 YWHAZ TALDO1 C3AR1 SEC11C SUB1 OSTF1 ATP5A1 AU020206 NDUFA2 ANKRD11 ZFP706 ATP5C1 DOCK4 MAN1A2 SEC61B SRSF11 PROS1 SALL1 TOR1AIP1 ABCA1 PRRC2C SRRM1 GUSB LAT2 EIF3C PDE3B TXNIP EIF5A NDUFA6 ECSCR CD48 DAGLB HSP90AA1 SKI ATRX BST2 TOMM7 LAMTOR1 TMED2 TCN2 MIF PNP BNIP3L BCAP31 REEP3 YWHAB COX5B DOCK10 PNRC1 ABCA9 ATP6AP2 TGFB1 EIF5 TMED5 NKTR NAV3 EEF1G PSMA7 SNRPG EIF3K PURB CADM1 TMEM234 HNRNPA0 PPP1CA TOMM20 PAFAH1B1 DYNC1I2 ZMIZ1 CSNK1A1 TSPO HNRNPA1 ARHGAP45 MYCBP2 SLAMF9 PCBP1 DPYSL2 NEDD8 TMEM86A UQCR11 NDUFA7 ATP5D DSTN SFPQ TPD52 IL10RB PURA LIMD2 FSCN1 CCDC50 TBCA ATRAID PARK7 DHRS3 MAP4K4 PTPRE HSBP1 DOCK2 IRF2 CEBPB PTBP3 COPS9 FUCA1 CCDC12 CTSF SLC6A6 EIF4A2 FRMD4B DYNLL1 KRTCAP2 CD47 SF3B2 IRF2BP2 SLC25A4 CFLAR KLK8 TMA7 CD86 GNB1 NARS DBI DENND4A TCF25 ATP6AP1 PEBP1 ORAI1 SSB ROCK2 ANG HERC2 SUSD3 WSB1 DDX17 PRPF4B ADGRE1 EDF1 9930111J21RIK2 EIF3E OS9 CCNI ZCCHC7 RHOG PLP1 RPN2 IL6RA RUNX1 PNN CAP1 RTRAF COX6A1 ZBTB20 PSMB1 TAX1BP1 PTPRA KRCC1 IKZF1 RNASET2A CSF3R MGAT4A OGT MYH9 ADGRG1 GAS5 NDUFB9 TPR PHF14 UBL3 POLD4 PRPF38B H2-T23 PRKAR1A JMJD1C BMYC PIK3R1 RPS27L IFI27L2A RSRC2 PLGRKT SCAF11 CEBPZ RASGRP3 ARRB2 SPCS1 TRMT112 CD2AP JAK1 P4HA1 IGHM DDX6 TAPBP JUND APOBEC3 UQCRB ASH1L ATP5G1 SNRPB GPI1 ARF5 MANF ENO1 MAT2A UQCRQ LIMS1 RAB3IL1 CD164 UBE2D2A COX7B ERGIC3 PRKCD NCOR1 MOB1A TMED3 GRB2 ISCU APP OST4 SLC11A1 TTC14 DDOST CRLF3 LST1 OGFRL1 DNAJB6 PSMA3 CHD4 EHD4 KMT2E ITGA6 VCP KIF5B GPR84 TMEM14C CSDE1 SDF2L1 NCKAP1L RTCB PPP3CA NR3C1 NCF2 TRAM1 ZFP652 RNF7 PLXNB2 NME2 BZW1 HIGD2A LGALS9 CSF2RA TMEM30A GRCC10 HNRNPH1 PIP4K2A POLR1D SLC7A8 RBM5 ATP2C1 CUX1 CXCL16 NIPBL ACIN1 MAP1LC3B M6PR PLD3 CEBPG RAB2A ITPR2 PGAM1 IRF5 GNA15 CYB5A CXXC5 SGK1 G3BP2 EIF5B RPS6KA1 APLP2 SRP14 ATP8A1 E230029C05RIK CSTB RAB7 MAPRE1 ACER3 FIS1 TBXAS1 RHOH DDX39B RAN UBXN1 SCARB2 ACP2 SMAD7 FLI1 CCT2 LEPROT NDFIP1 AKIRIN2 LPL LUC7L3 BLNK CSMD3 FUBP1 PSMB6 FCHO2 HMGN1 PDGFB UBE2I PBXIP1 VASP GSK3B ASAP1 PPP1R18 SNX17 HERPUD1 FGD2 PELI1 ARHGAP30 RNASEK PITPNA H2-DMB1 TRA2A DDRGK1 CBL TM9SF2 KLF3 UQCR10 LRPAP1 ARF4 CCT4 UBASH3B RER1 D8ERTD738E IFI30 GPSM3 TOP1 CHD9 CCL12 BAG1 DNAJA1 LAP3 ARHGAP17 TRA2B PTEN MYL12A CEBPZOS MLEC EMC7 TM6SF1 HOOK3 OTULINL PPCDC RNASET2B CAMK2D CELF1 KCNQ1OT1 DRAP1 PLA2G15 COX5A CEBPA FKBP2 SNRPE HCK PTGES3 KLF6 TMEM258 ATP1B3 GABARAPL2 RCBTB2 TECR HNRNPD ATXN7L3B ARL4C PAPSS1 GALNT1 LACC1 MS4A6D SMDT1 SHISA5 HCLS1 HIF1A SLC1A3 NEK7 NSD1 TMED7 ARID1A SNX6 SLC2A5 NISCH GRINA GLTP DNAJC7 EVL ARSB LDHA TMBIM4 SCP2 WDR26 CAPG USP2 TMEM37 EIF1B UBAP2L ABI1 AKIRIN1 BNIP2 CCND1 NUCB1 UBA52 PSMB3 CAPNS1 TIMM10B GLMP TNFAIP8 XBP1 LSP1 UBE2L3 GSPT1 NDUFB5 SCAND1 SSBP4 PREX1 BCLAF1 GM10076 PSMA2 XIAP USF2 SNX3 PWWP2A PPP2CA KTN1 NDUFB8 SEMA4D TWF2 NDUFB11 P4HB PKIG UBE3A GMFG ANP32B ITCH USP8 PSME2 CD74 CTNNB1 IFI27 VKORC1 HPS3 PON2 EDEM2 NDUFB10 CHMP2A ANXA5 IL10RA ZFP91 TPST2 ATP6V1E1 TKT RDX SRP9\n",
      "Cell Type: microglial cell, Tissue: brain gray matter, Gene Expression: CST3 MALAT1 TMSB4X C1QA HEXB ACTB C1QB C1QC CTSS CTSD ITM2B MT-CO3 RPS29 MT-ATP6 RPLP1 CX3CR1 EEF1A1 MT-CO1 FAU TPT1 LGMN MT-CO2 FTH1 MT-CYTB MARCKS CD81 SPARC TYROBP P2RY12 CSF1R FCER1G RPS24 TREM2 RPS12 RPS21 RPS9 RPL13 RPL39 RPL27A SERINC3 MT-ND4 LAPTM5 RPL23 RPL37A RPL30 RPL37 RPL35A RPL18A RPS8 RPL21 PSAP RPS27A RPS11 MT-ND1 RPL10 SELPLG CTSB FTL1 RPS4X B2M RPS27 RPS23 RPL6 RPL41 CTSZ RPS3A1 RPS15A SIGLECH GPR34 RPL17 RPS10 RPS14 RPS16 RPL19 MT-ND2 CD9 RGS10 RPS20 LY86 DDX5 RPL34 RPL32 RPL26 RPL11 RPLP2 FCRLS RPS13 RPL9 MEF2C CTSL PPIA RPS3 RPS7 SELENOP UBB RPL12 RPLP0 RPS25 LPCAT2 LAMP1 PMEPA1 RPL28 RPS28 RPL38 UNC93B1 RPL3 CYBA RPS5 TMEM119 RPS18 MAF OLFML3 RPS19 FCGR3 H3F3B RPL7 MAFB TGFBR1 RRBP1 CAPZA2 LY6E RPL18 RPL15 MEF2A HSP90B1 EPB41L2 GRN BASP1 RPS2 RPS15 ZFHX3 PTMA AIF1 RPSA RPS26 PFN1 RPL10A RPL8 ARHGAP5 RPL24 RPL5 RPL35 VSIR HPGDS GNAI2 RSRP1 NPC2 MTDH RPL36 CALM2 EIF1 ITGB5 TRF CFL1 SON RPS6 RPL22 MBNL1 IFNGR1 UBC LAIR1 CLTA CDC42 KCTD12 LTC4S CTSH RPL29 RACK1 MAN2B1 RPL14 SRRM2 MPEG1 RPL23A RPL36A CD53 GAPDH HSP90AB1 ANXA3 RPL7A IVNS1ABP TIMP2 ABHD12 ATP6V0B CKB BIN1 HEXA MT-ND3 CYFIP1 SCOC PTGS1 ITGAM CALR ACTG1 ARPC2 SIRPA RHOB RNASE4 SCAMP2 TMBIM6 CYTH4 TPM3 PLD4 APBB1IP EEF1B2 H2-D1 SRGAP2 CD68 CD33 GLUL H3F3A CLIC1 HMGB1 YWHAH PDIA3 CTSA CD63 RBM39 PLXDC2 NACA SAT1 CD37 HSPA8 H2-K1 GOLM1 RPS17 SH3GLB1 LYN SSH2 GDI2 SMAP2 SH3BGRL3 FYB COX4I1 CD300C2 LAMP2 OAZ1 POU2F2 RAB14 RHOA TMEM59 RPL27 HNRNPA2B1 IRF8 HNRNPK INPP5D MORF4L1 HSPA5 BSG P2RY13 LUC7L2 TANC2 CFH TMEM50A LDHB SRSF5 ASAH1 WASF2 SERF2 PICALM ARL6IP1 BMP2K GABARAP CORO1A CREG1 NRIP1 SNX5 MACF1 FRMD4A LAPTM4A ERP29 ZEB2 CELF2 BRI3 RPL4 PFDN5 CANX ITM2C ENSMUSG00000118642 RAC1 SPI1 ARPC1B ZFP36L2 ARGLU1 COX8A CRYBB1 MERTK RGS2 GNG5 PTMS CMTM6 PYCARD ENTPD1 SYNGR1 CD164 PTPRC CAMK1 WNK1 GNS PPIB BTF3 SSR4 MSN YWHAE HPGD EEF2 SERPINE2 PTPN18 FUS RAP1B F11R SNRNP70 RPL13A CTSC SLCO2B1 APOE RPL31 LYZ2 CCR5 SALL1 CHCHD2 CTTNBP2NL EFHD2 SF3B1 CALM1 ALOX5AP RBM25 TMED10 EIF4A1 SPCS2 BIN2 GNB2 TMEM176B HNRNPF CAPZB NCF1 RNF130 RTN4 TCF4 SLC25A5 ATP5G2 ECSCR TLN1 PNISR LCP1 PAG1 ELMO1 LRP1 FCGR1 SFT2D1 PABPC1 GNAS ADAP2 ATP6V1G1 COX7C ST3GAL6 CLTC ARPC3 PMP22 NPM1 COMT RABAC1 FOXN3 FCGR2B MT-ND5 RNF13 ZFP36L1 COTL1 SELENOF PDE3B CD84 ACTR2 HBB-BS ABI3 PTP4A2 GIT2 ARHGDIB HNRNPA3 VDAC2 NAV2 CD52 PNP COX7A2L DST POMP SARAF TXNIP CSNK1E SRSF2 BRK1 RBM3 DOCK4 SERBP1 UQCRH LMO2 ARF1 COMMD8 MYL6 PDIA6 DOCK10 UBE2D3 MYLIP TPP1 PLEKHO1 TUBB5 SLC2A5 NCL VAPA FAM102B SNX18 TACC1 HK2 ARHGAP45 SLC25A3 TMCC3 MT-ND4L FSCN1 SLC29A3 RETREG1 ATOX1 TGFBR2 ABCA1 SDCBP IRF2BP2 UCP2 PLEK ADGRG1 AKR1A1 SERINC1 SRSF3 ATP5E EIF4G2 OPHN1 SPPL2A SELENOK TM9SF3 SELENOS HNRNPU SLC1A3 YBX1 NFE2L2 SEC62 PSME1 BTG1 CLK1 NAV3 ATP5L SKI PTPN1 FERMT3 MYL12B TGFB1 TMED9 REEP5 SKIL ADAM10 CMTM7 YWHAZ TCN2 MPC1 NDUFA4 CD47 SEC61G EIF3F P2RY6 ZMIZ1 PAK2 MCL1 RAP1A TNFAIP8L2 FRMD4B ST13 PCBP2 MGAT4A ARHGDIA IL6RA MAN1A2 CNBP MRPL52 SRGN REEP3 OGFRL1 HAVCR2 ABCA9 COX6B1 EIF2S2 MT1 VAMP8 COX6C TMED5 PTBP3 LAG3 SRSF9 PPT1 ZFP706 MRFAP1 PIK3R1 AKAP13 SLC3A2 ATP2B1 NSA2 ATP5B ITGB2 DENND4A PPP1R14B PURB SRRM1 ROCK2 SYNGR2 TMCO1 SUMO2 TOR1AIP1 PCBP1 SFPQ DAD1 PRDX5 GPR183 IFNAR2 RTN3 H2-DMA SRSF11 IKZF1 CSNK1A1 SUSD3 NKTR ADGRE1 ITGB1 PRDX1 YPEL3 SEC11C PPP3CA ATP5H PSMB8 UBL3 GPX4 DDX6 NMT1 DAGLB EEF1D MYCBP2 TMED2 ALDOA_ENSMUSG00000030695 ATP6V0E TMEM86A ATP6AP2 PTPRE SKAP2 TALDO1 NPTN SLC7A8 NR3C1 HNRNPA0 ACTR3 ATP5A1 SET PURA HINT1 PAFAH1B1 EIF5 EVI2A RAB3IL1 STX7 LAMTOR4 PTEN FLI1 GNGT2 ORAI1 IGHM RBX1 ANKRD11 CHD9 ZBTB20 CD14 MAP4K4 ATP6V1F ELOB FGD2 OSTF1 NTPCR BNIP3L PRRC2C OXCT1 JMJD1C CXXC5 TUBA1B PSENEN HERC2 EIF4A2 JAK1 ATP5J2 RPL36AL RUNX1 CFLAR DYNC1I2 ATP5J PIP4K2A PPFIA4 SUB1 YWHAB KLF3 JUND ATRAID CSF3R ARPC5 C3AR1 DPYSL2 CD2AP TTC14 ZCCHC7 IRF2 CRLF3 HSPE1 ATRX ASPH MANF PNRC1 ARL4C RHOH SAMSN1 DDX17 CCDC50 ARPC4 LRBA NDUFC2 RPN2 UBL5 GPX1 PHF14 ATP2C1 ARID1A CAMK2D ATPIF1 PPP1CA LST1 RPS6KA1 GUSB LIMD2 ZFP652 CCNI EIF3C DOCK2 SCAF11 PTPN6 TMEM234 NDUFA13 PELI1 HNRNPH1 TRAM1 LAMTOR1 9930111J21RIK2 ARRB2 KMT2E RSRC2 NARS BCL2A1B NCKAP1L TMEM176A TMEM30A ITGA6 CD86 USP2 PRPF38B CADM1 RBM5 NUMB ANG SNX17 TAX1BP1 FCHSD2 TPST2 RASGRP3 SLC6A6 TM6SF1 KRTCAP2 CEBPZ BCAP31 SDF4 COX7A2 IL10RA FCHO2 PROS1 SSB SNX6 SEM1 HSP90AA1 PRPF4B STAB1 PNN OGT IFNGR2 KRCC1 TNRC6B BHLHE41 ITPR2 CTSF CEBPB ATP6AP1 SEC61B GSK3B SF3B2 RAPGEF5 ST3GAL5 ASH1L CBL NIPBL LIMS1 GNB1 DNAJB6 CRLF2 MOB1A CSMD3 ISCU LGALS9 NCOR1 VCP PTPRA PARK7 G3BP2 TCF25 CD180 EHD4 TOMM20 WSB1 RPL22L1 EIF3H ATP5C1 CCDC12 ARF5 AKIRIN2 CEBPG ATXN7L3B BTG2 PWWP2A TM9SF2 ACP2 PPCDC RHOG NDUFA2 EIF3A 1700017B05RIK PRKAR1A CELF1 HSBP1 MTUS1 WDR26 HOOK3 IL10RB PSMA7 DIP2B PPP1R18 GRB2 P4HA1 PRKCD NDUFA6 FUBP1 TAB2 SIPA1 GATM GSPT1 NCF2 BCLAF1 PLA2G15 CSDE1 TRA2B LRRC3 ANKRD44 TMED7 SMAD7 TRA2A SNRPB PSMA3 EIF5A RCBTB2 LGALS3BP PLGRKT CAP1 UBASH3B GNA15 SCARB2 DDOST ATP8A1 RNF7 TAPBP HPS3 TSPAN13 INTS6L GTF2H2 SLC25A4 KLK8 NSD1 ACIN1 PLXNB2 UBE2D2A GM2A BZW1 RAB2A OS9 HERPUD1 MAPRE1 B230219D22RIK IRF5 TOP1 MAN1A TOMM7 NEDD8 XBP1 PPP1R9A MKLN1 TRMT112 M6PR ENO1 FAM91A1 RDX MLEC MAT2A ERGIC3 HNRNPUL1 COX5B NISCH ATP1B3 NDUFA7 GCNT1 BMYC XIAP MBNL2 PKM VASP FUCA1 DNAJC3 PPP2CA HCK BPTF ATP5D ITCH NDUFB9 FKBP2 BST2 UBE2I PTS TMA7 TMEM14C KTN1 HNRNPD HIGD2A LMAN1 ASAP1 DDX3X USF2 ARHGAP17 RAB7 UQCR11 UBAP2L GABARAPL2 FEZ2 EEF1G TECR LUC7L3 EVL EIF3K EDEM2 PTGES3 PREX1 RBM26 PAN3 PIK3CG UBE3A EIF1B TTC28 PAPSS1 PUM2 ZEB2OS APOBEC3 BLNK MYH9 DNM2 LNPEP EDF1 GRINA TUBGCP5 TBXAS1 ZFP292 DDRGK1 LACC1 DSTN USP8 DDX39B SDF2L1 KIF5B SOX4 PEBP1 DAZAP2 CLASP2 GNA13 NEK7 CYB5A PAPOLA TWF2 N4BP2L2 EMC7 DNASE2A PHGDH APP ZFP644 SNRPG SSBP4 MAFG HPS4 UQCRB CIRBP TMED3 CUX1 MINDY2 CASP8 PTAFR GM10076 ARHGAP30 CD300A SCP2 ANP32A PSMB1 CEBPA DNAJC7 CLEC4A3 CD302 SLC16A6 UBN2 TPR DHRS3 HNRNPA1 RTRAF EDEM1 SPCS1 TSN CHD4 EIF3E OST4 HMGN1 DUSP6 DNAJA1 ZFP638 TMEM37 LAP3 POLD4 SLC40A1 SPECC1 ATP5G1 ETNK1 NPC1 B4GALT1 AFTPH ABI1 CPSF6 CCND1 PKIG ZRANB2 LCP2 MORC3 EP300 HP1BP3 RAN PDGFB MAGT1 ARF4 SGK1 TGS1 ZBTB7A ZFAND5 ELF1 BACH1 CD48 DYNLL1 ATP6V1E1 HCLS1 HSD17B11 ADIPOR1 UQCRQ COX7B RCSD1 CEBPZOS GALNT1 DERL1 TNFAIP8 HIVEP3 MAP1LC3B GAS6 RAP1GDS1 PKN1 VGLL4 ACAP2 GPSM3 KCNQ1OT1 HNRNPDL PSMB6 PSMA2 RER1 SRP14 RPS27L AKIRIN1 NAA35 CAMK2N1\n",
      "Manuscript:\n",
      "\n"
     ]
    }
   ],
   "source": [
    "dataset_index = str(next(dataset_numbers_iterator))\n",
    "dataset_name = [k for k,v in meta_data.items() if f'({dataset_index})' in v.get('filename', '')]\n",
    "if len(dataset_name) != 1:\n",
    "    print(\"dataset index: \", dataset_index)\n",
    "    print(dataset_name)\n",
    "    print(f\"dataset \\\"{dataset_name}\\\" not in meta_data!\")\n",
    "else:\n",
    "    dataset_name = dataset_name[0]\n",
    "    cur_url = meta_data[dataset_name]['url']\n",
    "    dataset_file_path = [path for path in datasets_files_paths if f\"({dataset_index})\" in path][0]\n",
    "    dataset_df = pd.read_csv(dataset_file_path)\n",
    "    dataset_in_prompt, sampled_indices = dataset_for_prompt(dataset_df)\n",
    "    print(\"Dataset Index: \", dataset_index)\n",
    "    print(\"\\nDataset Name: \", dataset_name)\n",
    "    print(\"\\nPublication URL: \", cur_url)\n",
    "    print(\"\\nPrompt:\\n\", prompt_prefix + \"Dataset: \\n\" + dataset_in_prompt + \"Manuscript:\\n\")\n"
   ]
  },
  {
   "cell_type": "markdown",
   "metadata": {},
   "source": [
    "Just copy paste the output into the next cell, shouldn't need to do additional processing"
   ]
  },
  {
   "cell_type": "code",
   "execution_count": 103,
   "metadata": {},
   "outputs": [],
   "source": [
    "output = \"\"\"\n",
    "<|Context|>This microglial cell from white matter displays high expression of genes linked to phagocytosis and immune activation, such as TREM2, TYROBP, and CX3CR1.<|Question|>Does the presence of TREM2 in the white matter microglial cell gene expression suggest an activated microglial phenotype associated with clearance of debris?<|Answer|>Yes. TREM2 is well-known for its role in promoting microglial activation and debris uptake. In the [white matter] cell gene expression, TREM2 appears together with genes like TYROBP and CX3CR1, which collectively indicate an immune-active state. The chain of thought is that TREM2+TYROBP interactions facilitate phagocytosis, pointing to an activated microglial phenotype in white matter.<|Keyword|>yes, TREM2, TYROBP, microglia\n",
    "\n",
    "<|Context|>In this white matter microglial cell, genes such as APOE, CST3, and FTH1 appear prominently alongside other immune-related markers.<|Question|>What is the potential significance of the high APOE expression in this microglia’s profile?<|Answer|>APOE is often associated with lipid metabolism and immune regulation in the brain. In the [white matter] cell gene expression, APOE is listed near genes like FTH1 and CST3, which are involved in iron handling and cysteine protease regulation, respectively. This suggests a microglial state managing lipid and iron turnover, potentially in the context of myelin debris clearance or response to injury.<|Keyword|>APOE, lipid metabolism, microglia\n",
    "\n",
    "<|Context|>The white matter microglial cell's gene expression includes TYROBP, TREM2, and ITGB5, among others.<|Question|>Are TYROBP and TREM2 co-expression patterns relevant to microglial function in response to altered myelin?<|Answer|>Yes. TYROBP (DAP12) is the intracellular adaptor for TREM2, driving signaling cascades that enhance microglial activation and phagocytosis. In the [white matter] cell gene expression, the co-expression of TYROBP and TREM2 strongly indicates microglia specialized in reacting to myelin pathology, supporting debris clearance in white matter.<|Keyword|>yes, TYROBP, TREM2\n",
    "\n",
    "<|Context|>Microglial cells in diseased or aging brain tissues often upregulate interferon-responsive genes such as IFNGR1, STAT1, or ISG-related genes.<|Question|>Does the presence of STAT1 in the white matter microglia gene list suggest a response to interferons?<|Answer|>Yes. STAT1 is a key transcription factor activated by interferons. In the [white matter] cell gene expression, STAT1 is detected along with other immune genes such as CX3CR1, indicating a microglial population under IFN-related signaling, possibly in response to immune challenges or aging processes.<|Keyword|>yes, STAT1, interferon\n",
    "\n",
    "<|Context|>The gray matter microglial cell gene expression also contains TREM2 and TYROBP, but certain IFN-stimulated genes are less prominent.<|Question|>Comparatively, do the gray matter and white matter microglia appear to share TREM2-mediated pathways, but differ in the degree of IFN-related responses?<|Answer|>Yes. Both [white matter] and [gray matter] cell gene expression profiles include TREM2 and TYROBP, suggesting shared TREM2-mediated phagocytic functions. However, the white matter microglia shows more IFN-related genes (e.g., STAT1), indicating a stronger interferon response in white matter compared to gray matter.<|Keyword|>yes, TREM2, IFN response\n",
    "\n",
    "<|Context|>This white matter microglial profile features phagocytic markers (CTSB, CTSL), major histocompatibility complex genes (H2-D1, H2-K1), and interferon-response genes.<|Question|>How might co-expression of CTSB, CTSL, and MHC class I genes reflect microglia’s role in antigen processing?<|Answer|>CTSB and CTSL are proteases that degrade internalized proteins, while MHC class I genes (e.g., H2-D1, H2-K1) present peptide fragments to T cells. In the [white matter] cell gene expression, their co-expression suggests microglia are actively processing debris, then displaying antigens, potentially influencing T cell activity in that region.<|Keyword|>CTSB, CTSL, H2-K1, antigen processing\n",
    "\n",
    "<|Context|>In the white matter microglial cell, we see genes like SPP1, CD68, and MARCKS scattered among canonical microglial markers.<|Question|>What can SPP1 (osteopontin) and CD68 tell us about the functional status of these white matter microglia?<|Answer|>SPP1 is often elevated in reactive or disease-associated microglia, aiding in cell adhesion and chemotaxis, while CD68 marks lysosomal/phagocytic capacity. Their presence in the [white matter] cell gene expression indicates an activated microglia with enhanced phagocytosis and migratory functions, presumably responding to injured or aged white matter.<|Keyword|>SPP1, CD68, phagocytosis\n",
    "\n",
    "<|Context|>Looking at the white matter microglial cell sentence, we see strong expression of CX3CR1, a receptor important for neuron-microglia communication.<|Question|>Does CX3CR1 co-expression with other immune genes imply a supportive or damaging effect on nearby cells?<|Answer|>It can imply both. CX3CR1 helps microglia maintain homeostatic interactions with neurons, but when combined with upregulated immune genes (e.g., CTSS, TREM2), it also indicates an activated state. In the [white matter] cell gene expression, this might reflect a dual role—supporting neuronal health while also potentially removing damaged myelin if inflammation is sustained.<|Keyword|>CX3CR1, homeostatic, activated state\n",
    "\n",
    "<|Context|>The white matter microglia’s transcript list includes TREM2, CTSZ, and APOE, which are known to be upregulated in microglia responding to myelin debris.<|Question|>Why would these three genes co-occur in microglia dealing with aging or injury in white matter?<|Answer|>TREM2 enhances debris sensing, CTSZ is a lysosomal protease used for digesting engulfed material, and APOE is involved in lipid transport from phagocytosed myelin. In the [white matter] cell gene expression, they likely collaborate to clear damaged myelin, making them crucial for white matter maintenance in aging or injury contexts.<|Keyword|>TREM2, CTSZ, APOE, debris clearance\n",
    "\n",
    "<|Context|>The gray matter microglial cell sentence still shows robust microglial markers (CST3, C1QA, HEXB) but somewhat lower expression of TREM2.<|Question|>Could lower TREM2 in gray matter microglia indicate a reduced phagocytic requirement compared to white matter?<|Answer|>Yes. TREM2 is closely tied to phagocytic activation. Seeing it less in the [gray matter] cell gene expression suggests these microglia might be in a more homeostatic or lower-activity state, reflecting reduced debris-clearing demands in gray matter as compared to white matter regions.<|Keyword|>yes, TREM2, gray matter\n",
    "\n",
    "<|Context|>Within the white matter microglia sentence, we notice expression of C1QA, C1QB, and C1QC, complement components often linked to synapse pruning or debris opsonization.<|Question|>What does the presence of these complement genes suggest about microglial activity in white matter?<|Answer|>C1QA, C1QB, and C1QC initiate the complement cascade, marking targets for microglial clearance. In the [white matter] cell gene expression, they point to ongoing opsonization and removal of cellular or myelin debris, underscoring an active cleanup function in aging or disease states.<|Keyword|>C1QA, C1QB, C1QC, complement\n",
    "\n",
    "<|Context|>The microglial cell in white matter has genes like H2-D1 (MHC-I) and IFNGR1 side by side.<|Question|>Does co-expression of MHC-I and IFN receptors indicate potential interplay between microglia and T cells in the white matter?<|Answer|>Yes. H2-D1 allows antigen presentation, and IFNGR1 mediates response to interferons secreted by T cells. Their co-expression in the [white matter] cell gene expression points to microglia’s readiness to interact with T cells, possibly in an inflammatory or surveillance context.<|Keyword|>yes, MHC-I, IFNGR1, T cell interaction\n",
    "\n",
    "<|Context|>Among the top-ranked genes for this white matter microglial cell are pro-inflammatory genes (CTSS, CTSD) and housekeeping genes (ACTB, GAPDH).<|Question|>How do the elevated proteases CTSS and CTSD fit into the microglia’s role in tissue maintenance?<|Answer|>CTSS and CTSD degrade extracellular proteins and damaged cell components. In the [white matter] cell gene expression, these proteases suggest microglia engaging in cleaning up degenerating myelin or other debris, which aligns with increased phagocytic or inflammatory roles in aging white matter.<|Keyword|>CTSS, CTSD, proteolysis\n",
    "\n",
    "<|Context|>Within the white matter microglial sentence, the presence of CD81 is noted, along with immune genes such as CD9 and TREM2.<|Question|>Could CD81 be involved in microglial cellular communication or exosome formation in this context?<|Answer|>Yes. CD81 is a tetraspanin that participates in membrane organization and exosome biogenesis. Its co-expression with CD9 and TREM2 in the [white matter] cell gene expression hints that microglia might use these pathways for intercellular communication or delivering signals to surrounding cells during injury or immunosurveillance.<|Keyword|>CD81, exosome, communication\n",
    "\n",
    "<|Context|>In the gray matter microglial cell gene set, there are fewer MHC class I genes but still many phagocytic markers (HEX, CTSS).<|Question|>Does having fewer MHC class I genes necessarily mean gray matter microglia are less immunocompetent?<|Answer|>Not necessarily. While MHC class I expression can indicate antigen presentation, microglia can still use other immune functions. The [gray matter] cell gene expression includes robust phagocytic markers like CTSS and HEXB, so they remain active in clearance. However, they might exhibit a reduced antigen-presenting profile compared to their white matter counterparts.<|Keyword|>no, MHC class I, phagocytosis\n",
    "\n",
    "<|Context|>White matter microglial expression of CSF1R is quite prominent, alongside genes for survival signaling.<|Question|>Why is CSF1R particularly important for microglial viability in white matter?<|Answer|>CSF1R is essential for microglial survival and proliferation, regulated by colony-stimulating factors. In the [white matter] cell gene expression, high CSF1R implies microglia rely on CSF1 or IL-34 for survival signals, especially in regions undergoing more dynamic turnover of cells and myelin, like white matter.<|Keyword|>CSF1R, survival, microglia\n",
    "\n",
    "<|Context|>The presence of heat shock genes like HSP90AB1 and HSPA8 in the white matter microglial sentence suggests stress responses.<|Question|>How do elevated heat shock proteins support microglial function in potentially inflamed or damaged white matter?<|Answer|>Heat shock proteins like HSP90AB1 and HSPA8 help refold misfolded proteins and manage stress responses. In the [white matter] cell gene expression, their upregulation reflects microglia coping with heightened metabolic and inflammatory stress, aiding cell stability and continuous debris-clearing activity.<|Keyword|>HSP90AB1, HSPA8, stress response\n",
    "\n",
    "<|Context|>We see B2M (beta-2-microglobulin) in both the white matter and gray matter microglial gene sets, but it’s more emphasized in white matter.<|Question|>What might higher B2M imply about immune-related pathways in white matter microglia?<|Answer|>B2M is a component of MHC class I molecules. Its higher presence in the [white matter] cell gene expression indicates enhanced antigen presentation or immune surveillance. This aligns with the idea that white matter microglia frequently engage with potential immune triggers, reflecting more pronounced inflammatory reactivity.<|Keyword|>B2M, MHC I, immune surveillance\n",
    "\n",
    "<|Context|>Some genes in the white matter microglial list, such as IFI27L2A, appear associated with interferon-stimulated states.<|Question|>Could IFI27L2A expression suggest that these microglia respond to interferon signals in aging or disease?<|Answer|>Yes. IFI27L2A is an interferon-inducible gene. Its presence in the [white matter] cell gene expression implies microglia under IFN signaling, likely responding to IFN-γ or other inflammatory cues. This can shape microglial activity toward a reactive, potentially neuroprotective or neurotoxic, function in aging brains.<|Keyword|>yes, IFI27L2A, IFN signaling\n",
    "\n",
    "<|Context|>Genes such as CYBA, NCF1, and NCF2 in the white matter microglial sentence contribute to reactive oxygen species (ROS) generation.<|Question|>Why would microglia produce more ROS in white matter, and can this be harmful?<|Answer|>These genes code for NADPH oxidase components, which generate ROS to kill pathogens and degrade debris. In the [white matter] cell gene expression, their upregulation can help clear damaged myelin but might also cause oxidative stress to nearby cells. This dual effect can be damaging if prolonged or excessive.<|Keyword|>ROS, CYBA, NCF1, harmful\n",
    "\n",
    "<|Context|>Analyzing the white matter microglial profile, we see SPP1 and TREM2 expression aligned with robust cathepsins and MHC-I genes.<|Question|>What does this combination imply regarding microglial adaptation in chronic or age-related white matter stress?<|Answer|>It suggests a specialized immune-reactive microglial phenotype. SPP1 and TREM2 facilitate recognition and uptake of myelin debris, while cathepsins (CTSB, CTSL) degrade it. MHC-I genes signal readiness for antigen presentation. Together, this points to a microglia state adapted to chronic cleanup and immune interactions commonly found in aged or stressed white matter.<|Keyword|>SPP1, TREM2, cathepsins, chronic stress\n",
    "\"\"\""
   ]
  },
  {
   "cell_type": "markdown",
   "metadata": {},
   "source": [
    "run the following cell to convert the output into a hf dataset"
   ]
  },
  {
   "cell_type": "code",
   "execution_count": 104,
   "metadata": {},
   "outputs": [
    {
     "name": "stdout",
     "output_type": "stream",
     "text": [
      "Error in the following QA pair:\n",
      "\n",
      "\n",
      "Example:\n"
     ]
    },
    {
     "data": {
      "text/plain": [
       "{'Context': 'This microglial cell from white matter displays high expression of genes linked to phagocytosis and immune activation, such as TREM2, TYROBP, and CX3CR1.',\n",
       " 'Summary_Dataset': 'Cell Type: microglial cell, Tissue: brain white matter, Gene Expression: CST3 MALAT1 TMSB4X C1QA C1QB CTSS HEXB ACTB C1QC CTSD APOE FTH1 ITM2B RPS29 MT-CO3 EEF1A1 RPLP1 FAU MT-ATP6 MT-CO1 TPT1 MT-CO2 RPS24 TYROBP RPS12 RPL23 CD81 RPL13 RPL39 MT-CYTB RPL27A RPS21 FCER1G RPL37A CX3CR1 RPS9 TREM2 RPS8 RPL30 FTL1 LGMN RPL35A B2M RPL37 RPS27A RPL21 RPL41 RPL18A RPS11 RPS4X CTSB CD9 CTSZ RPS10 RPS3A1 RPS15A SPARC RPL32 RPS16 RPL19 RPS23 RPL6 RPS14 RPS20 CSF1R RPL17 MT-ND4 RPS27 RPL10 MARCKS RPL34 LY86 PSAP RPL26 RPL11 LAPTM5 RPS28 MT-ND1 RPLP2 RPL9 RPS13 RPLP0 RPS7 CTSL SERINC3 RPS3 RPL28 RPS5 RPS19 RPS18 RPL12 PPIA RPS25 RPL38 RPL3 RPS2 RPSA RPL10A RPS26 MT-ND2 LAMP1 RPL18 CYBA RPL7 RPL15 LYZ2 SELPLG RPL24 RPL36 DDX5 P2RY12 NPC2 RGS10 RPL8 RPS15 H2-D1 UBB RPL22 GPR34 TRF PTMA RPL5 CTSH SELENOP RPL29 RPL35 RPS6 RACK1 RRBP1 H3F3B PFN1 CD52 EIF1 BASP1 AIF1 GRN MEF2C RPL36A GAPDH UNC93B1 RPL14 CD63 CAPZA2 RPL7A LY6E OLFML3 RPL23A LPCAT2 HSP90AB1 MAFB TIMP2 FCGR3 GNAI2 ITGB5 MPEG1 CFL1 HSP90B1 SIGLECH ANXA3 EEF1B2 H2-K1 CLTA EPB41L2 MAN2B1 TGFBR1 RPL27 SH3BGRL3 CDC42 ARHGAP5 MEF2A HEXA LAIR1 NACA SON CD68 RPL13A COX4I1 GNAS RPS17 RSRP1 MBNL1 SERF2 ACTG1 ATP6V0B MTDH HSPA8 PMEPA1 HPGDS TMEM119 ARPC2 UBC ABHD12 SAT1 H3F3A VSIR CD300C2 COX8A KCTD12 CALM2 GNG5 FYB CLIC1 IFNGR1 FCRLS TMBIM6 BIN1 PLD4 TMEM176B SRRM2 CYFIP1 RHOA PLXDC2 ITGAM PFDN5 MT-ND3 GABARAP OAZ1 ZFHX3 CTSA CALR CYTH4 CD53 IRF8 CFH LAMP2 PTPRC PDIA3 ARPC1B PTMS TPM3 RPL4 SH3GLB1 NPM1 APBB1IP YWHAH CKB SSR4 MAF RBM39 SIRPA EEF2 BSG CREG1 BRI3 RNASE4 GDI2 PABPC1 RPL31 CD37 ERP29 SYNGR1 ZEB2 BTF3 TMEM50A IVNS1ABP ATP5G2 HMGB1 ASAH1 TMEM59 RAB14 CALM1 LDHB MORF4L1 HNRNPK CORO1A PTGS1 COX7C MACF1 SRGAP2 RTN4 PPIB LUC7L2 SCAMP2 SMAP2 UQCRH HNRNPA2B1 ITM2C LYN PTPN18 CD84 ARL6IP1 POU2F2 SRSF5 PYCARD COTL1 CHCHD2 SPI1 GOLM1 SSH2 SNX5 HPGD MYL6 LAPTM4A HSPA5 CTSC EIF4A1 CANX RHOB MSN SCOC GLUL COX7A2L LTC4S YWHAE RAC1 CD33 ENSMUSG00000118642 ATP5E SERPINE2 ATOX1 ARHGDIB HNRNPF ARPC3 PRDX1 VDAC2 MT-ND5 YBX1 TMEM176A SLC25A3 ARGLU1 ATP6V1G1 PLEK SF3B1 ALDOA_ENSMUSG00000030695 LCP1 F11R CELF2 CAMK1 BMP2K WASF2 RAP1B FUS AKR1A1 INPP5D WNK1 SELENOF POMP RABAC1 TMED10 GNB2 SNRNP70 NCL NSA2 TLN1 SLC25A5 FRMD4A FCGR1 SERBP1 RBM25 ATP5L RPL36AL CAPZB PSME1 GPX1 BRK1 H2-DMA PMP22 P2RY13 COX6B1 EFHD2 SPCS2 EIF3F TUBB5 PICALM BIN2 COX6C RGS2 TANC2 CD14 COMT RBM3 GNS MT-ND4L EEF1D PRDX5 SEC61G LMO2 PTP4A2 ZFP36L2 ACTR2 ALOX5AP ITGB2 ATP5H RNF130 SLCO2B1 GPX4 CMTM6 NRIP1 UCP2 NCF1 UBE2D3 RPL22L1 SFT2D1 HK2 RNF13 MERTK ATP6V0E ATP6V0C CLTC TGFBR2 SDCBP CCR5 TMCC3 BCL2A1B MRPL52 ADAP2 MPC1 IFNAR2 PSMB8 MYL12B TCF4 DST HINT1 SARAF MT1 PAG1 PNISR HNRNPA3 CTTNBP2NL NDUFA4 ATP6V1F EIF2S2 HSPE1 ARF1 PLEKHO1 NFE2L2 ACTR3 ASPH ELOB HNRNPU VAMP8 PKM EVI2A ARHGDIA MCL1 GNGT2 ATP5B RAP1A TMED9 SELENOK PCBP2 SRGN DAD1 PDIA6 BTG1 REEP5 MRFAP1 PPT1 SRSF2 LAMTOR4 ABI3 FCGR2B ENTPD1 CRLF2 ATP2B1 PPFIA4 NAV2 TM9SF3 SRSF9 TMSB10 RETREG1 ATP5J2 LRP1 ATPIF1 ZFP36L1 GNG10 SUMO2 SEC62 SDF4 NPTN GATM SPPL2A COMMD8 ARPC5 UBL5 GIT2 VAPA SKIL ATP5J SET SEM1 AKAP13 SLC29A3 TPP1 CNBP ITGB1 SERINC1 SRSF3 TMCO1 SKAP2 LAG3 CD180 LGALS3BP PTPN6 HAVCR2 TNFAIP8L2 TUBA1B ST13 ELMO1 TACC1 NDUFA13 PAK2 BHLHE41 EIF3H EIF4G2 CLK1 SELENOS COX7A2 NMT1 SYNGR2 FOXN3 FAM102B IFNGR2 STX7 ADAM10 SLC3A2 P2RY6 FERMT3 ST3GAL6 CMTM7 GM2A CSNK1E GPR183 OXCT1 NDUFC2 CCL6 SNX18 YPEL3 RBX1 CD34 SAMSN1 MYLIP PPP1R14B PSENEN ARPC4 EIF3A RTN3 NTPCR PTPN1 OPHN1 YWHAZ TALDO1 C3AR1 SEC11C SUB1 OSTF1 ATP5A1 AU020206 NDUFA2 ANKRD11 ZFP706 ATP5C1 DOCK4 MAN1A2 SEC61B SRSF11 PROS1 SALL1 TOR1AIP1 ABCA1 PRRC2C SRRM1 GUSB LAT2 EIF3C PDE3B TXNIP EIF5A NDUFA6 ECSCR CD48 DAGLB HSP90AA1 SKI ATRX BST2 TOMM7 LAMTOR1 TMED2 TCN2 MIF PNP BNIP3L BCAP31 REEP3 YWHAB COX5B DOCK10 PNRC1 ABCA9 ATP6AP2 TGFB1 EIF5 TMED5 NKTR NAV3 EEF1G PSMA7 SNRPG EIF3K PURB CADM1 TMEM234 HNRNPA0 PPP1CA TOMM20 PAFAH1B1 DYNC1I2 ZMIZ1 CSNK1A1 TSPO HNRNPA1 ARHGAP45 MYCBP2 SLAMF9 PCBP1 DPYSL2 NEDD8 TMEM86A UQCR11 NDUFA7 ATP5D DSTN SFPQ TPD52 IL10RB PURA LIMD2 FSCN1 CCDC50 TBCA ATRAID PARK7 DHRS3 MAP4K4 PTPRE HSBP1 DOCK2 IRF2 CEBPB PTBP3 COPS9 FUCA1 CCDC12 CTSF SLC6A6 EIF4A2 FRMD4B DYNLL1 KRTCAP2 CD47 SF3B2 IRF2BP2 SLC25A4 CFLAR KLK8 TMA7 CD86 GNB1 NARS DBI DENND4A TCF25 ATP6AP1 PEBP1 ORAI1 SSB ROCK2 ANG HERC2 SUSD3 WSB1 DDX17 PRPF4B ADGRE1 EDF1 9930111J21RIK2 EIF3E OS9 CCNI ZCCHC7 RHOG PLP1 RPN2 IL6RA RUNX1 PNN CAP1 RTRAF COX6A1 ZBTB20 PSMB1 TAX1BP1 PTPRA KRCC1 IKZF1 RNASET2A CSF3R MGAT4A OGT MYH9 ADGRG1 GAS5 NDUFB9 TPR PHF14 UBL3 POLD4 PRPF38B H2-T23 PRKAR1A JMJD1C BMYC PIK3R1 RPS27L IFI27L2A RSRC2 PLGRKT SCAF11 CEBPZ RASGRP3 ARRB2 SPCS1 TRMT112 CD2AP JAK1 P4HA1 IGHM DDX6 TAPBP JUND APOBEC3 UQCRB ASH1L ATP5G1 SNRPB GPI1 ARF5 MANF ENO1 MAT2A UQCRQ LIMS1 RAB3IL1 CD164 UBE2D2A COX7B ERGIC3 PRKCD NCOR1 MOB1A TMED3 GRB2 ISCU APP OST4 SLC11A1 TTC14 DDOST CRLF3 LST1 OGFRL1 DNAJB6 PSMA3 CHD4 EHD4 KMT2E ITGA6 VCP KIF5B GPR84 TMEM14C CSDE1 SDF2L1 NCKAP1L RTCB PPP3CA NR3C1 NCF2 TRAM1 ZFP652 RNF7 PLXNB2 NME2 BZW1 HIGD2A LGALS9 CSF2RA TMEM30A GRCC10 HNRNPH1 PIP4K2A POLR1D SLC7A8 RBM5 ATP2C1 CUX1 CXCL16 NIPBL ACIN1 MAP1LC3B M6PR PLD3 CEBPG RAB2A ITPR2 PGAM1 IRF5 GNA15 CYB5A CXXC5 SGK1 G3BP2 EIF5B RPS6KA1 APLP2 SRP14 ATP8A1 E230029C05RIK CSTB RAB7 MAPRE1 ACER3 FIS1 TBXAS1 RHOH DDX39B RAN UBXN1 SCARB2 ACP2 SMAD7 FLI1 CCT2 LEPROT NDFIP1 AKIRIN2 LPL LUC7L3 BLNK CSMD3 FUBP1 PSMB6 FCHO2 HMGN1 PDGFB UBE2I PBXIP1 VASP GSK3B ASAP1 PPP1R18 SNX17 HERPUD1 FGD2 PELI1 ARHGAP30 RNASEK PITPNA H2-DMB1 TRA2A DDRGK1 CBL TM9SF2 KLF3 UQCR10 LRPAP1 ARF4 CCT4 UBASH3B RER1 D8ERTD738E IFI30 GPSM3 TOP1 CHD9 CCL12 BAG1 DNAJA1 LAP3 ARHGAP17 TRA2B PTEN MYL12A CEBPZOS MLEC EMC7 TM6SF1 HOOK3 OTULINL PPCDC RNASET2B CAMK2D CELF1 KCNQ1OT1 DRAP1 PLA2G15 COX5A CEBPA FKBP2 SNRPE HCK PTGES3 KLF6 TMEM258 ATP1B3 GABARAPL2 RCBTB2 TECR HNRNPD ATXN7L3B ARL4C PAPSS1 GALNT1 LACC1 MS4A6D SMDT1 SHISA5 HCLS1 HIF1A SLC1A3 NEK7 NSD1 TMED7 ARID1A SNX6 SLC2A5 NISCH GRINA GLTP DNAJC7 EVL ARSB LDHA TMBIM4 SCP2 WDR26 CAPG USP2 TMEM37 EIF1B UBAP2L ABI1 AKIRIN1 BNIP2 CCND1 NUCB1 UBA52 PSMB3 CAPNS1 TIMM10B GLMP TNFAIP8 XBP1 LSP1 UBE2L3 GSPT1 NDUFB5 SCAND1 SSBP4 PREX1 BCLAF1 GM10076 PSMA2 XIAP USF2 SNX3 PWWP2A PPP2CA KTN1 NDUFB8 SEMA4D TWF2 NDUFB11 P4HB PKIG UBE3A GMFG ANP32B ITCH USP8 PSME2 CD74 CTNNB1 IFI27 VKORC1 HPS3 PON2 EDEM2 NDUFB10 CHMP2A ANXA5 IL10RA ZFP91 TPST2 ATP6V1E1 TKT RDX SRP9\\nCell Type: microglial cell, Tissue: brain gray matter, Gene Expression: CST3 MALAT1 TMSB4X C1QA HEXB ACTB C1QB C1QC CTSS CTSD ITM2B MT-CO3 RPS29 MT-ATP6 RPLP1 CX3CR1 EEF1A1 MT-CO1 FAU TPT1 LGMN MT-CO2 FTH1 MT-CYTB MARCKS CD81 SPARC TYROBP P2RY12 CSF1R FCER1G RPS24 TREM2 RPS12 RPS21 RPS9 RPL13 RPL39 RPL27A SERINC3 MT-ND4 LAPTM5 RPL23 RPL37A RPL30 RPL37 RPL35A RPL18A RPS8 RPL21 PSAP RPS27A RPS11 MT-ND1 RPL10 SELPLG CTSB FTL1 RPS4X B2M RPS27 RPS23 RPL6 RPL41 CTSZ RPS3A1 RPS15A SIGLECH GPR34 RPL17 RPS10 RPS14 RPS16 RPL19 MT-ND2 CD9 RGS10 RPS20 LY86 DDX5 RPL34 RPL32 RPL26 RPL11 RPLP2 FCRLS RPS13 RPL9 MEF2C CTSL PPIA RPS3 RPS7 SELENOP UBB RPL12 RPLP0 RPS25 LPCAT2 LAMP1 PMEPA1 RPL28 RPS28 RPL38 UNC93B1 RPL3 CYBA RPS5 TMEM119 RPS18 MAF OLFML3 RPS19 FCGR3 H3F3B RPL7 MAFB TGFBR1 RRBP1 CAPZA2 LY6E RPL18 RPL15 MEF2A HSP90B1 EPB41L2 GRN BASP1 RPS2 RPS15 ZFHX3 PTMA AIF1 RPSA RPS26 PFN1 RPL10A RPL8 ARHGAP5 RPL24 RPL5 RPL35 VSIR HPGDS GNAI2 RSRP1 NPC2 MTDH RPL36 CALM2 EIF1 ITGB5 TRF CFL1 SON RPS6 RPL22 MBNL1 IFNGR1 UBC LAIR1 CLTA CDC42 KCTD12 LTC4S CTSH RPL29 RACK1 MAN2B1 RPL14 SRRM2 MPEG1 RPL23A RPL36A CD53 GAPDH HSP90AB1 ANXA3 RPL7A IVNS1ABP TIMP2 ABHD12 ATP6V0B CKB BIN1 HEXA MT-ND3 CYFIP1 SCOC PTGS1 ITGAM CALR ACTG1 ARPC2 SIRPA RHOB RNASE4 SCAMP2 TMBIM6 CYTH4 TPM3 PLD4 APBB1IP EEF1B2 H2-D1 SRGAP2 CD68 CD33 GLUL H3F3A CLIC1 HMGB1 YWHAH PDIA3 CTSA CD63 RBM39 PLXDC2 NACA SAT1 CD37 HSPA8 H2-K1 GOLM1 RPS17 SH3GLB1 LYN SSH2 GDI2 SMAP2 SH3BGRL3 FYB COX4I1 CD300C2 LAMP2 OAZ1 POU2F2 RAB14 RHOA TMEM59 RPL27 HNRNPA2B1 IRF8 HNRNPK INPP5D MORF4L1 HSPA5 BSG P2RY13 LUC7L2 TANC2 CFH TMEM50A LDHB SRSF5 ASAH1 WASF2 SERF2 PICALM ARL6IP1 BMP2K GABARAP CORO1A CREG1 NRIP1 SNX5 MACF1 FRMD4A LAPTM4A ERP29 ZEB2 CELF2 BRI3 RPL4 PFDN5 CANX ITM2C ENSMUSG00000118642 RAC1 SPI1 ARPC1B ZFP36L2 ARGLU1 COX8A CRYBB1 MERTK RGS2 GNG5 PTMS CMTM6 PYCARD ENTPD1 SYNGR1 CD164 PTPRC CAMK1 WNK1 GNS PPIB BTF3 SSR4 MSN YWHAE HPGD EEF2 SERPINE2 PTPN18 FUS RAP1B F11R SNRNP70 RPL13A CTSC SLCO2B1 APOE RPL31 LYZ2 CCR5 SALL1 CHCHD2 CTTNBP2NL EFHD2 SF3B1 CALM1 ALOX5AP RBM25 TMED10 EIF4A1 SPCS2 BIN2 GNB2 TMEM176B HNRNPF CAPZB NCF1 RNF130 RTN4 TCF4 SLC25A5 ATP5G2 ECSCR TLN1 PNISR LCP1 PAG1 ELMO1 LRP1 FCGR1 SFT2D1 PABPC1 GNAS ADAP2 ATP6V1G1 COX7C ST3GAL6 CLTC ARPC3 PMP22 NPM1 COMT RABAC1 FOXN3 FCGR2B MT-ND5 RNF13 ZFP36L1 COTL1 SELENOF PDE3B CD84 ACTR2 HBB-BS ABI3 PTP4A2 GIT2 ARHGDIB HNRNPA3 VDAC2 NAV2 CD52 PNP COX7A2L DST POMP SARAF TXNIP CSNK1E SRSF2 BRK1 RBM3 DOCK4 SERBP1 UQCRH LMO2 ARF1 COMMD8 MYL6 PDIA6 DOCK10 UBE2D3 MYLIP TPP1 PLEKHO1 TUBB5 SLC2A5 NCL VAPA FAM102B SNX18 TACC1 HK2 ARHGAP45 SLC25A3 TMCC3 MT-ND4L FSCN1 SLC29A3 RETREG1 ATOX1 TGFBR2 ABCA1 SDCBP IRF2BP2 UCP2 PLEK ADGRG1 AKR1A1 SERINC1 SRSF3 ATP5E EIF4G2 OPHN1 SPPL2A SELENOK TM9SF3 SELENOS HNRNPU SLC1A3 YBX1 NFE2L2 SEC62 PSME1 BTG1 CLK1 NAV3 ATP5L SKI PTPN1 FERMT3 MYL12B TGFB1 TMED9 REEP5 SKIL ADAM10 CMTM7 YWHAZ TCN2 MPC1 NDUFA4 CD47 SEC61G EIF3F P2RY6 ZMIZ1 PAK2 MCL1 RAP1A TNFAIP8L2 FRMD4B ST13 PCBP2 MGAT4A ARHGDIA IL6RA MAN1A2 CNBP MRPL52 SRGN REEP3 OGFRL1 HAVCR2 ABCA9 COX6B1 EIF2S2 MT1 VAMP8 COX6C TMED5 PTBP3 LAG3 SRSF9 PPT1 ZFP706 MRFAP1 PIK3R1 AKAP13 SLC3A2 ATP2B1 NSA2 ATP5B ITGB2 DENND4A PPP1R14B PURB SRRM1 ROCK2 SYNGR2 TMCO1 SUMO2 TOR1AIP1 PCBP1 SFPQ DAD1 PRDX5 GPR183 IFNAR2 RTN3 H2-DMA SRSF11 IKZF1 CSNK1A1 SUSD3 NKTR ADGRE1 ITGB1 PRDX1 YPEL3 SEC11C PPP3CA ATP5H PSMB8 UBL3 GPX4 DDX6 NMT1 DAGLB EEF1D MYCBP2 TMED2 ALDOA_ENSMUSG00000030695 ATP6V0E TMEM86A ATP6AP2 PTPRE SKAP2 TALDO1 NPTN SLC7A8 NR3C1 HNRNPA0 ACTR3 ATP5A1 SET PURA HINT1 PAFAH1B1 EIF5 EVI2A RAB3IL1 STX7 LAMTOR4 PTEN FLI1 GNGT2 ORAI1 IGHM RBX1 ANKRD11 CHD9 ZBTB20 CD14 MAP4K4 ATP6V1F ELOB FGD2 OSTF1 NTPCR BNIP3L PRRC2C OXCT1 JMJD1C CXXC5 TUBA1B PSENEN HERC2 EIF4A2 JAK1 ATP5J2 RPL36AL RUNX1 CFLAR DYNC1I2 ATP5J PIP4K2A PPFIA4 SUB1 YWHAB KLF3 JUND ATRAID CSF3R ARPC5 C3AR1 DPYSL2 CD2AP TTC14 ZCCHC7 IRF2 CRLF3 HSPE1 ATRX ASPH MANF PNRC1 ARL4C RHOH SAMSN1 DDX17 CCDC50 ARPC4 LRBA NDUFC2 RPN2 UBL5 GPX1 PHF14 ATP2C1 ARID1A CAMK2D ATPIF1 PPP1CA LST1 RPS6KA1 GUSB LIMD2 ZFP652 CCNI EIF3C DOCK2 SCAF11 PTPN6 TMEM234 NDUFA13 PELI1 HNRNPH1 TRAM1 LAMTOR1 9930111J21RIK2 ARRB2 KMT2E RSRC2 NARS BCL2A1B NCKAP1L TMEM176A TMEM30A ITGA6 CD86 USP2 PRPF38B CADM1 RBM5 NUMB ANG SNX17 TAX1BP1 FCHSD2 TPST2 RASGRP3 SLC6A6 TM6SF1 KRTCAP2 CEBPZ BCAP31 SDF4 COX7A2 IL10RA FCHO2 PROS1 SSB SNX6 SEM1 HSP90AA1 PRPF4B STAB1 PNN OGT IFNGR2 KRCC1 TNRC6B BHLHE41 ITPR2 CTSF CEBPB ATP6AP1 SEC61B GSK3B SF3B2 RAPGEF5 ST3GAL5 ASH1L CBL NIPBL LIMS1 GNB1 DNAJB6 CRLF2 MOB1A CSMD3 ISCU LGALS9 NCOR1 VCP PTPRA PARK7 G3BP2 TCF25 CD180 EHD4 TOMM20 WSB1 RPL22L1 EIF3H ATP5C1 CCDC12 ARF5 AKIRIN2 CEBPG ATXN7L3B BTG2 PWWP2A TM9SF2 ACP2 PPCDC RHOG NDUFA2 EIF3A 1700017B05RIK PRKAR1A CELF1 HSBP1 MTUS1 WDR26 HOOK3 IL10RB PSMA7 DIP2B PPP1R18 GRB2 P4HA1 PRKCD NDUFA6 FUBP1 TAB2 SIPA1 GATM GSPT1 NCF2 BCLAF1 PLA2G15 CSDE1 TRA2B LRRC3 ANKRD44 TMED7 SMAD7 TRA2A SNRPB PSMA3 EIF5A RCBTB2 LGALS3BP PLGRKT CAP1 UBASH3B GNA15 SCARB2 DDOST ATP8A1 RNF7 TAPBP HPS3 TSPAN13 INTS6L GTF2H2 SLC25A4 KLK8 NSD1 ACIN1 PLXNB2 UBE2D2A GM2A BZW1 RAB2A OS9 HERPUD1 MAPRE1 B230219D22RIK IRF5 TOP1 MAN1A TOMM7 NEDD8 XBP1 PPP1R9A MKLN1 TRMT112 M6PR ENO1 FAM91A1 RDX MLEC MAT2A ERGIC3 HNRNPUL1 COX5B NISCH ATP1B3 NDUFA7 GCNT1 BMYC XIAP MBNL2 PKM VASP FUCA1 DNAJC3 PPP2CA HCK BPTF ATP5D ITCH NDUFB9 FKBP2 BST2 UBE2I PTS TMA7 TMEM14C KTN1 HNRNPD HIGD2A LMAN1 ASAP1 DDX3X USF2 ARHGAP17 RAB7 UQCR11 UBAP2L GABARAPL2 FEZ2 EEF1G TECR LUC7L3 EVL EIF3K EDEM2 PTGES3 PREX1 RBM26 PAN3 PIK3CG UBE3A EIF1B TTC28 PAPSS1 PUM2 ZEB2OS APOBEC3 BLNK MYH9 DNM2 LNPEP EDF1 GRINA TUBGCP5 TBXAS1 ZFP292 DDRGK1 LACC1 DSTN USP8 DDX39B SDF2L1 KIF5B SOX4 PEBP1 DAZAP2 CLASP2 GNA13 NEK7 CYB5A PAPOLA TWF2 N4BP2L2 EMC7 DNASE2A PHGDH APP ZFP644 SNRPG SSBP4 MAFG HPS4 UQCRB CIRBP TMED3 CUX1 MINDY2 CASP8 PTAFR GM10076 ARHGAP30 CD300A SCP2 ANP32A PSMB1 CEBPA DNAJC7 CLEC4A3 CD302 SLC16A6 UBN2 TPR DHRS3 HNRNPA1 RTRAF EDEM1 SPCS1 TSN CHD4 EIF3E OST4 HMGN1 DUSP6 DNAJA1 ZFP638 TMEM37 LAP3 POLD4 SLC40A1 SPECC1 ATP5G1 ETNK1 NPC1 B4GALT1 AFTPH ABI1 CPSF6 CCND1 PKIG ZRANB2 LCP2 MORC3 EP300 HP1BP3 RAN PDGFB MAGT1 ARF4 SGK1 TGS1 ZBTB7A ZFAND5 ELF1 BACH1 CD48 DYNLL1 ATP6V1E1 HCLS1 HSD17B11 ADIPOR1 UQCRQ COX7B RCSD1 CEBPZOS GALNT1 DERL1 TNFAIP8 HIVEP3 MAP1LC3B GAS6 RAP1GDS1 PKN1 VGLL4 ACAP2 GPSM3 KCNQ1OT1 HNRNPDL PSMB6 PSMA2 RER1 SRP14 RPS27L AKIRIN1 NAA35 CAMK2N1\\n',\n",
       " 'Question': 'Does the presence of TREM2 in the white matter microglial cell gene expression suggest an activated microglial phenotype associated with clearance of debris?',\n",
       " 'Answer': 'Yes. TREM2 is well-known for its role in promoting microglial activation and debris uptake. In the [white matter] cell gene expression, TREM2 appears together with genes like TYROBP and CX3CR1, which collectively indicate an immune-active state. The chain of thought is that TREM2+TYROBP interactions facilitate phagocytosis, pointing to an activated microglial phenotype in white matter.',\n",
       " 'Keyword': 'yes, TREM2, TYROBP, microglia',\n",
       " 'full_QA_pair': '<|Question|>This microglial cell from white matter displays high expression of genes linked to phagocytosis and immune activation, such as TREM2, TYROBP, and CX3CR1.<|Question|>Does the presence of TREM2 in the white matter microglial cell gene expression suggest an activated microglial phenotype associated with clearance of debris?<|Answer|>Yes. TREM2 is well-known for its role in promoting microglial activation and debris uptake. In the [white matter] cell gene expression, TREM2 appears together with genes like TYROBP and CX3CR1, which collectively indicate an immune-active state. The chain of thought is that TREM2+TYROBP interactions facilitate phagocytosis, pointing to an activated microglial phenotype in white matter.<|Keyword|>yes, TREM2, TYROBP, microglia',\n",
       " 'Dataset_Name': 'Microglia - 24 months old wild-type and Rag1-KO',\n",
       " 'Publication_URL': 'https://cellxgene.cziscience.com/collections/0faa1af6-e504-4b88-a47b-69347e1bace5',\n",
       " 'Dataset_Index': '50',\n",
       " 'Used_Rows': [1, 0]}"
      ]
     },
     "execution_count": 104,
     "metadata": {},
     "output_type": "execute_result"
    }
   ],
   "source": [
    "qa_dict_list = []\n",
    "for QA_pair in output.split(\"<|Context|>\"):\n",
    "    if not QA_pair:\n",
    "        continue\n",
    "    try:\n",
    "        context = QA_pair.split(\"<|Question|>\")[0].strip()\n",
    "        question = QA_pair.split(\"<|Question|>\")[1].split(\"<|Answer|>\")[0].strip()\n",
    "        answer = QA_pair.split(\"<|Answer|>\")[1].split(\"<|Keyword|>\")[0].strip()\n",
    "        label = QA_pair.split(\"<|Keyword|>\")[1].strip()\n",
    "    except:\n",
    "        print(\"Error in the following QA pair:\")\n",
    "        print(QA_pair)\n",
    "        continue\n",
    "\n",
    "    entry = {\n",
    "        \"Context\": context,\n",
    "        \"Summary_Dataset\": dataset_in_prompt,\n",
    "        \"Question\": question, \n",
    "        \"Answer\": answer,\n",
    "        \"Keyword\": label,\n",
    "        \"full_QA_pair\": \"<|Question|>\"+QA_pair.strip(), \n",
    "        \"Dataset_Name\": dataset_name,\n",
    "        \"Publication_URL\": cur_url,\n",
    "        \"Dataset_Index\": dataset_index,\n",
    "        \"Used_Rows\": sampled_indices,\n",
    "    }\n",
    "    qa_dict_list.append(entry)\n",
    "\n",
    "qa_dict = {key: [d[key] for d in qa_dict_list] for key in qa_dict_list[0].keys()} # list of dicts to dict of lists\n",
    "\n",
    "new_hf_dataset = Dataset.from_dict(qa_dict)\n",
    "print(\"Example:\")\n",
    "new_hf_dataset[0]"
   ]
  },
  {
   "cell_type": "markdown",
   "metadata": {},
   "source": [
    "run the following cell every time to save updates \\\n",
    "sometimes save_to_disk will fail because it doesn't automatically overwrites, just delete the old file adn run it again"
   ]
  },
  {
   "cell_type": "code",
   "execution_count": 105,
   "metadata": {},
   "outputs": [
    {
     "data": {
      "text/plain": [
       "Dataset({\n",
       "    features: ['Context', 'Summary_Dataset', 'Question', 'Answer', 'Keyword', 'full_QA_pair', 'Dataset_Name', 'Publication_URL', 'Dataset_Index', 'Used_Rows'],\n",
       "    num_rows: 866\n",
       "})"
      ]
     },
     "execution_count": 105,
     "metadata": {},
     "output_type": "execute_result"
    }
   ],
   "source": [
    "hf_dataset = concatenate_datasets([hf_dataset, new_hf_dataset])\n",
    "hf_dataset\n"
   ]
  },
  {
   "cell_type": "code",
   "execution_count": 106,
   "metadata": {},
   "outputs": [
    {
     "name": "stderr",
     "output_type": "stream",
     "text": [
      "Saving the dataset (1/1 shards): 100%|██████████| 866/866 [00:00<00:00, 18776.26 examples/s]"
     ]
    },
    {
     "name": "stdout",
     "output_type": "stream",
     "text": [
      "current hf_dataset: \n"
     ]
    },
    {
     "name": "stderr",
     "output_type": "stream",
     "text": [
      "\n"
     ]
    },
    {
     "data": {
      "text/plain": [
       "Dataset({\n",
       "    features: ['Context', 'Summary_Dataset', 'Question', 'Answer', 'Keyword', 'full_QA_pair', 'Dataset_Name', 'Publication_URL', 'Dataset_Index', 'Used_Rows'],\n",
       "    num_rows: 866\n",
       "})"
      ]
     },
     "execution_count": 106,
     "metadata": {},
     "output_type": "execute_result"
    }
   ],
   "source": [
    "hf_dataset.save_to_disk(hf_dataset_output_path+\"_new\")\n",
    "print(\"current hf_dataset: \")\n",
    "hf_dataset"
   ]
  }
 ],
 "metadata": {
  "kernelspec": {
   "display_name": "cell2sentence-tc",
   "language": "python",
   "name": "python3"
  },
  "language_info": {
   "codemirror_mode": {
    "name": "ipython",
    "version": 3
   },
   "file_extension": ".py",
   "mimetype": "text/x-python",
   "name": "python",
   "nbconvert_exporter": "python",
   "pygments_lexer": "ipython3",
   "version": "3.10.12"
  }
 },
 "nbformat": 4,
 "nbformat_minor": 2
}
