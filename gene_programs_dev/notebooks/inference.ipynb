{
 "cells": [
  {
   "cell_type": "code",
   "execution_count": 1,
   "metadata": {},
   "outputs": [
    {
     "name": "stderr",
     "output_type": "stream",
     "text": [
      "/gpfs/radev/home/sr2464/.conda/envs/llamp/lib/python3.8/site-packages/tqdm/auto.py:21: TqdmWarning: IProgress not found. Please update jupyter and ipywidgets. See https://ipywidgets.readthedocs.io/en/stable/user_install.html\n",
      "  from .autonotebook import tqdm as notebook_tqdm\n"
     ]
    }
   ],
   "source": [
    "import sys\n",
    "sys.path.append('..')\n",
    "\n",
    "import pickle\n",
    "import os\n",
    "from tqdm import tqdm\n",
    "from importlib import reload\n",
    "\n",
    "import scanpy as sc\n",
    "\n",
    "from cell2gsea import models, gnn_config\n",
    "from cell2gsea.utils import *\n",
    "\n",
    "from sklearn.model_selection import train_test_split\n",
    "\n",
    "from torch_geometric.data import Data\n",
    "from torch_geometric.loader import NodeLoader\n",
    "from torch_geometric.sampler.neighbor_sampler import NeighborSampler"
   ]
  },
  {
   "cell_type": "code",
   "execution_count": 2,
   "metadata": {},
   "outputs": [],
   "source": [
    "conf = gnn_config()"
   ]
  },
  {
   "cell_type": "code",
   "execution_count": 3,
   "metadata": {},
   "outputs": [],
   "source": [
    "# load model and dataset --> umap gene set scores according to cell type?\n",
    "# or maybe plot top N most active gene sets across cell type?\n",
    "\n",
    "model_path = \"/home/ddz5/scratch/Cell2GSEA_QA_dataset_models/finished_datasets/local(192)/local(192)_2024_12_27__20_40_56/best_model_checkpoint.pt\"\n",
    "# model_path = \"/home/ddz5/scratch/Cell2GSEA_QA_dataset_models/sixth_set/local(638)/local(638)_2025_01_18__15_56_28/best_model_checkpoint.pt\"\n",
    "\n",
    "saved_input_path = \"/home/ddz5/scratch/Cell2GSEA_QA_dataset_models/finished_datasets/local(192)/training_inputs.pickle\"\n",
    "# saved_input_path = \"/home/ddz5/scratch/Cell2GSEA_QA_dataset_models/sixth_set/local(638)/training_inputs.pickle\"\n",
    "\n",
    "saved_output_path = \"/home/ddz5/scratch/Cell2GSEA_QA_dataset_models/finished_datasets/local(192)/training_output.pickle\"\n",
    "# saved_output_path = \"/home/ddz5/scratch/Cell2GSEA_QA_dataset_models/sixth_set/local(638)/training_output.pickle\""
   ]
  },
  {
   "cell_type": "code",
   "execution_count": 4,
   "metadata": {},
   "outputs": [],
   "source": [
    "with open(saved_input_path, 'rb') as f:\n",
    "    inputs = pickle.load(f)"
   ]
  },
  {
   "cell_type": "code",
   "execution_count": 5,
   "metadata": {},
   "outputs": [
    {
     "data": {
      "text/plain": [
       "dict_keys(['input_gene_set_csv_path', 'input_h5ad_file_path', 'gene_set_names', 'gene_set_sizes', 'gene_names', 'cell_ids', 'extra', 'train_x_sparse', 'train_edges', 'progs_sparse', 'prog_clusters'])"
      ]
     },
     "execution_count": 5,
     "metadata": {},
     "output_type": "execute_result"
    }
   ],
   "source": [
    "inputs.keys()"
   ]
  },
  {
   "cell_type": "code",
   "execution_count": 6,
   "metadata": {},
   "outputs": [],
   "source": [
    "progs = inputs['progs_sparse']\n",
    "progs = progs.toarray()\n",
    "num_prog, num_genes = progs.shape"
   ]
  },
  {
   "cell_type": "code",
   "execution_count": 7,
   "metadata": {},
   "outputs": [],
   "source": [
    "n_cell, _ = inputs['train_x_sparse'].shape\n",
    "input_train_x = inputs['train_x_sparse'].toarray() "
   ]
  },
  {
   "cell_type": "code",
   "execution_count": 8,
   "metadata": {},
   "outputs": [],
   "source": [
    "edge_list = inputs['train_edges']\n",
    "edge_list = np.array(edge_list)"
   ]
  },
  {
   "cell_type": "code",
   "execution_count": 26,
   "metadata": {},
   "outputs": [],
   "source": [
    "# with open(saved_output_path, 'rb') as f:\n",
    "#     outputs = pickle.load(f) "
   ]
  },
  {
   "cell_type": "code",
   "execution_count": 10,
   "metadata": {},
   "outputs": [
    {
     "data": {
      "text/plain": [
       "dict_keys(['training_num_rep', 'training_cell_r2', 'training_gene_r2', 'training_source_epoch', 'training_assigned_prog_scores', 'validation_num_rep', 'validation_cell_r2', 'validation_gene_r2', 'validation_source_epoch', 'validation_assigned_prog_scores'])"
      ]
     },
     "execution_count": 10,
     "metadata": {},
     "output_type": "execute_result"
    }
   ],
   "source": [
    "# outputs['output'].keys()"
   ]
  },
  {
   "cell_type": "markdown",
   "metadata": {},
   "source": [
    "### Create data loader to see number of samples (testing)"
   ]
  },
  {
   "cell_type": "code",
   "execution_count": 25,
   "metadata": {},
   "outputs": [],
   "source": [
    "train_indices, val_indices = train_test_split(\n",
    "    np.arange(n_cell),\n",
    "    test_size = 0.2,\n",
    "    random_state = 42\n",
    ")"
   ]
  },
  {
   "cell_type": "code",
   "execution_count": 37,
   "metadata": {},
   "outputs": [],
   "source": [
    "train_x = input_train_x[train_indices]\n",
    "val_x = input_train_x[val_indices]\n",
    "\n",
    "n_train, _ = train_x.shape"
   ]
  },
  {
   "cell_type": "code",
   "execution_count": null,
   "metadata": {},
   "outputs": [
    {
     "data": {
      "text/plain": [
       "{'cluster_500': array([113,  37,  37, 290]),\n",
       " 'cluster_475': array([799,  97,  97,  73]),\n",
       " 'cluster_450': array([662, 206, 206, 135]),\n",
       " 'cluster_425': array([856, 366, 366,  98]),\n",
       " 'cluster_400': array([722, 473, 473, 114]),\n",
       " 'cluster_375': array([732, 531, 531, 178]),\n",
       " 'cluster_350': array([736, 561, 561, 267]),\n",
       " 'cluster_325': array([737, 579, 579, 327]),\n",
       " 'cluster_300': array([741, 582, 582, 358]),\n",
       " 'cluster_275': array([741, 579, 579, 378]),\n",
       " 'cluster_250': array([737, 577, 577, 382]),\n",
       " 'cluster_225': array([739, 577, 577, 382]),\n",
       " 'cluster_200': array([750, 576, 576, 382]),\n",
       " 'cluster_175': array([739, 579, 579, 382]),\n",
       " 'cluster_150': array([739, 581, 581, 383]),\n",
       " 'cluster_125': array([737, 578, 578, 386]),\n",
       " 'cluster_100': array([443, 505, 505, 374]),\n",
       " 'cluster_75': array([432, 491, 491, 381]),\n",
       " 'cluster_50': array([459, 442, 442, 388]),\n",
       " 'cluster_25': array([ 74,  74,  74, 387]),\n",
       " 'cluster_10': array([ 54,  54,  54, 101]),\n",
       " 'cluster_1': array([5, 5, 5, 5])}"
      ]
     },
     "metadata": {},
     "output_type": "display_data"
    }
   ],
   "source": [
    "# set up train loader -- I want to see why these datasets are not training well\n",
    "train_edges = get_knn_edges(train_x, conf.KNN_GRAPH_K, conf.KNN_GRAPH_N_PCA)"
   ]
  },
  {
   "cell_type": "code",
   "execution_count": 38,
   "metadata": {},
   "outputs": [],
   "source": [
    "train_edge_list = np.array(train_edges)\n",
    "train_tru_labels = np.zeros(n_train)"
   ]
  },
  {
   "cell_type": "code",
   "execution_count": 39,
   "metadata": {},
   "outputs": [],
   "source": [
    "train_X = torch.tensor(train_x, dtype=torch.float32)\n",
    "train_labels = torch.tensor(train_tru_labels, dtype=torch.long)\n",
    "train_edge_list = torch.tensor(train_edge_list, dtype=torch.long)\n",
    "train_node_pos = torch.arange(n_train).reshape(n_train,1)\n",
    "train_data = Data(x=train_X , edge_index=train_edge_list,y=train_labels,pos = train_node_pos)"
   ]
  },
  {
   "cell_type": "code",
   "execution_count": null,
   "metadata": {},
   "outputs": [],
   "source": [
    "train_neighbor_sampler = NeighborSampler(\n",
    "    train_data,\n",
    "    num_neighbors=[conf.GSAMP_NUM_NBR, conf.GSAMP_NUM_NBR]\n",
    ")"
   ]
  },
  {
   "cell_type": "code",
   "execution_count": null,
   "metadata": {},
   "outputs": [],
   "source": [
    "train_loader = NodeLoader(\n",
    "    train_data,\n",
    "    node_sampler=train_neighbor_sampler,\n",
    "    batch_size = conf.GSAMP_BATCH_SIZE,  # number of seed nodes\n",
    "    num_workers = conf.GSAMP_NUM_WORKER,\n",
    ")"
   ]
  },
  {
   "cell_type": "markdown",
   "metadata": {},
   "source": [
    "### Inference (continued)"
   ]
  },
  {
   "cell_type": "code",
   "execution_count": 11,
   "metadata": {},
   "outputs": [],
   "source": [
    "device = 'cuda' if torch.cuda.is_available() else 'cpu'\n",
    "device = torch.device(device)"
   ]
  },
  {
   "cell_type": "code",
   "execution_count": 12,
   "metadata": {},
   "outputs": [],
   "source": [
    "trained_model = models.get_gnn_model(num_genes, num_prog, conf).to(device)"
   ]
  },
  {
   "cell_type": "code",
   "execution_count": 13,
   "metadata": {},
   "outputs": [
    {
     "data": {
      "text/plain": [
       "gene_program_model_gcn_nonneg(\n",
       "  (conv1): GCNConv(17635, 128)\n",
       "  (act1): ReLU()\n",
       "  (drop1): Dropout(p=0.5, inplace=False)\n",
       "  (conv2): GCNConv(128, 128)\n",
       "  (fc1): Linear(in_features=128, out_features=128, bias=True)\n",
       "  (fc2): Linear(in_features=128, out_features=128, bias=True)\n",
       "  (fc3): Linear(in_features=128, out_features=31709, bias=True)\n",
       ")"
      ]
     },
     "execution_count": 13,
     "metadata": {},
     "output_type": "execute_result"
    }
   ],
   "source": [
    "trained_model"
   ]
  },
  {
   "cell_type": "code",
   "execution_count": 14,
   "metadata": {},
   "outputs": [
    {
     "data": {
      "text/plain": [
       "<All keys matched successfully>"
      ]
     },
     "execution_count": 14,
     "metadata": {},
     "output_type": "execute_result"
    }
   ],
   "source": [
    "checkpoint = torch.load(model_path)\n",
    "trained_model.load_state_dict(checkpoint['model_state_dict'])"
   ]
  },
  {
   "cell_type": "code",
   "execution_count": 15,
   "metadata": {},
   "outputs": [],
   "source": [
    "inference_X = torch.tensor(input_train_x, dtype=torch.float32)\n",
    "inference_edge_list = torch.tensor(edge_list, dtype=torch.long)\n",
    "\n",
    "inference_data = Data(x=inference_X, edge_index=inference_edge_list)"
   ]
  },
  {
   "cell_type": "code",
   "execution_count": 16,
   "metadata": {},
   "outputs": [],
   "source": [
    "inference_neighbor_sampler = NeighborSampler(\n",
    "    inference_data,\n",
    "    num_neighbors=[conf.GSAMP_NUM_NBR, conf.GSAMP_NUM_NBR]\n",
    ")"
   ]
  },
  {
   "cell_type": "code",
   "execution_count": 17,
   "metadata": {},
   "outputs": [],
   "source": [
    "inference_loader = NodeLoader(\n",
    "    inference_data,\n",
    "    node_sampler = inference_neighbor_sampler,\n",
    "    batch_size = conf.GSAMP_BATCH_SIZE,  # number of seed nodes\n",
    "    num_workers = conf.GSAMP_NUM_WORKER,\n",
    ")"
   ]
  },
  {
   "cell_type": "code",
   "execution_count": 18,
   "metadata": {},
   "outputs": [
    {
     "name": "stdout",
     "output_type": "stream",
     "text": [
      "[2025_01_25__18_13_36] Using device: cuda\n",
      "[2025_01_25__18_13_36] Running inference: 68458 cells - 17635 genes - 31709 programs\n"
     ]
    },
    {
     "name": "stderr",
     "output_type": "stream",
     "text": [
      "6846it [01:22, 83.32it/s]\n"
     ]
    }
   ],
   "source": [
    "n_cell, n_genes = input_train_x.shape\n",
    "\n",
    "device_name = 'cuda' if torch.cuda.is_available() else 'mps' if torch.backends.mps.is_available() else 'cpu'\n",
    "log_str(f\"Using device: {device_name}\")\n",
    "device = torch.device(device_name)\n",
    "\n",
    "model = trained_model.to(device)\n",
    "model.eval()\n",
    "\n",
    "dummy_x = torch.zeros(1,n_genes,device=device)\n",
    "dummy_edges = torch.tensor([range(1),range(1)], dtype=torch.long,device=device)\n",
    "dummy_out = model(dummy_x,dummy_edges)\n",
    "_, n_progs = dummy_out.shape\n",
    "output_scores = np.zeros((n_cell,n_progs))\n",
    "\n",
    "log_str(f\"Running inference: {n_cell} cells - {n_genes} genes - {n_progs} programs\")\n",
    "with torch.no_grad():\n",
    "    for idx, subgraph in tqdm(enumerate(inference_loader)):\n",
    "        n_nodes, _ = subgraph.x.shape\n",
    "        original_indices = subgraph.input_id\n",
    "        subgraph = subgraph.to(device)\n",
    "        batch_identity_adj = torch.tensor([range(n_nodes),range(n_nodes)], dtype = torch.long, device=device)\n",
    "        edges = torch.cat([batch_identity_adj,subgraph.edge_index],dim = 1)\n",
    "        batch_program_scores = model(subgraph.x,edges)\n",
    "        seed_nodes_prog_scores = batch_program_scores[:len(original_indices),:].detach().cpu().numpy()\n",
    "        output_scores[original_indices,:] = seed_nodes_prog_scores"
   ]
  },
  {
   "cell_type": "code",
   "execution_count": 19,
   "metadata": {},
   "outputs": [
    {
     "data": {
      "text/plain": [
       "array([[0.        , 0.        , 0.        , ..., 0.        , 0.        ,\n",
       "        0.        ],\n",
       "       [0.        , 0.        , 0.        , ..., 0.        , 0.        ,\n",
       "        0.        ],\n",
       "       [0.        , 1.05615652, 0.        , ..., 0.        , 0.        ,\n",
       "        0.        ],\n",
       "       ...,\n",
       "       [0.        , 1.68741798, 0.        , ..., 0.        , 0.        ,\n",
       "        0.        ],\n",
       "       [0.        , 0.        , 0.        , ..., 0.        , 0.        ,\n",
       "        0.        ],\n",
       "       [0.        , 0.        , 0.        , ..., 0.        , 0.        ,\n",
       "        0.        ]])"
      ]
     },
     "execution_count": 19,
     "metadata": {},
     "output_type": "execute_result"
    }
   ],
   "source": [
    "output_scores"
   ]
  },
  {
   "cell_type": "code",
   "execution_count": 21,
   "metadata": {},
   "outputs": [],
   "source": [
    "# saved output_scores\n",
    "save_path = \"/home/ddz5/scratch/Cell2GSEA_QA_dataset_models/finished_datasets/local(192)/output_scores.pickle\"\n",
    "# save_path = \"/home/ddz5/scratch/Cell2GSEA_QA_dataset_models/sixth_set/local(638)/output_scores.pickle\"\n",
    "\n",
    "with open(save_path, 'wb') as f:\n",
    "    pickle.dump(output_scores, f)"
   ]
  },
  {
   "cell_type": "code",
   "execution_count": 22,
   "metadata": {},
   "outputs": [
    {
     "data": {
      "text/plain": [
       "31709"
      ]
     },
     "execution_count": 22,
     "metadata": {},
     "output_type": "execute_result"
    }
   ],
   "source": [
    "len(inputs['gene_set_names'])"
   ]
  },
  {
   "cell_type": "code",
   "execution_count": 23,
   "metadata": {},
   "outputs": [
    {
     "data": {
      "text/plain": [
       "'/home/sr2464/scratch/C2S_Files/Cell2Sentence_Datasets/hca_cellxgene_cleaned_h5ad/local(192)_cleaned.h5ad'"
      ]
     },
     "execution_count": 23,
     "metadata": {},
     "output_type": "execute_result"
    }
   ],
   "source": [
    "inputs['input_h5ad_file_path']"
   ]
  },
  {
   "cell_type": "code",
   "execution_count": 24,
   "metadata": {},
   "outputs": [],
   "source": [
    "adata = sc.read_h5ad(inputs['input_h5ad_file_path'])"
   ]
  },
  {
   "cell_type": "code",
   "execution_count": 25,
   "metadata": {},
   "outputs": [
    {
     "name": "stdout",
     "output_type": "stream",
     "text": [
      "Disease: normal, Cell type: B cell\n",
      "Top 5 gene programs:\n",
      "  CEBPZ_TARGET_GENES: 108.484\n",
      "  BARX2_TARGET_GENES: 108.316\n",
      "  SFMBT1_TARGET_GENES: 100.423\n",
      "  DODD_NASOPHARYNGEAL_CARCINOMA_UP: 98.542\n",
      "  AEBP2_TARGET_GENES: 92.064\n",
      "Disease: normal, Cell type: T cell\n",
      "Top 5 gene programs:\n",
      "  BARX2_TARGET_GENES: 110.151\n",
      "  CEBPZ_TARGET_GENES: 109.900\n",
      "  SFMBT1_TARGET_GENES: 102.248\n",
      "  DODD_NASOPHARYNGEAL_CARCINOMA_UP: 100.325\n",
      "  AEBP2_TARGET_GENES: 93.351\n",
      "Disease: normal, Cell type: endothelial cell\n",
      "Top 5 gene programs:\n",
      "  BARX2_TARGET_GENES: 94.229\n",
      "  CEBPZ_TARGET_GENES: 93.957\n",
      "  CUI_TCF21_TARGETS_2_DN: 89.741\n",
      "  SFMBT1_TARGET_GENES: 88.157\n",
      "  DODD_NASOPHARYNGEAL_CARCINOMA_UP: 87.383\n",
      "Disease: normal, Cell type: epithelial cell of proximal tubule\n",
      "Top 5 gene programs:\n",
      "  BARX2_TARGET_GENES: 160.901\n",
      "  CEBPZ_TARGET_GENES: 155.391\n",
      "  SFMBT1_TARGET_GENES: 149.729\n",
      "  DODD_NASOPHARYNGEAL_CARCINOMA_UP: 145.281\n",
      "  FEV_TARGET_GENES: 135.887\n",
      "Disease: normal, Cell type: fibroblast\n",
      "Top 5 gene programs:\n",
      "  BARX2_TARGET_GENES: 115.816\n",
      "  CEBPZ_TARGET_GENES: 114.014\n",
      "  SFMBT1_TARGET_GENES: 108.275\n",
      "  DODD_NASOPHARYNGEAL_CARCINOMA_UP: 107.092\n",
      "  FEV_TARGET_GENES: 97.980\n",
      "Disease: normal, Cell type: kidney distal convoluted tubule epithelial cell\n",
      "Top 5 gene programs:\n",
      "  BARX2_TARGET_GENES: 153.500\n",
      "  CEBPZ_TARGET_GENES: 150.269\n",
      "  DODD_NASOPHARYNGEAL_CARCINOMA_UP: 144.218\n",
      "  SFMBT1_TARGET_GENES: 142.648\n",
      "  FEV_TARGET_GENES: 129.473\n",
      "Disease: normal, Cell type: kidney loop of Henle thick ascending limb epithelial cell\n",
      "Top 5 gene programs:\n",
      "  BARX2_TARGET_GENES: 137.453\n",
      "  CEBPZ_TARGET_GENES: 134.825\n",
      "  DODD_NASOPHARYNGEAL_CARCINOMA_UP: 128.741\n",
      "  SFMBT1_TARGET_GENES: 127.809\n",
      "  FEV_TARGET_GENES: 116.084\n",
      "Disease: normal, Cell type: kidney loop of Henle thin ascending limb epithelial cell\n",
      "Top 5 gene programs:\n",
      "  BARX2_TARGET_GENES: 138.183\n",
      "  CEBPZ_TARGET_GENES: 135.389\n",
      "  DODD_NASOPHARYNGEAL_CARCINOMA_UP: 129.440\n",
      "  SFMBT1_TARGET_GENES: 128.488\n",
      "  FEV_TARGET_GENES: 116.666\n",
      "Disease: normal, Cell type: kidney proximal convoluted tubule epithelial cell\n",
      "Top 5 gene programs:\n",
      "  BARX2_TARGET_GENES: 185.805\n",
      "  CEBPZ_TARGET_GENES: 178.404\n",
      "  SFMBT1_TARGET_GENES: 172.793\n",
      "  DODD_NASOPHARYNGEAL_CARCINOMA_UP: 165.835\n",
      "  FEV_TARGET_GENES: 156.663\n",
      "Disease: normal, Cell type: kidney proximal straight tubule epithelial cell\n",
      "Top 5 gene programs:\n",
      "  BARX2_TARGET_GENES: 173.534\n",
      "  CEBPZ_TARGET_GENES: 167.215\n",
      "  SFMBT1_TARGET_GENES: 161.038\n",
      "  DODD_NASOPHARYNGEAL_CARCINOMA_UP: 154.949\n",
      "  FEV_TARGET_GENES: 146.097\n",
      "Disease: normal, Cell type: mononuclear cell\n",
      "Top 5 gene programs:\n",
      "  CEBPZ_TARGET_GENES: 115.499\n",
      "  BARX2_TARGET_GENES: 115.317\n",
      "  SFMBT1_TARGET_GENES: 107.248\n",
      "  DODD_NASOPHARYNGEAL_CARCINOMA_UP: 105.528\n",
      "  AEBP2_TARGET_GENES: 98.037\n",
      "Disease: normal, Cell type: parietal epithelial cell\n",
      "Top 5 gene programs:\n",
      "  BARX2_TARGET_GENES: 117.942\n",
      "  CEBPZ_TARGET_GENES: 115.415\n",
      "  SFMBT1_TARGET_GENES: 110.109\n",
      "  DODD_NASOPHARYNGEAL_CARCINOMA_UP: 108.752\n",
      "  FEV_TARGET_GENES: 99.832\n",
      "Disease: normal, Cell type: podocyte\n",
      "Top 5 gene programs:\n",
      "  BARX2_TARGET_GENES: 142.947\n",
      "  CEBPZ_TARGET_GENES: 140.292\n",
      "  SFMBT1_TARGET_GENES: 133.772\n",
      "  DODD_NASOPHARYNGEAL_CARCINOMA_UP: 132.745\n",
      "  FEV_TARGET_GENES: 121.134\n",
      "Disease: normal, Cell type: renal alpha-intercalated cell\n",
      "Top 5 gene programs:\n",
      "  BARX2_TARGET_GENES: 155.652\n",
      "  CEBPZ_TARGET_GENES: 152.013\n",
      "  DODD_NASOPHARYNGEAL_CARCINOMA_UP: 145.809\n",
      "  SFMBT1_TARGET_GENES: 144.868\n",
      "  FEV_TARGET_GENES: 131.476\n",
      "Disease: normal, Cell type: renal beta-intercalated cell\n",
      "Top 5 gene programs:\n",
      "  BARX2_TARGET_GENES: 157.600\n",
      "  CEBPZ_TARGET_GENES: 154.176\n",
      "  DODD_NASOPHARYNGEAL_CARCINOMA_UP: 147.435\n",
      "  SFMBT1_TARGET_GENES: 146.404\n",
      "  FEV_TARGET_GENES: 132.922\n",
      "Disease: normal, Cell type: renal principal cell\n",
      "Top 5 gene programs:\n",
      "  BARX2_TARGET_GENES: 142.865\n",
      "  CEBPZ_TARGET_GENES: 140.196\n",
      "  DODD_NASOPHARYNGEAL_CARCINOMA_UP: 132.773\n",
      "  SFMBT1_TARGET_GENES: 132.042\n",
      "  FEV_TARGET_GENES: 120.018\n",
      "Disease: type 2 diabetes mellitus, Cell type: B cell\n",
      "Top 5 gene programs:\n",
      "  CEBPZ_TARGET_GENES: 128.404\n",
      "  BARX2_TARGET_GENES: 127.756\n",
      "  SFMBT1_TARGET_GENES: 118.563\n",
      "  DODD_NASOPHARYNGEAL_CARCINOMA_UP: 116.556\n",
      "  AEBP2_TARGET_GENES: 108.921\n",
      "Disease: type 2 diabetes mellitus, Cell type: T cell\n",
      "Top 5 gene programs:\n",
      "  CEBPZ_TARGET_GENES: 110.215\n",
      "  BARX2_TARGET_GENES: 110.208\n",
      "  SFMBT1_TARGET_GENES: 102.359\n",
      "  DODD_NASOPHARYNGEAL_CARCINOMA_UP: 100.548\n",
      "  AEBP2_TARGET_GENES: 93.555\n",
      "Disease: type 2 diabetes mellitus, Cell type: endothelial cell\n",
      "Top 5 gene programs:\n",
      "  CUI_TCF21_TARGETS_2_DN: 100.538\n",
      "  BARX2_TARGET_GENES: 99.509\n",
      "  CEBPZ_TARGET_GENES: 99.331\n",
      "  SFMBT1_TARGET_GENES: 93.231\n",
      "  DODD_NASOPHARYNGEAL_CARCINOMA_UP: 92.385\n",
      "Disease: type 2 diabetes mellitus, Cell type: epithelial cell of proximal tubule\n",
      "Top 5 gene programs:\n",
      "  BARX2_TARGET_GENES: 150.751\n",
      "  CEBPZ_TARGET_GENES: 145.746\n",
      "  SFMBT1_TARGET_GENES: 140.564\n",
      "  DODD_NASOPHARYNGEAL_CARCINOMA_UP: 136.707\n",
      "  FEV_TARGET_GENES: 127.573\n",
      "Disease: type 2 diabetes mellitus, Cell type: fibroblast\n",
      "Top 5 gene programs:\n",
      "  BARX2_TARGET_GENES: 123.742\n",
      "  CEBPZ_TARGET_GENES: 121.888\n",
      "  SFMBT1_TARGET_GENES: 115.818\n",
      "  DODD_NASOPHARYNGEAL_CARCINOMA_UP: 114.572\n",
      "  FEV_TARGET_GENES: 104.790\n",
      "Disease: type 2 diabetes mellitus, Cell type: kidney distal convoluted tubule epithelial cell\n",
      "Top 5 gene programs:\n",
      "  BARX2_TARGET_GENES: 164.226\n",
      "  CEBPZ_TARGET_GENES: 160.783\n",
      "  DODD_NASOPHARYNGEAL_CARCINOMA_UP: 154.228\n",
      "  SFMBT1_TARGET_GENES: 152.584\n",
      "  FEV_TARGET_GENES: 138.502\n",
      "Disease: type 2 diabetes mellitus, Cell type: kidney loop of Henle thick ascending limb epithelial cell\n",
      "Top 5 gene programs:\n",
      "  BARX2_TARGET_GENES: 155.328\n",
      "  CEBPZ_TARGET_GENES: 152.162\n",
      "  DODD_NASOPHARYNGEAL_CARCINOMA_UP: 145.665\n",
      "  SFMBT1_TARGET_GENES: 144.559\n",
      "  FEV_TARGET_GENES: 131.254\n",
      "Disease: type 2 diabetes mellitus, Cell type: kidney loop of Henle thin ascending limb epithelial cell\n",
      "Top 5 gene programs:\n",
      "  BARX2_TARGET_GENES: 154.405\n",
      "  CEBPZ_TARGET_GENES: 150.938\n",
      "  DODD_NASOPHARYNGEAL_CARCINOMA_UP: 144.748\n",
      "  SFMBT1_TARGET_GENES: 143.743\n",
      "  FEV_TARGET_GENES: 130.448\n",
      "Disease: type 2 diabetes mellitus, Cell type: kidney proximal convoluted tubule epithelial cell\n",
      "Top 5 gene programs:\n",
      "  BARX2_TARGET_GENES: 177.310\n",
      "  CEBPZ_TARGET_GENES: 170.149\n",
      "  SFMBT1_TARGET_GENES: 165.018\n",
      "  DODD_NASOPHARYNGEAL_CARCINOMA_UP: 158.411\n",
      "  FEV_TARGET_GENES: 149.622\n",
      "Disease: type 2 diabetes mellitus, Cell type: kidney proximal straight tubule epithelial cell\n",
      "Top 5 gene programs:\n",
      "  BARX2_TARGET_GENES: 184.382\n",
      "  CEBPZ_TARGET_GENES: 177.440\n",
      "  SFMBT1_TARGET_GENES: 171.372\n",
      "  DODD_NASOPHARYNGEAL_CARCINOMA_UP: 164.927\n",
      "  FEV_TARGET_GENES: 155.465\n",
      "Disease: type 2 diabetes mellitus, Cell type: mononuclear cell\n",
      "Top 5 gene programs:\n",
      "  BARX2_TARGET_GENES: 119.699\n",
      "  CEBPZ_TARGET_GENES: 119.680\n",
      "  SFMBT1_TARGET_GENES: 111.461\n",
      "  DODD_NASOPHARYNGEAL_CARCINOMA_UP: 109.824\n",
      "  AEBP2_TARGET_GENES: 101.617\n",
      "Disease: type 2 diabetes mellitus, Cell type: parietal epithelial cell\n",
      "Top 5 gene programs:\n",
      "  BARX2_TARGET_GENES: 127.926\n",
      "  CEBPZ_TARGET_GENES: 125.069\n",
      "  SFMBT1_TARGET_GENES: 119.546\n",
      "  DODD_NASOPHARYNGEAL_CARCINOMA_UP: 118.031\n",
      "  FEV_TARGET_GENES: 108.382\n",
      "Disease: type 2 diabetes mellitus, Cell type: podocyte\n",
      "Top 5 gene programs:\n",
      "  BARX2_TARGET_GENES: 118.652\n",
      "  CEBPZ_TARGET_GENES: 116.656\n",
      "  SFMBT1_TARGET_GENES: 111.222\n",
      "  DODD_NASOPHARYNGEAL_CARCINOMA_UP: 110.281\n",
      "  FEV_TARGET_GENES: 100.643\n",
      "Disease: type 2 diabetes mellitus, Cell type: renal alpha-intercalated cell\n",
      "Top 5 gene programs:\n",
      "  BARX2_TARGET_GENES: 157.746\n",
      "  CEBPZ_TARGET_GENES: 153.968\n",
      "  DODD_NASOPHARYNGEAL_CARCINOMA_UP: 147.908\n",
      "  SFMBT1_TARGET_GENES: 146.950\n",
      "  FEV_TARGET_GENES: 133.345\n",
      "Disease: type 2 diabetes mellitus, Cell type: renal beta-intercalated cell\n",
      "Top 5 gene programs:\n",
      "  BARX2_TARGET_GENES: 154.713\n",
      "  CEBPZ_TARGET_GENES: 151.363\n",
      "  DODD_NASOPHARYNGEAL_CARCINOMA_UP: 144.789\n",
      "  SFMBT1_TARGET_GENES: 143.727\n",
      "  FEV_TARGET_GENES: 130.491\n",
      "Disease: type 2 diabetes mellitus, Cell type: renal principal cell\n",
      "Top 5 gene programs:\n",
      "  BARX2_TARGET_GENES: 161.574\n",
      "  CEBPZ_TARGET_GENES: 158.395\n",
      "  DODD_NASOPHARYNGEAL_CARCINOMA_UP: 150.221\n",
      "  SFMBT1_TARGET_GENES: 149.512\n",
      "  FEV_TARGET_GENES: 135.869\n",
      "\n",
      "Results saved to /home/ddz5/scratch/Cell2GSEA_QA_dataset_models/finished_datasets/local(192)/top_gene_programs.csv\n"
     ]
    }
   ],
   "source": [
    "import pandas as pd\n",
    "import numpy as np\n",
    "\n",
    "# Assuming output_scores is a numpy array with shape (n_cells, n_gene_programs)\n",
    "# inputs['gene_set_names'] is a list of gene program names matching the columns of output_scores\n",
    "# adata.obs['cell_type'] and adata.obs['disease'] contain cell types and disease states, respectively\n",
    "\n",
    "# Convert output_scores to a DataFrame for easier manipulation\n",
    "gene_program_names = inputs['gene_set_names']\n",
    "cell_types = adata.obs['cell_type']\n",
    "diseases = adata.obs['disease']\n",
    "\n",
    "# Create a DataFrame\n",
    "output_scores_df = pd.DataFrame(output_scores, columns=gene_program_names)\n",
    "output_scores_df['cell_type'] = cell_types.values\n",
    "output_scores_df['disease'] = diseases.values\n",
    "\n",
    "# Group by disease and cell type\n",
    "grouped = output_scores_df.groupby(['disease', 'cell_type'])\n",
    "\n",
    "# Prepare a list to store results for saving into a CSV\n",
    "results_list = []\n",
    "\n",
    "# Find top 5 gene programs for each group\n",
    "for (disease, cell_type), group in grouped:\n",
    "    # Calculate mean scores for each gene program\n",
    "    mean_scores = group[gene_program_names].mean()\n",
    "    \n",
    "    # Get the top 5 gene programs by mean activity\n",
    "    top_gene_programs = mean_scores.nlargest(5).index.tolist()\n",
    "    top_scores = mean_scores.nlargest(5).values.tolist()\n",
    "    \n",
    "    # Print the results\n",
    "    print(f\"Disease: {disease}, Cell type: {cell_type}\")\n",
    "    print(\"Top 5 gene programs:\")\n",
    "    for program, score in zip(top_gene_programs, top_scores):\n",
    "        print(f\"  {program}: {score:.3f}\")\n",
    "    \n",
    "    # Add results to the list for CSV\n",
    "    for program, score in zip(top_gene_programs, top_scores):\n",
    "        results_list.append({\n",
    "            'Disease': disease,\n",
    "            'Cell Type': cell_type,\n",
    "            'Gene Program': program,\n",
    "            'Mean Activity Score': score\n",
    "        })\n",
    "\n",
    "# Save the results to a CSV file\n",
    "results_df = pd.DataFrame(results_list)\n",
    "# csv_path = \"/home/ddz5/scratch/Cell2GSEA_QA_dataset_models/finished_datasets/local(192)/top_gene_programs.csv\"  # Replace with your desired path\n",
    "results_df.to_csv(csv_path, index=False)\n",
    "\n",
    "print(f\"\\nResults saved to {csv_path}\")"
   ]
  },
  {
   "cell_type": "code",
   "execution_count": null,
   "metadata": {},
   "outputs": [],
   "source": []
  }
 ],
 "metadata": {
  "kernelspec": {
   "display_name": "Python 3",
   "language": "python",
   "name": "python3"
  },
  "language_info": {
   "codemirror_mode": {
    "name": "ipython",
    "version": 3
   },
   "file_extension": ".py",
   "mimetype": "text/x-python",
   "name": "python",
   "nbconvert_exporter": "python",
   "pygments_lexer": "ipython3",
   "version": "3.8.20"
  },
  "orig_nbformat": 4
 },
 "nbformat": 4,
 "nbformat_minor": 2
}
